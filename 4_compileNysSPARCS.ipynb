{
 "cells": [
  {
   "cell_type": "code",
   "execution_count": 1,
   "metadata": {},
   "outputs": [],
   "source": [
    "import os\n",
    "import urllib.request\n",
    "import pandas as pd"
   ]
  },
  {
   "cell_type": "code",
   "execution_count": 2,
   "metadata": {},
   "outputs": [],
   "source": [
    "dataFol = os.getcwd() + \"/dataFiles/\"\n",
    "nysHealth = dataFol + \"nysHealth/\""
   ]
  },
  {
   "cell_type": "code",
   "execution_count": 3,
   "metadata": {},
   "outputs": [],
   "source": [
    "# Hospital Inpatient Discharges (SPARCS De-Identified)\n",
    "# from https://health.data.ny.gov/Health/Hospital-Inpatient-Discharges-SPARCS-De-Identified/gnzp-ekau\n",
    "# The Statewide Planning and Research Cooperative System (SPARCS) Inpatient De-identified File contains discharge\n",
    "# level detail on patient characteristics, diagnoses, treatments, services, and charges. This data file contains \n",
    "# basic record level detail for the discharge. The de-identified data file does not contain data that is protected \n",
    "# health information (PHI) under HIPAA. The health information is not individually identifiable; all data elements \n",
    "# considered identifiable have been redacted. For example, the direct identifiers regarding a date have the day and \n",
    "# month portion of the date removed.\n",
    "\n",
    "sparcsUrl = [\"https://health.data.ny.gov/api/views/gnzp-ekau/rows.csv?accessType=DOWNLOAD\", # sparcs 2016\n",
    "             \"https://health.data.ny.gov/api/views/82xm-y6g8/rows.csv?accessType=DOWNLOAD\", # sparcs 2015\n",
    "             \"https://health.data.ny.gov/api/views/rmwa-zns4/rows.csv?accessType=DOWNLOAD\", # sparcs 2014\n",
    "             \"https://health.data.ny.gov/api/views/npsr-cm47/rows.csv?accessType=DOWNLOAD\"] # sparcs 2013"
   ]
  },
  {
   "cell_type": "code",
   "execution_count": 4,
   "metadata": {},
   "outputs": [],
   "source": [
    "sparcsFiles = [\"sparcs2016.csv\", \n",
    "               \"sparcs2015.csv\",\n",
    "               \"sparcs2014.csv\",\n",
    "               \"sparcs2013.csv\"]"
   ]
  },
  {
   "cell_type": "code",
   "execution_count": 5,
   "metadata": {},
   "outputs": [
    {
     "name": "stdout",
     "output_type": "stream",
     "text": [
      "you can continue\n"
     ]
    }
   ],
   "source": [
    "if not os.path.isdir(nysHealth):\n",
    "    os.system('mkdir '+ nysHealth)\n",
    "else:\n",
    "    print('you can continue')"
   ]
  },
  {
   "cell_type": "code",
   "execution_count": 6,
   "metadata": {},
   "outputs": [
    {
     "name": "stdout",
     "output_type": "stream",
     "text": [
      "file in place, you can continue\n",
      "file in place, you can continue\n",
      "file in place, you can continue\n",
      "file in place, you can continue\n"
     ]
    }
   ],
   "source": [
    "for sp in range(len(sparcsFiles)):\n",
    "    ### check that the file is not already there\n",
    "    if not os.path.isfile(nysHealth + sparcsFiles[sp]):\n",
    "        if os.path.isfile(sparcsFiles[sp]):\n",
    "            # if in the current dir just move it\n",
    "            os.system(\"mv \" + sparcsFiles[sp] + \" \" + nysHealth)\n",
    "            print (\"Moving file!, Please check!\")\n",
    "        #otherwise start looking for the zip file\n",
    "        else:\n",
    "            if not os.path.isfile(sparcsFiles[sp]):\n",
    "                urllib.request.urlretrieve(sparcsUrl[sp], sparcsFiles[sp])\n",
    "                ###  To move it I use the os.system() functions to run bash commands with arguments\n",
    "                os.system(\"mv \" + sparcsFiles[sp] + \" \" + nysHealth)\n",
    "    ### One final check:\n",
    "    if not os.path.isfile(nysHealth + sparcsFiles[sp]):\n",
    "        print (\"WARNING!!! something is wrong: the file is not there!\")\n",
    "    else:\n",
    "        print (\"file in place, you can continue\")"
   ]
  },
  {
   "cell_type": "code",
   "execution_count": 7,
   "metadata": {},
   "outputs": [
    {
     "name": "stderr",
     "output_type": "stream",
     "text": [
      "/usr/local/Anaconda3-5.0.0-Linux-x86_64/envs/PUI2016_Python3/lib/python3.5/site-packages/IPython/core/interactiveshell.py:2717: DtypeWarning: Columns (10) have mixed types. Specify dtype option on import or set low_memory=False.\n",
      "  interactivity=interactivity, compiler=compiler, result=result)\n"
     ]
    },
    {
     "name": "stdout",
     "output_type": "stream",
     "text": [
      "(2343429, 39)\n",
      "(2346931, 38)\n",
      "(2367550, 38)\n",
      "(2428905, 38)\n"
     ]
    }
   ],
   "source": [
    "collect_df = {}\n",
    "\n",
    "for i in range(len(sparcsFiles)):\n",
    "    df_name = sparcsFiles[i].split(\".\")[:-1][0]\n",
    "    temp = pd.read_csv(nysHealth + sparcsFiles[i])\n",
    "    temp['yr'] = sparcsFiles[i].split(\".\")[:-1][0][6:]\n",
    "    temp.rename(columns={'Facility ID':'Facility Id'}, inplace=True)\n",
    "    print(temp.shape)\n",
    "    collect_df[df_name] = temp"
   ]
  },
  {
   "cell_type": "code",
   "execution_count": 8,
   "metadata": {},
   "outputs": [],
   "source": [
    "sparcsAll = pd.concat(collect_df, ignore_index=True, keys=None)#, sort=False)"
   ]
  },
  {
   "cell_type": "code",
   "execution_count": 9,
   "metadata": {},
   "outputs": [
    {
     "data": {
      "text/plain": [
       "(9486815, 39)"
      ]
     },
     "execution_count": 9,
     "metadata": {},
     "output_type": "execute_result"
    }
   ],
   "source": [
    "sparcsAll.shape"
   ]
  },
  {
   "cell_type": "code",
   "execution_count": 10,
   "metadata": {},
   "outputs": [
    {
     "data": {
      "text/html": [
       "<div>\n",
       "<table border=\"1\" class=\"dataframe\">\n",
       "  <thead>\n",
       "    <tr style=\"text-align: right;\">\n",
       "      <th></th>\n",
       "      <th>APR DRG Code</th>\n",
       "      <th>APR DRG Description</th>\n",
       "      <th>APR MDC Code</th>\n",
       "      <th>APR MDC Description</th>\n",
       "      <th>APR Medical Surgical Description</th>\n",
       "      <th>APR Risk of Mortality</th>\n",
       "      <th>APR Severity of Illness Code</th>\n",
       "      <th>APR Severity of Illness Description</th>\n",
       "      <th>Abortion Edit Indicator</th>\n",
       "      <th>Age Group</th>\n",
       "      <th>...</th>\n",
       "      <th>Payment Typology 1</th>\n",
       "      <th>Payment Typology 2</th>\n",
       "      <th>Payment Typology 3</th>\n",
       "      <th>Race</th>\n",
       "      <th>Ratio of Total Costs to Total Charges</th>\n",
       "      <th>Total Charges</th>\n",
       "      <th>Total Costs</th>\n",
       "      <th>Type of Admission</th>\n",
       "      <th>Zip Code - 3 digits</th>\n",
       "      <th>yr</th>\n",
       "    </tr>\n",
       "  </thead>\n",
       "  <tbody>\n",
       "    <tr>\n",
       "      <th>1822</th>\n",
       "      <td>302</td>\n",
       "      <td>Knee joint replacement</td>\n",
       "      <td>8</td>\n",
       "      <td>Diseases and Disorders of the Musculoskeletal ...</td>\n",
       "      <td>Surgical</td>\n",
       "      <td>Minor</td>\n",
       "      <td>2</td>\n",
       "      <td>Moderate</td>\n",
       "      <td>N</td>\n",
       "      <td>70 or Older</td>\n",
       "      <td>...</td>\n",
       "      <td>Blue Cross/Blue Shield</td>\n",
       "      <td>Medicare</td>\n",
       "      <td>NaN</td>\n",
       "      <td>White</td>\n",
       "      <td>NaN</td>\n",
       "      <td>25128.07</td>\n",
       "      <td>49633.70</td>\n",
       "      <td>Elective</td>\n",
       "      <td>147</td>\n",
       "      <td>2013</td>\n",
       "    </tr>\n",
       "    <tr>\n",
       "      <th>1883</th>\n",
       "      <td>302</td>\n",
       "      <td>Knee joint replacement</td>\n",
       "      <td>8</td>\n",
       "      <td>Diseases and Disorders of the Musculoskeletal ...</td>\n",
       "      <td>Surgical</td>\n",
       "      <td>Minor</td>\n",
       "      <td>1</td>\n",
       "      <td>Minor</td>\n",
       "      <td>N</td>\n",
       "      <td>50 to 69</td>\n",
       "      <td>...</td>\n",
       "      <td>Blue Cross/Blue Shield</td>\n",
       "      <td>NaN</td>\n",
       "      <td>NaN</td>\n",
       "      <td>White</td>\n",
       "      <td>NaN</td>\n",
       "      <td>34503.42</td>\n",
       "      <td>84472.01</td>\n",
       "      <td>Elective</td>\n",
       "      <td>147</td>\n",
       "      <td>2013</td>\n",
       "    </tr>\n",
       "    <tr>\n",
       "      <th>1884</th>\n",
       "      <td>302</td>\n",
       "      <td>Knee joint replacement</td>\n",
       "      <td>8</td>\n",
       "      <td>Diseases and Disorders of the Musculoskeletal ...</td>\n",
       "      <td>Surgical</td>\n",
       "      <td>Minor</td>\n",
       "      <td>2</td>\n",
       "      <td>Moderate</td>\n",
       "      <td>N</td>\n",
       "      <td>50 to 69</td>\n",
       "      <td>...</td>\n",
       "      <td>Medicaid</td>\n",
       "      <td>NaN</td>\n",
       "      <td>NaN</td>\n",
       "      <td>White</td>\n",
       "      <td>NaN</td>\n",
       "      <td>54106.70</td>\n",
       "      <td>94418.08</td>\n",
       "      <td>Elective</td>\n",
       "      <td>148</td>\n",
       "      <td>2013</td>\n",
       "    </tr>\n",
       "    <tr>\n",
       "      <th>1888</th>\n",
       "      <td>302</td>\n",
       "      <td>Knee joint replacement</td>\n",
       "      <td>8</td>\n",
       "      <td>Diseases and Disorders of the Musculoskeletal ...</td>\n",
       "      <td>Surgical</td>\n",
       "      <td>Moderate</td>\n",
       "      <td>2</td>\n",
       "      <td>Moderate</td>\n",
       "      <td>N</td>\n",
       "      <td>50 to 69</td>\n",
       "      <td>...</td>\n",
       "      <td>Blue Cross/Blue Shield</td>\n",
       "      <td>Medicare</td>\n",
       "      <td>NaN</td>\n",
       "      <td>White</td>\n",
       "      <td>NaN</td>\n",
       "      <td>30138.52</td>\n",
       "      <td>51083.21</td>\n",
       "      <td>Elective</td>\n",
       "      <td>OOS</td>\n",
       "      <td>2013</td>\n",
       "    </tr>\n",
       "    <tr>\n",
       "      <th>1898</th>\n",
       "      <td>302</td>\n",
       "      <td>Knee joint replacement</td>\n",
       "      <td>8</td>\n",
       "      <td>Diseases and Disorders of the Musculoskeletal ...</td>\n",
       "      <td>Surgical</td>\n",
       "      <td>Major</td>\n",
       "      <td>2</td>\n",
       "      <td>Moderate</td>\n",
       "      <td>N</td>\n",
       "      <td>70 or Older</td>\n",
       "      <td>...</td>\n",
       "      <td>Medicare</td>\n",
       "      <td>NaN</td>\n",
       "      <td>NaN</td>\n",
       "      <td>White</td>\n",
       "      <td>NaN</td>\n",
       "      <td>25886.07</td>\n",
       "      <td>49957.54</td>\n",
       "      <td>Elective</td>\n",
       "      <td>147</td>\n",
       "      <td>2013</td>\n",
       "    </tr>\n",
       "  </tbody>\n",
       "</table>\n",
       "<p>5 rows × 39 columns</p>\n",
       "</div>"
      ],
      "text/plain": [
       "      APR DRG Code     APR DRG Description  APR MDC Code  \\\n",
       "1822           302  Knee joint replacement             8   \n",
       "1883           302  Knee joint replacement             8   \n",
       "1884           302  Knee joint replacement             8   \n",
       "1888           302  Knee joint replacement             8   \n",
       "1898           302  Knee joint replacement             8   \n",
       "\n",
       "                                    APR MDC Description  \\\n",
       "1822  Diseases and Disorders of the Musculoskeletal ...   \n",
       "1883  Diseases and Disorders of the Musculoskeletal ...   \n",
       "1884  Diseases and Disorders of the Musculoskeletal ...   \n",
       "1888  Diseases and Disorders of the Musculoskeletal ...   \n",
       "1898  Diseases and Disorders of the Musculoskeletal ...   \n",
       "\n",
       "     APR Medical Surgical Description APR Risk of Mortality  \\\n",
       "1822                         Surgical                 Minor   \n",
       "1883                         Surgical                 Minor   \n",
       "1884                         Surgical                 Minor   \n",
       "1888                         Surgical              Moderate   \n",
       "1898                         Surgical                 Major   \n",
       "\n",
       "      APR Severity of Illness Code APR Severity of Illness Description  \\\n",
       "1822                             2                            Moderate   \n",
       "1883                             1                               Minor   \n",
       "1884                             2                            Moderate   \n",
       "1888                             2                            Moderate   \n",
       "1898                             2                            Moderate   \n",
       "\n",
       "     Abortion Edit Indicator    Age Group  ...       Payment Typology 1  \\\n",
       "1822                       N  70 or Older  ...   Blue Cross/Blue Shield   \n",
       "1883                       N     50 to 69  ...   Blue Cross/Blue Shield   \n",
       "1884                       N     50 to 69  ...                 Medicaid   \n",
       "1888                       N     50 to 69  ...   Blue Cross/Blue Shield   \n",
       "1898                       N  70 or Older  ...                 Medicare   \n",
       "\n",
       "      Payment Typology 2  Payment Typology 3   Race  \\\n",
       "1822            Medicare                 NaN  White   \n",
       "1883                 NaN                 NaN  White   \n",
       "1884                 NaN                 NaN  White   \n",
       "1888            Medicare                 NaN  White   \n",
       "1898                 NaN                 NaN  White   \n",
       "\n",
       "      Ratio of Total Costs to Total Charges Total Charges  Total Costs  \\\n",
       "1822                                    NaN      25128.07     49633.70   \n",
       "1883                                    NaN      34503.42     84472.01   \n",
       "1884                                    NaN      54106.70     94418.08   \n",
       "1888                                    NaN      30138.52     51083.21   \n",
       "1898                                    NaN      25886.07     49957.54   \n",
       "\n",
       "     Type of Admission Zip Code - 3 digits    yr  \n",
       "1822          Elective                 147  2013  \n",
       "1883          Elective                 147  2013  \n",
       "1884          Elective                 148  2013  \n",
       "1888          Elective                 OOS  2013  \n",
       "1898          Elective                 147  2013  \n",
       "\n",
       "[5 rows x 39 columns]"
      ]
     },
     "execution_count": 10,
     "metadata": {},
     "output_type": "execute_result"
    }
   ],
   "source": [
    "#cleaning to only knee related\n",
    "sparcsKnee = sparcsAll[sparcsAll['APR DRG Code']==302]\n",
    "sparcsKnee.head()"
   ]
  },
  {
   "cell_type": "code",
   "execution_count": 11,
   "metadata": {},
   "outputs": [
    {
     "data": {
      "text/plain": [
       "Index(['APR DRG Code', 'APR DRG Description', 'APR MDC Code',\n",
       "       'APR MDC Description', 'APR Medical Surgical Description',\n",
       "       'APR Risk of Mortality', 'APR Severity of Illness Code',\n",
       "       'APR Severity of Illness Description', 'Abortion Edit Indicator',\n",
       "       'Age Group', 'Attending Provider License Number', 'Birth Weight',\n",
       "       'CCS Diagnosis Code', 'CCS Diagnosis Description', 'CCS Procedure Code',\n",
       "       'CCS Procedure Description', 'Discharge Year',\n",
       "       'Emergency Department Indicator', 'Ethnicity', 'Facility Id',\n",
       "       'Facility Name', 'Gender', 'Health Service Area', 'Hospital County',\n",
       "       'Length of Stay', 'Operating Certificate Number',\n",
       "       'Operating Provider License Number', 'Other Provider License Number',\n",
       "       'Patient Disposition', 'Payment Typology 1', 'Payment Typology 2',\n",
       "       'Payment Typology 3', 'Race', 'Ratio of Total Costs to Total Charges',\n",
       "       'Total Charges', 'Total Costs', 'Type of Admission',\n",
       "       'Zip Code - 3 digits', 'yr'],\n",
       "      dtype='object')"
      ]
     },
     "execution_count": 11,
     "metadata": {},
     "output_type": "execute_result"
    }
   ],
   "source": [
    "sparcsKnee.columns"
   ]
  },
  {
   "cell_type": "code",
   "execution_count": 12,
   "metadata": {},
   "outputs": [],
   "source": [
    "# saving the SparcsKnee to csv as a precaution \n",
    "destFol = os.getcwd()+'/dataFiles/nysHealth/'\n",
    "filenames = os.listdir(destFol)\n",
    "\n",
    "sparcsKnee.to_csv(os.getcwd()+'/dataFiles/nysHealth/sparcsKnee.csv')"
   ]
  },
  {
   "cell_type": "code",
   "execution_count": null,
   "metadata": {},
   "outputs": [],
   "source": []
  },
  {
   "cell_type": "code",
   "execution_count": null,
   "metadata": {},
   "outputs": [],
   "source": []
  },
  {
   "cell_type": "code",
   "execution_count": null,
   "metadata": {},
   "outputs": [],
   "source": []
  }
 ],
 "metadata": {
  "kernelspec": {
   "display_name": "PUI2016_Python3",
   "language": "python",
   "name": "pui2016_python3"
  },
  "language_info": {
   "codemirror_mode": {
    "name": "ipython",
    "version": 3
   },
   "file_extension": ".py",
   "mimetype": "text/x-python",
   "name": "python",
   "nbconvert_exporter": "python",
   "pygments_lexer": "ipython3",
   "version": "3.5.4"
  }
 },
 "nbformat": 4,
 "nbformat_minor": 2
}
