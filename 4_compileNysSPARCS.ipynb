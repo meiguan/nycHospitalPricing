{
 "cells": [
  {
   "cell_type": "code",
   "execution_count": 1,
   "metadata": {},
   "outputs": [],
   "source": [
    "import os\n",
    "import urllib.request\n",
    "import pandas as pd"
   ]
  },
  {
   "cell_type": "code",
   "execution_count": 2,
   "metadata": {},
   "outputs": [],
   "source": [
    "dataFol = os.getcwd() + \"/dataFiles/\"\n",
    "nysHealth = dataFol + \"nysHealth/\""
   ]
  },
  {
   "cell_type": "code",
   "execution_count": 3,
   "metadata": {},
   "outputs": [],
   "source": [
    "# Hospital Inpatient Discharges (SPARCS De-Identified)\n",
    "# from https://health.data.ny.gov/Health/Hospital-Inpatient-Discharges-SPARCS-De-Identified/gnzp-ekau\n",
    "# The Statewide Planning and Research Cooperative System (SPARCS) Inpatient De-identified File contains discharge\n",
    "# level detail on patient characteristics, diagnoses, treatments, services, and charges. This data file contains \n",
    "# basic record level detail for the discharge. The de-identified data file does not contain data that is protected \n",
    "# health information (PHI) under HIPAA. The health information is not individually identifiable; all data elements \n",
    "# considered identifiable have been redacted. For example, the direct identifiers regarding a date have the day and \n",
    "# month portion of the date removed.\n",
    "\n",
    "sparcsUrl = [\"https://health.data.ny.gov/api/views/gnzp-ekau/rows.csv?accessType=DOWNLOAD\", # sparcs 2016\n",
    "             \"https://health.data.ny.gov/api/views/82xm-y6g8/rows.csv?accessType=DOWNLOAD\", # sparcs 2015\n",
    "             \"https://health.data.ny.gov/api/views/rmwa-zns4/rows.csv?accessType=DOWNLOAD\", # sparcs 2014\n",
    "             \"https://health.data.ny.gov/api/views/npsr-cm47/rows.csv?accessType=DOWNLOAD\"] # sparcs 2013"
   ]
  },
  {
   "cell_type": "code",
   "execution_count": 4,
   "metadata": {},
   "outputs": [],
   "source": [
    "sparcsFiles = [\"sparcs2016.csv\", \n",
    "               \"sparcs2015.csv\",\n",
    "               \"sparcs2014.csv\",\n",
    "               \"sparcs2013.csv\"]"
   ]
  },
  {
   "cell_type": "code",
   "execution_count": 26,
   "metadata": {},
   "outputs": [
    {
     "name": "stdout",
     "output_type": "stream",
     "text": [
      "file in place, you can continue\n",
      "file in place, you can continue\n",
      "file in place, you can continue\n",
      "file in place, you can continue\n"
     ]
    }
   ],
   "source": [
    "for sp in range(len(sparcsFiles)):\n",
    "    ### check that the file is not already there\n",
    "    if not os.path.isfile(nysHealth + sparcsFiles[sp]):\n",
    "        if os.path.isfile(sparcsFiles[sp]):\n",
    "            # if in the current dir just move it\n",
    "            os.system(\"mv \" + sparcsFiles[sp] + \" \" + nysHealth)\n",
    "            print (\"Moving file!, Please check!\")\n",
    "        #otherwise start looking for the zip file\n",
    "        else:\n",
    "            if not os.path.isfile(sparcsFiles[sp]):\n",
    "                urllib.request.urlretrieve(sparcsUrl[sp], sparcsFiles[sp])\n",
    "                ###  To move it I use the os.system() functions to run bash commands with arguments\n",
    "                os.system(\"mv \" + sparcsFiles[sp] + \" \" + nysHealth)\n",
    "    ### One final check:\n",
    "    if not os.path.isfile(dataFol+ \"cms/ippsProviderSummary.csv\"):\n",
    "        print (\"WARNING!!! something is wrong: the file is not there!\")\n",
    "    else:\n",
    "        print (\"file in place, you can continue\")"
   ]
  },
  {
   "cell_type": "code",
   "execution_count": 27,
   "metadata": {},
   "outputs": [
    {
     "name": "stderr",
     "output_type": "stream",
     "text": [
      "/nfshome/yg833/.conda/envs/mgPUI/lib/python3.7/site-packages/IPython/core/interactiveshell.py:3020: DtypeWarning: Columns (10) have mixed types. Specify dtype option on import or set low_memory=False.\n",
      "  interactivity=interactivity, compiler=compiler, result=result)\n"
     ]
    }
   ],
   "source": [
    "collect_df = {}\n",
    "\n",
    "for i in range(len(sparcsFiles)):\n",
    "    df_name = sparcsFiles[i].split(\".\")[:-1][0]\n",
    "    temp = pd.read_csv(nysHealth + sparcsFiles[i])\n",
    "    temp['yr'] = sparcsFiles[i].split(\".\")[:-1][0][6:]\n",
    "    collect_df[df_name] = temp"
   ]
  },
  {
   "cell_type": "code",
   "execution_count": 29,
   "metadata": {},
   "outputs": [],
   "source": [
    "sparcsAll = pd.concat(collect_df, ignore_index=True, keys=None, sort=False)"
   ]
  },
  {
   "cell_type": "code",
   "execution_count": 30,
   "metadata": {},
   "outputs": [
    {
     "data": {
      "text/html": [
       "<div>\n",
       "<style scoped>\n",
       "    .dataframe tbody tr th:only-of-type {\n",
       "        vertical-align: middle;\n",
       "    }\n",
       "\n",
       "    .dataframe tbody tr th {\n",
       "        vertical-align: top;\n",
       "    }\n",
       "\n",
       "    .dataframe thead th {\n",
       "        text-align: right;\n",
       "    }\n",
       "</style>\n",
       "<table border=\"1\" class=\"dataframe\">\n",
       "  <thead>\n",
       "    <tr style=\"text-align: right;\">\n",
       "      <th></th>\n",
       "      <th>Health Service Area</th>\n",
       "      <th>Hospital County</th>\n",
       "      <th>Operating Certificate Number</th>\n",
       "      <th>Facility ID</th>\n",
       "      <th>Facility Name</th>\n",
       "      <th>Age Group</th>\n",
       "      <th>Zip Code - 3 digits</th>\n",
       "      <th>Gender</th>\n",
       "      <th>Race</th>\n",
       "      <th>Ethnicity</th>\n",
       "      <th>...</th>\n",
       "      <th>Operating Provider License Number</th>\n",
       "      <th>Other Provider License Number</th>\n",
       "      <th>Birth Weight</th>\n",
       "      <th>Abortion Edit Indicator</th>\n",
       "      <th>Emergency Department Indicator</th>\n",
       "      <th>Total Charges</th>\n",
       "      <th>Total Costs</th>\n",
       "      <th>yr</th>\n",
       "      <th>Facility Id</th>\n",
       "      <th>Ratio of Total Costs to Total Charges</th>\n",
       "    </tr>\n",
       "  </thead>\n",
       "  <tbody>\n",
       "    <tr>\n",
       "      <th>0</th>\n",
       "      <td>Western NY</td>\n",
       "      <td>Allegany</td>\n",
       "      <td>226700.0</td>\n",
       "      <td>37.0</td>\n",
       "      <td>Cuba Memorial Hospital Inc</td>\n",
       "      <td>70 or Older</td>\n",
       "      <td>147</td>\n",
       "      <td>F</td>\n",
       "      <td>White</td>\n",
       "      <td>Not Span/Hispanic</td>\n",
       "      <td>...</td>\n",
       "      <td>167816.0</td>\n",
       "      <td>NaN</td>\n",
       "      <td>0.0</td>\n",
       "      <td>N</td>\n",
       "      <td>Y</td>\n",
       "      <td>5621.25</td>\n",
       "      <td>5037.17</td>\n",
       "      <td>2013</td>\n",
       "      <td>NaN</td>\n",
       "      <td>NaN</td>\n",
       "    </tr>\n",
       "    <tr>\n",
       "      <th>1</th>\n",
       "      <td>Western NY</td>\n",
       "      <td>Allegany</td>\n",
       "      <td>226700.0</td>\n",
       "      <td>37.0</td>\n",
       "      <td>Cuba Memorial Hospital Inc</td>\n",
       "      <td>70 or Older</td>\n",
       "      <td>147</td>\n",
       "      <td>F</td>\n",
       "      <td>White</td>\n",
       "      <td>Not Span/Hispanic</td>\n",
       "      <td>...</td>\n",
       "      <td>NaN</td>\n",
       "      <td>NaN</td>\n",
       "      <td>0.0</td>\n",
       "      <td>N</td>\n",
       "      <td>Y</td>\n",
       "      <td>2998.65</td>\n",
       "      <td>2940.46</td>\n",
       "      <td>2013</td>\n",
       "      <td>NaN</td>\n",
       "      <td>NaN</td>\n",
       "    </tr>\n",
       "    <tr>\n",
       "      <th>2</th>\n",
       "      <td>Western NY</td>\n",
       "      <td>Allegany</td>\n",
       "      <td>226700.0</td>\n",
       "      <td>37.0</td>\n",
       "      <td>Cuba Memorial Hospital Inc</td>\n",
       "      <td>30 to 49</td>\n",
       "      <td>147</td>\n",
       "      <td>M</td>\n",
       "      <td>White</td>\n",
       "      <td>Not Span/Hispanic</td>\n",
       "      <td>...</td>\n",
       "      <td>NaN</td>\n",
       "      <td>NaN</td>\n",
       "      <td>0.0</td>\n",
       "      <td>N</td>\n",
       "      <td>Y</td>\n",
       "      <td>2037.00</td>\n",
       "      <td>2246.15</td>\n",
       "      <td>2013</td>\n",
       "      <td>NaN</td>\n",
       "      <td>NaN</td>\n",
       "    </tr>\n",
       "    <tr>\n",
       "      <th>3</th>\n",
       "      <td>Western NY</td>\n",
       "      <td>Allegany</td>\n",
       "      <td>226700.0</td>\n",
       "      <td>37.0</td>\n",
       "      <td>Cuba Memorial Hospital Inc</td>\n",
       "      <td>50 to 69</td>\n",
       "      <td>147</td>\n",
       "      <td>F</td>\n",
       "      <td>White</td>\n",
       "      <td>Not Span/Hispanic</td>\n",
       "      <td>...</td>\n",
       "      <td>NaN</td>\n",
       "      <td>NaN</td>\n",
       "      <td>0.0</td>\n",
       "      <td>N</td>\n",
       "      <td>N</td>\n",
       "      <td>2435.75</td>\n",
       "      <td>2271.92</td>\n",
       "      <td>2013</td>\n",
       "      <td>NaN</td>\n",
       "      <td>NaN</td>\n",
       "    </tr>\n",
       "    <tr>\n",
       "      <th>4</th>\n",
       "      <td>Western NY</td>\n",
       "      <td>Allegany</td>\n",
       "      <td>226700.0</td>\n",
       "      <td>37.0</td>\n",
       "      <td>Cuba Memorial Hospital Inc</td>\n",
       "      <td>70 or Older</td>\n",
       "      <td>147</td>\n",
       "      <td>M</td>\n",
       "      <td>White</td>\n",
       "      <td>Not Span/Hispanic</td>\n",
       "      <td>...</td>\n",
       "      <td>167816.0</td>\n",
       "      <td>NaN</td>\n",
       "      <td>0.0</td>\n",
       "      <td>N</td>\n",
       "      <td>Y</td>\n",
       "      <td>3754.95</td>\n",
       "      <td>3579.69</td>\n",
       "      <td>2013</td>\n",
       "      <td>NaN</td>\n",
       "      <td>NaN</td>\n",
       "    </tr>\n",
       "  </tbody>\n",
       "</table>\n",
       "<p>5 rows × 40 columns</p>\n",
       "</div>"
      ],
      "text/plain": [
       "  Health Service Area Hospital County  Operating Certificate Number  \\\n",
       "0          Western NY        Allegany                      226700.0   \n",
       "1          Western NY        Allegany                      226700.0   \n",
       "2          Western NY        Allegany                      226700.0   \n",
       "3          Western NY        Allegany                      226700.0   \n",
       "4          Western NY        Allegany                      226700.0   \n",
       "\n",
       "   Facility ID               Facility Name    Age Group Zip Code - 3 digits  \\\n",
       "0         37.0  Cuba Memorial Hospital Inc  70 or Older                 147   \n",
       "1         37.0  Cuba Memorial Hospital Inc  70 or Older                 147   \n",
       "2         37.0  Cuba Memorial Hospital Inc     30 to 49                 147   \n",
       "3         37.0  Cuba Memorial Hospital Inc     50 to 69                 147   \n",
       "4         37.0  Cuba Memorial Hospital Inc  70 or Older                 147   \n",
       "\n",
       "  Gender   Race          Ethnicity                  ...                   \\\n",
       "0      F  White  Not Span/Hispanic                  ...                    \n",
       "1      F  White  Not Span/Hispanic                  ...                    \n",
       "2      M  White  Not Span/Hispanic                  ...                    \n",
       "3      F  White  Not Span/Hispanic                  ...                    \n",
       "4      M  White  Not Span/Hispanic                  ...                    \n",
       "\n",
       "  Operating Provider License Number Other Provider License Number  \\\n",
       "0                          167816.0                           NaN   \n",
       "1                               NaN                           NaN   \n",
       "2                               NaN                           NaN   \n",
       "3                               NaN                           NaN   \n",
       "4                          167816.0                           NaN   \n",
       "\n",
       "  Birth Weight  Abortion Edit Indicator  Emergency Department Indicator  \\\n",
       "0          0.0                        N                               Y   \n",
       "1          0.0                        N                               Y   \n",
       "2          0.0                        N                               Y   \n",
       "3          0.0                        N                               N   \n",
       "4          0.0                        N                               Y   \n",
       "\n",
       "  Total Charges  Total Costs    yr  Facility Id  \\\n",
       "0       5621.25      5037.17  2013          NaN   \n",
       "1       2998.65      2940.46  2013          NaN   \n",
       "2       2037.00      2246.15  2013          NaN   \n",
       "3       2435.75      2271.92  2013          NaN   \n",
       "4       3754.95      3579.69  2013          NaN   \n",
       "\n",
       "  Ratio of Total Costs to Total Charges  \n",
       "0                                   NaN  \n",
       "1                                   NaN  \n",
       "2                                   NaN  \n",
       "3                                   NaN  \n",
       "4                                   NaN  \n",
       "\n",
       "[5 rows x 40 columns]"
      ]
     },
     "execution_count": 30,
     "metadata": {},
     "output_type": "execute_result"
    }
   ],
   "source": [
    "sparcsAll.head()"
   ]
  },
  {
   "cell_type": "code",
   "execution_count": 31,
   "metadata": {},
   "outputs": [
    {
     "data": {
      "text/plain": [
       "Index(['Health Service Area', 'Hospital County',\n",
       "       'Operating Certificate Number', 'Facility ID', 'Facility Name',\n",
       "       'Age Group', 'Zip Code - 3 digits', 'Gender', 'Race', 'Ethnicity',\n",
       "       'Length of Stay', 'Type of Admission', 'Patient Disposition',\n",
       "       'Discharge Year', 'CCS Diagnosis Code', 'CCS Diagnosis Description',\n",
       "       'CCS Procedure Code', 'CCS Procedure Description', 'APR DRG Code',\n",
       "       'APR DRG Description', 'APR MDC Code', 'APR MDC Description',\n",
       "       'APR Severity of Illness Code', 'APR Severity of Illness Description',\n",
       "       'APR Risk of Mortality', 'APR Medical Surgical Description',\n",
       "       'Payment Typology 1', 'Payment Typology 2', 'Payment Typology 3',\n",
       "       'Attending Provider License Number',\n",
       "       'Operating Provider License Number', 'Other Provider License Number',\n",
       "       'Birth Weight', 'Abortion Edit Indicator',\n",
       "       'Emergency Department Indicator', 'Total Charges', 'Total Costs', 'yr',\n",
       "       'Facility Id', 'Ratio of Total Costs to Total Charges'],\n",
       "      dtype='object')"
      ]
     },
     "execution_count": 31,
     "metadata": {},
     "output_type": "execute_result"
    }
   ],
   "source": [
    "sparcsAll.columns"
   ]
  },
  {
   "cell_type": "code",
   "execution_count": 32,
   "metadata": {},
   "outputs": [
    {
     "data": {
      "text/plain": [
       "(8113516, 40)"
      ]
     },
     "execution_count": 32,
     "metadata": {},
     "output_type": "execute_result"
    }
   ],
   "source": [
    "sparcsAll.shape"
   ]
  },
  {
   "cell_type": "code",
   "execution_count": 10,
   "metadata": {},
   "outputs": [],
   "source": []
  },
  {
   "cell_type": "code",
   "execution_count": 17,
   "metadata": {},
   "outputs": [],
   "source": []
  },
  {
   "cell_type": "code",
   "execution_count": null,
   "metadata": {},
   "outputs": [],
   "source": []
  },
  {
   "cell_type": "code",
   "execution_count": 26,
   "metadata": {},
   "outputs": [],
   "source": []
  },
  {
   "cell_type": "code",
   "execution_count": null,
   "metadata": {},
   "outputs": [],
   "source": []
  }
 ],
 "metadata": {
  "kernelspec": {
   "display_name": "mgPUI",
   "language": "python",
   "name": "mgpui"
  },
  "language_info": {
   "codemirror_mode": {
    "name": "ipython",
    "version": 3
   },
   "file_extension": ".py",
   "mimetype": "text/x-python",
   "name": "python",
   "nbconvert_exporter": "python",
   "pygments_lexer": "ipython3",
   "version": "3.7.2"
  }
 },
 "nbformat": 4,
 "nbformat_minor": 2
}
