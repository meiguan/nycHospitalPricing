{
 "cells": [
  {
   "cell_type": "markdown",
   "metadata": {},
   "source": [
    "##### 4_featureEngineering\n",
    "\n",
    "This notebook takes the csv that was compiled from the notebook 3_compileDischargesHospitalCensusData and does further processing on it such as: \n",
    "- Dealing with Categorical Variables\n",
    "\n",
    "- Feature Engineering"
   ]
  },
  {
   "cell_type": "code",
   "execution_count": 1,
   "metadata": {},
   "outputs": [],
   "source": [
    "import os\n",
    "import pandas as pd\n",
    "import numpy as np"
   ]
  },
  {
   "cell_type": "code",
   "execution_count": 2,
   "metadata": {},
   "outputs": [],
   "source": [
    "aprHospFeat = pd.read_csv('dataFiles/compiledDischargesHospitalFeaturesCensus.csv', low_memory=False)"
   ]
  },
  {
   "cell_type": "code",
   "execution_count": 3,
   "metadata": {},
   "outputs": [
    {
     "name": "stdout",
     "output_type": "stream",
     "text": [
      "<class 'pandas.core.frame.DataFrame'>\n",
      "RangeIndex: 2209446 entries, 0 to 2209445\n",
      "Data columns (total 40 columns):\n",
      "Unnamed: 0                                              int64\n",
      "Health Service Area                                     object\n",
      "Facility Id                                             float64\n",
      "Length of Stay                                          object\n",
      "Type of Admission                                       object\n",
      "APR DRG Code                                            int64\n",
      "APR DRG Description                                     object\n",
      "APR Severity of Illness Code                            float64\n",
      "Payment Typology 1                                      object\n",
      "Payment Typology 2                                      object\n",
      "Payment Typology 3                                      object\n",
      "Emergency Department Indicator                          object\n",
      "Total Charges                                           float64\n",
      "Total Costs                                             float64\n",
      "yr                                                      int64\n",
      "Provider ID                                             int64\n",
      "Hospital Ownership                                      object\n",
      "Hospital overall rating                                 float64\n",
      "Mortality national comparison                           float64\n",
      "Safety of care national comparison                      float64\n",
      "Readmission national comparison                         float64\n",
      "Patient experience national comparison                  float64\n",
      "Effectiveness of care national comparison               float64\n",
      "Timeliness of care national comparison                  float64\n",
      "Efficient use of medical imaging national comparison    float64\n",
      "lat                                                     float64\n",
      "long                                                    float64\n",
      "lonlat                                                  object\n",
      "geometry                                                object\n",
      "fte_employees_on_payroll                                float64\n",
      "number_of_beds                                          float64\n",
      "number_of_interns_and                                   float64\n",
      "rural_versus_urban                                      object\n",
      "puma                                                    int64\n",
      "totalPopulation                                         int64\n",
      "totalInsured                                            int64\n",
      "totalFertile                                            int64\n",
      "totalPerYrPerFacIdPerDrg                                int64\n",
      "totalPerYrPerFacId                                      int64\n",
      "ratioDrgToFacility                                      float64\n",
      "dtypes: float64(18), int64(10), object(12)\n",
      "memory usage: 674.3+ MB\n"
     ]
    }
   ],
   "source": [
    "aprHospFeat.info()"
   ]
  },
  {
   "cell_type": "markdown",
   "metadata": {},
   "source": [
    "#### Recoding the categorical vars into OneHot"
   ]
  },
  {
   "cell_type": "markdown",
   "metadata": {},
   "source": [
    "##### Payment Types 1,2,3\n",
    "There are 3 columns for payment types. This variable is looking at the difference payment types across the 3 columns and inputing a \"1\" for the various types."
   ]
  },
  {
   "cell_type": "code",
   "execution_count": 4,
   "metadata": {},
   "outputs": [
    {
     "data": {
      "text/plain": [
       "array(['Medicare', 'Blue Cross/Blue Shield', 'Private Health Insurance',\n",
       "       'Self-Pay', 'Medicaid', 'Federal/State/Local/VA',\n",
       "       'Miscellaneous/Other', 'Department of Corrections',\n",
       "       'Managed Care, Unspecified'], dtype=object)"
      ]
     },
     "execution_count": 4,
     "metadata": {},
     "output_type": "execute_result"
    }
   ],
   "source": [
    "aprHospFeat['Payment Typology 1'].unique()[:-1]"
   ]
  },
  {
   "cell_type": "code",
   "execution_count": 7,
   "metadata": {},
   "outputs": [],
   "source": [
    "for i in range(len(aprHospFeat['Payment Typology 1'].unique())-1):\n",
    "    aprHospFeat.loc[(aprHospFeat['Payment Typology 1'] == aprHospFeat['Payment Typology 1'].unique()[i]) | \n",
    "                (aprHospFeat['Payment Typology 2'] == aprHospFeat['Payment Typology 1'].unique()[i]) |\n",
    "                (aprHospFeat['Payment Typology 3'] == aprHospFeat['Payment Typology 1'].unique()[i]), \n",
    "                    'payment_'+aprHospFeat['Payment Typology 1'].unique()[i]] = 1"
   ]
  },
  {
   "cell_type": "code",
   "execution_count": 8,
   "metadata": {},
   "outputs": [
    {
     "name": "stderr",
     "output_type": "stream",
     "text": [
      "/nfshome/yg833/.conda/envs/mgPUI/lib/python3.7/site-packages/pandas/core/frame.py:3790: SettingWithCopyWarning: \n",
      "A value is trying to be set on a copy of a slice from a DataFrame\n",
      "\n",
      "See the caveats in the documentation: http://pandas.pydata.org/pandas-docs/stable/indexing.html#indexing-view-versus-copy\n",
      "  downcast=downcast, **kwargs)\n"
     ]
    }
   ],
   "source": [
    " aprHospFeat.filter(like = 'payment').fillna(0, inplace=True)"
   ]
  },
  {
   "cell_type": "markdown",
   "metadata": {},
   "source": [
    "##### Type of Admission\n",
    "One hot encoding the type of admission. "
   ]
  },
  {
   "cell_type": "code",
   "execution_count": 6,
   "metadata": {},
   "outputs": [
    {
     "data": {
      "text/plain": [
       "array(['Urgent', 'Elective', 'Emergency', 'Newborn', 'Not Available',\n",
       "       'Trauma'], dtype=object)"
      ]
     },
     "execution_count": 6,
     "metadata": {},
     "output_type": "execute_result"
    }
   ],
   "source": [
    "aprHospFeat['Type of Admission'].unique()"
   ]
  },
  {
   "cell_type": "code",
   "execution_count": 7,
   "metadata": {},
   "outputs": [],
   "source": [
    "aprHospFeat = pd.get_dummies(aprHospFeat, columns=['Type of Admission'])"
   ]
  },
  {
   "cell_type": "markdown",
   "metadata": {},
   "source": [
    "##### Emergency Department Indicator"
   ]
  },
  {
   "cell_type": "code",
   "execution_count": 8,
   "metadata": {},
   "outputs": [
    {
     "data": {
      "text/plain": [
       "array(['Y', 'N'], dtype=object)"
      ]
     },
     "execution_count": 8,
     "metadata": {},
     "output_type": "execute_result"
    }
   ],
   "source": [
    "aprHospFeat['Emergency Department Indicator'].unique()"
   ]
  },
  {
   "cell_type": "code",
   "execution_count": 9,
   "metadata": {},
   "outputs": [],
   "source": [
    "aprHospFeat.loc[aprHospFeat['Emergency Department Indicator'] == 'Y', 'emergencyRoom' ]= 1"
   ]
  },
  {
   "cell_type": "code",
   "execution_count": 10,
   "metadata": {},
   "outputs": [],
   "source": [
    "aprHospFeat['emergencyRoom'].fillna(0, inplace=True)"
   ]
  },
  {
   "cell_type": "markdown",
   "metadata": {},
   "source": [
    "##### Hospital Ownership"
   ]
  },
  {
   "cell_type": "code",
   "execution_count": 11,
   "metadata": {},
   "outputs": [],
   "source": [
    "aprHospFeat = pd.get_dummies(aprHospFeat, columns=['Hospital Ownership'])"
   ]
  },
  {
   "cell_type": "markdown",
   "metadata": {},
   "source": [
    "##### Rural vs Urban Setting"
   ]
  },
  {
   "cell_type": "code",
   "execution_count": 12,
   "metadata": {},
   "outputs": [],
   "source": [
    "aprHospFeat = pd.get_dummies(aprHospFeat, columns=['rural_versus_urban'])"
   ]
  },
  {
   "cell_type": "code",
   "execution_count": 13,
   "metadata": {},
   "outputs": [],
   "source": [
    "aprHospFeat.drop(['Payment Typology 1', 'Payment Typology 2', 'Payment Typology 3', \n",
    "                 'Emergency Department Indicator'], \n",
    "                axis=1, inplace=True)"
   ]
  },
  {
   "cell_type": "markdown",
   "metadata": {},
   "source": [
    "#### Feature Engineering & Creating New Variables"
   ]
  },
  {
   "cell_type": "markdown",
   "metadata": {},
   "source": [
    "##### 1. ratio # insured to # total population"
   ]
  },
  {
   "cell_type": "code",
   "execution_count": 14,
   "metadata": {},
   "outputs": [],
   "source": [
    "aprHospFeat['ratioInsuredTotalPopulation'] = aprHospFeat['totalInsured']/ aprHospFeat['totalPopulation']"
   ]
  },
  {
   "cell_type": "markdown",
   "metadata": {},
   "source": [
    "##### 2. ratio # fertile women to # total population"
   ]
  },
  {
   "cell_type": "code",
   "execution_count": 15,
   "metadata": {},
   "outputs": [],
   "source": [
    "aprHospFeat['ratioFertilityTotalPopulation'] = aprHospFeat['totalFertile']/ aprHospFeat['totalPopulation']"
   ]
  },
  {
   "cell_type": "markdown",
   "metadata": {},
   "source": [
    "##### 3. ratio total charges to total costs"
   ]
  },
  {
   "cell_type": "code",
   "execution_count": 16,
   "metadata": {},
   "outputs": [],
   "source": [
    "aprHospFeat['ratioChargesCosts'] = aprHospFeat['Total Charges']/ aprHospFeat['Total Costs']"
   ]
  },
  {
   "cell_type": "markdown",
   "metadata": {},
   "source": [
    "##### 4. charges per day of stay"
   ]
  },
  {
   "cell_type": "code",
   "execution_count": 17,
   "metadata": {},
   "outputs": [],
   "source": [
    "aprHospFeat.loc[aprHospFeat['Length of Stay']== '120 +', 'days'] = 120"
   ]
  },
  {
   "cell_type": "code",
   "execution_count": 18,
   "metadata": {},
   "outputs": [],
   "source": [
    "aprHospFeat.loc[aprHospFeat['Length of Stay'] != '120 +', 'days'] = aprHospFeat['Length of Stay']"
   ]
  },
  {
   "cell_type": "code",
   "execution_count": 19,
   "metadata": {},
   "outputs": [],
   "source": [
    "aprHospFeat['days'] = pd.to_numeric(aprHospFeat['days'])"
   ]
  },
  {
   "cell_type": "code",
   "execution_count": 20,
   "metadata": {},
   "outputs": [],
   "source": [
    "aprHospFeat['chargesPerDay'] = aprHospFeat['Total Charges']/ aprHospFeat['days']"
   ]
  },
  {
   "cell_type": "code",
   "execution_count": 21,
   "metadata": {},
   "outputs": [
    {
     "data": {
      "text/plain": [
       "array([3.700e+01, 3.900e+01, 6.600e+01, 9.800e+01, 1.030e+02, 1.110e+02,\n",
       "       1.140e+02,       nan, 1.280e+02, 1.650e+02, 1.740e+02, 1.350e+02,\n",
       "       3.250e+02, 3.030e+02, 3.240e+02, 6.760e+02, 6.780e+02, 7.980e+02,\n",
       "       8.040e+02, 8.120e+02, 8.150e+02, 2.070e+02, 2.100e+02, 2.130e+02,\n",
       "       2.180e+02, 2.670e+02, 2.800e+02, 3.390e+02, 5.650e+02, 5.830e+02,\n",
       "       1.180e+02, 1.160e+02, 8.660e+02, 5.740e+02, 1.153e+03, 3.930e+02,\n",
       "       4.090e+02, 4.110e+02, 4.130e+02, 4.140e+02, 4.710e+02, 8.700e+02,\n",
       "       8.580e+02, 8.730e+02, 1.028e+03, 4.200e+01, 4.300e+01, 8.500e+01,\n",
       "       1.580e+02, 3.970e+02, 4.010e+02, 3.670e+02, 3.770e+02, 3.790e+02,\n",
       "       3.830e+02, 3.620e+02, 5.890e+02, 5.980e+02, 5.990e+02, 6.300e+02,\n",
       "       6.360e+02, 6.350e+02, 7.270e+02, 9.770e+02, 1.000e+00, 5.000e+00,\n",
       "       4.000e+00, 1.460e+02, 3.300e+02, 4.840e+02, 7.560e+02, 7.550e+02,\n",
       "       9.250e+03, 8.180e+02, 8.290e+02, 1.005e+03, 1.810e+02, 6.990e+02,\n",
       "       7.080e+02, 6.940e+02, 7.520e+02, 7.760e+02, 7.040e+02, 7.750e+02,\n",
       "       7.790e+02, 1.039e+03, 1.129e+03, 1.139e+03, 1.138e+03, 9.890e+02,\n",
       "       9.900e+02, 1.002e+03, 1.061e+03, 1.072e+03, 1.122e+03, 1.098e+03,\n",
       "       1.117e+03, 1.164e+03, 1.176e+03, 1.165e+03, 1.169e+03, 1.172e+03,\n",
       "       1.286e+03, 1.301e+03, 1.320e+03, 1.288e+03, 1.294e+03, 1.293e+03,\n",
       "       1.305e+03, 1.306e+03, 1.309e+03, 1.315e+03, 1.318e+03, 1.692e+03,\n",
       "       1.438e+03, 1.439e+03, 1.463e+03, 1.460e+03, 1.445e+03, 1.450e+03,\n",
       "       1.447e+03, 1.458e+03, 1.454e+03, 1.466e+03, 1.626e+03, 1.628e+03,\n",
       "       1.629e+03, 1.633e+03, 1.635e+03, 1.738e+03, 1.740e+03, 5.110e+02,\n",
       "       5.130e+02, 5.280e+02, 5.410e+02, 5.630e+02, 5.520e+02, 5.510e+02,\n",
       "       8.850e+02, 8.910e+02, 9.380e+02, 8.950e+02, 8.960e+02, 9.130e+02,\n",
       "       9.240e+02, 9.250e+02, 9.430e+02])"
      ]
     },
     "execution_count": 21,
     "metadata": {},
     "output_type": "execute_result"
    }
   ],
   "source": [
    "aprHospFeat['Facility Id'].unique()"
   ]
  },
  {
   "cell_type": "code",
   "execution_count": 22,
   "metadata": {},
   "outputs": [
    {
     "data": {
      "text/html": [
       "<div>\n",
       "<style scoped>\n",
       "    .dataframe tbody tr th:only-of-type {\n",
       "        vertical-align: middle;\n",
       "    }\n",
       "\n",
       "    .dataframe tbody tr th {\n",
       "        vertical-align: top;\n",
       "    }\n",
       "\n",
       "    .dataframe thead th {\n",
       "        text-align: right;\n",
       "    }\n",
       "</style>\n",
       "<table border=\"1\" class=\"dataframe\">\n",
       "  <thead>\n",
       "    <tr style=\"text-align: right;\">\n",
       "      <th></th>\n",
       "      <th>Unnamed: 0</th>\n",
       "      <th>Health Service Area</th>\n",
       "      <th>Facility Id</th>\n",
       "      <th>Length of Stay</th>\n",
       "      <th>APR DRG Code</th>\n",
       "      <th>APR DRG Description</th>\n",
       "      <th>APR Severity of Illness Code</th>\n",
       "      <th>Total Charges</th>\n",
       "      <th>Total Costs</th>\n",
       "      <th>yr</th>\n",
       "      <th>...</th>\n",
       "      <th>Hospital Ownership_Voluntary non-profit - Church</th>\n",
       "      <th>Hospital Ownership_Voluntary non-profit - Other</th>\n",
       "      <th>Hospital Ownership_Voluntary non-profit - Private</th>\n",
       "      <th>rural_versus_urban_R</th>\n",
       "      <th>rural_versus_urban_U</th>\n",
       "      <th>ratioInsuredTotalPopulation</th>\n",
       "      <th>ratioFertilityTotalPopulation</th>\n",
       "      <th>ratioChargesCosts</th>\n",
       "      <th>days</th>\n",
       "      <th>chargesPerDay</th>\n",
       "    </tr>\n",
       "  </thead>\n",
       "  <tbody>\n",
       "    <tr>\n",
       "      <th>0</th>\n",
       "      <td>0</td>\n",
       "      <td>Western NY</td>\n",
       "      <td>37.0</td>\n",
       "      <td>8</td>\n",
       "      <td>139.0</td>\n",
       "      <td>Other pneumonia</td>\n",
       "      <td>3.0</td>\n",
       "      <td>5621.25</td>\n",
       "      <td>5037.17</td>\n",
       "      <td>2013.0</td>\n",
       "      <td>...</td>\n",
       "      <td>0</td>\n",
       "      <td>0</td>\n",
       "      <td>1</td>\n",
       "      <td>1</td>\n",
       "      <td>0</td>\n",
       "      <td>0.989499</td>\n",
       "      <td>0.218558</td>\n",
       "      <td>1.115954</td>\n",
       "      <td>8.0</td>\n",
       "      <td>702.656250</td>\n",
       "    </tr>\n",
       "    <tr>\n",
       "      <th>1</th>\n",
       "      <td>1</td>\n",
       "      <td>Western NY</td>\n",
       "      <td>37.0</td>\n",
       "      <td>3</td>\n",
       "      <td>139.0</td>\n",
       "      <td>Other pneumonia</td>\n",
       "      <td>2.0</td>\n",
       "      <td>2435.75</td>\n",
       "      <td>2271.92</td>\n",
       "      <td>2013.0</td>\n",
       "      <td>...</td>\n",
       "      <td>0</td>\n",
       "      <td>0</td>\n",
       "      <td>1</td>\n",
       "      <td>1</td>\n",
       "      <td>0</td>\n",
       "      <td>0.989499</td>\n",
       "      <td>0.218558</td>\n",
       "      <td>1.072111</td>\n",
       "      <td>3.0</td>\n",
       "      <td>811.916667</td>\n",
       "    </tr>\n",
       "    <tr>\n",
       "      <th>2</th>\n",
       "      <td>2</td>\n",
       "      <td>Western NY</td>\n",
       "      <td>37.0</td>\n",
       "      <td>4</td>\n",
       "      <td>139.0</td>\n",
       "      <td>Other pneumonia</td>\n",
       "      <td>2.0</td>\n",
       "      <td>3754.95</td>\n",
       "      <td>3579.69</td>\n",
       "      <td>2013.0</td>\n",
       "      <td>...</td>\n",
       "      <td>0</td>\n",
       "      <td>0</td>\n",
       "      <td>1</td>\n",
       "      <td>1</td>\n",
       "      <td>0</td>\n",
       "      <td>0.989499</td>\n",
       "      <td>0.218558</td>\n",
       "      <td>1.048960</td>\n",
       "      <td>4.0</td>\n",
       "      <td>938.737500</td>\n",
       "    </tr>\n",
       "    <tr>\n",
       "      <th>3</th>\n",
       "      <td>3</td>\n",
       "      <td>Western NY</td>\n",
       "      <td>37.0</td>\n",
       "      <td>2</td>\n",
       "      <td>139.0</td>\n",
       "      <td>Other pneumonia</td>\n",
       "      <td>1.0</td>\n",
       "      <td>2096.05</td>\n",
       "      <td>2195.02</td>\n",
       "      <td>2013.0</td>\n",
       "      <td>...</td>\n",
       "      <td>0</td>\n",
       "      <td>0</td>\n",
       "      <td>1</td>\n",
       "      <td>1</td>\n",
       "      <td>0</td>\n",
       "      <td>0.989499</td>\n",
       "      <td>0.218558</td>\n",
       "      <td>0.954912</td>\n",
       "      <td>2.0</td>\n",
       "      <td>1048.025000</td>\n",
       "    </tr>\n",
       "    <tr>\n",
       "      <th>4</th>\n",
       "      <td>4</td>\n",
       "      <td>Western NY</td>\n",
       "      <td>37.0</td>\n",
       "      <td>1</td>\n",
       "      <td>139.0</td>\n",
       "      <td>Other pneumonia</td>\n",
       "      <td>3.0</td>\n",
       "      <td>1583.25</td>\n",
       "      <td>1772.56</td>\n",
       "      <td>2013.0</td>\n",
       "      <td>...</td>\n",
       "      <td>0</td>\n",
       "      <td>0</td>\n",
       "      <td>1</td>\n",
       "      <td>1</td>\n",
       "      <td>0</td>\n",
       "      <td>0.989499</td>\n",
       "      <td>0.218558</td>\n",
       "      <td>0.893200</td>\n",
       "      <td>1.0</td>\n",
       "      <td>1583.250000</td>\n",
       "    </tr>\n",
       "  </tbody>\n",
       "</table>\n",
       "<p>5 rows × 64 columns</p>\n",
       "</div>"
      ],
      "text/plain": [
       "   Unnamed: 0 Health Service Area  Facility Id Length of Stay  APR DRG Code  \\\n",
       "0           0          Western NY         37.0              8         139.0   \n",
       "1           1          Western NY         37.0              3         139.0   \n",
       "2           2          Western NY         37.0              4         139.0   \n",
       "3           3          Western NY         37.0              2         139.0   \n",
       "4           4          Western NY         37.0              1         139.0   \n",
       "\n",
       "  APR DRG Description  APR Severity of Illness Code  Total Charges  \\\n",
       "0     Other pneumonia                           3.0        5621.25   \n",
       "1     Other pneumonia                           2.0        2435.75   \n",
       "2     Other pneumonia                           2.0        3754.95   \n",
       "3     Other pneumonia                           1.0        2096.05   \n",
       "4     Other pneumonia                           3.0        1583.25   \n",
       "\n",
       "   Total Costs      yr      ...        \\\n",
       "0      5037.17  2013.0      ...         \n",
       "1      2271.92  2013.0      ...         \n",
       "2      3579.69  2013.0      ...         \n",
       "3      2195.02  2013.0      ...         \n",
       "4      1772.56  2013.0      ...         \n",
       "\n",
       "   Hospital Ownership_Voluntary non-profit - Church  \\\n",
       "0                                                 0   \n",
       "1                                                 0   \n",
       "2                                                 0   \n",
       "3                                                 0   \n",
       "4                                                 0   \n",
       "\n",
       "   Hospital Ownership_Voluntary non-profit - Other  \\\n",
       "0                                                0   \n",
       "1                                                0   \n",
       "2                                                0   \n",
       "3                                                0   \n",
       "4                                                0   \n",
       "\n",
       "   Hospital Ownership_Voluntary non-profit - Private  rural_versus_urban_R  \\\n",
       "0                                                  1                     1   \n",
       "1                                                  1                     1   \n",
       "2                                                  1                     1   \n",
       "3                                                  1                     1   \n",
       "4                                                  1                     1   \n",
       "\n",
       "   rural_versus_urban_U  ratioInsuredTotalPopulation  \\\n",
       "0                     0                     0.989499   \n",
       "1                     0                     0.989499   \n",
       "2                     0                     0.989499   \n",
       "3                     0                     0.989499   \n",
       "4                     0                     0.989499   \n",
       "\n",
       "   ratioFertilityTotalPopulation  ratioChargesCosts  days  chargesPerDay  \n",
       "0                       0.218558           1.115954   8.0     702.656250  \n",
       "1                       0.218558           1.072111   3.0     811.916667  \n",
       "2                       0.218558           1.048960   4.0     938.737500  \n",
       "3                       0.218558           0.954912   2.0    1048.025000  \n",
       "4                       0.218558           0.893200   1.0    1583.250000  \n",
       "\n",
       "[5 rows x 64 columns]"
      ]
     },
     "execution_count": 22,
     "metadata": {},
     "output_type": "execute_result"
    }
   ],
   "source": [
    "aprHospFeat.head()"
   ]
  },
  {
   "cell_type": "markdown",
   "metadata": {},
   "source": [
    "##### 5. average number of days per year per facility id per drg"
   ]
  },
  {
   "cell_type": "code",
   "execution_count": 28,
   "metadata": {},
   "outputs": [
    {
     "ename": "ValueError",
     "evalue": "No axis named Facility Id for object type <class 'pandas.core.frame.DataFrame'>",
     "output_type": "error",
     "traceback": [
      "\u001b[0;31m---------------------------------------------------------------------------\u001b[0m",
      "\u001b[0;31mValueError\u001b[0m                                Traceback (most recent call last)",
      "\u001b[0;32m<ipython-input-28-e4618cc8fa50>\u001b[0m in \u001b[0;36m<module>\u001b[0;34m\u001b[0m\n\u001b[0;32m----> 1\u001b[0;31m aprHospFeat = aprHospFeat.merge(aprHospFeat.groupby('yr','Facility Id' ,'APR DRG Code').mean()['days'].reset_index().rename(index=str, columns={\"days\": \"meanDaysPerDrg\"}), \n\u001b[0m\u001b[1;32m      2\u001b[0m                   left_on=['yr','Facility Id' ,'APR DRG Code'], right_on=['yr','Facility Id' ,'APR DRG Code'])\n",
      "\u001b[0;32m~/.conda/envs/mgPUI/lib/python3.7/site-packages/pandas/core/generic.py\u001b[0m in \u001b[0;36mgroupby\u001b[0;34m(self, by, axis, level, as_index, sort, group_keys, squeeze, observed, **kwargs)\u001b[0m\n\u001b[1;32m   6660\u001b[0m         \u001b[0;32mif\u001b[0m \u001b[0mlevel\u001b[0m \u001b[0;32mis\u001b[0m \u001b[0;32mNone\u001b[0m \u001b[0;32mand\u001b[0m \u001b[0mby\u001b[0m \u001b[0;32mis\u001b[0m \u001b[0;32mNone\u001b[0m\u001b[0;34m:\u001b[0m\u001b[0;34m\u001b[0m\u001b[0;34m\u001b[0m\u001b[0m\n\u001b[1;32m   6661\u001b[0m             \u001b[0;32mraise\u001b[0m \u001b[0mTypeError\u001b[0m\u001b[0;34m(\u001b[0m\u001b[0;34m\"You have to supply one of 'by' and 'level'\"\u001b[0m\u001b[0;34m)\u001b[0m\u001b[0;34m\u001b[0m\u001b[0;34m\u001b[0m\u001b[0m\n\u001b[0;32m-> 6662\u001b[0;31m         \u001b[0maxis\u001b[0m \u001b[0;34m=\u001b[0m \u001b[0mself\u001b[0m\u001b[0;34m.\u001b[0m\u001b[0m_get_axis_number\u001b[0m\u001b[0;34m(\u001b[0m\u001b[0maxis\u001b[0m\u001b[0;34m)\u001b[0m\u001b[0;34m\u001b[0m\u001b[0;34m\u001b[0m\u001b[0m\n\u001b[0m\u001b[1;32m   6663\u001b[0m         return groupby(self, by=by, axis=axis, level=level, as_index=as_index,\n\u001b[1;32m   6664\u001b[0m                        \u001b[0msort\u001b[0m\u001b[0;34m=\u001b[0m\u001b[0msort\u001b[0m\u001b[0;34m,\u001b[0m \u001b[0mgroup_keys\u001b[0m\u001b[0;34m=\u001b[0m\u001b[0mgroup_keys\u001b[0m\u001b[0;34m,\u001b[0m \u001b[0msqueeze\u001b[0m\u001b[0;34m=\u001b[0m\u001b[0msqueeze\u001b[0m\u001b[0;34m,\u001b[0m\u001b[0;34m\u001b[0m\u001b[0;34m\u001b[0m\u001b[0m\n",
      "\u001b[0;32m~/.conda/envs/mgPUI/lib/python3.7/site-packages/pandas/core/generic.py\u001b[0m in \u001b[0;36m_get_axis_number\u001b[0;34m(self, axis)\u001b[0m\n\u001b[1;32m    373\u001b[0m                 \u001b[0;32mpass\u001b[0m\u001b[0;34m\u001b[0m\u001b[0;34m\u001b[0m\u001b[0m\n\u001b[1;32m    374\u001b[0m         raise ValueError('No axis named {0} for object type {1}'\n\u001b[0;32m--> 375\u001b[0;31m                          .format(axis, type(self)))\n\u001b[0m\u001b[1;32m    376\u001b[0m \u001b[0;34m\u001b[0m\u001b[0m\n\u001b[1;32m    377\u001b[0m     \u001b[0;32mdef\u001b[0m \u001b[0m_get_axis_name\u001b[0m\u001b[0;34m(\u001b[0m\u001b[0mself\u001b[0m\u001b[0;34m,\u001b[0m \u001b[0maxis\u001b[0m\u001b[0;34m)\u001b[0m\u001b[0;34m:\u001b[0m\u001b[0;34m\u001b[0m\u001b[0;34m\u001b[0m\u001b[0m\n",
      "\u001b[0;31mValueError\u001b[0m: No axis named Facility Id for object type <class 'pandas.core.frame.DataFrame'>"
     ]
    }
   ],
   "source": [
    "aprHospFeat.merge(, \n",
    "                  left_on=['yr','Facility Id' ,'APR DRG Code'], right_on=['yr','Facility Id' ,'APR DRG Code'])"
   ]
  },
  {
   "cell_type": "code",
   "execution_count": 33,
   "metadata": {},
   "outputs": [
    {
     "ename": "ValueError",
     "evalue": "No axis named Provider ID for object type <class 'pandas.core.frame.DataFrame'>",
     "output_type": "error",
     "traceback": [
      "\u001b[0;31m---------------------------------------------------------------------------\u001b[0m",
      "\u001b[0;31mValueError\u001b[0m                                Traceback (most recent call last)",
      "\u001b[0;32m<ipython-input-33-490db370f324>\u001b[0m in \u001b[0;36m<module>\u001b[0;34m\u001b[0m\n\u001b[0;32m----> 1\u001b[0;31m \u001b[0maprHospFeat\u001b[0m\u001b[0;34m.\u001b[0m\u001b[0mgroupby\u001b[0m\u001b[0;34m(\u001b[0m\u001b[0;34m'yr'\u001b[0m\u001b[0;34m,\u001b[0m\u001b[0;34m'Provider ID'\u001b[0m\u001b[0;34m,\u001b[0m\u001b[0;34m'APR DRG Code'\u001b[0m\u001b[0;34m)\u001b[0m\u001b[0;34m.\u001b[0m\u001b[0mmean\u001b[0m\u001b[0;34m(\u001b[0m\u001b[0;34m)\u001b[0m\u001b[0;34m[\u001b[0m\u001b[0;34m'days'\u001b[0m\u001b[0;34m]\u001b[0m\u001b[0;34m\u001b[0m\u001b[0;34m\u001b[0m\u001b[0m\n\u001b[0m",
      "\u001b[0;32m~/.conda/envs/mgPUI/lib/python3.7/site-packages/pandas/core/generic.py\u001b[0m in \u001b[0;36mgroupby\u001b[0;34m(self, by, axis, level, as_index, sort, group_keys, squeeze, observed, **kwargs)\u001b[0m\n\u001b[1;32m   6660\u001b[0m         \u001b[0;32mif\u001b[0m \u001b[0mlevel\u001b[0m \u001b[0;32mis\u001b[0m \u001b[0;32mNone\u001b[0m \u001b[0;32mand\u001b[0m \u001b[0mby\u001b[0m \u001b[0;32mis\u001b[0m \u001b[0;32mNone\u001b[0m\u001b[0;34m:\u001b[0m\u001b[0;34m\u001b[0m\u001b[0;34m\u001b[0m\u001b[0m\n\u001b[1;32m   6661\u001b[0m             \u001b[0;32mraise\u001b[0m \u001b[0mTypeError\u001b[0m\u001b[0;34m(\u001b[0m\u001b[0;34m\"You have to supply one of 'by' and 'level'\"\u001b[0m\u001b[0;34m)\u001b[0m\u001b[0;34m\u001b[0m\u001b[0;34m\u001b[0m\u001b[0m\n\u001b[0;32m-> 6662\u001b[0;31m         \u001b[0maxis\u001b[0m \u001b[0;34m=\u001b[0m \u001b[0mself\u001b[0m\u001b[0;34m.\u001b[0m\u001b[0m_get_axis_number\u001b[0m\u001b[0;34m(\u001b[0m\u001b[0maxis\u001b[0m\u001b[0;34m)\u001b[0m\u001b[0;34m\u001b[0m\u001b[0;34m\u001b[0m\u001b[0m\n\u001b[0m\u001b[1;32m   6663\u001b[0m         return groupby(self, by=by, axis=axis, level=level, as_index=as_index,\n\u001b[1;32m   6664\u001b[0m                        \u001b[0msort\u001b[0m\u001b[0;34m=\u001b[0m\u001b[0msort\u001b[0m\u001b[0;34m,\u001b[0m \u001b[0mgroup_keys\u001b[0m\u001b[0;34m=\u001b[0m\u001b[0mgroup_keys\u001b[0m\u001b[0;34m,\u001b[0m \u001b[0msqueeze\u001b[0m\u001b[0;34m=\u001b[0m\u001b[0msqueeze\u001b[0m\u001b[0;34m,\u001b[0m\u001b[0;34m\u001b[0m\u001b[0;34m\u001b[0m\u001b[0m\n",
      "\u001b[0;32m~/.conda/envs/mgPUI/lib/python3.7/site-packages/pandas/core/generic.py\u001b[0m in \u001b[0;36m_get_axis_number\u001b[0;34m(self, axis)\u001b[0m\n\u001b[1;32m    373\u001b[0m                 \u001b[0;32mpass\u001b[0m\u001b[0;34m\u001b[0m\u001b[0;34m\u001b[0m\u001b[0m\n\u001b[1;32m    374\u001b[0m         raise ValueError('No axis named {0} for object type {1}'\n\u001b[0;32m--> 375\u001b[0;31m                          .format(axis, type(self)))\n\u001b[0m\u001b[1;32m    376\u001b[0m \u001b[0;34m\u001b[0m\u001b[0m\n\u001b[1;32m    377\u001b[0m     \u001b[0;32mdef\u001b[0m \u001b[0m_get_axis_name\u001b[0m\u001b[0;34m(\u001b[0m\u001b[0mself\u001b[0m\u001b[0;34m,\u001b[0m \u001b[0maxis\u001b[0m\u001b[0;34m)\u001b[0m\u001b[0;34m:\u001b[0m\u001b[0;34m\u001b[0m\u001b[0;34m\u001b[0m\u001b[0m\n",
      "\u001b[0;31mValueError\u001b[0m: No axis named Provider ID for object type <class 'pandas.core.frame.DataFrame'>"
     ]
    }
   ],
   "source": [
    "aprHospFeat.groupby('yr','Provider ID','APR DRG Code').mean()['days']"
   ]
  },
  {
   "cell_type": "markdown",
   "metadata": {},
   "source": [
    "##### 6. Number of Payments Used"
   ]
  },
  {
   "cell_type": "code",
   "execution_count": 26,
   "metadata": {},
   "outputs": [],
   "source": [
    "aprHospFeat['numberPaymentTypes'] = aprHospFeat.filter(like = 'payment').sum(axis=1)"
   ]
  },
  {
   "cell_type": "markdown",
   "metadata": {},
   "source": [
    "##### 7. Number of discharges per year per facility id by APR DRG that is in Urgent, Emergency and Trauma"
   ]
  },
  {
   "cell_type": "code",
   "execution_count": null,
   "metadata": {},
   "outputs": [],
   "source": [
    "aprHospFeat[(aprHospFeat['Type of Admission_Emergency'] == 1) |\n",
    "           (aprHospFeat['Type of Admission_Trauma'] == 1) |\n",
    "           (aprHospFeat['Type of Admission_Urgent'] == 1)].groupby('yr', )"
   ]
  },
  {
   "cell_type": "code",
   "execution_count": null,
   "metadata": {},
   "outputs": [],
   "source": []
  },
  {
   "cell_type": "code",
   "execution_count": 25,
   "metadata": {},
   "outputs": [
    {
     "name": "stdout",
     "output_type": "stream",
     "text": [
      "<class 'pandas.core.frame.DataFrame'>\n",
      "Int64Index: 2551443 entries, 0 to 2551442\n",
      "Data columns (total 66 columns):\n",
      "Unnamed: 0                                                        int64\n",
      "Health Service Area                                               object\n",
      "Facility Id                                                       float64\n",
      "Length of Stay                                                    object\n",
      "APR DRG Code                                                      float64\n",
      "APR DRG Description                                               object\n",
      "APR Severity of Illness Code                                      float64\n",
      "Total Charges                                                     float64\n",
      "Total Costs                                                       float64\n",
      "yr                                                                float64\n",
      "Provider ID                                                       float64\n",
      "Hospital overall rating                                           float64\n",
      "Mortality national comparison                                     float64\n",
      "Safety of care national comparison                                float64\n",
      "Readmission national comparison                                   float64\n",
      "Patient experience national comparison                            float64\n",
      "Effectiveness of care national comparison                         float64\n",
      "Timeliness of care national comparison                            float64\n",
      "Efficient use of medical imaging national comparison              float64\n",
      "lat                                                               float64\n",
      "long                                                              float64\n",
      "lonlat                                                            object\n",
      "geometry                                                          object\n",
      "fte_employees_on_payroll                                          float64\n",
      "number_of_beds                                                    float64\n",
      "number_of_interns_and                                             float64\n",
      "puma                                                              float64\n",
      "totalPopulation                                                   float64\n",
      "totalInsured                                                      float64\n",
      "totalFertile                                                      float64\n",
      "totalPerYrPerFacIdPerDrg                                          float64\n",
      "totalPerYrPerFacId                                                float64\n",
      "ratioDrgToFacility                                                float64\n",
      "payment_Medicare                                                  float64\n",
      "payment_Blue Cross/Blue Shield                                    float64\n",
      "payment_Private Health Insurance                                  float64\n",
      "payment_Self-Pay                                                  float64\n",
      "payment_Medicaid                                                  float64\n",
      "payment_Federal/State/Local/VA                                    float64\n",
      "payment_Miscellaneous/Other                                       float64\n",
      "payment_Department of Corrections                                 float64\n",
      "payment_Managed Care, Unspecified                                 float64\n",
      "payment_Unknown                                                   float64\n",
      "Type of Admission_Elective                                        uint8\n",
      "Type of Admission_Emergency                                       uint8\n",
      "Type of Admission_Newborn                                         uint8\n",
      "Type of Admission_Not Available                                   uint8\n",
      "Type of Admission_Trauma                                          uint8\n",
      "Type of Admission_Urgent                                          uint8\n",
      "emergencyRoom                                                     float64\n",
      "Hospital Ownership_Government - Federal                           uint8\n",
      "Hospital Ownership_Government - Hospital District or Authority    uint8\n",
      "Hospital Ownership_Government - Local                             uint8\n",
      "Hospital Ownership_Government - State                             uint8\n",
      "Hospital Ownership_Proprietary                                    uint8\n",
      "Hospital Ownership_Voluntary non-profit - Church                  uint8\n",
      "Hospital Ownership_Voluntary non-profit - Other                   uint8\n",
      "Hospital Ownership_Voluntary non-profit - Private                 uint8\n",
      "rural_versus_urban_R                                              uint8\n",
      "rural_versus_urban_U                                              uint8\n",
      "ratioInsuredTotalPopulation                                       float64\n",
      "ratioFertilityTotalPopulation                                     float64\n",
      "ratioChargesCosts                                                 float64\n",
      "days                                                              float64\n",
      "chargesPerDay                                                     float64\n",
      "meanDaysPerDrg                                                    float64\n",
      "dtypes: float64(44), int64(1), object(5), uint8(16)\n",
      "memory usage: 1.0+ GB\n"
     ]
    }
   ],
   "source": [
    "aprHospFeat.info()"
   ]
  },
  {
   "cell_type": "code",
   "execution_count": null,
   "metadata": {},
   "outputs": [],
   "source": []
  },
  {
   "cell_type": "code",
   "execution_count": null,
   "metadata": {},
   "outputs": [],
   "source": []
  },
  {
   "cell_type": "code",
   "execution_count": null,
   "metadata": {},
   "outputs": [],
   "source": []
  },
  {
   "cell_type": "code",
   "execution_count": null,
   "metadata": {},
   "outputs": [],
   "source": []
  },
  {
   "cell_type": "code",
   "execution_count": null,
   "metadata": {},
   "outputs": [],
   "source": []
  }
 ],
 "metadata": {
  "kernelspec": {
   "display_name": "mgPUI",
   "language": "python",
   "name": "mgpui"
  },
  "language_info": {
   "codemirror_mode": {
    "name": "ipython",
    "version": 3
   },
   "file_extension": ".py",
   "mimetype": "text/x-python",
   "name": "python",
   "nbconvert_exporter": "python",
   "pygments_lexer": "ipython3",
   "version": "3.7.2"
  }
 },
 "nbformat": 4,
 "nbformat_minor": 2
}
