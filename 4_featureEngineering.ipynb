{
 "cells": [
  {
   "cell_type": "markdown",
   "metadata": {},
   "source": [
    "##### 4_featureEngineering"
   ]
  },
  {
   "cell_type": "code",
   "execution_count": 1,
   "metadata": {},
   "outputs": [],
   "source": [
    "import os\n",
    "import pandas as pd\n",
    "import numpy as np"
   ]
  },
  {
   "cell_type": "code",
   "execution_count": 5,
   "metadata": {},
   "outputs": [],
   "source": [
    "aprHospFeat = pd.read_csv('dataFiles/compiledDischargesHospitalFeaturesCensus.csv', low_memory=False)"
   ]
  },
  {
   "cell_type": "code",
   "execution_count": 7,
   "metadata": {},
   "outputs": [
    {
     "name": "stdout",
     "output_type": "stream",
     "text": [
      "<class 'pandas.core.frame.DataFrame'>\n",
      "RangeIndex: 3584714 entries, 0 to 3584713\n",
      "Data columns (total 41 columns):\n",
      "Unnamed: 0                                              int64\n",
      "Health Service Area                                     object\n",
      "Facility Id                                             float64\n",
      "Length of Stay                                          object\n",
      "Type of Admission                                       object\n",
      "APR DRG Code                                            float64\n",
      "APR DRG Description                                     object\n",
      "APR Severity of Illness Code                            float64\n",
      "Payment Typology 1                                      object\n",
      "Payment Typology 2                                      object\n",
      "Payment Typology 3                                      object\n",
      "Emergency Department Indicator                          object\n",
      "Total Charges                                           float64\n",
      "Total Costs                                             float64\n",
      "yr                                                      float64\n",
      "Provider ID                                             float64\n",
      "fac_id_x                                                float64\n",
      "Hospital Ownership                                      object\n",
      "Hospital overall rating                                 float64\n",
      "Mortality national comparison                           float64\n",
      "Safety of care national comparison                      float64\n",
      "Readmission national comparison                         float64\n",
      "Patient experience national comparison                  float64\n",
      "Effectiveness of care national comparison               float64\n",
      "Timeliness of care national comparison                  float64\n",
      "Efficient use of medical imaging national comparison    float64\n",
      "lat                                                     float64\n",
      "long                                                    float64\n",
      "lonlat                                                  object\n",
      "geometry                                                object\n",
      "fte_employees_on_payroll                                float64\n",
      "number_of_beds                                          float64\n",
      "number_of_interns_and                                   float64\n",
      "provider_ccn                                            float64\n",
      "rural_versus_urban                                      object\n",
      "fac_id_y                                                float64\n",
      "puma                                                    float64\n",
      "public use microdata area                               float64\n",
      "totalPopulation                                         float64\n",
      "totalInsured                                            float64\n",
      "totalFertile                                            float64\n",
      "dtypes: float64(28), int64(1), object(12)\n",
      "memory usage: 1.1+ GB\n"
     ]
    }
   ],
   "source": [
    "aprHospFeat.info()"
   ]
  },
  {
   "cell_type": "markdown",
   "metadata": {},
   "source": [
    "##### Recoding the categorical vars into OneHot"
   ]
  },
  {
   "cell_type": "markdown",
   "metadata": {},
   "source": [
    "##### Payment Types 1,2,3"
   ]
  },
  {
   "cell_type": "code",
   "execution_count": 132,
   "metadata": {},
   "outputs": [
    {
     "data": {
      "text/plain": [
       "array(['Medicare', 'Medicaid', 'Blue Cross/Blue Shield',\n",
       "       'Private Health Insurance', 'Self-Pay', 'Federal/State/Local/VA',\n",
       "       'Miscellaneous/Other', 'Department of Corrections',\n",
       "       'Managed Care, Unspecified', 'Unknown'], dtype=object)"
      ]
     },
     "execution_count": 132,
     "metadata": {},
     "output_type": "execute_result"
    }
   ],
   "source": [
    "aprHospFeat['Payment Typology 1'].unique()[:-1]"
   ]
  },
  {
   "cell_type": "code",
   "execution_count": 133,
   "metadata": {},
   "outputs": [],
   "source": [
    "for i in range(len(aprHospFeat['Payment Typology 1'].unique())-1):\n",
    "    aprHospFeat.loc[(aprHospFeat['Payment Typology 1'] == aprHospFeat['Payment Typology 1'].unique()[i]) | \n",
    "                (aprHospFeat['Payment Typology 2'] == aprHospFeat['Payment Typology 1'].unique()[i]) |\n",
    "                (aprHospFeat['Payment Typology 3'] == aprHospFeat['Payment Typology 1'].unique()[i]), \n",
    "                    aprHospFeat['Payment Typology 1'].unique()[i]] = 1"
   ]
  },
  {
   "cell_type": "code",
   "execution_count": 134,
   "metadata": {},
   "outputs": [
    {
     "name": "stderr",
     "output_type": "stream",
     "text": [
      "/nfshome/yg833/.conda/envs/mgPUI/lib/python3.7/site-packages/pandas/core/frame.py:3790: SettingWithCopyWarning: \n",
      "A value is trying to be set on a copy of a slice from a DataFrame\n",
      "\n",
      "See the caveats in the documentation: http://pandas.pydata.org/pandas-docs/stable/indexing.html#indexing-view-versus-copy\n",
      "  downcast=downcast, **kwargs)\n"
     ]
    }
   ],
   "source": [
    "aprHospFeat[aprHospFeat['Payment Typology 1'].unique()[:-1]].fillna(0, inplace=True)"
   ]
  },
  {
   "cell_type": "markdown",
   "metadata": {},
   "source": [
    "##### Type of Admission"
   ]
  },
  {
   "cell_type": "code",
   "execution_count": 135,
   "metadata": {},
   "outputs": [
    {
     "data": {
      "text/plain": [
       "array(['Urgent', 'Elective', 'Emergency', 'Newborn', 'Not Available',\n",
       "       'Trauma', nan], dtype=object)"
      ]
     },
     "execution_count": 135,
     "metadata": {},
     "output_type": "execute_result"
    }
   ],
   "source": [
    "aprHospFeat['Type of Admission'].unique()"
   ]
  },
  {
   "cell_type": "code",
   "execution_count": 136,
   "metadata": {},
   "outputs": [],
   "source": [
    "aprHospFeat = pd.get_dummies(aprHospFeat, columns=['Type of Admission'])"
   ]
  },
  {
   "cell_type": "markdown",
   "metadata": {},
   "source": [
    "##### Emergency Department Indicator"
   ]
  },
  {
   "cell_type": "code",
   "execution_count": 137,
   "metadata": {},
   "outputs": [
    {
     "data": {
      "text/plain": [
       "array(['Y', 'N', nan], dtype=object)"
      ]
     },
     "execution_count": 137,
     "metadata": {},
     "output_type": "execute_result"
    }
   ],
   "source": [
    "aprHospFeat['Emergency Department Indicator'].unique()"
   ]
  },
  {
   "cell_type": "code",
   "execution_count": 138,
   "metadata": {},
   "outputs": [],
   "source": [
    "aprHospFeat.loc[aprHospFeat['Emergency Department Indicator'] == 'Y', 'emergencyRoom' ]= 1"
   ]
  },
  {
   "cell_type": "code",
   "execution_count": 139,
   "metadata": {},
   "outputs": [],
   "source": [
    "aprHospFeat['emergencyRoom'].fillna(0, inplace=True)"
   ]
  },
  {
   "cell_type": "markdown",
   "metadata": {},
   "source": [
    "##### Hospital Ownership"
   ]
  },
  {
   "cell_type": "code",
   "execution_count": 141,
   "metadata": {},
   "outputs": [],
   "source": [
    "aprHospFeat = pd.get_dummies(aprHospFeat, columns=['Hospital Ownership'])"
   ]
  },
  {
   "cell_type": "code",
   "execution_count": 142,
   "metadata": {},
   "outputs": [
    {
     "name": "stdout",
     "output_type": "stream",
     "text": [
      "<class 'pandas.core.frame.DataFrame'>\n",
      "Int64Index: 5077005 entries, 0 to 5077004\n",
      "Data columns (total 63 columns):\n",
      "Health Service Area                                               object\n",
      "Facility Id                                                       float64\n",
      "Length of Stay                                                    object\n",
      "APR DRG Code                                                      float64\n",
      "APR DRG Description                                               object\n",
      "APR Severity of Illness Code                                      float64\n",
      "Payment Typology 1                                                object\n",
      "Payment Typology 2                                                object\n",
      "Payment Typology 3                                                object\n",
      "Emergency Department Indicator                                    object\n",
      "Total Charges                                                     float64\n",
      "Total Costs                                                       float64\n",
      "yr                                                                object\n",
      "Provider ID                                                       float64\n",
      "fac_id_x                                                          float64\n",
      "Hospital overall rating                                           float64\n",
      "Mortality national comparison                                     float64\n",
      "Safety of care national comparison                                float64\n",
      "Readmission national comparison                                   float64\n",
      "Patient experience national comparison                            float64\n",
      "Effectiveness of care national comparison                         float64\n",
      "Timeliness of care national comparison                            float64\n",
      "Efficient use of medical imaging national comparison              float64\n",
      "lat                                                               object\n",
      "long                                                              object\n",
      "lonlat                                                            object\n",
      "geometry                                                          object\n",
      "fte_employees_on_payroll                                          float64\n",
      "number_of_beds                                                    float64\n",
      "number_of_interns_and                                             float64\n",
      "provider_ccn                                                      float64\n",
      "rural_versus_urban                                                object\n",
      "fac_id_y                                                          float64\n",
      "puma                                                              float64\n",
      "public use microdata area                                         float64\n",
      "totalPopulation                                                   float64\n",
      "totalInsured                                                      float64\n",
      "totalFertile                                                      float64\n",
      "Medicare                                                          float64\n",
      "Medicaid                                                          float64\n",
      "Blue Cross/Blue Shield                                            float64\n",
      "Private Health Insurance                                          float64\n",
      "Self-Pay                                                          float64\n",
      "Federal/State/Local/VA                                            float64\n",
      "Miscellaneous/Other                                               float64\n",
      "Department of Corrections                                         float64\n",
      "Managed Care, Unspecified                                         float64\n",
      "Unknown                                                           float64\n",
      "Type of Admission_Elective                                        uint8\n",
      "Type of Admission_Emergency                                       uint8\n",
      "Type of Admission_Newborn                                         uint8\n",
      "Type of Admission_Not Available                                   uint8\n",
      "Type of Admission_Trauma                                          uint8\n",
      "Type of Admission_Urgent                                          uint8\n",
      "emergencyRoom                                                     float64\n",
      "Hospital Ownership_Government - Federal                           uint8\n",
      "Hospital Ownership_Government - Hospital District or Authority    uint8\n",
      "Hospital Ownership_Government - Local                             uint8\n",
      "Hospital Ownership_Government - State                             uint8\n",
      "Hospital Ownership_Proprietary                                    uint8\n",
      "Hospital Ownership_Voluntary non-profit - Church                  uint8\n",
      "Hospital Ownership_Voluntary non-profit - Other                   uint8\n",
      "Hospital Ownership_Voluntary non-profit - Private                 uint8\n",
      "dtypes: float64(36), object(13), uint8(14)\n",
      "memory usage: 2.0+ GB\n"
     ]
    }
   ],
   "source": [
    "aprHospFeat.info()"
   ]
  },
  {
   "cell_type": "code",
   "execution_count": null,
   "metadata": {},
   "outputs": [],
   "source": []
  },
  {
   "cell_type": "code",
   "execution_count": null,
   "metadata": {},
   "outputs": [],
   "source": []
  },
  {
   "cell_type": "code",
   "execution_count": null,
   "metadata": {},
   "outputs": [],
   "source": []
  },
  {
   "cell_type": "code",
   "execution_count": 124,
   "metadata": {},
   "outputs": [],
   "source": [
    "aprHospFeat.drop(['Payment Typology 1', 'Payment Typology 2', 'Payment Typology 3'], \n",
    "                axis=1, inplace=True)"
   ]
  },
  {
   "cell_type": "code",
   "execution_count": null,
   "metadata": {},
   "outputs": [],
   "source": []
  },
  {
   "cell_type": "code",
   "execution_count": null,
   "metadata": {},
   "outputs": [],
   "source": []
  },
  {
   "cell_type": "code",
   "execution_count": null,
   "metadata": {},
   "outputs": [],
   "source": []
  },
  {
   "cell_type": "code",
   "execution_count": null,
   "metadata": {},
   "outputs": [],
   "source": []
  }
 ],
 "metadata": {
  "kernelspec": {
   "display_name": "mgPUI",
   "language": "python",
   "name": "mgpui"
  },
  "language_info": {
   "codemirror_mode": {
    "name": "ipython",
    "version": 3
   },
   "file_extension": ".py",
   "mimetype": "text/x-python",
   "name": "python",
   "nbconvert_exporter": "python",
   "pygments_lexer": "ipython3",
   "version": "3.7.2"
  }
 },
 "nbformat": 4,
 "nbformat_minor": 2
}
