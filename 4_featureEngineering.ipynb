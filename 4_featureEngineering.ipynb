{
 "cells": [
  {
   "cell_type": "markdown",
   "metadata": {},
   "source": [
    "##### 4_featureEngineering\n",
    "\n",
    "This notebook takes the csv that was compiled from the notebook 3_compileDischargesHospitalCensusData and does further processing on it such as: \n",
    "- Dealing with Categorical Variables\n",
    "\n",
    "- Feature Engineering"
   ]
  },
  {
   "cell_type": "code",
   "execution_count": 1,
   "metadata": {},
   "outputs": [],
   "source": [
    "import os\n",
    "import pandas as pd\n",
    "import numpy as np"
   ]
  },
  {
   "cell_type": "code",
   "execution_count": 2,
   "metadata": {},
   "outputs": [],
   "source": [
    "aprHospFeat = pd.read_csv('dataFiles/compiledDischargesHospitalFeaturesCensus.csv', low_memory=False)"
   ]
  },
  {
   "cell_type": "code",
   "execution_count": 3,
   "metadata": {},
   "outputs": [
    {
     "data": {
      "text/plain": [
       "<bound method IndexOpsMixin.tolist of Index(['Unnamed: 0', 'Health Service Area', 'Facility Id', 'Length of Stay',\n",
       "       'Type of Admission', 'APR DRG Code', 'APR DRG Description',\n",
       "       'APR Severity of Illness Code', 'Payment Typology 1',\n",
       "       'Payment Typology 2', 'Payment Typology 3',\n",
       "       'Emergency Department Indicator', 'Total Charges', 'Total Costs', 'yr',\n",
       "       'Provider ID', 'Hospital Ownership', 'Hospital overall rating',\n",
       "       'Mortality national comparison', 'Safety of care national comparison',\n",
       "       'Readmission national comparison',\n",
       "       'Patient experience national comparison',\n",
       "       'Effectiveness of care national comparison',\n",
       "       'Timeliness of care national comparison',\n",
       "       'Efficient use of medical imaging national comparison', 'lat', 'long',\n",
       "       'lonlat', 'geometry', 'fte_employees_on_payroll', 'number_of_beds',\n",
       "       'number_of_interns_and', 'rural_versus_urban', 'puma',\n",
       "       'totalPopulation', 'totalInsured', 'totalFertile'],\n",
       "      dtype='object')>"
      ]
     },
     "execution_count": 3,
     "metadata": {},
     "output_type": "execute_result"
    }
   ],
   "source": [
    "aprHospFeat.columns.tolist"
   ]
  },
  {
   "cell_type": "markdown",
   "metadata": {},
   "source": [
    "#### Recoding the categorical vars into OneHot"
   ]
  },
  {
   "cell_type": "markdown",
   "metadata": {},
   "source": [
    "##### Payment Types 1,2,3"
   ]
  },
  {
   "cell_type": "code",
   "execution_count": 4,
   "metadata": {},
   "outputs": [
    {
     "data": {
      "text/plain": [
       "array(['Medicare', 'Blue Cross/Blue Shield', 'Private Health Insurance',\n",
       "       'Self-Pay', 'Medicaid', 'Federal/State/Local/VA',\n",
       "       'Miscellaneous/Other', 'Department of Corrections',\n",
       "       'Managed Care, Unspecified', 'Unknown'], dtype=object)"
      ]
     },
     "execution_count": 4,
     "metadata": {},
     "output_type": "execute_result"
    }
   ],
   "source": [
    "aprHospFeat['Payment Typology 1'].unique()[:-1]"
   ]
  },
  {
   "cell_type": "code",
   "execution_count": 5,
   "metadata": {},
   "outputs": [],
   "source": [
    "for i in range(len(aprHospFeat['Payment Typology 1'].unique())-1):\n",
    "    aprHospFeat.loc[(aprHospFeat['Payment Typology 1'] == aprHospFeat['Payment Typology 1'].unique()[i]) | \n",
    "                (aprHospFeat['Payment Typology 2'] == aprHospFeat['Payment Typology 1'].unique()[i]) |\n",
    "                (aprHospFeat['Payment Typology 3'] == aprHospFeat['Payment Typology 1'].unique()[i]), \n",
    "                    'payment_'+aprHospFeat['Payment Typology 1'].unique()[i]] = 1"
   ]
  },
  {
   "cell_type": "code",
   "execution_count": 6,
   "metadata": {},
   "outputs": [
    {
     "name": "stderr",
     "output_type": "stream",
     "text": [
      "/nfshome/yg833/.conda/envs/mgPUI/lib/python3.7/site-packages/pandas/core/frame.py:3790: SettingWithCopyWarning: \n",
      "A value is trying to be set on a copy of a slice from a DataFrame\n",
      "\n",
      "See the caveats in the documentation: http://pandas.pydata.org/pandas-docs/stable/indexing.html#indexing-view-versus-copy\n",
      "  downcast=downcast, **kwargs)\n"
     ]
    }
   ],
   "source": [
    " aprHospFeat.filter(like = 'payment').fillna(0, inplace=True)"
   ]
  },
  {
   "cell_type": "markdown",
   "metadata": {},
   "source": [
    "##### Type of Admission"
   ]
  },
  {
   "cell_type": "code",
   "execution_count": 7,
   "metadata": {},
   "outputs": [
    {
     "data": {
      "text/plain": [
       "array(['Urgent', 'Elective', 'Emergency', 'Newborn', 'Not Available',\n",
       "       'Trauma', nan], dtype=object)"
      ]
     },
     "execution_count": 7,
     "metadata": {},
     "output_type": "execute_result"
    }
   ],
   "source": [
    "aprHospFeat['Type of Admission'].unique()"
   ]
  },
  {
   "cell_type": "code",
   "execution_count": 8,
   "metadata": {},
   "outputs": [],
   "source": [
    "aprHospFeat = pd.get_dummies(aprHospFeat, columns=['Type of Admission'])"
   ]
  },
  {
   "cell_type": "markdown",
   "metadata": {},
   "source": [
    "##### Emergency Department Indicator"
   ]
  },
  {
   "cell_type": "code",
   "execution_count": 9,
   "metadata": {},
   "outputs": [
    {
     "data": {
      "text/plain": [
       "array(['Y', 'N', nan], dtype=object)"
      ]
     },
     "execution_count": 9,
     "metadata": {},
     "output_type": "execute_result"
    }
   ],
   "source": [
    "aprHospFeat['Emergency Department Indicator'].unique()"
   ]
  },
  {
   "cell_type": "code",
   "execution_count": 10,
   "metadata": {},
   "outputs": [],
   "source": [
    "aprHospFeat.loc[aprHospFeat['Emergency Department Indicator'] == 'Y', 'emergencyRoom' ]= 1"
   ]
  },
  {
   "cell_type": "code",
   "execution_count": 11,
   "metadata": {},
   "outputs": [],
   "source": [
    "aprHospFeat['emergencyRoom'].fillna(0, inplace=True)"
   ]
  },
  {
   "cell_type": "markdown",
   "metadata": {},
   "source": [
    "##### Hospital Ownership"
   ]
  },
  {
   "cell_type": "code",
   "execution_count": 12,
   "metadata": {},
   "outputs": [],
   "source": [
    "aprHospFeat = pd.get_dummies(aprHospFeat, columns=['Hospital Ownership'])"
   ]
  },
  {
   "cell_type": "markdown",
   "metadata": {},
   "source": [
    "##### Rural vs Urban Setting"
   ]
  },
  {
   "cell_type": "code",
   "execution_count": 13,
   "metadata": {},
   "outputs": [],
   "source": [
    "aprHospFeat = pd.get_dummies(aprHospFeat, columns=['rural_versus_urban'])"
   ]
  },
  {
   "cell_type": "code",
   "execution_count": 14,
   "metadata": {},
   "outputs": [],
   "source": [
    "aprHospFeat.drop(['Payment Typology 1', 'Payment Typology 2', 'Payment Typology 3', \n",
    "                 'Emergency Department Indicator'], \n",
    "                axis=1, inplace=True)"
   ]
  },
  {
   "cell_type": "markdown",
   "metadata": {},
   "source": [
    "#### Feature Engineering & Creating New Variables"
   ]
  },
  {
   "cell_type": "markdown",
   "metadata": {},
   "source": [
    "##### 1. ratio # insured to # total population"
   ]
  },
  {
   "cell_type": "code",
   "execution_count": 15,
   "metadata": {},
   "outputs": [],
   "source": [
    "aprHospFeat['ratioInsuredTotalPopulation'] = aprHospFeat['totalInsured']/ aprHospFeat['totalPopulation']"
   ]
  },
  {
   "cell_type": "markdown",
   "metadata": {},
   "source": [
    "##### 2. ratio # fertile women to total population"
   ]
  },
  {
   "cell_type": "code",
   "execution_count": 16,
   "metadata": {},
   "outputs": [],
   "source": [
    "aprHospFeat['ratioFertilityTotalPopulation'] = aprHospFeat['totalFertile']/ aprHospFeat['totalPopulation']"
   ]
  },
  {
   "cell_type": "markdown",
   "metadata": {},
   "source": [
    "##### 3. ratio total charges to total costs"
   ]
  },
  {
   "cell_type": "code",
   "execution_count": 17,
   "metadata": {},
   "outputs": [],
   "source": [
    "aprHospFeat['ratioChargesCosts'] = aprHospFeat['Total Charges']/ aprHospFeat['Total Costs']"
   ]
  },
  {
   "cell_type": "markdown",
   "metadata": {},
   "source": [
    "##### 4. charges per day of stay"
   ]
  },
  {
   "cell_type": "code",
   "execution_count": 18,
   "metadata": {},
   "outputs": [],
   "source": [
    "aprHospFeat.loc[aprHospFeat['Length of Stay']== '120 +', 'days'] = 120"
   ]
  },
  {
   "cell_type": "code",
   "execution_count": 19,
   "metadata": {},
   "outputs": [],
   "source": [
    "aprHospFeat.loc[aprHospFeat['Length of Stay'] != '120 +', 'days'] = aprHospFeat['Length of Stay']"
   ]
  },
  {
   "cell_type": "code",
   "execution_count": 20,
   "metadata": {},
   "outputs": [],
   "source": [
    "aprHospFeat['chargesPerDay'] = aprHospFeat['Total Charges']/ pd.to_numeric(aprHospFeat['days'])"
   ]
  },
  {
   "cell_type": "markdown",
   "metadata": {},
   "source": [
    "##### 5. Number of Payments Used"
   ]
  },
  {
   "cell_type": "code",
   "execution_count": 24,
   "metadata": {},
   "outputs": [],
   "source": [
    "aprHospFeat['numberPaymentTypes'] = aprHospFeat.filter(like = 'payment').sum(axis=1)"
   ]
  },
  {
   "cell_type": "markdown",
   "metadata": {},
   "source": [
    "##### 6. "
   ]
  },
  {
   "cell_type": "code",
   "execution_count": null,
   "metadata": {},
   "outputs": [],
   "source": []
  },
  {
   "cell_type": "code",
   "execution_count": null,
   "metadata": {},
   "outputs": [],
   "source": []
  },
  {
   "cell_type": "code",
   "execution_count": 36,
   "metadata": {},
   "outputs": [
    {
     "name": "stdout",
     "output_type": "stream",
     "text": [
      "<class 'pandas.core.frame.DataFrame'>\n",
      "RangeIndex: 2551506 entries, 0 to 2551505\n",
      "Data columns (total 62 columns):\n",
      "Unnamed: 0                                                        int64\n",
      "Health Service Area                                               object\n",
      "Facility Id                                                       float64\n",
      "Length of Stay                                                    object\n",
      "APR DRG Code                                                      float64\n",
      "APR DRG Description                                               object\n",
      "APR Severity of Illness Code                                      float64\n",
      "Total Charges                                                     float64\n",
      "Total Costs                                                       float64\n",
      "yr                                                                float64\n",
      "Provider ID                                                       float64\n",
      "Hospital overall rating                                           float64\n",
      "Mortality national comparison                                     float64\n",
      "Safety of care national comparison                                float64\n",
      "Readmission national comparison                                   float64\n",
      "Patient experience national comparison                            float64\n",
      "Effectiveness of care national comparison                         float64\n",
      "Timeliness of care national comparison                            float64\n",
      "Efficient use of medical imaging national comparison              float64\n",
      "lat                                                               float64\n",
      "long                                                              float64\n",
      "lonlat                                                            object\n",
      "geometry                                                          object\n",
      "fte_employees_on_payroll                                          float64\n",
      "number_of_beds                                                    float64\n",
      "number_of_interns_and                                             float64\n",
      "puma                                                              float64\n",
      "totalPopulation                                                   float64\n",
      "totalInsured                                                      float64\n",
      "totalFertile                                                      float64\n",
      "payment_Medicare                                                  float64\n",
      "payment_Blue Cross/Blue Shield                                    float64\n",
      "payment_Private Health Insurance                                  float64\n",
      "payment_Self-Pay                                                  float64\n",
      "payment_Medicaid                                                  float64\n",
      "payment_Federal/State/Local/VA                                    float64\n",
      "payment_Miscellaneous/Other                                       float64\n",
      "payment_Department of Corrections                                 float64\n",
      "payment_Managed Care, Unspecified                                 float64\n",
      "payment_Unknown                                                   float64\n",
      "Type of Admission_Elective                                        uint8\n",
      "Type of Admission_Emergency                                       uint8\n",
      "Type of Admission_Newborn                                         uint8\n",
      "Type of Admission_Not Available                                   uint8\n",
      "Type of Admission_Trauma                                          uint8\n",
      "Type of Admission_Urgent                                          uint8\n",
      "emergencyRoom                                                     float64\n",
      "Hospital Ownership_Government - Federal                           uint8\n",
      "Hospital Ownership_Government - Hospital District or Authority    uint8\n",
      "Hospital Ownership_Government - Local                             uint8\n",
      "Hospital Ownership_Government - State                             uint8\n",
      "Hospital Ownership_Proprietary                                    uint8\n",
      "Hospital Ownership_Voluntary non-profit - Church                  uint8\n",
      "Hospital Ownership_Voluntary non-profit - Other                   uint8\n",
      "Hospital Ownership_Voluntary non-profit - Private                 uint8\n",
      "rural_versus_urban_R                                              uint8\n",
      "rural_versus_urban_U                                              uint8\n",
      "ratioInsuredTotalPopulation                                       float64\n",
      "ratioFertilityTotalPopulation                                     float64\n",
      "ratioChargesCosts                                                 float64\n",
      "temp_days                                                         object\n",
      "chargesPerDay                                                     float64\n",
      "dtypes: float64(39), int64(1), object(6), uint8(16)\n",
      "memory usage: 934.4+ MB\n"
     ]
    }
   ],
   "source": [
    "aprHospFeat.info()"
   ]
  },
  {
   "cell_type": "code",
   "execution_count": null,
   "metadata": {},
   "outputs": [],
   "source": []
  },
  {
   "cell_type": "code",
   "execution_count": null,
   "metadata": {},
   "outputs": [],
   "source": []
  },
  {
   "cell_type": "code",
   "execution_count": null,
   "metadata": {},
   "outputs": [],
   "source": []
  },
  {
   "cell_type": "code",
   "execution_count": null,
   "metadata": {},
   "outputs": [],
   "source": []
  },
  {
   "cell_type": "code",
   "execution_count": null,
   "metadata": {},
   "outputs": [],
   "source": []
  }
 ],
 "metadata": {
  "kernelspec": {
   "display_name": "mgPUI",
   "language": "python",
   "name": "mgpui"
  },
  "language_info": {
   "codemirror_mode": {
    "name": "ipython",
    "version": 3
   },
   "file_extension": ".py",
   "mimetype": "text/x-python",
   "name": "python",
   "nbconvert_exporter": "python",
   "pygments_lexer": "ipython3",
   "version": "3.7.2"
  }
 },
 "nbformat": 4,
 "nbformat_minor": 2
}
