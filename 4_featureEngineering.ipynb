{
 "cells": [
  {
   "cell_type": "markdown",
   "metadata": {},
   "source": [
    "##### 4_featureEngineering\n",
    "\n",
    "This notebook takes the csv that was compiled from the notebook 3_compileDischargesHospitalCensusData and does further processing on it such as: \n",
    "- Dealing with Categorical Variables\n",
    "\n",
    "- Feature Engineering\n",
    "\n",
    "The final features in this dataset are listed belowed organized by the category of data related to NYS hospitals and APR DRGs.\n",
    "\n",
    "**From NYS Health, SPARCS individual APR DRG level:**\n",
    "- 'yr' : year the individual discharge occured\n",
    "- 'Health Service Area' : one of the service areas in New York State\n",
    "- 'Facility Id' : NYS uid for hospitals\n",
    "- 'Length of Stay' : number of days stayed max is 120 from the data set\n",
    "- 'APR DRG Code' : All Patient Refined Diagnosis Related Groups (APR–DRG) that will be utilized for the payment of the Medicaid, Workers Compensation and No–Fault rates.\n",
    "- 'APR DRG Description' : Description of the code / procedure\n",
    "- 'APR Severity of Illness Code' : integer on scale of 0 to 4\n",
    "- 'Total Charges' : dollars the hospital charged\n",
    "- 'Total Costs' : dollars it costed the hospital to treat/ provide the procedure\n",
    "\n",
    "**From CMS / (Provider) Hospital Related:**\n",
    "- 'Provider ID' : CMS used uid for hospitals\n",
    "- 'Hospital overall rating' \n",
    "- 'Mortality national comparison' \n",
    "- 'Safety of care national comparison'\n",
    "- 'Readmission national comparison'\n",
    "- 'Patient experience national comparison'\n",
    "- 'Effectiveness of care national comparison'\n",
    "- 'Timeliness of care national comparison'\n",
    "- 'Efficient use of medical imaging national comparison'\n",
    "- 'fte_employees_on_payroll' : number of full time equivalent employees on payroll\n",
    "- 'number_of_beds': number of beds in the hospital\n",
    "- 'number_of_interns_and' : number of interns and residents training at the hospital\n",
    "\n",
    "**From Census API and PUMA:**\n",
    "- 'puma' : puma area number\n",
    "- 'totalPopulation' : total population estimate from census api\n",
    "- 'totalInsured': total insured population estimate from census api\n",
    "- 'totalFertile': total estimate females between age women 15 to 50 years\n",
    "- 'lat' : latitude\n",
    "- 'long' : longitude\n",
    "- 'lonlat' : point\n",
    "- 'geometry' : geometry\n",
    "\n",
    "**Added Features Engineered:**\n",
    "- 'countPerDrgPerFacIdPerYr': count of the DRG discharge at each facility each year\n",
    "- 'countPerFacIdPerYr': count of all the discharges at each facility each year\n",
    "- 'ratioDrgToFacility': ratio of the DRG discharge count to the all discharges count\n",
    "- 'sumChargesPerFacIdPerYr' : cummulative sum of the charges per facility per year (across all DRG)\n",
    "- 'days' : numeric conversion of the length of stay since 120+ is the max, then those became 120\n",
    "- 'ratioSumChargesPerFacPerYrToBedDays' : ratio of the sum charges to the number of possible beds days ( # of beds * 365 days per year)\n",
    "- 'payment_Medicare' \n",
    "- 'payment_Blue Cross/Blue Shield'\n",
    "- 'payment_Private Health Insurance'\n",
    "- 'payment_Self-Pay'\n",
    "- 'payment_Medicaid'\n",
    "- 'payment_Federal/State/Local/VA'\n",
    "- 'payment_Miscellaneous/Other'\n",
    "- 'payment_Department of Corrections'\n",
    "- 'payment_Managed Care, Unspecified'\n",
    "- 'numberOfPaymentTypes' : count of the number of payment types used\n",
    "- 'Type of Admission_Elective'\n",
    "- 'Type of Admission_Emergency'\n",
    "- 'Type of Admission_Newborn'\n",
    "- 'Type of Admission_Not Available'\n",
    "- 'Type of Admission_Trauma'\n",
    "- 'Type of Admission_Urgent'\n",
    "- 'numberUrgentAdmits' : count of the number of admissions from emergency, trauma, or urgent per DRG per facility per year\n",
    "- 'emergencyRoom'\n",
    "- 'Hospital Ownership_Government - Hospital District or Authority'\n",
    "- 'Hospital Ownership_Government - Local'\n",
    "- 'Hospital Ownership_Government - State'\n",
    "- 'Hospital Ownership_Proprietary'\n",
    "- 'Hospital Ownership_Voluntary non-profit - Church'\n",
    "- 'Hospital Ownership_Voluntary non-profit - Other'\n",
    "- 'Hospital Ownership_Voluntary non-profit - Private'\n",
    "- 'rural_versus_urban_R'\n",
    "- 'rural_versus_urban_U'\n",
    "- 'ratioInsuredTotalPopulation' : census population estimate for insured / total population estimate\n",
    "- 'ratioFertilityTotalPopulation' : census population estimate for 15 to 50 yr old females / total population estimate\n",
    "- 'ratioChargesCosts' : charges/ cost per individual discharge\n",
    "- 'chargesPerDay' : charges / number of days stayed per individual discharge\n",
    "- 'avgNumberDaysDrg' : avg number of days for that specific DRG code per facility per year\n"
   ]
  },
  {
   "cell_type": "code",
   "execution_count": 1,
   "metadata": {},
   "outputs": [],
   "source": [
    "import os\n",
    "import pandas as pd\n",
    "import numpy as np"
   ]
  },
  {
   "cell_type": "code",
   "execution_count": 2,
   "metadata": {},
   "outputs": [],
   "source": [
    "aprHospFeat = pd.read_csv('dataFiles/compiledDischargesHospitalFeaturesCensus.csv', low_memory=False)"
   ]
  },
  {
   "cell_type": "code",
   "execution_count": 3,
   "metadata": {},
   "outputs": [],
   "source": [
    "aprHospFeat.drop(['Unnamed: 0'], axis=1, inplace=True)"
   ]
  },
  {
   "cell_type": "code",
   "execution_count": 4,
   "metadata": {},
   "outputs": [
    {
     "data": {
      "text/plain": [
       "(2209446, 41)"
      ]
     },
     "execution_count": 4,
     "metadata": {},
     "output_type": "execute_result"
    }
   ],
   "source": [
    "aprHospFeat.shape"
   ]
  },
  {
   "cell_type": "markdown",
   "metadata": {},
   "source": [
    "#### Recoding the categorical vars into OneHot"
   ]
  },
  {
   "cell_type": "markdown",
   "metadata": {},
   "source": [
    "##### Payment Types 1,2,3\n",
    "There are 3 columns for payment types. This variable is looking at the difference payment types across the 3 columns and inputing a \"1\" for the various types."
   ]
  },
  {
   "cell_type": "code",
   "execution_count": 5,
   "metadata": {},
   "outputs": [
    {
     "data": {
      "text/plain": [
       "array(['Medicare', 'Blue Cross/Blue Shield', 'Private Health Insurance',\n",
       "       'Self-Pay', 'Medicaid', 'Federal/State/Local/VA',\n",
       "       'Miscellaneous/Other', 'Department of Corrections',\n",
       "       'Managed Care, Unspecified'], dtype=object)"
      ]
     },
     "execution_count": 5,
     "metadata": {},
     "output_type": "execute_result"
    }
   ],
   "source": [
    "aprHospFeat['Payment Typology 1'].unique()[:-1]"
   ]
  },
  {
   "cell_type": "code",
   "execution_count": 6,
   "metadata": {},
   "outputs": [],
   "source": [
    "for i in range(len(aprHospFeat['Payment Typology 1'].unique())-1):\n",
    "    aprHospFeat.loc[(aprHospFeat['Payment Typology 1'] == aprHospFeat['Payment Typology 1'].unique()[i]) | \n",
    "                (aprHospFeat['Payment Typology 2'] == aprHospFeat['Payment Typology 1'].unique()[i]) |\n",
    "                (aprHospFeat['Payment Typology 3'] == aprHospFeat['Payment Typology 1'].unique()[i]), \n",
    "                    'payment_'+aprHospFeat['Payment Typology 1'].unique()[i]] = 1"
   ]
  },
  {
   "cell_type": "code",
   "execution_count": 7,
   "metadata": {},
   "outputs": [],
   "source": [
    "# replace the NaNs with 0\n",
    "for i in range(len(list(aprHospFeat.filter(like = 'payment').columns))):\n",
    "    aprHospFeat[list(aprHospFeat.filter(like = 'payment').columns)[i]].fillna(0, inplace=True)"
   ]
  },
  {
   "cell_type": "code",
   "execution_count": 8,
   "metadata": {},
   "outputs": [],
   "source": [
    "aprHospFeat['numberOfPaymentTypes'] = aprHospFeat.filter(like = 'payment').sum(axis=1)"
   ]
  },
  {
   "cell_type": "markdown",
   "metadata": {},
   "source": [
    "##### Type of Admission\n",
    "One hot encoding the type of admission. "
   ]
  },
  {
   "cell_type": "code",
   "execution_count": 9,
   "metadata": {},
   "outputs": [
    {
     "data": {
      "text/plain": [
       "array(['Urgent', 'Elective', 'Emergency', 'Newborn', 'Not Available',\n",
       "       'Trauma'], dtype=object)"
      ]
     },
     "execution_count": 9,
     "metadata": {},
     "output_type": "execute_result"
    }
   ],
   "source": [
    "aprHospFeat['Type of Admission'].unique()"
   ]
  },
  {
   "cell_type": "code",
   "execution_count": 10,
   "metadata": {},
   "outputs": [],
   "source": [
    "urgentAdmits = aprHospFeat[aprHospFeat['Type of Admission'].isin(['Urgent', 'Emergency', 'Trauma'])]\\\n",
    ".groupby(['yr', 'Facility Id', 'APR DRG Code']).count()[['APR DRG Description']].reset_index()\\\n",
    ".rename(index=str, columns={\"APR DRG Description\":\"numberUrgentAdmits\"})"
   ]
  },
  {
   "cell_type": "code",
   "execution_count": 11,
   "metadata": {},
   "outputs": [
    {
     "data": {
      "text/plain": [
       "(4672, 4)"
      ]
     },
     "execution_count": 11,
     "metadata": {},
     "output_type": "execute_result"
    }
   ],
   "source": [
    "urgentAdmits.shape"
   ]
  },
  {
   "cell_type": "code",
   "execution_count": 12,
   "metadata": {},
   "outputs": [],
   "source": [
    "aprHospFeat = pd.get_dummies(aprHospFeat, columns=['Type of Admission'])"
   ]
  },
  {
   "cell_type": "code",
   "execution_count": 13,
   "metadata": {},
   "outputs": [],
   "source": [
    "aprHospFeat = aprHospFeat.merge(urgentAdmits, how = 'outer',\n",
    "                                left_on=['yr','Facility Id' ,'APR DRG Code'],\n",
    "                                right_on=['yr','Facility Id' ,'APR DRG Code'])"
   ]
  },
  {
   "cell_type": "code",
   "execution_count": 14,
   "metadata": {},
   "outputs": [],
   "source": [
    "aprHospFeat['numberUrgentAdmits'].fillna(0, inplace=True)"
   ]
  },
  {
   "cell_type": "markdown",
   "metadata": {},
   "source": [
    "##### Emergency Department Indicator"
   ]
  },
  {
   "cell_type": "code",
   "execution_count": 15,
   "metadata": {},
   "outputs": [
    {
     "data": {
      "text/plain": [
       "array(['Y', 'N'], dtype=object)"
      ]
     },
     "execution_count": 15,
     "metadata": {},
     "output_type": "execute_result"
    }
   ],
   "source": [
    "aprHospFeat['Emergency Department Indicator'].unique()"
   ]
  },
  {
   "cell_type": "code",
   "execution_count": 16,
   "metadata": {},
   "outputs": [],
   "source": [
    "aprHospFeat.loc[aprHospFeat['Emergency Department Indicator'] == 'Y', 'emergencyRoom' ]= 1"
   ]
  },
  {
   "cell_type": "code",
   "execution_count": 17,
   "metadata": {},
   "outputs": [],
   "source": [
    "aprHospFeat['emergencyRoom'].fillna(0, inplace=True)"
   ]
  },
  {
   "cell_type": "markdown",
   "metadata": {},
   "source": [
    "##### Hospital Ownership"
   ]
  },
  {
   "cell_type": "code",
   "execution_count": 18,
   "metadata": {},
   "outputs": [],
   "source": [
    "aprHospFeat = pd.get_dummies(aprHospFeat, columns=['Hospital Ownership'])"
   ]
  },
  {
   "cell_type": "markdown",
   "metadata": {},
   "source": [
    "##### Rural vs Urban Setting"
   ]
  },
  {
   "cell_type": "code",
   "execution_count": 19,
   "metadata": {},
   "outputs": [],
   "source": [
    "aprHospFeat = pd.get_dummies(aprHospFeat, columns=['rural_versus_urban'])"
   ]
  },
  {
   "cell_type": "code",
   "execution_count": 20,
   "metadata": {},
   "outputs": [],
   "source": [
    "aprHospFeat.drop(['Payment Typology 1', 'Payment Typology 2', 'Payment Typology 3', \n",
    "                 'Emergency Department Indicator'], \n",
    "                axis=1, inplace=True)"
   ]
  },
  {
   "cell_type": "markdown",
   "metadata": {},
   "source": [
    "#### Feature Engineering & Creating New Variables"
   ]
  },
  {
   "cell_type": "markdown",
   "metadata": {},
   "source": [
    "##### Ratio # insured to # total population"
   ]
  },
  {
   "cell_type": "code",
   "execution_count": 21,
   "metadata": {},
   "outputs": [],
   "source": [
    "aprHospFeat['ratioInsuredTotalPopulation'] = aprHospFeat['totalInsured']/ aprHospFeat['totalPopulation']"
   ]
  },
  {
   "cell_type": "markdown",
   "metadata": {},
   "source": [
    "##### Ratio # fertile women to # total population"
   ]
  },
  {
   "cell_type": "code",
   "execution_count": 22,
   "metadata": {},
   "outputs": [],
   "source": [
    "aprHospFeat['ratioFertilityTotalPopulation'] = aprHospFeat['totalFertile']/ aprHospFeat['totalPopulation']"
   ]
  },
  {
   "cell_type": "markdown",
   "metadata": {},
   "source": [
    "##### Ratio total charges to total costs"
   ]
  },
  {
   "cell_type": "code",
   "execution_count": 23,
   "metadata": {},
   "outputs": [],
   "source": [
    "aprHospFeat['ratioChargesCosts'] = aprHospFeat['Total Charges']/ aprHospFeat['Total Costs']"
   ]
  },
  {
   "cell_type": "markdown",
   "metadata": {},
   "source": [
    "##### Charges per day of stay"
   ]
  },
  {
   "cell_type": "code",
   "execution_count": 24,
   "metadata": {},
   "outputs": [],
   "source": [
    "aprHospFeat.loc[aprHospFeat['Length of Stay']== '120 +', 'days'] = 120"
   ]
  },
  {
   "cell_type": "code",
   "execution_count": 25,
   "metadata": {},
   "outputs": [],
   "source": [
    "aprHospFeat.loc[aprHospFeat['Length of Stay'] != '120 +', 'days'] = aprHospFeat['Length of Stay']"
   ]
  },
  {
   "cell_type": "code",
   "execution_count": 26,
   "metadata": {},
   "outputs": [],
   "source": [
    "aprHospFeat['days'] = pd.to_numeric(aprHospFeat['days'])"
   ]
  },
  {
   "cell_type": "code",
   "execution_count": 27,
   "metadata": {},
   "outputs": [],
   "source": [
    "aprHospFeat['chargesPerDay'] = aprHospFeat['Total Charges']/ aprHospFeat['days']"
   ]
  },
  {
   "cell_type": "markdown",
   "metadata": {},
   "source": [
    "##### Average number of days per year per facility id per drg"
   ]
  },
  {
   "cell_type": "code",
   "execution_count": 28,
   "metadata": {},
   "outputs": [],
   "source": [
    "avgDays = aprHospFeat.groupby(['yr', 'Facility Id', 'APR DRG Code']).mean()[['days']].reset_index()\\\n",
    ".rename(index=str, columns={\"days\":\"avgNumberDays\"})"
   ]
  },
  {
   "cell_type": "code",
   "execution_count": 29,
   "metadata": {},
   "outputs": [
    {
     "data": {
      "text/plain": [
       "(4961, 4)"
      ]
     },
     "execution_count": 29,
     "metadata": {},
     "output_type": "execute_result"
    }
   ],
   "source": [
    "avgDays.shape"
   ]
  },
  {
   "cell_type": "code",
   "execution_count": 30,
   "metadata": {},
   "outputs": [],
   "source": [
    "aprHospFeat = aprHospFeat.merge(avgDays, left_on=['yr','Facility Id' ,'APR DRG Code'],\n",
    "                  right_on=['yr','Facility Id' ,'APR DRG Code'], how = 'outer')"
   ]
  },
  {
   "cell_type": "markdown",
   "metadata": {},
   "source": [
    "##### Split into C-Section & Knee Replacement"
   ]
  },
  {
   "cell_type": "code",
   "execution_count": 31,
   "metadata": {},
   "outputs": [],
   "source": [
    "aprHospFeat.to_csv('dataFiles/top10AprHospFeat.csv')"
   ]
  },
  {
   "cell_type": "code",
   "execution_count": 38,
   "metadata": {},
   "outputs": [
    {
     "name": "stdout",
     "output_type": "stream",
     "text": [
      "<class 'pandas.core.frame.DataFrame'>\n",
      "Int64Index: 2209446 entries, 0 to 2209445\n",
      "Data columns (total 67 columns):\n",
      "Health Service Area                                               object\n",
      "Facility Id                                                       float64\n",
      "Length of Stay                                                    object\n",
      "APR DRG Code                                                      int64\n",
      "APR DRG Description                                               object\n",
      "APR Severity of Illness Code                                      float64\n",
      "Total Charges                                                     float64\n",
      "Total Costs                                                       float64\n",
      "yr                                                                int64\n",
      "Provider ID                                                       int64\n",
      "Hospital overall rating                                           float64\n",
      "Mortality national comparison                                     float64\n",
      "Safety of care national comparison                                float64\n",
      "Readmission national comparison                                   float64\n",
      "Patient experience national comparison                            float64\n",
      "Effectiveness of care national comparison                         float64\n",
      "Timeliness of care national comparison                            float64\n",
      "Efficient use of medical imaging national comparison              float64\n",
      "lat                                                               float64\n",
      "long                                                              float64\n",
      "lonlat                                                            object\n",
      "geometry                                                          object\n",
      "fte_employees_on_payroll                                          float64\n",
      "number_of_beds                                                    float64\n",
      "number_of_interns_and                                             float64\n",
      "puma                                                              int64\n",
      "totalPopulation                                                   int64\n",
      "totalInsured                                                      int64\n",
      "totalFertile                                                      int64\n",
      "countPerDrgPerFacIdPerYr                                          int64\n",
      "countPerFacIdPerYr                                                int64\n",
      "ratioDrgToFacility                                                float64\n",
      "sumChargesPerFacIdPerYr                                           float64\n",
      "ratioSumChargesPerFacPerYrToBedDays                               float64\n",
      "payment_Medicare                                                  float64\n",
      "payment_Blue Cross/Blue Shield                                    float64\n",
      "payment_Private Health Insurance                                  float64\n",
      "payment_Self-Pay                                                  float64\n",
      "payment_Medicaid                                                  float64\n",
      "payment_Federal/State/Local/VA                                    float64\n",
      "payment_Miscellaneous/Other                                       float64\n",
      "payment_Department of Corrections                                 float64\n",
      "payment_Managed Care, Unspecified                                 float64\n",
      "numberOfPaymentTypes                                              float64\n",
      "Type of Admission_Elective                                        uint8\n",
      "Type of Admission_Emergency                                       uint8\n",
      "Type of Admission_Newborn                                         uint8\n",
      "Type of Admission_Not Available                                   uint8\n",
      "Type of Admission_Trauma                                          uint8\n",
      "Type of Admission_Urgent                                          uint8\n",
      "numberUrgentAdmits                                                float64\n",
      "emergencyRoom                                                     float64\n",
      "Hospital Ownership_Government - Hospital District or Authority    uint8\n",
      "Hospital Ownership_Government - Local                             uint8\n",
      "Hospital Ownership_Government - State                             uint8\n",
      "Hospital Ownership_Proprietary                                    uint8\n",
      "Hospital Ownership_Voluntary non-profit - Church                  uint8\n",
      "Hospital Ownership_Voluntary non-profit - Other                   uint8\n",
      "Hospital Ownership_Voluntary non-profit - Private                 uint8\n",
      "rural_versus_urban_R                                              uint8\n",
      "rural_versus_urban_U                                              uint8\n",
      "ratioInsuredTotalPopulation                                       float64\n",
      "ratioFertilityTotalPopulation                                     float64\n",
      "ratioChargesCosts                                                 float64\n",
      "days                                                              float64\n",
      "chargesPerDay                                                     float64\n",
      "avgNumberDays                                                     float64\n",
      "dtypes: float64(38), int64(9), object(5), uint8(15)\n",
      "memory usage: 925.0+ MB\n"
     ]
    }
   ],
   "source": [
    "aprHospFeat"
   ]
  },
  {
   "cell_type": "code",
   "execution_count": null,
   "metadata": {},
   "outputs": [],
   "source": []
  },
  {
   "cell_type": "code",
   "execution_count": 32,
   "metadata": {},
   "outputs": [],
   "source": [
    "kneeAprHospFeat = aprHospFeat[aprHospFeat['APR DRG Code'] == 302]"
   ]
  },
  {
   "cell_type": "code",
   "execution_count": 33,
   "metadata": {},
   "outputs": [
    {
     "name": "stdout",
     "output_type": "stream",
     "text": [
      "<class 'pandas.core.frame.DataFrame'>\n",
      "Int64Index: 112842 entries, 3468 to 2207575\n",
      "Data columns (total 67 columns):\n",
      "APR DRG Code                                                      112842 non-null int64\n",
      "APR DRG Description                                               112842 non-null object\n",
      "APR Severity of Illness Code                                      112842 non-null float64\n",
      "Facility Id                                                       112842 non-null float64\n",
      "Health Service Area                                               112842 non-null object\n",
      "Length of Stay                                                    112842 non-null object\n",
      "Total Charges                                                     112842 non-null float64\n",
      "Total Costs                                                       112842 non-null float64\n",
      "yr                                                                112842 non-null int64\n",
      "Provider ID                                                       112842 non-null int64\n",
      "Hospital overall rating                                           112020 non-null float64\n",
      "Mortality national comparison                                     93463 non-null float64\n",
      "Safety of care national comparison                                110845 non-null float64\n",
      "Readmission national comparison                                   93463 non-null float64\n",
      "Patient experience national comparison                            112586 non-null float64\n",
      "Effectiveness of care national comparison                         112020 non-null float64\n",
      "Timeliness of care national comparison                            93463 non-null float64\n",
      "Efficient use of medical imaging national comparison              89384 non-null float64\n",
      "lat                                                               112842 non-null float64\n",
      "long                                                              112842 non-null float64\n",
      "lonlat                                                            112842 non-null object\n",
      "geometry                                                          112842 non-null object\n",
      "fte_employees_on_payroll                                          112842 non-null float64\n",
      "number_of_beds                                                    112842 non-null float64\n",
      "number_of_interns_and                                             88866 non-null float64\n",
      "puma                                                              112842 non-null int64\n",
      "totalPopulation                                                   112842 non-null int64\n",
      "totalInsured                                                      112842 non-null int64\n",
      "totalFertile                                                      112842 non-null int64\n",
      "countPerDrgPerFacIdPerYr                                          112842 non-null int64\n",
      "countPerFacIdPerYr                                                112842 non-null int64\n",
      "ratioDrgToFacility                                                112842 non-null float64\n",
      "sumChargesPerFacIdPerYr                                           112842 non-null float64\n",
      "ratioSumChargesPerFacPerYrToBedDays                               112842 non-null float64\n",
      "payment_Medicare                                                  112842 non-null float64\n",
      "payment_Blue Cross/Blue Shield                                    112842 non-null float64\n",
      "payment_Private Health Insurance                                  112842 non-null float64\n",
      "payment_Self-Pay                                                  112842 non-null float64\n",
      "payment_Medicaid                                                  112842 non-null float64\n",
      "payment_Federal/State/Local/VA                                    112842 non-null float64\n",
      "payment_Miscellaneous/Other                                       112842 non-null float64\n",
      "payment_Department of Corrections                                 112842 non-null float64\n",
      "payment_Managed Care, Unspecified                                 112842 non-null float64\n",
      "numberOfPaymentTypes                                              112842 non-null float64\n",
      "Type of Admission_Elective                                        112842 non-null uint8\n",
      "Type of Admission_Emergency                                       112842 non-null uint8\n",
      "Type of Admission_Newborn                                         112842 non-null uint8\n",
      "Type of Admission_Not Available                                   112842 non-null uint8\n",
      "Type of Admission_Trauma                                          112842 non-null uint8\n",
      "Type of Admission_Urgent                                          112842 non-null uint8\n",
      "numberUrgentAdmits                                                112842 non-null float64\n",
      "emergencyRoom                                                     112842 non-null float64\n",
      "Hospital Ownership_Government - Hospital District or Authority    112842 non-null uint8\n",
      "Hospital Ownership_Government - Local                             112842 non-null uint8\n",
      "Hospital Ownership_Government - State                             112842 non-null uint8\n",
      "Hospital Ownership_Proprietary                                    112842 non-null uint8\n",
      "Hospital Ownership_Voluntary non-profit - Church                  112842 non-null uint8\n",
      "Hospital Ownership_Voluntary non-profit - Other                   112842 non-null uint8\n",
      "Hospital Ownership_Voluntary non-profit - Private                 112842 non-null uint8\n",
      "rural_versus_urban_R                                              112842 non-null uint8\n",
      "rural_versus_urban_U                                              112842 non-null uint8\n",
      "ratioInsuredTotalPopulation                                       112842 non-null float64\n",
      "ratioFertilityTotalPopulation                                     112842 non-null float64\n",
      "ratioChargesCosts                                                 112842 non-null float64\n",
      "days                                                              112842 non-null float64\n",
      "chargesPerDay                                                     112842 non-null float64\n",
      "avgNumberDays                                                     112842 non-null float64\n",
      "dtypes: float64(38), int64(9), object(5), uint8(15)\n",
      "memory usage: 47.2+ MB\n"
     ]
    }
   ],
   "source": [
    "kneeAprHospFeat.info()"
   ]
  },
  {
   "cell_type": "code",
   "execution_count": 34,
   "metadata": {},
   "outputs": [],
   "source": [
    "kneeAprHospFeat.to_csv('dataFiles/kneeAprHospFeat.csv')"
   ]
  },
  {
   "cell_type": "code",
   "execution_count": 35,
   "metadata": {},
   "outputs": [],
   "source": [
    "csecAprHospFeat = aprHospFeat[aprHospFeat['APR DRG Code'] == 540]"
   ]
  },
  {
   "cell_type": "code",
   "execution_count": 36,
   "metadata": {},
   "outputs": [
    {
     "name": "stdout",
     "output_type": "stream",
     "text": [
      "<class 'pandas.core.frame.DataFrame'>\n",
      "Int64Index: 215245 entries, 152 to 2206571\n",
      "Data columns (total 67 columns):\n",
      "APR DRG Code                                                      215245 non-null int64\n",
      "APR DRG Description                                               215245 non-null object\n",
      "APR Severity of Illness Code                                      215245 non-null float64\n",
      "Facility Id                                                       215245 non-null float64\n",
      "Health Service Area                                               215245 non-null object\n",
      "Length of Stay                                                    215245 non-null object\n",
      "Total Charges                                                     215245 non-null float64\n",
      "Total Costs                                                       215245 non-null float64\n",
      "yr                                                                215245 non-null int64\n",
      "Provider ID                                                       215245 non-null int64\n",
      "Hospital overall rating                                           214114 non-null float64\n",
      "Mortality national comparison                                     214114 non-null float64\n",
      "Safety of care national comparison                                212084 non-null float64\n",
      "Readmission national comparison                                   214114 non-null float64\n",
      "Patient experience national comparison                            214114 non-null float64\n",
      "Effectiveness of care national comparison                         213781 non-null float64\n",
      "Timeliness of care national comparison                            213781 non-null float64\n",
      "Efficient use of medical imaging national comparison              179972 non-null float64\n",
      "lat                                                               215245 non-null float64\n",
      "long                                                              215245 non-null float64\n",
      "lonlat                                                            215245 non-null object\n",
      "geometry                                                          215245 non-null object\n",
      "fte_employees_on_payroll                                          214114 non-null float64\n",
      "number_of_beds                                                    214114 non-null float64\n",
      "number_of_interns_and                                             178474 non-null float64\n",
      "puma                                                              215245 non-null int64\n",
      "totalPopulation                                                   215245 non-null int64\n",
      "totalInsured                                                      215245 non-null int64\n",
      "totalFertile                                                      215245 non-null int64\n",
      "countPerDrgPerFacIdPerYr                                          215245 non-null int64\n",
      "countPerFacIdPerYr                                                215245 non-null int64\n",
      "ratioDrgToFacility                                                215245 non-null float64\n",
      "sumChargesPerFacIdPerYr                                           215245 non-null float64\n",
      "ratioSumChargesPerFacPerYrToBedDays                               214114 non-null float64\n",
      "payment_Medicare                                                  215245 non-null float64\n",
      "payment_Blue Cross/Blue Shield                                    215245 non-null float64\n",
      "payment_Private Health Insurance                                  215245 non-null float64\n",
      "payment_Self-Pay                                                  215245 non-null float64\n",
      "payment_Medicaid                                                  215245 non-null float64\n",
      "payment_Federal/State/Local/VA                                    215245 non-null float64\n",
      "payment_Miscellaneous/Other                                       215245 non-null float64\n",
      "payment_Department of Corrections                                 215245 non-null float64\n",
      "payment_Managed Care, Unspecified                                 215245 non-null float64\n",
      "numberOfPaymentTypes                                              215245 non-null float64\n",
      "Type of Admission_Elective                                        215245 non-null uint8\n",
      "Type of Admission_Emergency                                       215245 non-null uint8\n",
      "Type of Admission_Newborn                                         215245 non-null uint8\n",
      "Type of Admission_Not Available                                   215245 non-null uint8\n",
      "Type of Admission_Trauma                                          215245 non-null uint8\n",
      "Type of Admission_Urgent                                          215245 non-null uint8\n",
      "numberUrgentAdmits                                                215245 non-null float64\n",
      "emergencyRoom                                                     215245 non-null float64\n",
      "Hospital Ownership_Government - Hospital District or Authority    215245 non-null uint8\n",
      "Hospital Ownership_Government - Local                             215245 non-null uint8\n",
      "Hospital Ownership_Government - State                             215245 non-null uint8\n",
      "Hospital Ownership_Proprietary                                    215245 non-null uint8\n",
      "Hospital Ownership_Voluntary non-profit - Church                  215245 non-null uint8\n",
      "Hospital Ownership_Voluntary non-profit - Other                   215245 non-null uint8\n",
      "Hospital Ownership_Voluntary non-profit - Private                 215245 non-null uint8\n",
      "rural_versus_urban_R                                              215245 non-null uint8\n",
      "rural_versus_urban_U                                              215245 non-null uint8\n",
      "ratioInsuredTotalPopulation                                       215245 non-null float64\n",
      "ratioFertilityTotalPopulation                                     215245 non-null float64\n",
      "ratioChargesCosts                                                 215245 non-null float64\n",
      "days                                                              215245 non-null float64\n",
      "chargesPerDay                                                     215245 non-null float64\n",
      "avgNumberDays                                                     215245 non-null float64\n",
      "dtypes: float64(38), int64(9), object(5), uint8(15)\n",
      "memory usage: 90.1+ MB\n"
     ]
    }
   ],
   "source": [
    "csecAprHospFeat.info()"
   ]
  },
  {
   "cell_type": "code",
   "execution_count": 38,
   "metadata": {},
   "outputs": [],
   "source": [
    "csecAprHospFeat.to_csv('dataFiles/cSectionAprHospFeat.csv')"
   ]
  },
  {
   "cell_type": "code",
   "execution_count": 39,
   "metadata": {},
   "outputs": [],
   "source": [
    "aprHospFeat.to_csv('dataFiles/top10AprHospFeat.csv')"
   ]
  },
  {
   "cell_type": "code",
   "execution_count": null,
   "metadata": {},
   "outputs": [],
   "source": []
  }
 ],
 "metadata": {
  "kernelspec": {
   "display_name": "python3_7",
   "language": "python",
   "name": "python3_7"
  },
  "language_info": {
   "codemirror_mode": {
    "name": "ipython",
    "version": 3
   },
   "file_extension": ".py",
   "mimetype": "text/x-python",
   "name": "python",
   "nbconvert_exporter": "python",
   "pygments_lexer": "ipython3",
   "version": "3.7.3"
  }
 },
 "nbformat": 4,
 "nbformat_minor": 2
}
