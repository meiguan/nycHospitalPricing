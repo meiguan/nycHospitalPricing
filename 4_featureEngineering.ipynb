{
 "cells": [
  {
   "cell_type": "markdown",
   "metadata": {},
   "source": [
    "##### 4_featureEngineering\n",
    "\n",
    "This notebook takes the csv that was compiled from the notebook 3_compileDischargesHospitalCensusData and does further processing on it such as: \n",
    "- Dealing with Categorical Variables\n",
    "\n",
    "- Feature Engineering\n",
    "\n",
    "The final features in this dataset are:\n"
   ]
  },
  {
   "cell_type": "code",
   "execution_count": 81,
   "metadata": {},
   "outputs": [],
   "source": [
    "import os\n",
    "import pandas as pd\n",
    "import numpy as np"
   ]
  },
  {
   "cell_type": "code",
   "execution_count": 82,
   "metadata": {},
   "outputs": [],
   "source": [
    "aprHospFeat = pd.read_csv('dataFiles/compiledDischargesHospitalFeaturesCensus.csv', low_memory=False)"
   ]
  },
  {
   "cell_type": "code",
   "execution_count": 83,
   "metadata": {},
   "outputs": [
    {
     "name": "stdout",
     "output_type": "stream",
     "text": [
      "<class 'pandas.core.frame.DataFrame'>\n",
      "RangeIndex: 2209446 entries, 0 to 2209445\n",
      "Data columns (total 42 columns):\n",
      "Unnamed: 0                                              int64\n",
      "Health Service Area                                     object\n",
      "Facility Id                                             float64\n",
      "Length of Stay                                          object\n",
      "Type of Admission                                       object\n",
      "APR DRG Code                                            int64\n",
      "APR DRG Description                                     object\n",
      "APR Severity of Illness Code                            float64\n",
      "Payment Typology 1                                      object\n",
      "Payment Typology 2                                      object\n",
      "Payment Typology 3                                      object\n",
      "Emergency Department Indicator                          object\n",
      "Total Charges                                           float64\n",
      "Total Costs                                             float64\n",
      "yr                                                      int64\n",
      "Provider ID                                             int64\n",
      "Hospital Ownership                                      object\n",
      "Hospital overall rating                                 float64\n",
      "Mortality national comparison                           float64\n",
      "Safety of care national comparison                      float64\n",
      "Readmission national comparison                         float64\n",
      "Patient experience national comparison                  float64\n",
      "Effectiveness of care national comparison               float64\n",
      "Timeliness of care national comparison                  float64\n",
      "Efficient use of medical imaging national comparison    float64\n",
      "lat                                                     float64\n",
      "long                                                    float64\n",
      "lonlat                                                  object\n",
      "geometry                                                object\n",
      "fte_employees_on_payroll                                float64\n",
      "number_of_beds                                          float64\n",
      "number_of_interns_and                                   float64\n",
      "rural_versus_urban                                      object\n",
      "puma                                                    int64\n",
      "totalPopulation                                         int64\n",
      "totalInsured                                            int64\n",
      "totalFertile                                            int64\n",
      "countPerDrgPerFacIdPerYr                                int64\n",
      "countPerFacIdPerYr                                      int64\n",
      "ratioDrgToFacility                                      float64\n",
      "sumChargesPerFacIdPerYr                                 float64\n",
      "ratioSumChargesPerFacPerYrToBedDays                     float64\n",
      "dtypes: float64(20), int64(10), object(12)\n",
      "memory usage: 708.0+ MB\n"
     ]
    }
   ],
   "source": [
    "aprHospFeat.info()"
   ]
  },
  {
   "cell_type": "markdown",
   "metadata": {},
   "source": [
    "#### Recoding the categorical vars into OneHot"
   ]
  },
  {
   "cell_type": "markdown",
   "metadata": {},
   "source": [
    "##### Payment Types 1,2,3\n",
    "There are 3 columns for payment types. This variable is looking at the difference payment types across the 3 columns and inputing a \"1\" for the various types."
   ]
  },
  {
   "cell_type": "code",
   "execution_count": 84,
   "metadata": {},
   "outputs": [
    {
     "data": {
      "text/plain": [
       "array(['Medicare', 'Blue Cross/Blue Shield', 'Private Health Insurance',\n",
       "       'Self-Pay', 'Medicaid', 'Federal/State/Local/VA',\n",
       "       'Miscellaneous/Other', 'Department of Corrections',\n",
       "       'Managed Care, Unspecified'], dtype=object)"
      ]
     },
     "execution_count": 84,
     "metadata": {},
     "output_type": "execute_result"
    }
   ],
   "source": [
    "aprHospFeat['Payment Typology 1'].unique()[:-1]"
   ]
  },
  {
   "cell_type": "code",
   "execution_count": 85,
   "metadata": {},
   "outputs": [],
   "source": [
    "for i in range(len(aprHospFeat['Payment Typology 1'].unique())-1):\n",
    "    aprHospFeat.loc[(aprHospFeat['Payment Typology 1'] == aprHospFeat['Payment Typology 1'].unique()[i]) | \n",
    "                (aprHospFeat['Payment Typology 2'] == aprHospFeat['Payment Typology 1'].unique()[i]) |\n",
    "                (aprHospFeat['Payment Typology 3'] == aprHospFeat['Payment Typology 1'].unique()[i]), \n",
    "                    'payment_'+aprHospFeat['Payment Typology 1'].unique()[i]] = 1"
   ]
  },
  {
   "cell_type": "code",
   "execution_count": 86,
   "metadata": {},
   "outputs": [],
   "source": [
    "# replace the NaNs with 0\n",
    "for i in range(len(list(aprHospFeat.filter(like = 'payment').columns))):\n",
    "    aprHospFeat[list(aprHospFeat.filter(like = 'payment').columns)[i]].fillna(0, inplace=True)"
   ]
  },
  {
   "cell_type": "code",
   "execution_count": 87,
   "metadata": {},
   "outputs": [],
   "source": [
    "aprHospFeat['numberOfPaymentTypes'] = aprHospFeat.filter(like = 'payment').sum(axis=1)"
   ]
  },
  {
   "cell_type": "markdown",
   "metadata": {},
   "source": [
    "##### Type of Admission\n",
    "One hot encoding the type of admission. "
   ]
  },
  {
   "cell_type": "code",
   "execution_count": 88,
   "metadata": {},
   "outputs": [
    {
     "data": {
      "text/plain": [
       "array(['Urgent', 'Elective', 'Emergency', 'Newborn', 'Not Available',\n",
       "       'Trauma'], dtype=object)"
      ]
     },
     "execution_count": 88,
     "metadata": {},
     "output_type": "execute_result"
    }
   ],
   "source": [
    "aprHospFeat['Type of Admission'].unique()"
   ]
  },
  {
   "cell_type": "code",
   "execution_count": 100,
   "metadata": {},
   "outputs": [],
   "source": [
    "urgentAdmits = aprHospFeat[aprHospFeat['Type of Admission'].isin(['Urgent', 'Emergency', 'Trauma'])]\\\n",
    ".groupby(['yr', 'Facility Id', 'APR DRG Code']).count().reset_index()\\\n",
    ".rename(columns={'Unnamed: 0':'numberUrgentAdmits'})[['yr', 'Facility Id', 'APR DRG Code', 'numberUrgentAdmits']]"
   ]
  },
  {
   "cell_type": "code",
   "execution_count": 102,
   "metadata": {},
   "outputs": [],
   "source": [
    "aprHospFeat = pd.get_dummies(aprHospFeat, columns=['Type of Admission'])"
   ]
  },
  {
   "cell_type": "code",
   "execution_count": 105,
   "metadata": {},
   "outputs": [],
   "source": [
    "aprHospFeat = aprHospFeat.merge(urgentAdmits, left_on=['yr','Facility Id' ,'APR DRG Code'],\n",
    "                  right_on=['yr','Facility Id' ,'APR DRG Code'])"
   ]
  },
  {
   "cell_type": "markdown",
   "metadata": {},
   "source": [
    "##### Emergency Department Indicator"
   ]
  },
  {
   "cell_type": "code",
   "execution_count": 106,
   "metadata": {},
   "outputs": [
    {
     "data": {
      "text/plain": [
       "array(['Y', 'N'], dtype=object)"
      ]
     },
     "execution_count": 106,
     "metadata": {},
     "output_type": "execute_result"
    }
   ],
   "source": [
    "aprHospFeat['Emergency Department Indicator'].unique()"
   ]
  },
  {
   "cell_type": "code",
   "execution_count": 107,
   "metadata": {},
   "outputs": [],
   "source": [
    "aprHospFeat.loc[aprHospFeat['Emergency Department Indicator'] == 'Y', 'emergencyRoom' ]= 1"
   ]
  },
  {
   "cell_type": "code",
   "execution_count": 108,
   "metadata": {},
   "outputs": [],
   "source": [
    "aprHospFeat['emergencyRoom'].fillna(0, inplace=True)"
   ]
  },
  {
   "cell_type": "markdown",
   "metadata": {},
   "source": [
    "##### Hospital Ownership"
   ]
  },
  {
   "cell_type": "code",
   "execution_count": 109,
   "metadata": {},
   "outputs": [],
   "source": [
    "aprHospFeat = pd.get_dummies(aprHospFeat, columns=['Hospital Ownership'])"
   ]
  },
  {
   "cell_type": "markdown",
   "metadata": {},
   "source": [
    "##### Rural vs Urban Setting"
   ]
  },
  {
   "cell_type": "code",
   "execution_count": 110,
   "metadata": {},
   "outputs": [],
   "source": [
    "aprHospFeat = pd.get_dummies(aprHospFeat, columns=['rural_versus_urban'])"
   ]
  },
  {
   "cell_type": "code",
   "execution_count": 111,
   "metadata": {},
   "outputs": [],
   "source": [
    "aprHospFeat.drop(['Payment Typology 1', 'Payment Typology 2', 'Payment Typology 3', \n",
    "                 'Emergency Department Indicator'], \n",
    "                axis=1, inplace=True)"
   ]
  },
  {
   "cell_type": "markdown",
   "metadata": {},
   "source": [
    "#### Feature Engineering & Creating New Variables"
   ]
  },
  {
   "cell_type": "markdown",
   "metadata": {},
   "source": [
    "##### 1. ratio # insured to # total population"
   ]
  },
  {
   "cell_type": "code",
   "execution_count": 112,
   "metadata": {},
   "outputs": [],
   "source": [
    "aprHospFeat['ratioInsuredTotalPopulation'] = aprHospFeat['totalInsured']/ aprHospFeat['totalPopulation']"
   ]
  },
  {
   "cell_type": "markdown",
   "metadata": {},
   "source": [
    "##### 2. ratio # fertile women to # total population"
   ]
  },
  {
   "cell_type": "code",
   "execution_count": 113,
   "metadata": {},
   "outputs": [],
   "source": [
    "aprHospFeat['ratioFertilityTotalPopulation'] = aprHospFeat['totalFertile']/ aprHospFeat['totalPopulation']"
   ]
  },
  {
   "cell_type": "markdown",
   "metadata": {},
   "source": [
    "##### 3. ratio total charges to total costs"
   ]
  },
  {
   "cell_type": "code",
   "execution_count": 114,
   "metadata": {},
   "outputs": [],
   "source": [
    "aprHospFeat['ratioChargesCosts'] = aprHospFeat['Total Charges']/ aprHospFeat['Total Costs']"
   ]
  },
  {
   "cell_type": "markdown",
   "metadata": {},
   "source": [
    "##### 4. charges per day of stay"
   ]
  },
  {
   "cell_type": "code",
   "execution_count": 115,
   "metadata": {},
   "outputs": [],
   "source": [
    "aprHospFeat.loc[aprHospFeat['Length of Stay']== '120 +', 'days'] = 120"
   ]
  },
  {
   "cell_type": "code",
   "execution_count": 116,
   "metadata": {},
   "outputs": [],
   "source": [
    "aprHospFeat.loc[aprHospFeat['Length of Stay'] != '120 +', 'days'] = aprHospFeat['Length of Stay']"
   ]
  },
  {
   "cell_type": "code",
   "execution_count": 117,
   "metadata": {},
   "outputs": [],
   "source": [
    "aprHospFeat['days'] = pd.to_numeric(aprHospFeat['days'])"
   ]
  },
  {
   "cell_type": "code",
   "execution_count": 118,
   "metadata": {},
   "outputs": [],
   "source": [
    "aprHospFeat['chargesPerDay'] = aprHospFeat['Total Charges']/ aprHospFeat['days']"
   ]
  },
  {
   "cell_type": "code",
   "execution_count": null,
   "metadata": {},
   "outputs": [],
   "source": []
  },
  {
   "cell_type": "markdown",
   "metadata": {},
   "source": [
    "##### 5. average number of days per year per facility id per drg"
   ]
  },
  {
   "cell_type": "code",
   "execution_count": 123,
   "metadata": {},
   "outputs": [],
   "source": [
    "avgDays = aprHospFeat.groupby(['yr', 'Facility Id', 'APR DRG Code']).mean().reset_index()\\\n",
    ".rename(columns={'Unnamed: 0':'avgNumberDaysDrg'})[['yr', 'Facility Id', 'APR DRG Code', 'avgNumberDaysDrg']]"
   ]
  },
  {
   "cell_type": "code",
   "execution_count": 124,
   "metadata": {},
   "outputs": [],
   "source": [
    "aprHospFeat = aprHospFeat.merge(avgDays, left_on=['yr','Facility Id' ,'APR DRG Code'],\n",
    "                  right_on=['yr','Facility Id' ,'APR DRG Code'])"
   ]
  },
  {
   "cell_type": "markdown",
   "metadata": {},
   "source": [
    "##### 7. Number of discharges per year per facility id by APR DRG that is in Urgent, Emergency and Trauma"
   ]
  },
  {
   "cell_type": "code",
   "execution_count": null,
   "metadata": {},
   "outputs": [],
   "source": [
    "aprHospFeat[(aprHospFeat['Type of Admission_Emergency'] == 1) |\n",
    "           (aprHospFeat['Type of Admission_Trauma'] == 1) |\n",
    "           (aprHospFeat['Type of Admission_Urgent'] == 1)].groupby('yr', )"
   ]
  },
  {
   "cell_type": "code",
   "execution_count": null,
   "metadata": {},
   "outputs": [],
   "source": []
  },
  {
   "cell_type": "code",
   "execution_count": 25,
   "metadata": {},
   "outputs": [
    {
     "name": "stdout",
     "output_type": "stream",
     "text": [
      "<class 'pandas.core.frame.DataFrame'>\n",
      "Int64Index: 2551443 entries, 0 to 2551442\n",
      "Data columns (total 66 columns):\n",
      "Unnamed: 0                                                        int64\n",
      "Health Service Area                                               object\n",
      "Facility Id                                                       float64\n",
      "Length of Stay                                                    object\n",
      "APR DRG Code                                                      float64\n",
      "APR DRG Description                                               object\n",
      "APR Severity of Illness Code                                      float64\n",
      "Total Charges                                                     float64\n",
      "Total Costs                                                       float64\n",
      "yr                                                                float64\n",
      "Provider ID                                                       float64\n",
      "Hospital overall rating                                           float64\n",
      "Mortality national comparison                                     float64\n",
      "Safety of care national comparison                                float64\n",
      "Readmission national comparison                                   float64\n",
      "Patient experience national comparison                            float64\n",
      "Effectiveness of care national comparison                         float64\n",
      "Timeliness of care national comparison                            float64\n",
      "Efficient use of medical imaging national comparison              float64\n",
      "lat                                                               float64\n",
      "long                                                              float64\n",
      "lonlat                                                            object\n",
      "geometry                                                          object\n",
      "fte_employees_on_payroll                                          float64\n",
      "number_of_beds                                                    float64\n",
      "number_of_interns_and                                             float64\n",
      "puma                                                              float64\n",
      "totalPopulation                                                   float64\n",
      "totalInsured                                                      float64\n",
      "totalFertile                                                      float64\n",
      "totalPerYrPerFacIdPerDrg                                          float64\n",
      "totalPerYrPerFacId                                                float64\n",
      "ratioDrgToFacility                                                float64\n",
      "payment_Medicare                                                  float64\n",
      "payment_Blue Cross/Blue Shield                                    float64\n",
      "payment_Private Health Insurance                                  float64\n",
      "payment_Self-Pay                                                  float64\n",
      "payment_Medicaid                                                  float64\n",
      "payment_Federal/State/Local/VA                                    float64\n",
      "payment_Miscellaneous/Other                                       float64\n",
      "payment_Department of Corrections                                 float64\n",
      "payment_Managed Care, Unspecified                                 float64\n",
      "payment_Unknown                                                   float64\n",
      "Type of Admission_Elective                                        uint8\n",
      "Type of Admission_Emergency                                       uint8\n",
      "Type of Admission_Newborn                                         uint8\n",
      "Type of Admission_Not Available                                   uint8\n",
      "Type of Admission_Trauma                                          uint8\n",
      "Type of Admission_Urgent                                          uint8\n",
      "emergencyRoom                                                     float64\n",
      "Hospital Ownership_Government - Federal                           uint8\n",
      "Hospital Ownership_Government - Hospital District or Authority    uint8\n",
      "Hospital Ownership_Government - Local                             uint8\n",
      "Hospital Ownership_Government - State                             uint8\n",
      "Hospital Ownership_Proprietary                                    uint8\n",
      "Hospital Ownership_Voluntary non-profit - Church                  uint8\n",
      "Hospital Ownership_Voluntary non-profit - Other                   uint8\n",
      "Hospital Ownership_Voluntary non-profit - Private                 uint8\n",
      "rural_versus_urban_R                                              uint8\n",
      "rural_versus_urban_U                                              uint8\n",
      "ratioInsuredTotalPopulation                                       float64\n",
      "ratioFertilityTotalPopulation                                     float64\n",
      "ratioChargesCosts                                                 float64\n",
      "days                                                              float64\n",
      "chargesPerDay                                                     float64\n",
      "meanDaysPerDrg                                                    float64\n",
      "dtypes: float64(44), int64(1), object(5), uint8(16)\n",
      "memory usage: 1.0+ GB\n"
     ]
    }
   ],
   "source": [
    "aprHospFeat.info()"
   ]
  },
  {
   "cell_type": "code",
   "execution_count": null,
   "metadata": {},
   "outputs": [],
   "source": []
  },
  {
   "cell_type": "code",
   "execution_count": null,
   "metadata": {},
   "outputs": [],
   "source": []
  },
  {
   "cell_type": "code",
   "execution_count": null,
   "metadata": {},
   "outputs": [],
   "source": []
  },
  {
   "cell_type": "code",
   "execution_count": null,
   "metadata": {},
   "outputs": [],
   "source": []
  },
  {
   "cell_type": "code",
   "execution_count": null,
   "metadata": {},
   "outputs": [],
   "source": []
  }
 ],
 "metadata": {
  "kernelspec": {
   "display_name": "mgPUI",
   "language": "python",
   "name": "mgpui"
  },
  "language_info": {
   "codemirror_mode": {
    "name": "ipython",
    "version": 3
   },
   "file_extension": ".py",
   "mimetype": "text/x-python",
   "name": "python",
   "nbconvert_exporter": "python",
   "pygments_lexer": "ipython3",
   "version": "3.7.2"
  }
 },
 "nbformat": 4,
 "nbformat_minor": 2
}
