{
 "cells": [
  {
   "cell_type": "markdown",
   "metadata": {},
   "source": [
    "##### 4_featureEngineering\n",
    "\n",
    "This notebook takes the csv that was compiled from the notebook 3_compileDischargesHospitalCensusData and does further processing on it such as: \n",
    "- Dealing with Categorical Variables\n",
    "\n",
    "- Feature Engineering\n",
    "\n",
    "The final features in this dataset are listed belowed organized by the category of data related to NYS hospitals and APR DRGs.\n",
    "\n",
    "**From NYS Health, SPARCS individual APR DRG level:**\n",
    "- 'yr' : year the individual discharge occured\n",
    "- 'Health Service Area' : one of the service areas in New York State\n",
    "- 'Facility Id' : NYS uid for hospitals\n",
    "- 'Length of Stay' : number of days stayed max is 120 from the data set\n",
    "- 'APR DRG Code' : All Patient Refined Diagnosis Related Groups (APR–DRG) that will be utilized for the payment of the Medicaid, Workers Compensation and No–Fault rates.\n",
    "- 'APR DRG Description' : Description of the code / procedure\n",
    "- 'APR Severity of Illness Code' : integer on scale of 0 to 4\n",
    "- 'Total Charges' : dollars the hospital charged\n",
    "- 'Total Costs' : dollars it costed the hospital to treat/ provide the procedure\n",
    "\n",
    "**From CMS / (Provider) Hospital Related:**\n",
    "- 'Provider ID' : CMS used uid for hospitals\n",
    "- 'Hospital overall rating' \n",
    "- 'Mortality national comparison' \n",
    "- 'Safety of care national comparison'\n",
    "- 'Readmission national comparison'\n",
    "- 'Patient experience national comparison'\n",
    "- 'Effectiveness of care national comparison'\n",
    "- 'Timeliness of care national comparison'\n",
    "- 'Efficient use of medical imaging national comparison'\n",
    "- 'fte_employees_on_payroll' : number of full time equivalent employees on payroll\n",
    "- 'number_of_beds': number of beds in the hospital\n",
    "- 'number_of_interns_and' : number of interns and residents training at the hospital\n",
    "\n",
    "**From Census API and PUMA:**\n",
    "- 'puma' : puma area number\n",
    "- 'totalPopulation' : total population estimate from census api\n",
    "- 'totalInsured': total insured population estimate from census api\n",
    "- 'totalFertile': total estimate females between age women 15 to 50 years\n",
    "- 'lat' : latitude\n",
    "- 'long' : longitude\n",
    "- 'lonlat' : point\n",
    "- 'geometry' : geometry\n",
    "\n",
    "**Added Features Engineered:**\n",
    "- 'countPerDrgPerFacIdPerYr': count of the DRG discharge at each facility each year\n",
    "- 'countPerFacIdPerYr': count of all the discharges at each facility each year\n",
    "- 'ratioDrgToFacility': ratio of the DRG discharge count to the all discharges count\n",
    "- 'sumChargesPerFacIdPerYr' : cummulative sum of the charges per facility per year (across all DRG)\n",
    "- 'days' : numeric conversion of the length of stay since 120+ is the max, then those became 120\n",
    "- 'ratioSumChargesPerFacPerYrToBedDays' : ratio of the sum charges to the number of possible beds days ( # of beds * 365 days per year)\n",
    "- 'payment_Medicare' \n",
    "- 'payment_Blue Cross/Blue Shield'\n",
    "- 'payment_Private Health Insurance'\n",
    "- 'payment_Self-Pay'\n",
    "- 'payment_Medicaid'\n",
    "- 'payment_Federal/State/Local/VA'\n",
    "- 'payment_Miscellaneous/Other'\n",
    "- 'payment_Department of Corrections'\n",
    "- 'payment_Managed Care, Unspecified'\n",
    "- 'numberOfPaymentTypes' : count of the number of payment types used\n",
    "- 'Type of Admission_Elective'\n",
    "- 'Type of Admission_Emergency'\n",
    "- 'Type of Admission_Newborn'\n",
    "- 'Type of Admission_Not Available'\n",
    "- 'Type of Admission_Trauma'\n",
    "- 'Type of Admission_Urgent'\n",
    "- 'numberUrgentAdmits' : count of the number of admissions from emergency, trauma, or urgent per DRG per facility per year\n",
    "- 'emergencyRoom'\n",
    "- 'Hospital Ownership_Government - Hospital District or Authority'\n",
    "- 'Hospital Ownership_Government - Local'\n",
    "- 'Hospital Ownership_Government - State'\n",
    "- 'Hospital Ownership_Proprietary'\n",
    "- 'Hospital Ownership_Voluntary non-profit - Church'\n",
    "- 'Hospital Ownership_Voluntary non-profit - Other'\n",
    "- 'Hospital Ownership_Voluntary non-profit - Private'\n",
    "- 'rural_versus_urban_R'\n",
    "- 'rural_versus_urban_U'\n",
    "- 'ratioInsuredTotalPopulation' : census population estimate for insured / total population estimate\n",
    "- 'ratioFertilityTotalPopulation' : census population estimate for 15 to 50 yr old females / total population estimate\n",
    "- 'ratioChargesCosts' : charges/ cost per individual discharge\n",
    "- 'chargesPerDay' : charges / number of days stayed per individual discharge\n",
    "- 'avgNumberDaysDrg' : avg number of days for that specific DRG code per facility per year\n"
   ]
  },
  {
   "cell_type": "code",
   "execution_count": 24,
   "metadata": {},
   "outputs": [],
   "source": [
    "import os\n",
    "import pandas as pd\n",
    "import numpy as np"
   ]
  },
  {
   "cell_type": "code",
   "execution_count": 25,
   "metadata": {},
   "outputs": [],
   "source": [
    "aprHospFeat = pd.read_csv('dataFiles/compiledDischargesHospitalFeaturesCensus.csv', low_memory=False)"
   ]
  },
  {
   "cell_type": "code",
   "execution_count": 26,
   "metadata": {},
   "outputs": [],
   "source": [
    "aprHospFeat.drop(['Unnamed: 0'], axis=1, inplace=True)"
   ]
  },
  {
   "cell_type": "code",
   "execution_count": 27,
   "metadata": {},
   "outputs": [
    {
     "data": {
      "text/plain": [
       "(2209446, 41)"
      ]
     },
     "execution_count": 27,
     "metadata": {},
     "output_type": "execute_result"
    }
   ],
   "source": [
    "aprHospFeat.shape"
   ]
  },
  {
   "cell_type": "markdown",
   "metadata": {},
   "source": [
    "#### Recoding the categorical vars into OneHot"
   ]
  },
  {
   "cell_type": "markdown",
   "metadata": {},
   "source": [
    "##### Payment Types 1,2,3\n",
    "There are 3 columns for payment types. This variable is looking at the difference payment types across the 3 columns and inputing a \"1\" for the various types."
   ]
  },
  {
   "cell_type": "code",
   "execution_count": 28,
   "metadata": {},
   "outputs": [
    {
     "data": {
      "text/plain": [
       "array(['Medicare', 'Blue Cross/Blue Shield', 'Private Health Insurance',\n",
       "       'Self-Pay', 'Medicaid', 'Federal/State/Local/VA',\n",
       "       'Miscellaneous/Other', 'Department of Corrections',\n",
       "       'Managed Care, Unspecified'], dtype=object)"
      ]
     },
     "execution_count": 28,
     "metadata": {},
     "output_type": "execute_result"
    }
   ],
   "source": [
    "aprHospFeat['Payment Typology 1'].unique()[:-1]"
   ]
  },
  {
   "cell_type": "code",
   "execution_count": 29,
   "metadata": {},
   "outputs": [],
   "source": [
    "for i in range(len(aprHospFeat['Payment Typology 1'].unique())-1):\n",
    "    aprHospFeat.loc[(aprHospFeat['Payment Typology 1'] == aprHospFeat['Payment Typology 1'].unique()[i]) | \n",
    "                (aprHospFeat['Payment Typology 2'] == aprHospFeat['Payment Typology 1'].unique()[i]) |\n",
    "                (aprHospFeat['Payment Typology 3'] == aprHospFeat['Payment Typology 1'].unique()[i]), \n",
    "                    'payment_'+aprHospFeat['Payment Typology 1'].unique()[i]] = 1"
   ]
  },
  {
   "cell_type": "code",
   "execution_count": 30,
   "metadata": {},
   "outputs": [],
   "source": [
    "# replace the NaNs with 0\n",
    "for i in range(len(list(aprHospFeat.filter(like = 'payment').columns))):\n",
    "    aprHospFeat[list(aprHospFeat.filter(like = 'payment').columns)[i]].fillna(0, inplace=True)"
   ]
  },
  {
   "cell_type": "code",
   "execution_count": 31,
   "metadata": {},
   "outputs": [],
   "source": [
    "aprHospFeat['numberOfPaymentTypes'] = aprHospFeat.filter(like = 'payment').sum(axis=1)"
   ]
  },
  {
   "cell_type": "markdown",
   "metadata": {},
   "source": [
    "##### Type of Admission\n",
    "One hot encoding the type of admission. "
   ]
  },
  {
   "cell_type": "code",
   "execution_count": 32,
   "metadata": {},
   "outputs": [
    {
     "data": {
      "text/plain": [
       "array(['Urgent', 'Elective', 'Emergency', 'Newborn', 'Not Available',\n",
       "       'Trauma'], dtype=object)"
      ]
     },
     "execution_count": 32,
     "metadata": {},
     "output_type": "execute_result"
    }
   ],
   "source": [
    "aprHospFeat['Type of Admission'].unique()"
   ]
  },
  {
   "cell_type": "code",
   "execution_count": 33,
   "metadata": {},
   "outputs": [],
   "source": [
    "urgentAdmits = aprHospFeat[aprHospFeat['Type of Admission'].isin(['Urgent', 'Emergency', 'Trauma'])]\\\n",
    ".groupby(['yr', 'Facility Id', 'APR DRG Code']).count()[['APR DRG Description']].reset_index()\\\n",
    ".rename(index=str, columns={\"APR DRG Description\":\"numberUrgentAdmits\"})"
   ]
  },
  {
   "cell_type": "code",
   "execution_count": 34,
   "metadata": {},
   "outputs": [
    {
     "data": {
      "text/plain": [
       "(4672, 4)"
      ]
     },
     "execution_count": 34,
     "metadata": {},
     "output_type": "execute_result"
    }
   ],
   "source": [
    "urgentAdmits.shape"
   ]
  },
  {
   "cell_type": "code",
   "execution_count": 36,
   "metadata": {},
   "outputs": [],
   "source": [
    "aprHospFeat = pd.get_dummies(aprHospFeat, columns=['Type of Admission'])"
   ]
  },
  {
   "cell_type": "code",
   "execution_count": 39,
   "metadata": {},
   "outputs": [],
   "source": [
    "aprHospFeat = aprHospFeat.merge(urgentAdmits, how = 'outer',\n",
    "                                left_on=['yr','Facility Id' ,'APR DRG Code'],\n",
    "                                right_on=['yr','Facility Id' ,'APR DRG Code'])"
   ]
  },
  {
   "cell_type": "code",
   "execution_count": 72,
   "metadata": {},
   "outputs": [],
   "source": [
    "aprHospFeat['numberUrgentAdmits'].fillna(0, inplace=True)"
   ]
  },
  {
   "cell_type": "markdown",
   "metadata": {},
   "source": [
    "##### Emergency Department Indicator"
   ]
  },
  {
   "cell_type": "code",
   "execution_count": 41,
   "metadata": {},
   "outputs": [
    {
     "data": {
      "text/plain": [
       "array(['Y', 'N'], dtype=object)"
      ]
     },
     "execution_count": 41,
     "metadata": {},
     "output_type": "execute_result"
    }
   ],
   "source": [
    "aprHospFeat['Emergency Department Indicator'].unique()"
   ]
  },
  {
   "cell_type": "code",
   "execution_count": 42,
   "metadata": {},
   "outputs": [],
   "source": [
    "aprHospFeat.loc[aprHospFeat['Emergency Department Indicator'] == 'Y', 'emergencyRoom' ]= 1"
   ]
  },
  {
   "cell_type": "code",
   "execution_count": 43,
   "metadata": {},
   "outputs": [],
   "source": [
    "aprHospFeat['emergencyRoom'].fillna(0, inplace=True)"
   ]
  },
  {
   "cell_type": "markdown",
   "metadata": {},
   "source": [
    "##### Hospital Ownership"
   ]
  },
  {
   "cell_type": "code",
   "execution_count": 45,
   "metadata": {},
   "outputs": [],
   "source": [
    "aprHospFeat = pd.get_dummies(aprHospFeat, columns=['Hospital Ownership'])"
   ]
  },
  {
   "cell_type": "markdown",
   "metadata": {},
   "source": [
    "##### Rural vs Urban Setting"
   ]
  },
  {
   "cell_type": "code",
   "execution_count": 47,
   "metadata": {},
   "outputs": [],
   "source": [
    "aprHospFeat = pd.get_dummies(aprHospFeat, columns=['rural_versus_urban'])"
   ]
  },
  {
   "cell_type": "code",
   "execution_count": 48,
   "metadata": {},
   "outputs": [],
   "source": [
    "aprHospFeat.drop(['Payment Typology 1', 'Payment Typology 2', 'Payment Typology 3', \n",
    "                 'Emergency Department Indicator'], \n",
    "                axis=1, inplace=True)"
   ]
  },
  {
   "cell_type": "markdown",
   "metadata": {},
   "source": [
    "#### Feature Engineering & Creating New Variables"
   ]
  },
  {
   "cell_type": "markdown",
   "metadata": {},
   "source": [
    "##### Ratio # insured to # total population"
   ]
  },
  {
   "cell_type": "code",
   "execution_count": 50,
   "metadata": {},
   "outputs": [],
   "source": [
    "aprHospFeat['ratioInsuredTotalPopulation'] = aprHospFeat['totalInsured']/ aprHospFeat['totalPopulation']"
   ]
  },
  {
   "cell_type": "markdown",
   "metadata": {},
   "source": [
    "##### Ratio # fertile women to # total population"
   ]
  },
  {
   "cell_type": "code",
   "execution_count": 52,
   "metadata": {},
   "outputs": [],
   "source": [
    "aprHospFeat['ratioFertilityTotalPopulation'] = aprHospFeat['totalFertile']/ aprHospFeat['totalPopulation']"
   ]
  },
  {
   "cell_type": "markdown",
   "metadata": {},
   "source": [
    "##### Ratio total charges to total costs"
   ]
  },
  {
   "cell_type": "code",
   "execution_count": 54,
   "metadata": {},
   "outputs": [],
   "source": [
    "aprHospFeat['ratioChargesCosts'] = aprHospFeat['Total Charges']/ aprHospFeat['Total Costs']"
   ]
  },
  {
   "cell_type": "markdown",
   "metadata": {},
   "source": [
    "##### Charges per day of stay"
   ]
  },
  {
   "cell_type": "code",
   "execution_count": 56,
   "metadata": {},
   "outputs": [],
   "source": [
    "aprHospFeat.loc[aprHospFeat['Length of Stay']== '120 +', 'days'] = 120"
   ]
  },
  {
   "cell_type": "code",
   "execution_count": 57,
   "metadata": {},
   "outputs": [],
   "source": [
    "aprHospFeat.loc[aprHospFeat['Length of Stay'] != '120 +', 'days'] = aprHospFeat['Length of Stay']"
   ]
  },
  {
   "cell_type": "code",
   "execution_count": 58,
   "metadata": {},
   "outputs": [],
   "source": [
    "aprHospFeat['days'] = pd.to_numeric(aprHospFeat['days'])"
   ]
  },
  {
   "cell_type": "code",
   "execution_count": 60,
   "metadata": {},
   "outputs": [],
   "source": [
    "aprHospFeat['chargesPerDay'] = aprHospFeat['Total Charges']/ aprHospFeat['days']"
   ]
  },
  {
   "cell_type": "markdown",
   "metadata": {},
   "source": [
    "##### Average number of days per year per facility id per drg"
   ]
  },
  {
   "cell_type": "code",
   "execution_count": 67,
   "metadata": {},
   "outputs": [],
   "source": [
    "avgDays = aprHospFeat.groupby(['yr', 'Facility Id', 'APR DRG Code']).mean()[['days']].reset_index()\\\n",
    ".rename(index=str, columns={\"days\":\"avgNumberDays\"})"
   ]
  },
  {
   "cell_type": "code",
   "execution_count": 68,
   "metadata": {},
   "outputs": [
    {
     "data": {
      "text/plain": [
       "(4961, 4)"
      ]
     },
     "execution_count": 68,
     "metadata": {},
     "output_type": "execute_result"
    }
   ],
   "source": [
    "avgDays.shape"
   ]
  },
  {
   "cell_type": "code",
   "execution_count": 70,
   "metadata": {},
   "outputs": [],
   "source": [
    "aprHospFeat = aprHospFeat.merge(avgDays, left_on=['yr','Facility Id' ,'APR DRG Code'],\n",
    "                  right_on=['yr','Facility Id' ,'APR DRG Code'], how = 'outer')"
   ]
  },
  {
   "cell_type": "markdown",
   "metadata": {},
   "source": [
    "##### Split into C-Section & Knee Replacement"
   ]
  },
  {
   "cell_type": "code",
   "execution_count": 75,
   "metadata": {},
   "outputs": [],
   "source": [
    "kneeAprHospFeat = aprHospFeat[aprHospFeat['APR DRG Code'] == 302]"
   ]
  },
  {
   "cell_type": "code",
   "execution_count": 76,
   "metadata": {},
   "outputs": [
    {
     "data": {
      "text/html": [
       "<div>\n",
       "<style scoped>\n",
       "    .dataframe tbody tr th:only-of-type {\n",
       "        vertical-align: middle;\n",
       "    }\n",
       "\n",
       "    .dataframe tbody tr th {\n",
       "        vertical-align: top;\n",
       "    }\n",
       "\n",
       "    .dataframe thead th {\n",
       "        text-align: right;\n",
       "    }\n",
       "</style>\n",
       "<table border=\"1\" class=\"dataframe\">\n",
       "  <thead>\n",
       "    <tr style=\"text-align: right;\">\n",
       "      <th></th>\n",
       "      <th>Health Service Area</th>\n",
       "      <th>Facility Id</th>\n",
       "      <th>Length of Stay</th>\n",
       "      <th>APR DRG Code</th>\n",
       "      <th>APR DRG Description</th>\n",
       "      <th>APR Severity of Illness Code</th>\n",
       "      <th>Total Charges</th>\n",
       "      <th>Total Costs</th>\n",
       "      <th>yr</th>\n",
       "      <th>Provider ID</th>\n",
       "      <th>...</th>\n",
       "      <th>Hospital Ownership_Voluntary non-profit - Other</th>\n",
       "      <th>Hospital Ownership_Voluntary non-profit - Private</th>\n",
       "      <th>rural_versus_urban_R</th>\n",
       "      <th>rural_versus_urban_U</th>\n",
       "      <th>ratioInsuredTotalPopulation</th>\n",
       "      <th>ratioFertilityTotalPopulation</th>\n",
       "      <th>ratioChargesCosts</th>\n",
       "      <th>days</th>\n",
       "      <th>chargesPerDay</th>\n",
       "      <th>avgNumberDays</th>\n",
       "    </tr>\n",
       "  </thead>\n",
       "  <tbody>\n",
       "    <tr>\n",
       "      <th>3468</th>\n",
       "      <td>Western NY</td>\n",
       "      <td>39.0</td>\n",
       "      <td>3</td>\n",
       "      <td>302</td>\n",
       "      <td>Knee joint replacement</td>\n",
       "      <td>1.0</td>\n",
       "      <td>60638.50</td>\n",
       "      <td>30395.37</td>\n",
       "      <td>2015</td>\n",
       "      <td>330096</td>\n",
       "      <td>...</td>\n",
       "      <td>0</td>\n",
       "      <td>1</td>\n",
       "      <td>1</td>\n",
       "      <td>0</td>\n",
       "      <td>0.989499</td>\n",
       "      <td>0.218558</td>\n",
       "      <td>1.994991</td>\n",
       "      <td>3.0</td>\n",
       "      <td>20212.833333</td>\n",
       "      <td>3.5</td>\n",
       "    </tr>\n",
       "    <tr>\n",
       "      <th>3469</th>\n",
       "      <td>Western NY</td>\n",
       "      <td>39.0</td>\n",
       "      <td>3</td>\n",
       "      <td>302</td>\n",
       "      <td>Knee joint replacement</td>\n",
       "      <td>1.0</td>\n",
       "      <td>13911.00</td>\n",
       "      <td>6729.15</td>\n",
       "      <td>2015</td>\n",
       "      <td>330096</td>\n",
       "      <td>...</td>\n",
       "      <td>0</td>\n",
       "      <td>1</td>\n",
       "      <td>1</td>\n",
       "      <td>0</td>\n",
       "      <td>0.989499</td>\n",
       "      <td>0.218558</td>\n",
       "      <td>2.067274</td>\n",
       "      <td>3.0</td>\n",
       "      <td>4637.000000</td>\n",
       "      <td>3.5</td>\n",
       "    </tr>\n",
       "    <tr>\n",
       "      <th>3470</th>\n",
       "      <td>Western NY</td>\n",
       "      <td>39.0</td>\n",
       "      <td>3</td>\n",
       "      <td>302</td>\n",
       "      <td>Knee joint replacement</td>\n",
       "      <td>1.0</td>\n",
       "      <td>22726.00</td>\n",
       "      <td>10817.87</td>\n",
       "      <td>2015</td>\n",
       "      <td>330096</td>\n",
       "      <td>...</td>\n",
       "      <td>0</td>\n",
       "      <td>1</td>\n",
       "      <td>1</td>\n",
       "      <td>0</td>\n",
       "      <td>0.989499</td>\n",
       "      <td>0.218558</td>\n",
       "      <td>2.100783</td>\n",
       "      <td>3.0</td>\n",
       "      <td>7575.333333</td>\n",
       "      <td>3.5</td>\n",
       "    </tr>\n",
       "    <tr>\n",
       "      <th>3471</th>\n",
       "      <td>Western NY</td>\n",
       "      <td>39.0</td>\n",
       "      <td>4</td>\n",
       "      <td>302</td>\n",
       "      <td>Knee joint replacement</td>\n",
       "      <td>1.0</td>\n",
       "      <td>23922.75</td>\n",
       "      <td>11769.03</td>\n",
       "      <td>2015</td>\n",
       "      <td>330096</td>\n",
       "      <td>...</td>\n",
       "      <td>0</td>\n",
       "      <td>1</td>\n",
       "      <td>1</td>\n",
       "      <td>0</td>\n",
       "      <td>0.989499</td>\n",
       "      <td>0.218558</td>\n",
       "      <td>2.032687</td>\n",
       "      <td>4.0</td>\n",
       "      <td>5980.687500</td>\n",
       "      <td>3.5</td>\n",
       "    </tr>\n",
       "    <tr>\n",
       "      <th>3472</th>\n",
       "      <td>Western NY</td>\n",
       "      <td>39.0</td>\n",
       "      <td>4</td>\n",
       "      <td>302</td>\n",
       "      <td>Knee joint replacement</td>\n",
       "      <td>2.0</td>\n",
       "      <td>26156.75</td>\n",
       "      <td>13302.92</td>\n",
       "      <td>2015</td>\n",
       "      <td>330096</td>\n",
       "      <td>...</td>\n",
       "      <td>0</td>\n",
       "      <td>1</td>\n",
       "      <td>1</td>\n",
       "      <td>0</td>\n",
       "      <td>0.989499</td>\n",
       "      <td>0.218558</td>\n",
       "      <td>1.966241</td>\n",
       "      <td>4.0</td>\n",
       "      <td>6539.187500</td>\n",
       "      <td>3.5</td>\n",
       "    </tr>\n",
       "  </tbody>\n",
       "</table>\n",
       "<p>5 rows × 67 columns</p>\n",
       "</div>"
      ],
      "text/plain": [
       "     Health Service Area  Facility Id Length of Stay  APR DRG Code  \\\n",
       "3468          Western NY         39.0              3           302   \n",
       "3469          Western NY         39.0              3           302   \n",
       "3470          Western NY         39.0              3           302   \n",
       "3471          Western NY         39.0              4           302   \n",
       "3472          Western NY         39.0              4           302   \n",
       "\n",
       "         APR DRG Description  APR Severity of Illness Code  Total Charges  \\\n",
       "3468  Knee joint replacement                           1.0       60638.50   \n",
       "3469  Knee joint replacement                           1.0       13911.00   \n",
       "3470  Knee joint replacement                           1.0       22726.00   \n",
       "3471  Knee joint replacement                           1.0       23922.75   \n",
       "3472  Knee joint replacement                           2.0       26156.75   \n",
       "\n",
       "      Total Costs    yr  Provider ID      ...        \\\n",
       "3468     30395.37  2015       330096      ...         \n",
       "3469      6729.15  2015       330096      ...         \n",
       "3470     10817.87  2015       330096      ...         \n",
       "3471     11769.03  2015       330096      ...         \n",
       "3472     13302.92  2015       330096      ...         \n",
       "\n",
       "      Hospital Ownership_Voluntary non-profit - Other  \\\n",
       "3468                                                0   \n",
       "3469                                                0   \n",
       "3470                                                0   \n",
       "3471                                                0   \n",
       "3472                                                0   \n",
       "\n",
       "      Hospital Ownership_Voluntary non-profit - Private  rural_versus_urban_R  \\\n",
       "3468                                                  1                     1   \n",
       "3469                                                  1                     1   \n",
       "3470                                                  1                     1   \n",
       "3471                                                  1                     1   \n",
       "3472                                                  1                     1   \n",
       "\n",
       "      rural_versus_urban_U  ratioInsuredTotalPopulation  \\\n",
       "3468                     0                     0.989499   \n",
       "3469                     0                     0.989499   \n",
       "3470                     0                     0.989499   \n",
       "3471                     0                     0.989499   \n",
       "3472                     0                     0.989499   \n",
       "\n",
       "      ratioFertilityTotalPopulation  ratioChargesCosts  days  chargesPerDay  \\\n",
       "3468                       0.218558           1.994991   3.0   20212.833333   \n",
       "3469                       0.218558           2.067274   3.0    4637.000000   \n",
       "3470                       0.218558           2.100783   3.0    7575.333333   \n",
       "3471                       0.218558           2.032687   4.0    5980.687500   \n",
       "3472                       0.218558           1.966241   4.0    6539.187500   \n",
       "\n",
       "      avgNumberDays  \n",
       "3468            3.5  \n",
       "3469            3.5  \n",
       "3470            3.5  \n",
       "3471            3.5  \n",
       "3472            3.5  \n",
       "\n",
       "[5 rows x 67 columns]"
      ]
     },
     "execution_count": 76,
     "metadata": {},
     "output_type": "execute_result"
    }
   ],
   "source": [
    "kneeAprHospFeat.head()"
   ]
  },
  {
   "cell_type": "code",
   "execution_count": 80,
   "metadata": {},
   "outputs": [],
   "source": [
    "kneeAprHospFeat.to_csv('dataFiles/kneeAprHospFeat.csv')"
   ]
  },
  {
   "cell_type": "code",
   "execution_count": 82,
   "metadata": {},
   "outputs": [],
   "source": [
    "csecAprHospFeat = aprHospFeat[aprHospFeat['APR DRG Code'] == 540]"
   ]
  },
  {
   "cell_type": "code",
   "execution_count": 84,
   "metadata": {},
   "outputs": [
    {
     "data": {
      "text/html": [
       "<div>\n",
       "<style scoped>\n",
       "    .dataframe tbody tr th:only-of-type {\n",
       "        vertical-align: middle;\n",
       "    }\n",
       "\n",
       "    .dataframe tbody tr th {\n",
       "        vertical-align: top;\n",
       "    }\n",
       "\n",
       "    .dataframe thead th {\n",
       "        text-align: right;\n",
       "    }\n",
       "</style>\n",
       "<table border=\"1\" class=\"dataframe\">\n",
       "  <thead>\n",
       "    <tr style=\"text-align: right;\">\n",
       "      <th></th>\n",
       "      <th>Health Service Area</th>\n",
       "      <th>Facility Id</th>\n",
       "      <th>Length of Stay</th>\n",
       "      <th>APR DRG Code</th>\n",
       "      <th>APR DRG Description</th>\n",
       "      <th>APR Severity of Illness Code</th>\n",
       "      <th>Total Charges</th>\n",
       "      <th>Total Costs</th>\n",
       "      <th>yr</th>\n",
       "      <th>Provider ID</th>\n",
       "      <th>...</th>\n",
       "      <th>Hospital Ownership_Voluntary non-profit - Other</th>\n",
       "      <th>Hospital Ownership_Voluntary non-profit - Private</th>\n",
       "      <th>rural_versus_urban_R</th>\n",
       "      <th>rural_versus_urban_U</th>\n",
       "      <th>ratioInsuredTotalPopulation</th>\n",
       "      <th>ratioFertilityTotalPopulation</th>\n",
       "      <th>ratioChargesCosts</th>\n",
       "      <th>days</th>\n",
       "      <th>chargesPerDay</th>\n",
       "      <th>avgNumberDays</th>\n",
       "    </tr>\n",
       "  </thead>\n",
       "  <tbody>\n",
       "    <tr>\n",
       "      <th>152</th>\n",
       "      <td>Western NY</td>\n",
       "      <td>39.0</td>\n",
       "      <td>3</td>\n",
       "      <td>540</td>\n",
       "      <td>Cesarean delivery</td>\n",
       "      <td>1.0</td>\n",
       "      <td>6869.50</td>\n",
       "      <td>3887.27</td>\n",
       "      <td>2013</td>\n",
       "      <td>330096</td>\n",
       "      <td>...</td>\n",
       "      <td>0</td>\n",
       "      <td>1</td>\n",
       "      <td>1</td>\n",
       "      <td>0</td>\n",
       "      <td>0.989499</td>\n",
       "      <td>0.218558</td>\n",
       "      <td>1.767179</td>\n",
       "      <td>3.0</td>\n",
       "      <td>2289.833333</td>\n",
       "      <td>3.225806</td>\n",
       "    </tr>\n",
       "    <tr>\n",
       "      <th>153</th>\n",
       "      <td>Western NY</td>\n",
       "      <td>39.0</td>\n",
       "      <td>4</td>\n",
       "      <td>540</td>\n",
       "      <td>Cesarean delivery</td>\n",
       "      <td>1.0</td>\n",
       "      <td>7181.00</td>\n",
       "      <td>4322.47</td>\n",
       "      <td>2013</td>\n",
       "      <td>330096</td>\n",
       "      <td>...</td>\n",
       "      <td>0</td>\n",
       "      <td>1</td>\n",
       "      <td>1</td>\n",
       "      <td>0</td>\n",
       "      <td>0.989499</td>\n",
       "      <td>0.218558</td>\n",
       "      <td>1.661319</td>\n",
       "      <td>4.0</td>\n",
       "      <td>1795.250000</td>\n",
       "      <td>3.225806</td>\n",
       "    </tr>\n",
       "    <tr>\n",
       "      <th>154</th>\n",
       "      <td>Western NY</td>\n",
       "      <td>39.0</td>\n",
       "      <td>3</td>\n",
       "      <td>540</td>\n",
       "      <td>Cesarean delivery</td>\n",
       "      <td>1.0</td>\n",
       "      <td>6987.25</td>\n",
       "      <td>3925.10</td>\n",
       "      <td>2013</td>\n",
       "      <td>330096</td>\n",
       "      <td>...</td>\n",
       "      <td>0</td>\n",
       "      <td>1</td>\n",
       "      <td>1</td>\n",
       "      <td>0</td>\n",
       "      <td>0.989499</td>\n",
       "      <td>0.218558</td>\n",
       "      <td>1.780146</td>\n",
       "      <td>3.0</td>\n",
       "      <td>2329.083333</td>\n",
       "      <td>3.225806</td>\n",
       "    </tr>\n",
       "    <tr>\n",
       "      <th>155</th>\n",
       "      <td>Western NY</td>\n",
       "      <td>39.0</td>\n",
       "      <td>4</td>\n",
       "      <td>540</td>\n",
       "      <td>Cesarean delivery</td>\n",
       "      <td>1.0</td>\n",
       "      <td>7853.75</td>\n",
       "      <td>4884.78</td>\n",
       "      <td>2013</td>\n",
       "      <td>330096</td>\n",
       "      <td>...</td>\n",
       "      <td>0</td>\n",
       "      <td>1</td>\n",
       "      <td>1</td>\n",
       "      <td>0</td>\n",
       "      <td>0.989499</td>\n",
       "      <td>0.218558</td>\n",
       "      <td>1.607800</td>\n",
       "      <td>4.0</td>\n",
       "      <td>1963.437500</td>\n",
       "      <td>3.225806</td>\n",
       "    </tr>\n",
       "    <tr>\n",
       "      <th>156</th>\n",
       "      <td>Western NY</td>\n",
       "      <td>39.0</td>\n",
       "      <td>2</td>\n",
       "      <td>540</td>\n",
       "      <td>Cesarean delivery</td>\n",
       "      <td>1.0</td>\n",
       "      <td>5639.50</td>\n",
       "      <td>2904.07</td>\n",
       "      <td>2013</td>\n",
       "      <td>330096</td>\n",
       "      <td>...</td>\n",
       "      <td>0</td>\n",
       "      <td>1</td>\n",
       "      <td>1</td>\n",
       "      <td>0</td>\n",
       "      <td>0.989499</td>\n",
       "      <td>0.218558</td>\n",
       "      <td>1.941930</td>\n",
       "      <td>2.0</td>\n",
       "      <td>2819.750000</td>\n",
       "      <td>3.225806</td>\n",
       "    </tr>\n",
       "  </tbody>\n",
       "</table>\n",
       "<p>5 rows × 67 columns</p>\n",
       "</div>"
      ],
      "text/plain": [
       "    Health Service Area  Facility Id Length of Stay  APR DRG Code  \\\n",
       "152          Western NY         39.0              3           540   \n",
       "153          Western NY         39.0              4           540   \n",
       "154          Western NY         39.0              3           540   \n",
       "155          Western NY         39.0              4           540   \n",
       "156          Western NY         39.0              2           540   \n",
       "\n",
       "    APR DRG Description  APR Severity of Illness Code  Total Charges  \\\n",
       "152   Cesarean delivery                           1.0        6869.50   \n",
       "153   Cesarean delivery                           1.0        7181.00   \n",
       "154   Cesarean delivery                           1.0        6987.25   \n",
       "155   Cesarean delivery                           1.0        7853.75   \n",
       "156   Cesarean delivery                           1.0        5639.50   \n",
       "\n",
       "     Total Costs    yr  Provider ID      ...        \\\n",
       "152      3887.27  2013       330096      ...         \n",
       "153      4322.47  2013       330096      ...         \n",
       "154      3925.10  2013       330096      ...         \n",
       "155      4884.78  2013       330096      ...         \n",
       "156      2904.07  2013       330096      ...         \n",
       "\n",
       "     Hospital Ownership_Voluntary non-profit - Other  \\\n",
       "152                                                0   \n",
       "153                                                0   \n",
       "154                                                0   \n",
       "155                                                0   \n",
       "156                                                0   \n",
       "\n",
       "     Hospital Ownership_Voluntary non-profit - Private  rural_versus_urban_R  \\\n",
       "152                                                  1                     1   \n",
       "153                                                  1                     1   \n",
       "154                                                  1                     1   \n",
       "155                                                  1                     1   \n",
       "156                                                  1                     1   \n",
       "\n",
       "     rural_versus_urban_U  ratioInsuredTotalPopulation  \\\n",
       "152                     0                     0.989499   \n",
       "153                     0                     0.989499   \n",
       "154                     0                     0.989499   \n",
       "155                     0                     0.989499   \n",
       "156                     0                     0.989499   \n",
       "\n",
       "     ratioFertilityTotalPopulation  ratioChargesCosts  days  chargesPerDay  \\\n",
       "152                       0.218558           1.767179   3.0    2289.833333   \n",
       "153                       0.218558           1.661319   4.0    1795.250000   \n",
       "154                       0.218558           1.780146   3.0    2329.083333   \n",
       "155                       0.218558           1.607800   4.0    1963.437500   \n",
       "156                       0.218558           1.941930   2.0    2819.750000   \n",
       "\n",
       "     avgNumberDays  \n",
       "152       3.225806  \n",
       "153       3.225806  \n",
       "154       3.225806  \n",
       "155       3.225806  \n",
       "156       3.225806  \n",
       "\n",
       "[5 rows x 67 columns]"
      ]
     },
     "execution_count": 84,
     "metadata": {},
     "output_type": "execute_result"
    }
   ],
   "source": [
    "csecAprHospFeat.head()"
   ]
  },
  {
   "cell_type": "code",
   "execution_count": 85,
   "metadata": {},
   "outputs": [],
   "source": [
    "csecAprHospFeat.to_csv('dataFiles/cSectionAprHospFeat.csv')"
   ]
  }
 ],
 "metadata": {
  "kernelspec": {
   "display_name": "mgPUI",
   "language": "python",
   "name": "mgpui"
  },
  "language_info": {
   "codemirror_mode": {
    "name": "ipython",
    "version": 3
   },
   "file_extension": ".py",
   "mimetype": "text/x-python",
   "name": "python",
   "nbconvert_exporter": "python",
   "pygments_lexer": "ipython3",
   "version": "3.7.2"
  }
 },
 "nbformat": 4,
 "nbformat_minor": 2
}
