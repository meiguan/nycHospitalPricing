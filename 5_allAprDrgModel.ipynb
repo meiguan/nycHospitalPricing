{
 "cells": [
  {
   "cell_type": "markdown",
   "metadata": {},
   "source": [
    "##### 5_allAprDrgModel\n",
    "\n",
    "This notebook takes the csv that was compiled from the notebook 4_featureEngineering"
   ]
  },
  {
   "cell_type": "code",
   "execution_count": 36,
   "metadata": {},
   "outputs": [],
   "source": [
    "import os\n",
    "import json\n",
    "\n",
    "import numpy as np\n",
    "import pandas as pd\n",
    "\n",
    "import seaborn as sns\n",
    "import statsmodels.api as sm\n",
    "import statsmodels.formula.api as smf\n",
    "from sklearn.linear_model import LinearRegression\n",
    "from sklearn.decomposition import PCA\n",
    "from sklearn.discriminant_analysis import LinearDiscriminantAnalysis\n",
    "from sklearn.tree import DecisionTreeRegressor\n",
    "from sklearn.ensemble import RandomForestRegressor\n",
    "from sklearn.model_selection import train_test_split\n",
    "from sklearn import preprocessing\n",
    "from sklearn.tree import export_graphviz\n",
    "\n",
    "from matplotlib import pyplot as plt\n",
    "%matplotlib inline"
   ]
  },
  {
   "cell_type": "markdown",
   "metadata": {},
   "source": [
    "##### Data Prep"
   ]
  },
  {
   "cell_type": "code",
   "execution_count": 2,
   "metadata": {},
   "outputs": [],
   "source": [
    "dataFol = os.getcwd() + \"/dataFiles/\""
   ]
  },
  {
   "cell_type": "code",
   "execution_count": 3,
   "metadata": {},
   "outputs": [
    {
     "name": "stderr",
     "output_type": "stream",
     "text": [
      "/nfshome/yg833/.conda/envs/mgPUI/lib/python3.7/site-packages/IPython/core/interactiveshell.py:3020: DtypeWarning: Columns (3) have mixed types. Specify dtype option on import or set low_memory=False.\n",
      "  interactivity=interactivity, compiler=compiler, result=result)\n"
     ]
    }
   ],
   "source": [
    "top10df = pd.read_csv(dataFol + 'top10AprHospFeat.csv')"
   ]
  },
  {
   "cell_type": "code",
   "execution_count": 4,
   "metadata": {},
   "outputs": [
    {
     "data": {
      "text/plain": [
       "(2209446, 68)"
      ]
     },
     "execution_count": 4,
     "metadata": {},
     "output_type": "execute_result"
    }
   ],
   "source": [
    "l1 = len(top10df)\n",
    "top10df.shape"
   ]
  },
  {
   "cell_type": "code",
   "execution_count": 5,
   "metadata": {},
   "outputs": [],
   "source": [
    "top10df.drop(['Unnamed: 0',\n",
    "              'APR DRG Code', \n",
    "              'Efficient use of medical imaging national comparison', # too many NaNs\n",
    "              'number_of_interns_and',\n",
    "              'geometry', #removing spatial columns\n",
    "              'lonlat',\n",
    "              'lat',\n",
    "              'long',\n",
    "              'puma',\n",
    "              'Provider ID', # already have facility id\n",
    "              'rural_versus_urban_R', # already have rural_versus_urban_U\n",
    "              'Total Costs', # related to charges\n",
    "              'ratioChargesCosts',\n",
    "              'chargesPerDay', \n",
    "              'ratioSumChargesPerFacPerYrToBedDays',\n",
    "              'sumChargesPerFacIdPerYr',\n",
    "              'Length of Stay', # object and same as days\n",
    "              'totalFertile', # does not seem to be important to DRGs not related to birth\n",
    "              'ratioFertilityTotalPopulation'], axis=1, inplace=True)"
   ]
  },
  {
   "cell_type": "code",
   "execution_count": 6,
   "metadata": {},
   "outputs": [],
   "source": [
    "top10df.dropna(inplace=True)"
   ]
  },
  {
   "cell_type": "code",
   "execution_count": 7,
   "metadata": {},
   "outputs": [
    {
     "data": {
      "text/plain": [
       "(2133701, 49)"
      ]
     },
     "execution_count": 7,
     "metadata": {},
     "output_type": "execute_result"
    }
   ],
   "source": [
    "l2 = len(top10df)\n",
    "top10df.shape"
   ]
  },
  {
   "cell_type": "code",
   "execution_count": 8,
   "metadata": {},
   "outputs": [
    {
     "name": "stdout",
     "output_type": "stream",
     "text": [
      "lost  3.428234951204963 % of data\n"
     ]
    }
   ],
   "source": [
    "print('lost ', str((l1-l2)/l1*100), '% of data') "
   ]
  },
  {
   "cell_type": "markdown",
   "metadata": {},
   "source": [
    "Separate out the categorical like variables from the numerical variables to normalize"
   ]
  },
  {
   "cell_type": "code",
   "execution_count": 9,
   "metadata": {},
   "outputs": [
    {
     "data": {
      "text/plain": [
       "<bound method IndexOpsMixin.tolist of Index(['Health Service Area', 'Facility Id', 'APR DRG Description',\n",
       "       'APR Severity of Illness Code', 'Total Charges', 'yr',\n",
       "       'Hospital overall rating', 'Mortality national comparison',\n",
       "       'Safety of care national comparison', 'Readmission national comparison',\n",
       "       'Patient experience national comparison',\n",
       "       'Effectiveness of care national comparison',\n",
       "       'Timeliness of care national comparison', 'fte_employees_on_payroll',\n",
       "       'number_of_beds', 'totalPopulation', 'totalInsured',\n",
       "       'countPerDrgPerFacIdPerYr', 'countPerFacIdPerYr', 'ratioDrgToFacility',\n",
       "       'payment_Medicare', 'payment_Blue Cross/Blue Shield',\n",
       "       'payment_Private Health Insurance', 'payment_Self-Pay',\n",
       "       'payment_Medicaid', 'payment_Federal/State/Local/VA',\n",
       "       'payment_Miscellaneous/Other', 'payment_Department of Corrections',\n",
       "       'payment_Managed Care, Unspecified', 'numberOfPaymentTypes',\n",
       "       'Type of Admission_Elective', 'Type of Admission_Emergency',\n",
       "       'Type of Admission_Newborn', 'Type of Admission_Not Available',\n",
       "       'Type of Admission_Trauma', 'Type of Admission_Urgent',\n",
       "       'numberUrgentAdmits', 'emergencyRoom',\n",
       "       'Hospital Ownership_Government - Hospital District or Authority',\n",
       "       'Hospital Ownership_Government - Local',\n",
       "       'Hospital Ownership_Government - State',\n",
       "       'Hospital Ownership_Proprietary',\n",
       "       'Hospital Ownership_Voluntary non-profit - Church',\n",
       "       'Hospital Ownership_Voluntary non-profit - Other',\n",
       "       'Hospital Ownership_Voluntary non-profit - Private',\n",
       "       'rural_versus_urban_U', 'ratioInsuredTotalPopulation', 'days',\n",
       "       'avgNumberDays'],\n",
       "      dtype='object')>"
      ]
     },
     "execution_count": 9,
     "metadata": {},
     "output_type": "execute_result"
    }
   ],
   "source": [
    "top10df.columns.tolist"
   ]
  },
  {
   "cell_type": "code",
   "execution_count": 10,
   "metadata": {},
   "outputs": [],
   "source": [
    "cols_to_scale = ['fte_employees_on_payroll', 'number_of_beds',\n",
    "                 'totalPopulation', 'totalInsured',\n",
    "                 'countPerDrgPerFacIdPerYr', 'countPerFacIdPerYr',\n",
    "                 'ratioDrgToFacility', 'numberOfPaymentTypes',\n",
    "                 'numberUrgentAdmits', 'ratioInsuredTotalPopulation',\n",
    "                 'days', 'avgNumberDays']"
   ]
  },
  {
   "cell_type": "code",
   "execution_count": 11,
   "metadata": {},
   "outputs": [
    {
     "name": "stderr",
     "output_type": "stream",
     "text": [
      "/nfshome/yg833/.conda/envs/mgPUI/lib/python3.7/site-packages/sklearn/utils/validation.py:595: DataConversionWarning: Data with input dtype int64 was converted to float64 by the scale function.\n",
      "  warnings.warn(msg, DataConversionWarning)\n",
      "/nfshome/yg833/.conda/envs/mgPUI/lib/python3.7/site-packages/sklearn/utils/validation.py:595: DataConversionWarning: Data with input dtype int64 was converted to float64 by the scale function.\n",
      "  warnings.warn(msg, DataConversionWarning)\n",
      "/nfshome/yg833/.conda/envs/mgPUI/lib/python3.7/site-packages/sklearn/utils/validation.py:595: DataConversionWarning: Data with input dtype int64 was converted to float64 by the scale function.\n",
      "  warnings.warn(msg, DataConversionWarning)\n",
      "/nfshome/yg833/.conda/envs/mgPUI/lib/python3.7/site-packages/sklearn/utils/validation.py:595: DataConversionWarning: Data with input dtype int64 was converted to float64 by the scale function.\n",
      "  warnings.warn(msg, DataConversionWarning)\n"
     ]
    }
   ],
   "source": [
    "for cols in range(len(cols_to_scale)):\n",
    "    top10df[str('scale_'+cols_to_scale[cols])] = preprocessing.scale(top10df[cols_to_scale[cols]])"
   ]
  },
  {
   "cell_type": "code",
   "execution_count": 12,
   "metadata": {},
   "outputs": [],
   "source": [
    "top10df = pd.get_dummies(top10df, columns=['Health Service Area', 'APR DRG Description', 'Facility Id'])"
   ]
  },
  {
   "cell_type": "code",
   "execution_count": 13,
   "metadata": {},
   "outputs": [
    {
     "data": {
      "text/plain": [
       "(2133701, 190)"
      ]
     },
     "execution_count": 13,
     "metadata": {},
     "output_type": "execute_result"
    }
   ],
   "source": [
    "top10df.shape"
   ]
  },
  {
   "cell_type": "markdown",
   "metadata": {},
   "source": [
    "##### Train Test Split for PCA, LDA, OLS"
   ]
  },
  {
   "cell_type": "code",
   "execution_count": 14,
   "metadata": {},
   "outputs": [],
   "source": [
    "x_val = top10df.drop(['Total Charges', # drop variables not to be used in the feature set\n",
    "                      'fte_employees_on_payroll', 'number_of_beds', 'totalPopulation', #these were scaled so no need to use it again\n",
    "                      'totalInsured',\n",
    "                      'countPerDrgPerFacIdPerYr',\n",
    "                      'countPerFacIdPerYr',\n",
    "                      'ratioDrgToFacility',\n",
    "                      'numberOfPaymentTypes',\n",
    "                      'numberUrgentAdmits',\n",
    "                      'ratioInsuredTotalPopulation',\n",
    "                      'days', 'avgNumberDays'], axis=1)"
   ]
  },
  {
   "cell_type": "code",
   "execution_count": 15,
   "metadata": {},
   "outputs": [
    {
     "data": {
      "text/plain": [
       "(2133701, 177)"
      ]
     },
     "execution_count": 15,
     "metadata": {},
     "output_type": "execute_result"
    }
   ],
   "source": [
    "x_val.shape"
   ]
  },
  {
   "cell_type": "code",
   "execution_count": 16,
   "metadata": {},
   "outputs": [],
   "source": [
    "top10df['scaledCharges'] = preprocessing.scale(np.log(top10df['Total Charges']))"
   ]
  },
  {
   "cell_type": "code",
   "execution_count": 17,
   "metadata": {},
   "outputs": [],
   "source": [
    "y_val = top10df['scaledCharges']"
   ]
  },
  {
   "cell_type": "code",
   "execution_count": 18,
   "metadata": {},
   "outputs": [
    {
     "data": {
      "text/plain": [
       "(2133701,)"
      ]
     },
     "execution_count": 18,
     "metadata": {},
     "output_type": "execute_result"
    }
   ],
   "source": [
    "y_val.shape"
   ]
  },
  {
   "cell_type": "code",
   "execution_count": 19,
   "metadata": {},
   "outputs": [],
   "source": [
    "X_train, X_test, y_train, y_test = train_test_split(x_val, y_val, test_size=0.33, random_state=13)"
   ]
  },
  {
   "cell_type": "markdown",
   "metadata": {},
   "source": [
    "##### Multivariate Linear Regression"
   ]
  },
  {
   "cell_type": "markdown",
   "metadata": {},
   "source": [
    "##### statsmodels for the summary table"
   ]
  },
  {
   "cell_type": "code",
   "execution_count": 20,
   "metadata": {},
   "outputs": [
    {
     "name": "stdout",
     "output_type": "stream",
     "text": [
      "                            OLS Regression Results                            \n",
      "==============================================================================\n",
      "Dep. Variable:          scaledCharges   R-squared:                       0.831\n",
      "Model:                            OLS   Adj. R-squared:                  0.831\n",
      "Method:                 Least Squares   F-statistic:                 4.849e+04\n",
      "Date:                Thu, 09 May 2019   Prob (F-statistic):               0.00\n",
      "Time:                        23:34:43   Log-Likelihood:            -7.5746e+05\n",
      "No. Observations:             1429579   AIC:                         1.515e+06\n",
      "Df Residuals:                 1429433   BIC:                         1.517e+06\n",
      "Df Model:                         145                                         \n",
      "Covariance Type:            nonrobust                                         \n",
      "=========================================================================================================================================================\n",
      "                                                                                            coef    std err          t      P>|t|      [0.025      0.975]\n",
      "---------------------------------------------------------------------------------------------------------------------------------------------------------\n",
      "const                                                                                   -52.1159      0.282   -184.707      0.000     -52.669     -51.563\n",
      "APR Severity of Illness Code                                                              0.2358      0.001    432.512      0.000       0.235       0.237\n",
      "yr                                                                                        0.0588      0.000    183.331      0.000       0.058       0.059\n",
      "Hospital overall rating                                                                  -5.9333      0.032   -184.411      0.000      -5.996      -5.870\n",
      "Mortality national comparison                                                             2.1420      0.011    190.922      0.000       2.120       2.164\n",
      "Safety of care national comparison                                                        2.4266      0.013    185.522      0.000       2.401       2.452\n",
      "Readmission national comparison                                                           2.6896      0.015    181.590      0.000       2.661       2.719\n",
      "Patient experience national comparison                                                    4.4113      0.024    183.558      0.000       4.364       4.458\n",
      "Effectiveness of care national comparison                                                 2.1785      0.011    193.912      0.000       2.156       2.200\n",
      "Timeliness of care national comparison                                                    2.3549      0.013    180.531      0.000       2.329       2.381\n",
      "payment_Medicare                                                                         -8.1716      0.045   -182.990      0.000      -8.259      -8.084\n",
      "payment_Blue Cross/Blue Shield                                                           -8.2239      0.045   -184.211      0.000      -8.311      -8.136\n",
      "payment_Private Health Insurance                                                         -8.2252      0.045   -184.233      0.000      -8.313      -8.138\n",
      "payment_Self-Pay                                                                         -8.2401      0.045   -184.775      0.000      -8.328      -8.153\n",
      "payment_Medicaid                                                                         -8.2219      0.045   -184.114      0.000      -8.309      -8.134\n",
      "payment_Federal/State/Local/VA                                                           -8.2539      0.045   -184.402      0.000      -8.342      -8.166\n",
      "payment_Miscellaneous/Other                                                              -8.2857      0.045   -185.120      0.000      -8.373      -8.198\n",
      "payment_Department of Corrections                                                        -8.3220      0.045   -183.441      0.000      -8.411      -8.233\n",
      "payment_Managed Care, Unspecified                                                        -8.2315      0.045   -184.177      0.000      -8.319      -8.144\n",
      "Type of Admission_Elective                                                               -8.6936      0.047   -183.971      0.000      -8.786      -8.601\n",
      "Type of Admission_Emergency                                                              -8.6940      0.047   -183.753      0.000      -8.787      -8.601\n",
      "Type of Admission_Newborn                                                                -8.7785      0.047   -184.857      0.000      -8.872      -8.685\n",
      "Type of Admission_Not Available                                                          -8.6825      0.049   -178.455      0.000      -8.778      -8.587\n",
      "Type of Admission_Trauma                                                                 -8.6192      0.051   -168.360      0.000      -8.720      -8.519\n",
      "Type of Admission_Urgent                                                                 -8.6481      0.047   -182.893      0.000      -8.741      -8.555\n",
      "emergencyRoom                                                                             0.1205      0.002     80.117      0.000       0.118       0.123\n",
      "Hospital Ownership_Government - Hospital District or Authority                           -5.2167      0.030   -176.469      0.000      -5.275      -5.159\n",
      "Hospital Ownership_Government - Local                                                    -7.7342      0.041   -188.707      0.000      -7.815      -7.654\n",
      "Hospital Ownership_Government - State                                                    -6.2981      0.034   -184.247      0.000      -6.365      -6.231\n",
      "Hospital Ownership_Proprietary                                                           -8.9835      0.048   -187.389      0.000      -9.077      -8.890\n",
      "Hospital Ownership_Voluntary non-profit - Church                                         -8.9949      0.049   -183.550      0.000      -9.091      -8.899\n",
      "Hospital Ownership_Voluntary non-profit - Other                                          -6.4530      0.035   -183.958      0.000      -6.522      -6.384\n",
      "Hospital Ownership_Voluntary non-profit - Private                                        -8.4356      0.046   -184.350      0.000      -8.525      -8.346\n",
      "rural_versus_urban_U                                                                     -6.1460      0.035   -177.154      0.000      -6.214      -6.078\n",
      "scale_fte_employees_on_payroll                                                           -0.2237      0.002   -115.863      0.000      -0.227      -0.220\n",
      "scale_number_of_beds                                                                      2.0773      0.010    214.166      0.000       2.058       2.096\n",
      "scale_totalPopulation                                                                     0.0739      0.001    101.906      0.000       0.073       0.075\n",
      "scale_totalInsured                                                                        0.7892      0.005    172.291      0.000       0.780       0.798\n",
      "scale_countPerDrgPerFacIdPerYr                                                            0.0674      0.001     58.812      0.000       0.065       0.070\n",
      "scale_countPerFacIdPerYr                                                                 -0.1807      0.004    -49.770      0.000      -0.188      -0.174\n",
      "scale_ratioDrgToFacility                                                                 -0.0743      0.001    -63.871      0.000      -0.077      -0.072\n",
      "scale_numberOfPaymentTypes                                                                4.9793      0.027    184.103      0.000       4.926       5.032\n",
      "scale_numberUrgentAdmits                                                                  0.0085      0.001     14.444      0.000       0.007       0.010\n",
      "scale_ratioInsuredTotalPopulation                                                         1.0583      0.006    179.398      0.000       1.047       1.070\n",
      "scale_days                                                                                0.3785      0.000    896.298      0.000       0.378       0.379\n",
      "scale_avgNumberDays                                                                      -0.0163      0.001    -13.042      0.000      -0.019      -0.014\n",
      "Health Service Area_Capital/Adiron                                                       -5.7245      0.031   -186.370      0.000      -5.785      -5.664\n",
      "Health Service Area_Central NY                                                           -7.5396      0.039   -191.838      0.000      -7.617      -7.463\n",
      "Health Service Area_Finger Lakes                                                         -4.6104      0.023   -201.969      0.000      -4.655      -4.566\n",
      "Health Service Area_Hudson Valley                                                        -6.1631      0.035   -175.832      0.000      -6.232      -6.094\n",
      "Health Service Area_Long Island                                                          -4.0006      0.025   -160.845      0.000      -4.049      -3.952\n",
      "Health Service Area_New York City                                                        -7.8359      0.045   -175.919      0.000      -7.923      -7.749\n",
      "Health Service Area_Southern Tier                                                        -8.4066      0.045   -188.754      0.000      -8.494      -8.319\n",
      "Health Service Area_Western NY                                                           -7.8351      0.041   -192.987      0.000      -7.915      -7.756\n",
      "APR DRG Description_Cellulitis & other skin infections                                   -5.3153      0.028   -188.370      0.000      -5.371      -5.260\n",
      "APR DRG Description_Cesarean delivery                                                    -5.0255      0.028   -178.248      0.000      -5.081      -4.970\n",
      "APR DRG Description_Chronic obstructive pulmonary disease                                -5.2340      0.028   -185.463      0.000      -5.289      -5.179\n",
      "APR DRG Description_Heart failure                                                        -5.1757      0.028   -183.145      0.000      -5.231      -5.120\n",
      "APR DRG Description_Knee joint replacement                                               -4.0850      0.028   -144.499      0.000      -4.140      -4.030\n",
      "APR DRG Description_Neonate birthwt >2499g, normal newborn or neonate w other problem    -5.9929      0.029   -209.834      0.000      -6.049      -5.937\n",
      "APR DRG Description_Other pneumonia                                                      -5.2530      0.028   -186.104      0.000      -5.308      -5.198\n",
      "APR DRG Description_Schizophrenia                                                        -5.5552      0.029   -191.972      0.000      -5.612      -5.498\n",
      "APR DRG Description_Septicemia & disseminated infections                                 -5.0562      0.028   -178.408      0.000      -5.112      -5.001\n",
      "APR DRG Description_Vaginal delivery                                                     -5.4230      0.028   -192.704      0.000      -5.478      -5.368\n",
      "Facility Id_1.0                                                                          -1.5208      0.011   -141.931      0.000      -1.542      -1.500\n",
      "Facility Id_4.0                                                                           3.8687      0.024    158.558      0.000       3.821       3.917\n",
      "Facility Id_5.0                                                                           4.4308      0.024    184.872      0.000       4.384       4.478\n",
      "Facility Id_42.0                                                                         -0.9868      0.007   -137.146      0.000      -1.001      -0.973\n",
      "Facility Id_43.0                                                                          1.3636      0.010    137.564      0.000       1.344       1.383\n",
      "Facility Id_66.0                                                                         -4.9190      0.028   -174.995      0.000      -4.974      -4.864\n",
      "Facility Id_85.0                                                                         -3.3212      0.019   -171.212      0.000      -3.359      -3.283\n",
      "Facility Id_98.0                                                                         -8.4236      0.047   -180.152      0.000      -8.515      -8.332\n",
      "Facility Id_103.0                                                                        -3.1795      0.017   -188.642      0.000      -3.213      -3.146\n",
      "Facility Id_116.0                                                                         3.7353      0.021    177.713      0.000       3.694       3.776\n",
      "Facility Id_128.0                                                                        -8.7834      0.050   -177.229      0.000      -8.881      -8.686\n",
      "Facility Id_135.0                                                                         0.4389      0.005     97.155      0.000       0.430       0.448\n",
      "Facility Id_146.0                                                                        -0.6363      0.006   -111.372      0.000      -0.648      -0.625\n",
      "Facility Id_158.0                                                                        -0.9960      0.006   -156.014      0.000      -1.009      -0.983\n",
      "Facility Id_181.0                                                                        -1.3104      0.008   -154.680      0.000      -1.327      -1.294\n",
      "Facility Id_207.0                                                                        -3.1679      0.016   -199.727      0.000      -3.199      -3.137\n",
      "Facility Id_210.0                                                                         6.9224      0.037    189.005      0.000       6.851       6.994\n",
      "Facility Id_213.0                                                                        -4.2553      0.025   -171.256      0.000      -4.304      -4.207\n",
      "Facility Id_218.0                                                                         2.4090      0.013    189.765      0.000       2.384       2.434\n",
      "Facility Id_267.0                                                                         0.0254      0.005      5.275      0.000       0.016       0.035\n",
      "Facility Id_324.0                                                                        -4.0525      0.023   -174.615      0.000      -4.098      -4.007\n",
      "Facility Id_325.0                                                                        -4.7455      0.024   -196.737      0.000      -4.793      -4.698\n",
      "Facility Id_330.0                                                                        -0.7058      0.008    -91.240      0.000      -0.721      -0.691\n",
      "Facility Id_339.0                                                                         0.7044      0.007    103.454      0.000       0.691       0.718\n",
      "Facility Id_367.0                                                                        -0.0442      0.004    -12.559      0.000      -0.051      -0.037\n",
      "Facility Id_393.0                                                                         1.6257      0.012    132.096      0.000       1.602       1.650\n",
      "Facility Id_397.0                                                                        -6.3778      0.035   -180.482      0.000      -6.447      -6.308\n",
      "Facility Id_409.0                                                                        -0.5395      0.004   -132.138      0.000      -0.547      -0.531\n",
      "Facility Id_411.0                                                                         1.4434      0.008    177.869      0.000       1.427       1.459\n",
      "Facility Id_413.0                                                                       -12.5538      0.069   -181.955      0.000     -12.689     -12.419\n",
      "Facility Id_471.0                                                                         1.9290      0.012    164.784      0.000       1.906       1.952\n",
      "Facility Id_484.0                                                                        -2.9907      0.017   -179.178      0.000      -3.023      -2.958\n",
      "Facility Id_511.0                                                                        -0.6536      0.005   -121.734      0.000      -0.664      -0.643\n",
      "Facility Id_513.0                                                                        -8.2473      0.044   -185.989      0.000      -8.334      -8.160\n",
      "Facility Id_528.0                                                                         0.7599      0.005    146.317      0.000       0.750       0.770\n",
      "Facility Id_541.0                                                                         1.3762      0.007    198.975      0.000       1.363       1.390\n",
      "Facility Id_551.0                                                                         3.2893      0.020    167.479      0.000       3.251       3.328\n",
      "Facility Id_552.0                                                                         1.0503      0.009    116.514      0.000       1.033       1.068\n",
      "Facility Id_563.0                                                                        -5.3346      0.028   -187.203      0.000      -5.390      -5.279\n",
      "Facility Id_565.0                                                                         2.1863      0.014    157.198      0.000       2.159       2.214\n",
      "Facility Id_574.0                                                                         2.4733      0.015    168.038      0.000       2.444       2.502\n",
      "Facility Id_583.0                                                                         1.3893      0.010    133.372      0.000       1.369       1.410\n",
      "Facility Id_598.0                                                                         2.2417      0.013    176.098      0.000       2.217       2.267\n",
      "Facility Id_599.0                                                                         1.7894      0.009    196.535      0.000       1.772       1.807\n",
      "Facility Id_630.0                                                                         4.4020      0.024    185.541      0.000       4.355       4.448\n",
      "Facility Id_635.0                                                                        -3.8636      0.023   -169.960      0.000      -3.908      -3.819\n",
      "Facility Id_636.0                                                                         4.5346      0.025    184.877      0.000       4.487       4.583\n",
      "Facility Id_678.0                                                                        -3.9116      0.020   -191.886      0.000      -3.952      -3.872\n",
      "Facility Id_694.0                                                                         3.3588      0.019    179.701      0.000       3.322       3.395\n",
      "Facility Id_699.0                                                                         3.5718      0.018    197.205      0.000       3.536       3.607\n",
      "Facility Id_704.0                                                                        -6.3154      0.036   -176.144      0.000      -6.386      -6.245\n",
      "Facility Id_708.0                                                                         0.9409      0.008    122.432      0.000       0.926       0.956\n",
      "Facility Id_727.0                                                                         2.2223      0.014    162.825      0.000       2.196       2.249\n",
      "Facility Id_752.0                                                                        -0.0270      0.005     -5.312      0.000      -0.037      -0.017\n",
      "Facility Id_756.0                                                                        -1.6205      0.010   -161.229      0.000      -1.640      -1.601\n",
      "Facility Id_776.0                                                                         1.2543      0.006    205.592      0.000       1.242       1.266\n",
      "Facility Id_779.0                                                                        -2.5914      0.015   -172.396      0.000      -2.621      -2.562\n",
      "Facility Id_798.0                                                                        -0.7147      0.007    -97.493      0.000      -0.729      -0.700\n",
      "Facility Id_804.0                                                                        -2.9232      0.016   -177.558      0.000      -2.955      -2.891\n",
      "Facility Id_815.0                                                                        -0.7078      0.007   -106.734      0.000      -0.721      -0.695\n",
      "Facility Id_818.0                                                                        -0.3357      0.005    -72.829      0.000      -0.345      -0.327\n",
      "Facility Id_829.0                                                                        -1.8503      0.012   -155.477      0.000      -1.874      -1.827\n",
      "Facility Id_866.0                                                                         0.7346      0.006    116.731      0.000       0.722       0.747\n",
      "Facility Id_885.0                                                                        -4.6191      0.026   -176.583      0.000      -4.670      -4.568\n",
      "Facility Id_895.0                                                                        -1.4729      0.009   -157.352      0.000      -1.491      -1.455\n",
      "Facility Id_896.0                                                                         5.0424      0.027    189.894      0.000       4.990       5.094\n",
      "Facility Id_913.0                                                                         2.6793      0.016    171.522      0.000       2.649       2.710\n",
      "Facility Id_924.0                                                                         1.0854      0.006    192.273      0.000       1.074       1.096\n",
      "Facility Id_925.0                                                                        -2.5862      0.016   -166.759      0.000      -2.617      -2.556\n",
      "Facility Id_938.0                                                                         1.7039      0.011    148.598      0.000       1.681       1.726\n",
      "Facility Id_943.0                                                                         1.9263      0.010    185.650      0.000       1.906       1.947\n",
      "Facility Id_977.0                                                                        -3.7811      0.019   -202.234      0.000      -3.818      -3.744\n",
      "Facility Id_990.0                                                                        -0.4825      0.005    -88.138      0.000      -0.493      -0.472\n",
      "Facility Id_1005.0                                                                        3.9953      0.021    186.184      0.000       3.953       4.037\n",
      "Facility Id_1028.0                                                                        2.9266      0.016    183.616      0.000       2.895       2.958\n",
      "Facility Id_1039.0                                                                       -0.0597      0.004    -13.676      0.000      -0.068      -0.051\n",
      "Facility Id_1072.0                                                                       -1.5761      0.010   -159.732      0.000      -1.595      -1.557\n",
      "Facility Id_1098.0                                                                       -3.5752      0.017   -214.643      0.000      -3.608      -3.543\n",
      "Facility Id_1117.0                                                                        0.3470      0.005     67.070      0.000       0.337       0.357\n",
      "Facility Id_1122.0                                                                        3.8821      0.021    181.050      0.000       3.840       3.924\n",
      "Facility Id_1129.0                                                                        1.6364      0.009    176.527      0.000       1.618       1.655\n",
      "Facility Id_1139.0                                                                       -5.2167      0.030   -176.469      0.000      -5.275      -5.159\n",
      "Facility Id_1164.0                                                                       -2.2141      0.012   -188.748      0.000      -2.237      -2.191\n",
      "Facility Id_1165.0                                                                        2.7236      0.015    178.205      0.000       2.694       2.754\n",
      "Facility Id_1169.0                                                                       -5.4791      0.029   -189.228      0.000      -5.536      -5.422\n",
      "Facility Id_1172.0                                                                       -1.0929      0.008   -144.310      0.000      -1.108      -1.078\n",
      "Facility Id_1176.0                                                                        0.5029      0.005    106.696      0.000       0.494       0.512\n",
      "Facility Id_1286.0                                                                        1.6832      0.010    173.946      0.000       1.664       1.702\n",
      "Facility Id_1288.0                                                                       -5.0898      0.028   -183.194      0.000      -5.144      -5.035\n",
      "Facility Id_1293.0                                                                       -1.3704      0.009   -157.203      0.000      -1.387      -1.353\n",
      "Facility Id_1294.0                                                                        2.1995      0.012    182.234      0.000       2.176       2.223\n",
      "Facility Id_1301.0                                                                        0.1776      0.003     57.885      0.000       0.172       0.184\n",
      "Facility Id_1305.0                                                                        1.7614      0.009    194.077      0.000       1.744       1.779\n",
      "Facility Id_1306.0                                                                       -2.7076      0.016   -169.412      0.000      -2.739      -2.676\n",
      "Facility Id_1309.0                                                                       -1.3420      0.010   -135.362      0.000      -1.361      -1.323\n",
      "Facility Id_1315.0                                                                       -0.1555      0.006    -25.434      0.000      -0.167      -0.143\n",
      "Facility Id_1318.0                                                                       -0.6050      0.005   -123.296      0.000      -0.615      -0.595\n",
      "Facility Id_1320.0                                                                       -2.4346      0.012   -200.227      0.000      -2.458      -2.411\n",
      "Facility Id_1438.0                                                                       -2.7566      0.015   -186.864      0.000      -2.786      -2.728\n",
      "Facility Id_1439.0                                                                        0.4455      0.003    132.085      0.000       0.439       0.452\n",
      "Facility Id_1445.0                                                                       -3.4242      0.018   -190.167      0.000      -3.459      -3.389\n",
      "Facility Id_1450.0                                                                       -0.5394      0.009    -61.295      0.000      -0.557      -0.522\n",
      "Facility Id_1454.0                                                                        0.1587      0.004     36.794      0.000       0.150       0.167\n",
      "Facility Id_1458.0                                                                       -0.3544      0.006    -61.260      0.000      -0.366      -0.343\n",
      "Facility Id_1463.0                                                                        5.8316      0.029    203.575      0.000       5.775       5.888\n",
      "Facility Id_1466.0                                                                        1.4112      0.008    179.699      0.000       1.396       1.427\n",
      "Facility Id_1626.0                                                                       -1.3198      0.008   -171.159      0.000      -1.335      -1.305\n",
      "Facility Id_1628.0                                                                       -0.7101      0.005   -129.272      0.000      -0.721      -0.699\n",
      "Facility Id_1629.0                                                                        2.7786      0.015    190.056      0.000       2.750       2.807\n",
      "Facility Id_1633.0                                                                       -0.9657      0.006   -150.775      0.000      -0.978      -0.953\n",
      "Facility Id_1635.0                                                                        5.4772      0.031    178.761      0.000       5.417       5.537\n",
      "Facility Id_1692.0                                                                       -1.2710      0.008   -161.664      0.000      -1.286      -1.256\n",
      "Facility Id_1738.0                                                                        1.3358      0.007    185.889      0.000       1.322       1.350\n",
      "Facility Id_1740.0                                                                       -0.4903      0.005   -102.415      0.000      -0.500      -0.481\n",
      "==============================================================================\n",
      "Omnibus:                   431973.668   Durbin-Watson:                   2.003\n",
      "Prob(Omnibus):                  0.000   Jarque-Bera (JB):          8288413.471\n",
      "Skew:                          -0.975   Prob(JB):                         0.00\n",
      "Kurtosis:                      14.634   Cond. No.                     1.48e+18\n",
      "==============================================================================\n",
      "\n",
      "Warnings:\n",
      "[1] Standard Errors assume that the covariance matrix of the errors is correctly specified.\n",
      "[2] The smallest eigenvalue is 2.64e-24. This might indicate that there are\n",
      "strong multicollinearity problems or that the design matrix is singular.\n"
     ]
    }
   ],
   "source": [
    "x_train = sm.add_constant(X_train)\n",
    "model = sm.OLS(y_train, x_train)\n",
    "results = model.fit()\n",
    "print(results.summary())"
   ]
  },
  {
   "cell_type": "markdown",
   "metadata": {},
   "source": [
    "##### scikit learn api"
   ]
  },
  {
   "cell_type": "code",
   "execution_count": 21,
   "metadata": {},
   "outputs": [
    {
     "name": "stdout",
     "output_type": "stream",
     "text": [
      "0.8310494000714138\n",
      "0.831334939475077\n"
     ]
    }
   ],
   "source": [
    "clf = LinearRegression()\n",
    "clf.fit(X_train, y_train)\n",
    "y_pred = clf.predict(X_test)\n",
    "print(clf.score(X_train, y_train))\n",
    "print(clf.score(X_test, y_test))"
   ]
  },
  {
   "cell_type": "markdown",
   "metadata": {},
   "source": [
    "##### Principal Component Analysis"
   ]
  },
  {
   "cell_type": "code",
   "execution_count": 22,
   "metadata": {},
   "outputs": [],
   "source": [
    "pca = PCA().fit(x_val)"
   ]
  },
  {
   "cell_type": "code",
   "execution_count": 23,
   "metadata": {},
   "outputs": [
    {
     "data": {
      "text/plain": [
       "Text(0.5, 1.0, 'Top 10 Charges Explained Variance')"
      ]
     },
     "execution_count": 23,
     "metadata": {},
     "output_type": "execute_result"
    },
    {
     "data": {
      "image/png": "[encoded data removed]",
      "text/plain": [
       "<Figure size 864x432 with 1 Axes>"
      ]
     },
     "metadata": {
      "needs_background": "light"
     },
     "output_type": "display_data"
    }
   ],
   "source": [
    "plt.figure(figsize=(12, 6))\n",
    "plt.plot(np.cumsum(pca.explained_variance_ratio_))\n",
    "plt.xlabel('number of components')\n",
    "plt.ylabel('cumulative explained variance')\n",
    "plt.title('Top 10 Charges Explained Variance')"
   ]
  },
  {
   "cell_type": "code",
   "execution_count": 24,
   "metadata": {},
   "outputs": [
    {
     "data": {
      "text/plain": [
       "PCA(copy=True, iterated_power='auto', n_components=50, random_state=None,\n",
       "  svd_solver='auto', tol=0.0, whiten=False)"
      ]
     },
     "execution_count": 24,
     "metadata": {},
     "output_type": "execute_result"
    }
   ],
   "source": [
    "pca = PCA(n_components=50)\n",
    "pca.fit(x_val)"
   ]
  },
  {
   "cell_type": "code",
   "execution_count": 25,
   "metadata": {},
   "outputs": [
    {
     "name": "stdout",
     "output_type": "stream",
     "text": [
      "[[-1.12999410e-01 -1.35725408e-02  1.04547161e-01 ... -2.12670184e-03\n",
      "   3.36335670e-04  3.28262246e-03]\n",
      " [ 3.23250029e-01  5.01731759e-03 -1.53985102e-01 ...  1.28956226e-03\n",
      "  -2.72528662e-04  3.31689410e-03]\n",
      " [-1.32896239e-01 -7.76236767e-03 -4.90203756e-01 ...  7.26292063e-03\n",
      "   1.46490551e-02  6.55910427e-03]\n",
      " ...\n",
      " [-2.58638163e-02  1.80563808e-03  3.22184730e-02 ... -5.03482796e-02\n",
      "  -5.96283532e-03  1.02126141e-01]\n",
      " [ 3.84488765e-03 -5.95341968e-04  1.55690171e-02 ...  3.42358655e-02\n",
      "   3.50210404e-02 -5.97840239e-02]\n",
      " [-2.65207195e-02  4.76394926e-04  6.13241349e-03 ...  1.45300135e-03\n",
      "   7.72966141e-02 -9.71933478e-02]]\n"
     ]
    }
   ],
   "source": [
    "print(pca.components_)"
   ]
  },
  {
   "cell_type": "code",
   "execution_count": 26,
   "metadata": {},
   "outputs": [
    {
     "name": "stdout",
     "output_type": "stream",
     "text": [
      "[4.05119862 2.77199439 2.04167443 1.66806557 1.25206061 1.18347821\n",
      " 1.11171462 0.94382483 0.85562482 0.62647302 0.5758716  0.48874715\n",
      " 0.45214493 0.31042497 0.27175528 0.26142204 0.24722537 0.21248693\n",
      " 0.18895114 0.18379814 0.16968185 0.15402616 0.13814121 0.1259285\n",
      " 0.10644649 0.10251663 0.09719968 0.09131262 0.08769628 0.08344805\n",
      " 0.07745725 0.07431521 0.06681863 0.06076956 0.05903305 0.05698103\n",
      " 0.05674545 0.05583115 0.04771722 0.0465757  0.04273054 0.03610291\n",
      " 0.03559796 0.03011252 0.02613569 0.02293461 0.02232678 0.02133854\n",
      " 0.02039597 0.01973344]\n"
     ]
    }
   ],
   "source": [
    "print(pca.explained_variance_)"
   ]
  },
  {
   "cell_type": "code",
   "execution_count": 27,
   "metadata": {},
   "outputs": [],
   "source": [
    "x_val_transformed = pca.fit_transform(x_val)"
   ]
  },
  {
   "cell_type": "markdown",
   "metadata": {},
   "source": [
    "##### Running Linear Regression Again Using the dimensionally reduced dataset"
   ]
  },
  {
   "cell_type": "code",
   "execution_count": 28,
   "metadata": {},
   "outputs": [],
   "source": [
    "X_train_pca, X_test_pca, y_train_pca, y_test_pca = train_test_split(x_val_transformed, y_val, test_size=0.33, random_state=13)"
   ]
  },
  {
   "cell_type": "code",
   "execution_count": 29,
   "metadata": {},
   "outputs": [
    {
     "name": "stdout",
     "output_type": "stream",
     "text": [
      "0.8016447737023423\n",
      "0.8018434798446163\n"
     ]
    }
   ],
   "source": [
    "clf = LinearRegression()\n",
    "clf.fit(X_train_pca, y_train_pca)\n",
    "y_pred = clf.predict(X_test_pca)\n",
    "print(clf.score(X_train_pca, y_train_pca))\n",
    "print(clf.score(X_test_pca, y_test_pca))"
   ]
  },
  {
   "cell_type": "markdown",
   "metadata": {},
   "source": [
    "##### Decision Tree"
   ]
  },
  {
   "cell_type": "code",
   "execution_count": 30,
   "metadata": {},
   "outputs": [
    {
     "name": "stdout",
     "output_type": "stream",
     "text": [
      "In sample accuracy: 0.969794990842705\n",
      "Out of sample accuracy: 0.9274661512399454\n"
     ]
    }
   ],
   "source": [
    "# learn model\n",
    "dt = DecisionTreeRegressor()\n",
    "dt.fit(X_train, y_train)\n",
    "\n",
    "# in sample accuracy\n",
    "print('In sample accuracy:',dt.score(X_train, y_train))\n",
    "\n",
    "# out of sample accuracy\n",
    "print('Out of sample accuracy:',dt.score(X_test, y_test))"
   ]
  },
  {
   "cell_type": "code",
   "execution_count": 31,
   "metadata": {},
   "outputs": [
    {
     "name": "stdout",
     "output_type": "stream",
     "text": [
      "0.8454164049858442 [0.35963874711701116, 0.569592839785839, 0.6484066529925803, 0.7080330006714739, 0.7566463129213475, 0.796073639413641, 0.8259489210543188, 0.8536293034401489, 0.8744237209103055, 0.8904259029649784, 0.9031070568527285, 0.9122135591733808, 0.9190705348705885, 0.9252464726213703, 0.9300345793198308, 0.9332923055261524, 0.9353238134213506, 0.9361589433437418, 0.9365434446500778, 0.9362656809088171, 0.9360862388274382, 0.9354594165204175, 0.9348493287982903, 0.9335233035544307]\n"
     ]
    }
   ],
   "source": [
    "# get the average OS accuracy for a range of tree depth\n",
    "OS=[]\n",
    "for i in range(1, 25):\n",
    "    dt = DecisionTreeRegressor(max_depth=i)\n",
    "    dt.fit(X_train, y_train)\n",
    "    OS.append(dt.score(X_test, y_test))\n",
    "print(np.mean(OS), OS)"
   ]
  },
  {
   "cell_type": "code",
   "execution_count": 32,
   "metadata": {},
   "outputs": [
    {
     "data": {
      "image/png": "[encoded data removed]",
      "text/plain": [
       "<Figure size 720x360 with 1 Axes>"
      ]
     },
     "metadata": {
      "needs_background": "light"
     },
     "output_type": "display_data"
    },
    {
     "data": {
      "text/plain": [
       "<Figure size 432x288 with 0 Axes>"
      ]
     },
     "metadata": {},
     "output_type": "display_data"
    }
   ],
   "source": [
    "# your code here\n",
    "plt.figure(figsize=(10, 5))\n",
    "plt.plot(range(1, 25), OS)\n",
    "plt.xlabel(\"Maximum Tree Depth\")\n",
    "plt.ylabel(\"Out of Sample Accuracy\")\n",
    "plt.title(\"Decision Tree - Out of Sample Accuracy vs Maximum Tree Depth - Top 10 APR DRGs\")\n",
    "plt.show()\n",
    "plt.savefig('decisionTreeTop10APRDRGsOutOfSampleAccuracy.png')"
   ]
  },
  {
   "cell_type": "code",
   "execution_count": 33,
   "metadata": {},
   "outputs": [
    {
     "name": "stdout",
     "output_type": "stream",
     "text": [
      "In sample accuracy: 0.935525915652812\n",
      "Out of sample accuracy: 0.9300934511377891\n"
     ]
    }
   ],
   "source": [
    "# learn model\n",
    "dt = DecisionTreeRegressor(max_depth=15)\n",
    "dt.fit(X_train, y_train)\n",
    "\n",
    "# in sample accuracy\n",
    "print('In sample accuracy:',dt.score(X_train, y_train))\n",
    "\n",
    "# out of sample accuracy\n",
    "print('Out of sample accuracy:',dt.score(X_test, y_test))"
   ]
  },
  {
   "cell_type": "markdown",
   "metadata": {},
   "source": [
    "##### Decision Tree Visualization"
   ]
  },
  {
   "cell_type": "code",
   "execution_count": 37,
   "metadata": {},
   "outputs": [
    {
     "ename": "NameError",
     "evalue": "name 'tree' is not defined",
     "output_type": "error",
     "traceback": [
      "\u001b[0;31m---------------------------------------------------------------------------\u001b[0m",
      "\u001b[0;31mNameError\u001b[0m                                 Traceback (most recent call last)",
      "\u001b[0;32m<ipython-input-37-70ce9110a99e>\u001b[0m in \u001b[0;36m<module>\u001b[0;34m\u001b[0m\n\u001b[0;32m----> 1\u001b[0;31m thestring=tree.export_graphviz(dt, out_file=None,\n\u001b[0m\u001b[1;32m      2\u001b[0m                                \u001b[0mfeature_names\u001b[0m\u001b[0;34m=\u001b[0m\u001b[0mX_train\u001b[0m\u001b[0;34m.\u001b[0m\u001b[0mcolumns\u001b[0m\u001b[0;34m.\u001b[0m\u001b[0mvalues\u001b[0m\u001b[0;34m,\u001b[0m\u001b[0;34m\u001b[0m\u001b[0;34m\u001b[0m\u001b[0m\n\u001b[1;32m      3\u001b[0m                                \u001b[0mclass_names\u001b[0m\u001b[0;34m=\u001b[0m\u001b[0mdt\u001b[0m\u001b[0;34m.\u001b[0m\u001b[0mclasses_\u001b[0m\u001b[0;34m,\u001b[0m\u001b[0;34m\u001b[0m\u001b[0;34m\u001b[0m\u001b[0m\n\u001b[1;32m      4\u001b[0m                                \u001b[0mfilled\u001b[0m\u001b[0;34m=\u001b[0m\u001b[0;32mTrue\u001b[0m\u001b[0;34m,\u001b[0m \u001b[0mrounded\u001b[0m\u001b[0;34m=\u001b[0m\u001b[0;32mTrue\u001b[0m\u001b[0;34m,\u001b[0m\u001b[0;34m\u001b[0m\u001b[0;34m\u001b[0m\u001b[0m\n\u001b[1;32m      5\u001b[0m                                special_characters=True,impurity=False).replace(\"<br/>\",\", \").replace(\"&le;\",\"<=\").replace(\"=<\",\"=\\\"\").replace(\">,\",\"\\\",\")\n",
      "\u001b[0;31mNameError\u001b[0m: name 'tree' is not defined"
     ]
    }
   ],
   "source": [
    "thestring=tree.export_graphviz(dt, out_file=None,\n",
    "                               feature_names=X_train.columns.values,  \n",
    "                               class_names=dt.classes_,  \n",
    "                               filled=True, rounded=True,  \n",
    "                               special_characters=True,impurity=False).replace(\"<br/>\",\", \").replace(\"&le;\",\"<=\").replace(\"=<\",\"=\\\"\").replace(\">,\",\"\\\",\")\n",
    "print(thestring)"
   ]
  },
  {
   "cell_type": "code",
   "execution_count": null,
   "metadata": {},
   "outputs": [],
   "source": []
  },
  {
   "cell_type": "code",
   "execution_count": null,
   "metadata": {},
   "outputs": [],
   "source": []
  },
  {
   "cell_type": "code",
   "execution_count": null,
   "metadata": {},
   "outputs": [],
   "source": []
  },
  {
   "cell_type": "code",
   "execution_count": null,
   "metadata": {},
   "outputs": [],
   "source": []
  }
 ],
 "metadata": {
  "kernelspec": {
   "display_name": "mgPUI",
   "language": "python",
   "name": "mgpui"
  },
  "language_info": {
   "codemirror_mode": {
    "name": "ipython",
    "version": 3
   },
   "file_extension": ".py",
   "mimetype": "text/x-python",
   "name": "python",
   "nbconvert_exporter": "python",
   "pygments_lexer": "ipython3",
   "version": "3.7.2"
  }
 },
 "nbformat": 4,
 "nbformat_minor": 2
}
