{
 "cells": [
  {
   "cell_type": "markdown",
   "metadata": {},
   "source": [
    "##### 5_allAprDrgModel\n",
    "\n",
    "This notebook takes the csv that was compiled from the notebook 4_featureEngineering"
   ]
  },
  {
   "cell_type": "code",
   "execution_count": 1,
   "metadata": {},
   "outputs": [],
   "source": [
    "import os\n",
    "import json\n",
    "\n",
    "import numpy as np\n",
    "import pandas as pd\n",
    "\n",
    "import seaborn as sns\n",
    "import statsmodels.api as sm\n",
    "import statsmodels.formula.api as smf\n",
    "from sklearn.linear_model import LinearRegression\n",
    "from sklearn.decomposition import PCA\n",
    "from sklearn.discriminant_analysis import LinearDiscriminantAnalysis\n",
    "from sklearn.tree import DecisionTreeRegressor\n",
    "from sklearn.ensemble import RandomForestRegressor\n",
    "from sklearn.model_selection import train_test_split\n",
    "from sklearn import preprocessing\n",
    "from sklearn import tree\n",
    "from sklearn.tree import export_graphviz\n",
    "\n",
    "from matplotlib import pyplot as plt\n",
    "%matplotlib inline"
   ]
  },
  {
   "cell_type": "markdown",
   "metadata": {},
   "source": [
    "##### Data Prep"
   ]
  },
  {
   "cell_type": "code",
   "execution_count": 2,
   "metadata": {},
   "outputs": [],
   "source": [
    "dataFol = os.getcwd() + \"/dataFiles/\""
   ]
  },
  {
   "cell_type": "code",
   "execution_count": 3,
   "metadata": {},
   "outputs": [
    {
     "name": "stderr",
     "output_type": "stream",
     "text": [
      "/nfshome/yg833/.conda/envs/mgPUI/lib/python3.7/site-packages/IPython/core/interactiveshell.py:3020: DtypeWarning: Columns (3) have mixed types. Specify dtype option on import or set low_memory=False.\n",
      "  interactivity=interactivity, compiler=compiler, result=result)\n"
     ]
    }
   ],
   "source": [
    "top10df = pd.read_csv(dataFol + 'top10AprHospFeat.csv')"
   ]
  },
  {
   "cell_type": "code",
   "execution_count": 4,
   "metadata": {},
   "outputs": [
    {
     "data": {
      "text/plain": [
       "(2209446, 68)"
      ]
     },
     "execution_count": 4,
     "metadata": {},
     "output_type": "execute_result"
    }
   ],
   "source": [
    "l1 = len(top10df)\n",
    "top10df.shape"
   ]
  },
  {
   "cell_type": "code",
   "execution_count": 5,
   "metadata": {},
   "outputs": [],
   "source": [
    "top10df.drop(['Unnamed: 0',\n",
    "              'APR DRG Code', \n",
    "              'Efficient use of medical imaging national comparison', # too many NaNs\n",
    "              'number_of_interns_and',\n",
    "              'geometry', #removing spatial columns\n",
    "              'lonlat',\n",
    "              'lat',\n",
    "              'long',\n",
    "              'puma',\n",
    "              'Provider ID', # already have facility id\n",
    "              'rural_versus_urban_R', # already have rural_versus_urban_U\n",
    "              'Total Costs', # related to charges\n",
    "              'ratioChargesCosts',\n",
    "              'chargesPerDay', \n",
    "              'ratioSumChargesPerFacPerYrToBedDays',\n",
    "              'sumChargesPerFacIdPerYr',\n",
    "              'Length of Stay', # object and same as days\n",
    "              'totalFertile', # does not seem to be important to DRGs not related to birth\n",
    "              'ratioFertilityTotalPopulation'], axis=1, inplace=True)"
   ]
  },
  {
   "cell_type": "code",
   "execution_count": 6,
   "metadata": {},
   "outputs": [],
   "source": [
    "top10df.dropna(inplace=True)"
   ]
  },
  {
   "cell_type": "code",
   "execution_count": 7,
   "metadata": {},
   "outputs": [
    {
     "data": {
      "text/plain": [
       "(2133701, 49)"
      ]
     },
     "execution_count": 7,
     "metadata": {},
     "output_type": "execute_result"
    }
   ],
   "source": [
    "l2 = len(top10df)\n",
    "top10df.shape"
   ]
  },
  {
   "cell_type": "code",
   "execution_count": 8,
   "metadata": {},
   "outputs": [
    {
     "name": "stdout",
     "output_type": "stream",
     "text": [
      "lost  3.428234951204963 % of data\n"
     ]
    }
   ],
   "source": [
    "print('lost ', str((l1-l2)/l1*100), '% of data') "
   ]
  },
  {
   "cell_type": "markdown",
   "metadata": {},
   "source": [
    "Separate out the categorical like variables from the numerical variables to normalize"
   ]
  },
  {
   "cell_type": "code",
   "execution_count": 9,
   "metadata": {},
   "outputs": [
    {
     "data": {
      "text/plain": [
       "<bound method IndexOpsMixin.tolist of Index(['Health Service Area', 'Facility Id', 'APR DRG Description',\n",
       "       'APR Severity of Illness Code', 'Total Charges', 'yr',\n",
       "       'Hospital overall rating', 'Mortality national comparison',\n",
       "       'Safety of care national comparison', 'Readmission national comparison',\n",
       "       'Patient experience national comparison',\n",
       "       'Effectiveness of care national comparison',\n",
       "       'Timeliness of care national comparison', 'fte_employees_on_payroll',\n",
       "       'number_of_beds', 'totalPopulation', 'totalInsured',\n",
       "       'countPerDrgPerFacIdPerYr', 'countPerFacIdPerYr', 'ratioDrgToFacility',\n",
       "       'payment_Medicare', 'payment_Blue Cross/Blue Shield',\n",
       "       'payment_Private Health Insurance', 'payment_Self-Pay',\n",
       "       'payment_Medicaid', 'payment_Federal/State/Local/VA',\n",
       "       'payment_Miscellaneous/Other', 'payment_Department of Corrections',\n",
       "       'payment_Managed Care, Unspecified', 'numberOfPaymentTypes',\n",
       "       'Type of Admission_Elective', 'Type of Admission_Emergency',\n",
       "       'Type of Admission_Newborn', 'Type of Admission_Not Available',\n",
       "       'Type of Admission_Trauma', 'Type of Admission_Urgent',\n",
       "       'numberUrgentAdmits', 'emergencyRoom',\n",
       "       'Hospital Ownership_Government - Hospital District or Authority',\n",
       "       'Hospital Ownership_Government - Local',\n",
       "       'Hospital Ownership_Government - State',\n",
       "       'Hospital Ownership_Proprietary',\n",
       "       'Hospital Ownership_Voluntary non-profit - Church',\n",
       "       'Hospital Ownership_Voluntary non-profit - Other',\n",
       "       'Hospital Ownership_Voluntary non-profit - Private',\n",
       "       'rural_versus_urban_U', 'ratioInsuredTotalPopulation', 'days',\n",
       "       'avgNumberDays'],\n",
       "      dtype='object')>"
      ]
     },
     "execution_count": 9,
     "metadata": {},
     "output_type": "execute_result"
    }
   ],
   "source": [
    "top10df.columns.tolist"
   ]
  },
  {
   "cell_type": "code",
   "execution_count": 10,
   "metadata": {},
   "outputs": [],
   "source": [
    "cols_to_scale = ['fte_employees_on_payroll', 'number_of_beds',\n",
    "                 'totalPopulation', 'totalInsured',\n",
    "                 'countPerDrgPerFacIdPerYr', 'countPerFacIdPerYr',\n",
    "                 'ratioDrgToFacility', 'numberOfPaymentTypes',\n",
    "                 'numberUrgentAdmits', 'ratioInsuredTotalPopulation',\n",
    "                 'days', 'avgNumberDays']"
   ]
  },
  {
   "cell_type": "code",
   "execution_count": 11,
   "metadata": {},
   "outputs": [
    {
     "name": "stderr",
     "output_type": "stream",
     "text": [
      "/nfshome/yg833/.conda/envs/mgPUI/lib/python3.7/site-packages/sklearn/utils/validation.py:595: DataConversionWarning: Data with input dtype int64 was converted to float64 by the scale function.\n",
      "  warnings.warn(msg, DataConversionWarning)\n",
      "/nfshome/yg833/.conda/envs/mgPUI/lib/python3.7/site-packages/sklearn/utils/validation.py:595: DataConversionWarning: Data with input dtype int64 was converted to float64 by the scale function.\n",
      "  warnings.warn(msg, DataConversionWarning)\n",
      "/nfshome/yg833/.conda/envs/mgPUI/lib/python3.7/site-packages/sklearn/utils/validation.py:595: DataConversionWarning: Data with input dtype int64 was converted to float64 by the scale function.\n",
      "  warnings.warn(msg, DataConversionWarning)\n",
      "/nfshome/yg833/.conda/envs/mgPUI/lib/python3.7/site-packages/sklearn/utils/validation.py:595: DataConversionWarning: Data with input dtype int64 was converted to float64 by the scale function.\n",
      "  warnings.warn(msg, DataConversionWarning)\n"
     ]
    }
   ],
   "source": [
    "for cols in range(len(cols_to_scale)):\n",
    "    top10df[str('scale_'+cols_to_scale[cols])] = preprocessing.scale(top10df[cols_to_scale[cols]])"
   ]
  },
  {
   "cell_type": "code",
   "execution_count": 12,
   "metadata": {},
   "outputs": [],
   "source": [
    "top10df = pd.get_dummies(top10df, columns=['Health Service Area', 'APR DRG Description', 'Facility Id'])"
   ]
  },
  {
   "cell_type": "code",
   "execution_count": 13,
   "metadata": {},
   "outputs": [
    {
     "data": {
      "text/plain": [
       "(2133701, 190)"
      ]
     },
     "execution_count": 13,
     "metadata": {},
     "output_type": "execute_result"
    }
   ],
   "source": [
    "top10df.shape"
   ]
  },
  {
   "cell_type": "markdown",
   "metadata": {},
   "source": [
    "##### Train Test Split for PCA, OLS"
   ]
  },
  {
   "cell_type": "code",
   "execution_count": 14,
   "metadata": {},
   "outputs": [],
   "source": [
    "x_val = top10df.drop(['Total Charges', # drop variables not to be used in the feature set\n",
    "                      'fte_employees_on_payroll', 'number_of_beds', 'totalPopulation', #these were scaled so no need to use it again\n",
    "                      'totalInsured',\n",
    "                      'countPerDrgPerFacIdPerYr',\n",
    "                      'countPerFacIdPerYr',\n",
    "                      'ratioDrgToFacility',\n",
    "                      'numberOfPaymentTypes',\n",
    "                      'numberUrgentAdmits',\n",
    "                      'ratioInsuredTotalPopulation',\n",
    "                      'days', 'avgNumberDays'], axis=1)"
   ]
  },
  {
   "cell_type": "code",
   "execution_count": 15,
   "metadata": {},
   "outputs": [
    {
     "data": {
      "text/plain": [
       "(2133701, 177)"
      ]
     },
     "execution_count": 15,
     "metadata": {},
     "output_type": "execute_result"
    }
   ],
   "source": [
    "x_val.shape"
   ]
  },
  {
   "cell_type": "code",
   "execution_count": 16,
   "metadata": {},
   "outputs": [],
   "source": [
    "top10df['scaledCharges'] = preprocessing.scale(np.log(top10df['Total Charges']))"
   ]
  },
  {
   "cell_type": "code",
   "execution_count": 17,
   "metadata": {},
   "outputs": [],
   "source": [
    "# y_val = top10df['scaledCharges']\n",
    "y_val = np.log(top10df['Total Charges'])"
   ]
  },
  {
   "cell_type": "code",
   "execution_count": 18,
   "metadata": {},
   "outputs": [
    {
     "data": {
      "text/plain": [
       "(2133701,)"
      ]
     },
     "execution_count": 18,
     "metadata": {},
     "output_type": "execute_result"
    }
   ],
   "source": [
    "y_val.shape"
   ]
  },
  {
   "cell_type": "code",
   "execution_count": 50,
   "metadata": {},
   "outputs": [],
   "source": [
    "X_train, X_test, y_train, y_test = train_test_split(x_val, y_val, test_size=0.33, random_state=13)"
   ]
  },
  {
   "cell_type": "markdown",
   "metadata": {},
   "source": [
    "##### Multivariate Linear Regression"
   ]
  },
  {
   "cell_type": "markdown",
   "metadata": {},
   "source": [
    "##### statsmodels for the summary table"
   ]
  },
  {
   "cell_type": "code",
   "execution_count": 51,
   "metadata": {},
   "outputs": [
    {
     "name": "stdout",
     "output_type": "stream",
     "text": [
      "                            OLS Regression Results                            \n",
      "==============================================================================\n",
      "Dep. Variable:          Total Charges   R-squared:                       0.831\n",
      "Model:                            OLS   Adj. R-squared:                  0.831\n",
      "Method:                 Least Squares   F-statistic:                 4.849e+04\n",
      "Date:                Wed, 15 May 2019   Prob (F-statistic):               0.00\n",
      "Time:                        10:42:27   Log-Likelihood:            -7.6335e+05\n",
      "No. Observations:             1429579   AIC:                         1.527e+06\n",
      "Df Residuals:                 1429433   BIC:                         1.529e+06\n",
      "Df Model:                         145                                         \n",
      "Covariance Type:            nonrobust                                         \n",
      "=========================================================================================================================================================\n",
      "                                                                                            coef    std err          t      P>|t|      [0.025      0.975]\n",
      "---------------------------------------------------------------------------------------------------------------------------------------------------------\n",
      "const                                                                                   -48.1354      0.283   -169.899      0.000     -48.691     -47.580\n",
      "APR Severity of Illness Code                                                              0.2368      0.001    432.512      0.000       0.236       0.238\n",
      "yr                                                                                        0.0590      0.000    183.331      0.000       0.058       0.060\n",
      "Hospital overall rating                                                                  -5.4791      0.032   -169.595      0.000      -5.542      -5.416\n",
      "Mortality national comparison                                                             1.9835      0.011    176.074      0.000       1.961       2.006\n",
      "Safety of care national comparison                                                        2.2433      0.013    170.802      0.000       2.218       2.269\n",
      "Readmission national comparison                                                           2.4821      0.015    166.888      0.000       2.453       2.511\n",
      "Patient experience national comparison                                                    4.0715      0.024    168.722      0.000       4.024       4.119\n",
      "Effectiveness of care national comparison                                                 2.0206      0.011    179.122      0.000       1.998       2.043\n",
      "Timeliness of care national comparison                                                    2.1734      0.013    165.929      0.000       2.148       2.199\n",
      "payment_Medicare                                                                         -7.5419      0.045   -168.195      0.000      -7.630      -7.454\n",
      "payment_Blue Cross/Blue Shield                                                           -7.5944      0.045   -169.411      0.000      -7.682      -7.507\n",
      "payment_Private Health Insurance                                                         -7.5957      0.045   -169.434      0.000      -7.684      -7.508\n",
      "payment_Self-Pay                                                                         -7.6107      0.045   -169.960      0.000      -7.698      -7.523\n",
      "payment_Medicaid                                                                         -7.5924      0.045   -169.319      0.000      -7.680      -7.504\n",
      "payment_Federal/State/Local/VA                                                           -7.6245      0.045   -169.642      0.000      -7.713      -7.536\n",
      "payment_Miscellaneous/Other                                                              -7.6564      0.045   -170.358      0.000      -7.744      -7.568\n",
      "payment_Department of Corrections                                                        -7.6929      0.046   -168.877      0.000      -7.782      -7.604\n",
      "payment_Managed Care, Unspecified                                                        -7.6020      0.045   -169.394      0.000      -7.690      -7.514\n",
      "Type of Admission_Elective                                                               -8.0303      0.047   -169.235      0.000      -8.123      -7.937\n",
      "Type of Admission_Emergency                                                              -8.0306      0.048   -169.034      0.000      -8.124      -7.937\n",
      "Type of Admission_Newborn                                                                -8.1154      0.048   -170.192      0.000      -8.209      -8.022\n",
      "Type of Admission_Not Available                                                          -8.0191      0.049   -164.142      0.000      -8.115      -7.923\n",
      "Type of Admission_Trauma                                                                 -7.9555      0.051   -154.757      0.000      -8.056      -7.855\n",
      "Type of Admission_Urgent                                                                 -7.9846      0.047   -168.166      0.000      -8.078      -7.892\n",
      "emergencyRoom                                                                             0.1210      0.002     80.117      0.000       0.118       0.124\n",
      "Hospital Ownership_Government - Hospital District or Authority                           -4.7989      0.030   -161.669      0.000      -4.857      -4.741\n",
      "Hospital Ownership_Government - Local                                                    -7.1599      0.041   -173.978      0.000      -7.241      -7.079\n",
      "Hospital Ownership_Government - State                                                    -5.8139      0.034   -169.382      0.000      -5.881      -5.747\n",
      "Hospital Ownership_Proprietary                                                           -8.3065      0.048   -172.555      0.000      -8.401      -8.212\n",
      "Hospital Ownership_Voluntary non-profit - Church                                         -8.3048      0.049   -168.773      0.000      -8.401      -8.208\n",
      "Hospital Ownership_Voluntary non-profit - Other                                          -5.9586      0.035   -169.167      0.000      -6.028      -5.890\n",
      "Hospital Ownership_Voluntary non-profit - Private                                        -7.7928      0.046   -169.602      0.000      -7.883      -7.703\n",
      "rural_versus_urban_U                                                                     -5.6589      0.035   -162.444      0.000      -5.727      -5.591\n",
      "scale_fte_employees_on_payroll                                                           -0.2058      0.002   -106.141      0.000      -0.210      -0.202\n",
      "scale_number_of_beds                                                                      1.9388      0.010    199.060      0.000       1.920       1.958\n",
      "scale_totalPopulation                                                                     0.0665      0.001     91.230      0.000       0.065       0.068\n",
      "scale_totalInsured                                                                        0.7256      0.005    157.755      0.000       0.717       0.735\n",
      "scale_countPerDrgPerFacIdPerYr                                                            0.0677      0.001     58.812      0.000       0.065       0.070\n",
      "scale_countPerFacIdPerYr                                                                 -0.1814      0.004    -49.770      0.000      -0.189      -0.174\n",
      "scale_ratioDrgToFacility                                                                 -0.0746      0.001    -63.871      0.000      -0.077      -0.072\n",
      "scale_numberOfPaymentTypes                                                                4.5982      0.027    169.314      0.000       4.545       4.651\n",
      "scale_numberUrgentAdmits                                                                  0.0086      0.001     14.444      0.000       0.007       0.010\n",
      "scale_ratioInsuredTotalPopulation                                                         0.9751      0.006    164.618      0.000       0.964       0.987\n",
      "scale_days                                                                                0.3800      0.000    896.298      0.000       0.379       0.381\n",
      "scale_avgNumberDays                                                                      -0.0164      0.001    -13.042      0.000      -0.019      -0.014\n",
      "Health Service Area_Capital/Adiron                                                       -5.2934      0.031   -171.628      0.000      -5.354      -5.233\n",
      "Health Service Area_Central NY                                                           -6.9860      0.039   -177.022      0.000      -7.063      -6.909\n",
      "Health Service Area_Finger Lakes                                                         -4.2916      0.023   -187.229      0.000      -4.337      -4.247\n",
      "Health Service Area_Hudson Valley                                                        -5.6674      0.035   -161.025      0.000      -5.736      -5.598\n",
      "Health Service Area_Long Island                                                          -3.6488      0.025   -146.096      0.000      -3.698      -3.600\n",
      "Health Service Area_New York City                                                        -7.2080      0.045   -161.156      0.000      -7.296      -7.120\n",
      "Health Service Area_Southern Tier                                                        -7.7772      0.045   -173.904      0.000      -7.865      -7.690\n",
      "Health Service Area_Western NY                                                           -7.2631      0.041   -178.163      0.000      -7.343      -7.183\n",
      "APR DRG Description_Cellulitis & other skin infections                                   -4.9177      0.028   -173.563      0.000      -4.973      -4.862\n",
      "APR DRG Description_Cesarean delivery                                                    -4.6267      0.028   -163.429      0.000      -4.682      -4.571\n",
      "APR DRG Description_Chronic obstructive pulmonary disease                                -4.8361      0.028   -170.658      0.000      -4.892      -4.781\n",
      "APR DRG Description_Heart failure                                                        -4.7775      0.028   -168.360      0.000      -4.833      -4.722\n",
      "APR DRG Description_Knee joint replacement                                               -3.6823      0.028   -129.719      0.000      -3.738      -3.627\n",
      "APR DRG Description_Neonate birthwt >2499g, normal newborn or neonate w other problem    -5.5981      0.029   -195.205      0.000      -5.654      -5.542\n",
      "APR DRG Description_Other pneumonia                                                      -4.8551      0.028   -171.301      0.000      -4.911      -4.800\n",
      "APR DRG Description_Schizophrenia                                                        -5.1586      0.029   -177.533      0.000      -5.216      -5.102\n",
      "APR DRG Description_Septicemia & disseminated infections                                 -4.6576      0.028   -163.665      0.000      -4.713      -4.602\n",
      "APR DRG Description_Vaginal delivery                                                     -5.0258      0.028   -177.857      0.000      -5.081      -4.970\n",
      "Facility Id_1.0                                                                          -1.3896      0.011   -129.158      0.000      -1.411      -1.369\n",
      "Facility Id_4.0                                                                           3.5478      0.024    144.807      0.000       3.500       3.596\n",
      "Facility Id_5.0                                                                           4.0912      0.024    170.003      0.000       4.044       4.138\n",
      "Facility Id_42.0                                                                         -0.9187      0.007   -127.168      0.000      -0.933      -0.905\n",
      "Facility Id_43.0                                                                          1.2319      0.010    123.766      0.000       1.212       1.251\n",
      "Facility Id_66.0                                                                         -4.5350      0.028   -160.673      0.000      -4.590      -4.480\n",
      "Facility Id_85.0                                                                         -3.0541      0.019   -156.796      0.000      -3.092      -3.016\n",
      "Facility Id_98.0                                                                         -7.7689      0.047   -165.469      0.000      -7.861      -7.677\n",
      "Facility Id_103.0                                                                        -2.9491      0.017   -174.253      0.000      -2.982      -2.916\n",
      "Facility Id_116.0                                                                         3.4462      0.021    163.285      0.000       3.405       3.488\n",
      "Facility Id_128.0                                                                        -8.0903      0.050   -162.573      0.000      -8.188      -7.993\n",
      "Facility Id_135.0                                                                         0.4175      0.005     92.025      0.000       0.409       0.426\n",
      "Facility Id_146.0                                                                        -0.5955      0.006   -103.798      0.000      -0.607      -0.584\n",
      "Facility Id_158.0                                                                        -0.9421      0.006   -146.967      0.000      -0.955      -0.930\n",
      "Facility Id_181.0                                                                        -1.2049      0.009   -141.636      0.000      -1.222      -1.188\n",
      "Facility Id_207.0                                                                        -2.9488      0.016   -185.150      0.000      -2.980      -2.918\n",
      "Facility Id_210.0                                                                         6.4098      0.037    174.290      0.000       6.338       6.482\n",
      "Facility Id_213.0                                                                        -3.9150      0.025   -156.912      0.000      -3.964      -3.866\n",
      "Facility Id_218.0                                                                         2.2366      0.013    175.456      0.000       2.212       2.262\n",
      "Facility Id_267.0                                                                         0.0200      0.005      4.144      0.000       0.011       0.029\n",
      "Facility Id_324.0                                                                        -3.7403      0.023   -160.499      0.000      -3.786      -3.695\n",
      "Facility Id_325.0                                                                        -4.4184      0.024   -182.427      0.000      -4.466      -4.371\n",
      "Facility Id_330.0                                                                        -0.6373      0.008    -82.043      0.000      -0.653      -0.622\n",
      "Facility Id_339.0                                                                         0.6401      0.007     93.619      0.000       0.627       0.653\n",
      "Facility Id_367.0                                                                        -0.0420      0.004    -11.876      0.000      -0.049      -0.035\n",
      "Facility Id_393.0                                                                         1.4851      0.012    120.176      0.000       1.461       1.509\n",
      "Facility Id_397.0                                                                        -5.8839      0.035   -165.822      0.000      -5.953      -5.814\n",
      "Facility Id_409.0                                                                        -0.5072      0.004   -123.731      0.000      -0.515      -0.499\n",
      "Facility Id_411.0                                                                         1.3340      0.008    163.720      0.000       1.318       1.350\n",
      "Facility Id_413.0                                                                       -11.5886      0.069   -167.275      0.000     -11.724     -11.453\n",
      "Facility Id_471.0                                                                         1.7676      0.012    150.380      0.000       1.745       1.791\n",
      "Facility Id_484.0                                                                        -2.7638      0.017   -164.906      0.000      -2.797      -2.731\n",
      "Facility Id_511.0                                                                        -0.6063      0.005   -112.469      0.000      -0.617      -0.596\n",
      "Facility Id_513.0                                                                        -7.6195      0.045   -171.126      0.000      -7.707      -7.532\n",
      "Facility Id_528.0                                                                         0.7084      0.005    135.850      0.000       0.698       0.719\n",
      "Facility Id_541.0                                                                         1.2945      0.007    186.388      0.000       1.281       1.308\n",
      "Facility Id_551.0                                                                         3.0364      0.020    153.964      0.000       2.998       3.075\n",
      "Facility Id_552.0                                                                         0.9527      0.009    105.253      0.000       0.935       0.970\n",
      "Facility Id_563.0                                                                        -4.9386      0.029   -172.591      0.000      -4.995      -4.882\n",
      "Facility Id_565.0                                                                         2.0068      0.014    143.700      0.000       1.979       2.034\n",
      "Facility Id_574.0                                                                         2.2788      0.015    154.191      0.000       2.250       2.308\n",
      "Facility Id_583.0                                                                         1.2616      0.010    120.618      0.000       1.241       1.282\n",
      "Facility Id_598.0                                                                         2.0778      0.013    162.555      0.000       2.053       2.103\n",
      "Facility Id_599.0                                                                         1.6676      0.009    182.402      0.000       1.650       1.685\n",
      "Facility Id_630.0                                                                         4.0651      0.024    170.639      0.000       4.018       4.112\n",
      "Facility Id_635.0                                                                        -3.5472      0.023   -155.402      0.000      -3.592      -3.502\n",
      "Facility Id_636.0                                                                         4.1890      0.025    170.086      0.000       4.141       4.237\n",
      "Facility Id_678.0                                                                        -3.6269      0.020   -177.188      0.000      -3.667      -3.587\n",
      "Facility Id_694.0                                                                         3.1003      0.019    165.187      0.000       3.063       3.137\n",
      "Facility Id_699.0                                                                         3.3163      0.018    182.347      0.000       3.281       3.352\n",
      "Facility Id_704.0                                                                        -5.8113      0.036   -161.418      0.000      -5.882      -5.741\n",
      "Facility Id_708.0                                                                         0.8732      0.008    113.147      0.000       0.858       0.888\n",
      "Facility Id_727.0                                                                         2.0486      0.014    149.487      0.000       2.022       2.075\n",
      "Facility Id_752.0                                                                        -0.0398      0.005     -7.809      0.000      -0.050      -0.030\n",
      "Facility Id_756.0                                                                        -1.5032      0.010   -148.943      0.000      -1.523      -1.483\n",
      "Facility Id_776.0                                                                         1.1814      0.006    192.839      0.000       1.169       1.193\n",
      "Facility Id_779.0                                                                        -2.3842      0.015   -157.960      0.000      -2.414      -2.355\n",
      "Facility Id_798.0                                                                        -0.6687      0.007    -90.847      0.000      -0.683      -0.654\n",
      "Facility Id_804.0                                                                        -2.7098      0.017   -163.922      0.000      -2.742      -2.677\n",
      "Facility Id_815.0                                                                        -0.6600      0.007    -99.114      0.000      -0.673      -0.647\n",
      "Facility Id_818.0                                                                        -0.3059      0.005    -66.092      0.000      -0.315      -0.297\n",
      "Facility Id_829.0                                                                        -1.6951      0.012   -141.844      0.000      -1.718      -1.672\n",
      "Facility Id_866.0                                                                         0.6815      0.006    107.851      0.000       0.669       0.694\n",
      "Facility Id_885.0                                                                        -4.2537      0.026   -161.947      0.000      -4.305      -4.202\n",
      "Facility Id_895.0                                                                        -1.3572      0.009   -144.399      0.000      -1.376      -1.339\n",
      "Facility Id_896.0                                                                         4.6737      0.027    175.285      0.000       4.621       4.726\n",
      "Facility Id_913.0                                                                         2.4670      0.016    157.284      0.000       2.436       2.498\n",
      "Facility Id_924.0                                                                         1.0171      0.006    179.426      0.000       1.006       1.028\n",
      "Facility Id_925.0                                                                        -2.3761      0.016   -152.583      0.000      -2.407      -2.346\n",
      "Facility Id_938.0                                                                         1.5596      0.012    135.458      0.000       1.537       1.582\n",
      "Facility Id_943.0                                                                         1.7933      0.010    172.120      0.000       1.773       1.814\n",
      "Facility Id_977.0                                                                        -3.5263      0.019   -187.832      0.000      -3.563      -3.490\n",
      "Facility Id_990.0                                                                        -0.4512      0.005    -82.073      0.000      -0.462      -0.440\n",
      "Facility Id_1005.0                                                                        3.6993      0.022    171.682      0.000       3.657       3.741\n",
      "Facility Id_1028.0                                                                        2.7167      0.016    169.751      0.000       2.685       2.748\n",
      "Facility Id_1039.0                                                                       -0.0407      0.004     -9.286      0.000      -0.049      -0.032\n",
      "Facility Id_1072.0                                                                       -1.4513      0.010   -146.483      0.000      -1.471      -1.432\n",
      "Facility Id_1098.0                                                                       -3.3590      0.017   -200.837      0.000      -3.392      -3.326\n",
      "Facility Id_1117.0                                                                        0.2972      0.005     57.218      0.000       0.287       0.307\n",
      "Facility Id_1122.0                                                                        3.5821      0.022    166.372      0.000       3.540       3.624\n",
      "Facility Id_1129.0                                                                        1.5235      0.009    163.677      0.000       1.505       1.542\n",
      "Facility Id_1139.0                                                                       -4.7989      0.030   -161.669      0.000      -4.857      -4.741\n",
      "Facility Id_1164.0                                                                       -2.0764      0.012   -176.277      0.000      -2.099      -2.053\n",
      "Facility Id_1165.0                                                                        2.5120      0.015    163.684      0.000       2.482       2.542\n",
      "Facility Id_1169.0                                                                       -5.0650      0.029   -174.206      0.000      -5.122      -5.008\n",
      "Facility Id_1172.0                                                                       -1.0090      0.008   -132.678      0.000      -1.024      -0.994\n",
      "Facility Id_1176.0                                                                        0.4652      0.005     98.293      0.000       0.456       0.474\n",
      "Facility Id_1286.0                                                                        1.5594      0.010    160.488      0.000       1.540       1.578\n",
      "Facility Id_1288.0                                                                       -4.7009      0.028   -168.501      0.000      -4.756      -4.646\n",
      "Facility Id_1293.0                                                                       -1.2859      0.009   -146.905      0.000      -1.303      -1.269\n",
      "Facility Id_1294.0                                                                        2.0407      0.012    168.385      0.000       2.017       2.064\n",
      "Facility Id_1301.0                                                                        0.1673      0.003     54.310      0.000       0.161       0.173\n",
      "Facility Id_1305.0                                                                        1.6392      0.009    179.874      0.000       1.621       1.657\n",
      "Facility Id_1306.0                                                                       -2.5050      0.016   -156.087      0.000      -2.536      -2.474\n",
      "Facility Id_1309.0                                                                       -1.2183      0.010   -122.379      0.000      -1.238      -1.199\n",
      "Facility Id_1315.0                                                                       -0.1257      0.006    -20.486      0.000      -0.138      -0.114\n",
      "Facility Id_1318.0                                                                       -0.5776      0.005   -117.226      0.000      -0.587      -0.568\n",
      "Facility Id_1320.0                                                                       -2.2667      0.012   -185.653      0.000      -2.291      -2.243\n",
      "Facility Id_1438.0                                                                       -2.5561      0.015   -172.563      0.000      -2.585      -2.527\n",
      "Facility Id_1439.0                                                                        0.4136      0.003    122.112      0.000       0.407       0.420\n",
      "Facility Id_1445.0                                                                       -3.1743      0.018   -175.564      0.000      -3.210      -3.139\n",
      "Facility Id_1450.0                                                                       -0.4424      0.009    -50.064      0.000      -0.460      -0.425\n",
      "Facility Id_1454.0                                                                        0.1357      0.004     31.342      0.000       0.127       0.144\n",
      "Facility Id_1458.0                                                                       -0.3625      0.006    -62.392      0.000      -0.374      -0.351\n",
      "Facility Id_1463.0                                                                        5.4247      0.029    188.591      0.000       5.368       5.481\n",
      "Facility Id_1466.0                                                                        1.3076      0.008    165.828      0.000       1.292       1.323\n",
      "Facility Id_1626.0                                                                       -1.2203      0.008   -157.598      0.000      -1.235      -1.205\n",
      "Facility Id_1628.0                                                                       -0.6509      0.006   -118.002      0.000      -0.662      -0.640\n",
      "Facility Id_1629.0                                                                        2.5730      0.015    175.268      0.000       2.544       2.602\n",
      "Facility Id_1633.0                                                                       -0.8864      0.006   -137.824      0.000      -0.899      -0.874\n",
      "Facility Id_1635.0                                                                        5.0506      0.031    164.160      0.000       4.990       5.111\n",
      "Facility Id_1692.0                                                                       -1.1683      0.008   -147.983      0.000      -1.184      -1.153\n",
      "Facility Id_1738.0                                                                        1.2446      0.007    172.481      0.000       1.230       1.259\n",
      "Facility Id_1740.0                                                                       -0.4500      0.005    -93.610      0.000      -0.459      -0.441\n",
      "==============================================================================\n",
      "Omnibus:                   431973.668   Durbin-Watson:                   2.003\n",
      "Prob(Omnibus):                  0.000   Jarque-Bera (JB):          8288413.471\n",
      "Skew:                          -0.975   Prob(JB):                         0.00\n",
      "Kurtosis:                      14.634   Cond. No.                     1.48e+18\n",
      "==============================================================================\n",
      "\n",
      "Warnings:\n",
      "[1] Standard Errors assume that the covariance matrix of the errors is correctly specified.\n",
      "[2] The smallest eigenvalue is 2.64e-24. This might indicate that there are\n",
      "strong multicollinearity problems or that the design matrix is singular.\n"
     ]
    }
   ],
   "source": [
    "x_train = sm.add_constant(X_train)\n",
    "model = sm.OLS(y_train, x_train)\n",
    "results = model.fit()\n",
    "print(results.summary())"
   ]
  },
  {
   "cell_type": "markdown",
   "metadata": {},
   "source": [
    "##### scikit learn api"
   ]
  },
  {
   "cell_type": "code",
   "execution_count": 52,
   "metadata": {},
   "outputs": [
    {
     "name": "stdout",
     "output_type": "stream",
     "text": [
      "0.8310492611191778\n",
      "0.8313347802422058\n"
     ]
    }
   ],
   "source": [
    "clf = LinearRegression()\n",
    "clf.fit(X_train, y_train)\n",
    "y_pred = clf.predict(X_test)\n",
    "print(clf.score(X_train, y_train))\n",
    "print(clf.score(X_test, y_test))"
   ]
  },
  {
   "cell_type": "markdown",
   "metadata": {},
   "source": [
    "##### Principal Component Analysis"
   ]
  },
  {
   "cell_type": "code",
   "execution_count": 53,
   "metadata": {},
   "outputs": [],
   "source": [
    "pca = PCA().fit(x_val)"
   ]
  },
  {
   "cell_type": "code",
   "execution_count": 54,
   "metadata": {},
   "outputs": [
    {
     "data": {
      "text/plain": [
       "Text(0.5, 1.0, 'Top 10 Charges Explained Variance')"
      ]
     },
     "execution_count": 54,
     "metadata": {},
     "output_type": "execute_result"
    },
    {
     "data": {
      "image/png": "[encoded data removed]",
      "text/plain": [
       "<Figure size 864x432 with 1 Axes>"
      ]
     },
     "metadata": {
      "needs_background": "light"
     },
     "output_type": "display_data"
    }
   ],
   "source": [
    "plt.figure(figsize=(12, 6))\n",
    "plt.plot(np.cumsum(pca.explained_variance_ratio_))\n",
    "plt.xlabel('number of components')\n",
    "plt.ylabel('cumulative explained variance')\n",
    "plt.title('Top 10 Charges Explained Variance')"
   ]
  },
  {
   "cell_type": "code",
   "execution_count": 55,
   "metadata": {},
   "outputs": [
    {
     "data": {
      "text/plain": [
       "PCA(copy=True, iterated_power='auto', n_components=50, random_state=None,\n",
       "  svd_solver='auto', tol=0.0, whiten=False)"
      ]
     },
     "execution_count": 55,
     "metadata": {},
     "output_type": "execute_result"
    }
   ],
   "source": [
    "pca = PCA(n_components=50)\n",
    "pca.fit(x_val)"
   ]
  },
  {
   "cell_type": "code",
   "execution_count": 56,
   "metadata": {},
   "outputs": [
    {
     "name": "stdout",
     "output_type": "stream",
     "text": [
      "[[-1.12999410e-01 -1.35725408e-02  1.04547161e-01 ... -2.12670184e-03\n",
      "   3.36335670e-04  3.28262246e-03]\n",
      " [ 3.23250029e-01  5.01731759e-03 -1.53985102e-01 ...  1.28956226e-03\n",
      "  -2.72528662e-04  3.31689410e-03]\n",
      " [-1.32896239e-01 -7.76236767e-03 -4.90203756e-01 ...  7.26292063e-03\n",
      "   1.46490551e-02  6.55910426e-03]\n",
      " ...\n",
      " [ 3.25019213e-02 -1.53499047e-03 -3.27991630e-02 ...  3.83830456e-02\n",
      "  -2.58590361e-03  2.49284026e-04]\n",
      " [ 1.67916967e-03 -1.38399169e-04  1.95370899e-02 ...  1.92140828e-02\n",
      "   2.09215840e-02 -3.41380825e-02]\n",
      " [-1.99514267e-02 -5.86257401e-04 -2.59274434e-03 ...  1.93428424e-02\n",
      "   6.15571384e-02 -1.75392384e-01]]\n"
     ]
    }
   ],
   "source": [
    "print(pca.components_)"
   ]
  },
  {
   "cell_type": "code",
   "execution_count": 57,
   "metadata": {},
   "outputs": [
    {
     "name": "stdout",
     "output_type": "stream",
     "text": [
      "[4.05119862 2.77199439 2.04167443 1.66806557 1.25206061 1.18347821\n",
      " 1.11171462 0.94382483 0.85562482 0.62647302 0.5758716  0.48874715\n",
      " 0.45214493 0.31042497 0.27175528 0.26142204 0.24722537 0.21248693\n",
      " 0.18895114 0.18379814 0.16968185 0.15402616 0.13814121 0.1259285\n",
      " 0.10644649 0.10251663 0.09719969 0.09131262 0.08769628 0.08344804\n",
      " 0.07745726 0.07431522 0.06681862 0.0607697  0.059033   0.05698103\n",
      " 0.0567454  0.05583106 0.04771729 0.04657558 0.0427311  0.0361047\n",
      " 0.03559662 0.03013823 0.02618005 0.02298616 0.02225474 0.02115234\n",
      " 0.02033317 0.01985258]\n"
     ]
    }
   ],
   "source": [
    "print(pca.explained_variance_)"
   ]
  },
  {
   "cell_type": "code",
   "execution_count": 58,
   "metadata": {},
   "outputs": [],
   "source": [
    "x_val_transformed = pca.fit_transform(x_val)"
   ]
  },
  {
   "cell_type": "markdown",
   "metadata": {},
   "source": [
    "##### Running Linear Regression Again Using the dimensionally reduced dataset"
   ]
  },
  {
   "cell_type": "code",
   "execution_count": 59,
   "metadata": {},
   "outputs": [],
   "source": [
    "X_train_pca, X_test_pca, y_train_pca, y_test_pca = train_test_split(x_val_transformed, y_val, test_size=0.33, random_state=13)"
   ]
  },
  {
   "cell_type": "code",
   "execution_count": 60,
   "metadata": {},
   "outputs": [
    {
     "name": "stdout",
     "output_type": "stream",
     "text": [
      "0.8019394575805971\n",
      "0.8021455091156999\n"
     ]
    }
   ],
   "source": [
    "clf = LinearRegression()\n",
    "clf.fit(X_train_pca, y_train_pca)\n",
    "y_pred = clf.predict(X_test_pca)\n",
    "print(clf.score(X_train_pca, y_train_pca))\n",
    "print(clf.score(X_test_pca, y_test_pca))"
   ]
  },
  {
   "cell_type": "markdown",
   "metadata": {},
   "source": [
    "##### Decision Tree"
   ]
  },
  {
   "cell_type": "code",
   "execution_count": 61,
   "metadata": {},
   "outputs": [
    {
     "name": "stdout",
     "output_type": "stream",
     "text": [
      "In sample accuracy: 0.9697949908434028\n",
      "Out of sample accuracy: 0.927196532657669\n"
     ]
    }
   ],
   "source": [
    "# learn model\n",
    "dt = DecisionTreeRegressor()\n",
    "dt.fit(X_train, y_train)\n",
    "\n",
    "# in sample accuracy\n",
    "print('In sample accuracy:',dt.score(X_train, y_train))\n",
    "\n",
    "# out of sample accuracy\n",
    "print('Out of sample accuracy:',dt.score(X_test, y_test))"
   ]
  },
  {
   "cell_type": "code",
   "execution_count": 62,
   "metadata": {},
   "outputs": [
    {
     "name": "stdout",
     "output_type": "stream",
     "text": [
      "0.845426649774749 [0.3596387471170106, 0.569592839785839, 0.6484066529925812, 0.7080330006714738, 0.7566463129213479, 0.7960736394136414, 0.8259489210543189, 0.8536173629057879, 0.8744416447210592, 0.8904458730952451, 0.9031217871806537, 0.9122218210430947, 0.9190997355545211, 0.9252419863757192, 0.9300682663583077, 0.9332985866256517, 0.9352738775891749, 0.9362147090905129, 0.9366051863816398, 0.9365420255585684, 0.936128360372206, 0.9355048698967602, 0.9347170088930248, 0.9333563789958392]\n"
     ]
    }
   ],
   "source": [
    "# get the average OS accuracy for a range of tree depth\n",
    "OS=[]\n",
    "for i in range(1, 25):\n",
    "    dt = DecisionTreeRegressor(max_depth=i)\n",
    "    dt.fit(X_train, y_train)\n",
    "    OS.append(dt.score(X_test, y_test))\n",
    "print(np.mean(OS), OS)"
   ]
  },
  {
   "cell_type": "code",
   "execution_count": 63,
   "metadata": {},
   "outputs": [
    {
     "data": {
      "image/png": "[encoded data removed]",
      "text/plain": [
       "<Figure size 720x360 with 1 Axes>"
      ]
     },
     "metadata": {
      "needs_background": "light"
     },
     "output_type": "display_data"
    },
    {
     "data": {
      "text/plain": [
       "<Figure size 432x288 with 0 Axes>"
      ]
     },
     "metadata": {},
     "output_type": "display_data"
    }
   ],
   "source": [
    "# your code here\n",
    "plt.figure(figsize=(10, 5))\n",
    "plt.plot(range(1, 25), OS)\n",
    "plt.xlabel(\"Maximum Tree Depth\")\n",
    "plt.ylabel(\"Out of Sample Accuracy\")\n",
    "plt.title(\"Decision Tree - Out of Sample Accuracy vs Maximum Tree Depth - Top 10 APR DRGs\")\n",
    "plt.show()\n",
    "plt.savefig('decisionTreeTop10APRDRGsOutOfSampleAccuracy.png')"
   ]
  },
  {
   "cell_type": "code",
   "execution_count": 64,
   "metadata": {},
   "outputs": [
    {
     "name": "stdout",
     "output_type": "stream",
     "text": [
      "In sample accuracy: 0.9355259156529518\n",
      "Out of sample accuracy: 0.9301502145667537\n"
     ]
    }
   ],
   "source": [
    "# learn model\n",
    "dt = DecisionTreeRegressor(max_depth=15)\n",
    "dt.fit(X_train, y_train)\n",
    "\n",
    "# in sample accuracy\n",
    "print('In sample accuracy:',dt.score(X_train, y_train))\n",
    "\n",
    "# out of sample accuracy\n",
    "print('Out of sample accuracy:',dt.score(X_test, y_test))"
   ]
  },
  {
   "cell_type": "markdown",
   "metadata": {},
   "source": [
    "##### Decision Tree Visualization"
   ]
  },
  {
   "cell_type": "code",
   "execution_count": 65,
   "metadata": {},
   "outputs": [
    {
     "name": "stderr",
     "output_type": "stream",
     "text": [
      "IOPub data rate exceeded.\n",
      "The notebook server will temporarily stop sending output\n",
      "to the client in order to avoid crashing it.\n",
      "To change this limit, set the config variable\n",
      "`--NotebookApp.iopub_data_rate_limit`.\n",
      "\n",
      "Current values:\n",
      "NotebookApp.iopub_data_rate_limit=1000000.0 (bytes/sec)\n",
      "NotebookApp.rate_limit_window=3.0 (secs)\n",
      "\n"
     ]
    }
   ],
   "source": [
    "thestring=tree.export_graphviz(dt, out_file=None,\n",
    "                               feature_names=X_train.columns.values,  \n",
    "                               class_names=dt.classes_,  \n",
    "                               filled=True, rounded=True,  \n",
    "                               special_characters=True,impurity=False).replace(\"<br/>\",\", \").replace(\"&le;\",\"<=\").replace(\"=<\",\"=\\\"\").replace(\">,\",\"\\\",\")\n",
    "print(thestring)"
   ]
  },
  {
   "cell_type": "code",
   "execution_count": 66,
   "metadata": {},
   "outputs": [
    {
     "data": {
      "text/plain": [
       "<bound method BaseEstimator.get_params of DecisionTreeRegressor(criterion='mse', max_depth=15, max_features=None,\n",
       "           max_leaf_nodes=None, min_impurity_decrease=0.0,\n",
       "           min_impurity_split=None, min_samples_leaf=1,\n",
       "           min_samples_split=2, min_weight_fraction_leaf=0.0,\n",
       "           presort=False, random_state=None, splitter='best')>"
      ]
     },
     "execution_count": 66,
     "metadata": {},
     "output_type": "execute_result"
    }
   ],
   "source": [
    "dt.get_params"
   ]
  },
  {
   "cell_type": "code",
   "execution_count": 67,
   "metadata": {},
   "outputs": [
    {
     "name": "stdout",
     "output_type": "stream",
     "text": [
      "Variable: scale_days                                                        Importance: 0.52\n",
      "Variable: APR DRG Description_Neonate birthwt >2499g, normal newborn or neonate w other problem Importance: 0.16\n",
      "Variable: APR DRG Description_Knee joint replacement                        Importance: 0.04\n",
      "Variable: Mortality national comparison                                     Importance: 0.03\n",
      "Variable: scale_countPerDrgPerFacIdPerYr                                    Importance: 0.03\n",
      "Variable: Health Service Area_Long Island                                   Importance: 0.03\n",
      "Variable: scale_avgNumberDays                                               Importance: 0.02\n",
      "Variable: Health Service Area_Hudson Valley                                 Importance: 0.02\n",
      "Variable: APR DRG Description_Schizophrenia                                 Importance: 0.02\n",
      "Variable: APR Severity of Illness Code                                      Importance: 0.01\n",
      "Variable: Type of Admission_Newborn                                         Importance: 0.01\n",
      "Variable: scale_fte_employees_on_payroll                                    Importance: 0.01\n",
      "Variable: scale_number_of_beds                                              Importance: 0.01\n",
      "Variable: scale_countPerFacIdPerYr                                          Importance: 0.01\n",
      "Variable: scale_ratioDrgToFacility                                          Importance: 0.01\n",
      "Variable: Health Service Area_Central NY                                    Importance: 0.01\n",
      "Variable: Health Service Area_Finger Lakes                                  Importance: 0.01\n",
      "Variable: Health Service Area_New York City                                 Importance: 0.01\n",
      "Variable: yr                                                                Importance: 0.0\n",
      "Variable: Hospital overall rating                                           Importance: 0.0\n",
      "Variable: Safety of care national comparison                                Importance: 0.0\n",
      "Variable: Readmission national comparison                                   Importance: 0.0\n",
      "Variable: Patient experience national comparison                            Importance: 0.0\n",
      "Variable: Effectiveness of care national comparison                         Importance: 0.0\n",
      "Variable: Timeliness of care national comparison                            Importance: 0.0\n",
      "Variable: payment_Medicare                                                  Importance: 0.0\n",
      "Variable: payment_Blue Cross/Blue Shield                                    Importance: 0.0\n",
      "Variable: payment_Private Health Insurance                                  Importance: 0.0\n",
      "Variable: payment_Self-Pay                                                  Importance: 0.0\n",
      "Variable: payment_Medicaid                                                  Importance: 0.0\n",
      "Variable: payment_Federal/State/Local/VA                                    Importance: 0.0\n",
      "Variable: payment_Miscellaneous/Other                                       Importance: 0.0\n",
      "Variable: payment_Department of Corrections                                 Importance: 0.0\n",
      "Variable: payment_Managed Care, Unspecified                                 Importance: 0.0\n",
      "Variable: Type of Admission_Elective                                        Importance: 0.0\n",
      "Variable: Type of Admission_Emergency                                       Importance: 0.0\n",
      "Variable: Type of Admission_Not Available                                   Importance: 0.0\n",
      "Variable: Type of Admission_Trauma                                          Importance: 0.0\n",
      "Variable: Type of Admission_Urgent                                          Importance: 0.0\n",
      "Variable: emergencyRoom                                                     Importance: 0.0\n",
      "Variable: Hospital Ownership_Government - Hospital District or Authority    Importance: 0.0\n",
      "Variable: Hospital Ownership_Government - Local                             Importance: 0.0\n",
      "Variable: Hospital Ownership_Government - State                             Importance: 0.0\n",
      "Variable: Hospital Ownership_Proprietary                                    Importance: 0.0\n",
      "Variable: Hospital Ownership_Voluntary non-profit - Church                  Importance: 0.0\n",
      "Variable: Hospital Ownership_Voluntary non-profit - Other                   Importance: 0.0\n",
      "Variable: Hospital Ownership_Voluntary non-profit - Private                 Importance: 0.0\n",
      "Variable: rural_versus_urban_U                                              Importance: 0.0\n",
      "Variable: scale_totalPopulation                                             Importance: 0.0\n",
      "Variable: scale_totalInsured                                                Importance: 0.0\n",
      "Variable: scale_numberOfPaymentTypes                                        Importance: 0.0\n",
      "Variable: scale_numberUrgentAdmits                                          Importance: 0.0\n",
      "Variable: scale_ratioInsuredTotalPopulation                                 Importance: 0.0\n",
      "Variable: Health Service Area_Capital/Adiron                                Importance: 0.0\n",
      "Variable: Health Service Area_Southern Tier                                 Importance: 0.0\n",
      "Variable: Health Service Area_Western NY                                    Importance: 0.0\n",
      "Variable: APR DRG Description_Cellulitis & other skin infections            Importance: 0.0\n",
      "Variable: APR DRG Description_Cesarean delivery                             Importance: 0.0\n",
      "Variable: APR DRG Description_Chronic obstructive pulmonary disease         Importance: 0.0\n",
      "Variable: APR DRG Description_Heart failure                                 Importance: 0.0\n",
      "Variable: APR DRG Description_Other pneumonia                               Importance: 0.0\n",
      "Variable: APR DRG Description_Septicemia & disseminated infections          Importance: 0.0\n",
      "Variable: APR DRG Description_Vaginal delivery                              Importance: 0.0\n",
      "Variable: Facility Id_1.0                                                   Importance: 0.0\n",
      "Variable: Facility Id_4.0                                                   Importance: 0.0\n",
      "Variable: Facility Id_5.0                                                   Importance: 0.0\n",
      "Variable: Facility Id_42.0                                                  Importance: 0.0\n",
      "Variable: Facility Id_43.0                                                  Importance: 0.0\n",
      "Variable: Facility Id_66.0                                                  Importance: 0.0\n",
      "Variable: Facility Id_85.0                                                  Importance: 0.0\n",
      "Variable: Facility Id_98.0                                                  Importance: 0.0\n",
      "Variable: Facility Id_103.0                                                 Importance: 0.0\n",
      "Variable: Facility Id_116.0                                                 Importance: 0.0\n",
      "Variable: Facility Id_128.0                                                 Importance: 0.0\n",
      "Variable: Facility Id_135.0                                                 Importance: 0.0\n",
      "Variable: Facility Id_146.0                                                 Importance: 0.0\n",
      "Variable: Facility Id_158.0                                                 Importance: 0.0\n",
      "Variable: Facility Id_181.0                                                 Importance: 0.0\n",
      "Variable: Facility Id_207.0                                                 Importance: 0.0\n",
      "Variable: Facility Id_210.0                                                 Importance: 0.0\n",
      "Variable: Facility Id_213.0                                                 Importance: 0.0\n",
      "Variable: Facility Id_218.0                                                 Importance: 0.0\n",
      "Variable: Facility Id_267.0                                                 Importance: 0.0\n",
      "Variable: Facility Id_324.0                                                 Importance: 0.0\n",
      "Variable: Facility Id_325.0                                                 Importance: 0.0\n",
      "Variable: Facility Id_330.0                                                 Importance: 0.0\n",
      "Variable: Facility Id_339.0                                                 Importance: 0.0\n",
      "Variable: Facility Id_367.0                                                 Importance: 0.0\n",
      "Variable: Facility Id_393.0                                                 Importance: 0.0\n",
      "Variable: Facility Id_397.0                                                 Importance: 0.0\n",
      "Variable: Facility Id_409.0                                                 Importance: 0.0\n",
      "Variable: Facility Id_411.0                                                 Importance: 0.0\n",
      "Variable: Facility Id_413.0                                                 Importance: 0.0\n",
      "Variable: Facility Id_471.0                                                 Importance: 0.0\n",
      "Variable: Facility Id_484.0                                                 Importance: 0.0\n",
      "Variable: Facility Id_511.0                                                 Importance: 0.0\n",
      "Variable: Facility Id_513.0                                                 Importance: 0.0\n",
      "Variable: Facility Id_528.0                                                 Importance: 0.0\n",
      "Variable: Facility Id_541.0                                                 Importance: 0.0\n",
      "Variable: Facility Id_551.0                                                 Importance: 0.0\n",
      "Variable: Facility Id_552.0                                                 Importance: 0.0\n",
      "Variable: Facility Id_563.0                                                 Importance: 0.0\n",
      "Variable: Facility Id_565.0                                                 Importance: 0.0\n",
      "Variable: Facility Id_574.0                                                 Importance: 0.0\n",
      "Variable: Facility Id_583.0                                                 Importance: 0.0\n",
      "Variable: Facility Id_598.0                                                 Importance: 0.0\n",
      "Variable: Facility Id_599.0                                                 Importance: 0.0\n",
      "Variable: Facility Id_630.0                                                 Importance: 0.0\n",
      "Variable: Facility Id_635.0                                                 Importance: 0.0\n",
      "Variable: Facility Id_636.0                                                 Importance: 0.0\n",
      "Variable: Facility Id_678.0                                                 Importance: 0.0\n",
      "Variable: Facility Id_694.0                                                 Importance: 0.0\n",
      "Variable: Facility Id_699.0                                                 Importance: 0.0\n",
      "Variable: Facility Id_704.0                                                 Importance: 0.0\n",
      "Variable: Facility Id_708.0                                                 Importance: 0.0\n",
      "Variable: Facility Id_727.0                                                 Importance: 0.0\n",
      "Variable: Facility Id_752.0                                                 Importance: 0.0\n",
      "Variable: Facility Id_756.0                                                 Importance: 0.0\n",
      "Variable: Facility Id_776.0                                                 Importance: 0.0\n",
      "Variable: Facility Id_779.0                                                 Importance: 0.0\n",
      "Variable: Facility Id_798.0                                                 Importance: 0.0\n",
      "Variable: Facility Id_804.0                                                 Importance: 0.0\n",
      "Variable: Facility Id_815.0                                                 Importance: 0.0\n",
      "Variable: Facility Id_818.0                                                 Importance: 0.0\n",
      "Variable: Facility Id_829.0                                                 Importance: 0.0\n",
      "Variable: Facility Id_866.0                                                 Importance: 0.0\n",
      "Variable: Facility Id_885.0                                                 Importance: 0.0\n",
      "Variable: Facility Id_895.0                                                 Importance: 0.0\n",
      "Variable: Facility Id_896.0                                                 Importance: 0.0\n",
      "Variable: Facility Id_913.0                                                 Importance: 0.0\n",
      "Variable: Facility Id_924.0                                                 Importance: 0.0\n",
      "Variable: Facility Id_925.0                                                 Importance: 0.0\n",
      "Variable: Facility Id_938.0                                                 Importance: 0.0\n",
      "Variable: Facility Id_943.0                                                 Importance: 0.0\n",
      "Variable: Facility Id_977.0                                                 Importance: 0.0\n",
      "Variable: Facility Id_990.0                                                 Importance: 0.0\n",
      "Variable: Facility Id_1005.0                                                Importance: 0.0\n",
      "Variable: Facility Id_1028.0                                                Importance: 0.0\n",
      "Variable: Facility Id_1039.0                                                Importance: 0.0\n",
      "Variable: Facility Id_1072.0                                                Importance: 0.0\n",
      "Variable: Facility Id_1098.0                                                Importance: 0.0\n",
      "Variable: Facility Id_1117.0                                                Importance: 0.0\n",
      "Variable: Facility Id_1122.0                                                Importance: 0.0\n",
      "Variable: Facility Id_1129.0                                                Importance: 0.0\n",
      "Variable: Facility Id_1139.0                                                Importance: 0.0\n",
      "Variable: Facility Id_1164.0                                                Importance: 0.0\n",
      "Variable: Facility Id_1165.0                                                Importance: 0.0\n",
      "Variable: Facility Id_1169.0                                                Importance: 0.0\n",
      "Variable: Facility Id_1172.0                                                Importance: 0.0\n",
      "Variable: Facility Id_1176.0                                                Importance: 0.0\n",
      "Variable: Facility Id_1286.0                                                Importance: 0.0\n",
      "Variable: Facility Id_1288.0                                                Importance: 0.0\n",
      "Variable: Facility Id_1293.0                                                Importance: 0.0\n",
      "Variable: Facility Id_1294.0                                                Importance: 0.0\n",
      "Variable: Facility Id_1301.0                                                Importance: 0.0\n",
      "Variable: Facility Id_1305.0                                                Importance: 0.0\n",
      "Variable: Facility Id_1306.0                                                Importance: 0.0\n",
      "Variable: Facility Id_1309.0                                                Importance: 0.0\n",
      "Variable: Facility Id_1315.0                                                Importance: 0.0\n",
      "Variable: Facility Id_1318.0                                                Importance: 0.0\n",
      "Variable: Facility Id_1320.0                                                Importance: 0.0\n",
      "Variable: Facility Id_1438.0                                                Importance: 0.0\n",
      "Variable: Facility Id_1439.0                                                Importance: 0.0\n",
      "Variable: Facility Id_1445.0                                                Importance: 0.0\n",
      "Variable: Facility Id_1450.0                                                Importance: 0.0\n",
      "Variable: Facility Id_1454.0                                                Importance: 0.0\n",
      "Variable: Facility Id_1458.0                                                Importance: 0.0\n",
      "Variable: Facility Id_1463.0                                                Importance: 0.0\n",
      "Variable: Facility Id_1466.0                                                Importance: 0.0\n",
      "Variable: Facility Id_1626.0                                                Importance: 0.0\n",
      "Variable: Facility Id_1628.0                                                Importance: 0.0\n",
      "Variable: Facility Id_1629.0                                                Importance: 0.0\n",
      "Variable: Facility Id_1633.0                                                Importance: 0.0\n",
      "Variable: Facility Id_1635.0                                                Importance: 0.0\n",
      "Variable: Facility Id_1692.0                                                Importance: 0.0\n",
      "Variable: Facility Id_1738.0                                                Importance: 0.0\n",
      "Variable: Facility Id_1740.0                                                Importance: 0.0\n"
     ]
    }
   ],
   "source": [
    "importances = list(dt.feature_importances_)\n",
    "dtFeatImpt = [(feature, round(importance, 2)) for feature, importance in zip(list(X_train.columns), importances)]\n",
    "dtFeatImpt = sorted(dtFeatImpt, key = lambda x: x[1], reverse = True)\n",
    "for pair in dtFeatImpt:\n",
    "    print('Variable: {:65} Importance: {}'.format(*pair))"
   ]
  },
  {
   "cell_type": "markdown",
   "metadata": {},
   "source": [
    "##### Comparing Total Charges to What Hospitals Published"
   ]
  },
  {
   "cell_type": "code",
   "execution_count": 68,
   "metadata": {},
   "outputs": [],
   "source": [
    "hospPrices = pd.read_csv(dataFol + 'compiledMasterchargesNycHospitals.csv')"
   ]
  },
  {
   "cell_type": "code",
   "execution_count": 69,
   "metadata": {},
   "outputs": [],
   "source": [
    "hospPrices.drop(['Unnamed: 0'], axis=1, inplace=True)"
   ]
  },
  {
   "cell_type": "code",
   "execution_count": 70,
   "metadata": {},
   "outputs": [
    {
     "data": {
      "text/plain": [
       "(96512, 7)"
      ]
     },
     "execution_count": 70,
     "metadata": {},
     "output_type": "execute_result"
    }
   ],
   "source": [
    "hospPrices.shape"
   ]
  },
  {
   "cell_type": "code",
   "execution_count": 71,
   "metadata": {},
   "outputs": [],
   "source": [
    "hospPrices = hospPrices[(hospPrices['drgType'] == 'APR-DRG') & \n",
    "                       (hospPrices['hospDrg'].isin([139.0, 140.0, 194.0, 302.0, 383.0, 540.0, 560.0, 640.0, 720.0, 750.0]))]"
   ]
  },
  {
   "cell_type": "code",
   "execution_count": 72,
   "metadata": {},
   "outputs": [
    {
     "data": {
      "text/plain": [
       "array([1164, 1294, 1626, 1445, 1165, 1301, 1172, 1454, 1186, 1692])"
      ]
     },
     "execution_count": 72,
     "metadata": {},
     "output_type": "execute_result"
    }
   ],
   "source": [
    "hospPrices['facId'].unique()"
   ]
  },
  {
   "cell_type": "code",
   "execution_count": 73,
   "metadata": {},
   "outputs": [
    {
     "data": {
      "text/plain": [
       "(100, 7)"
      ]
     },
     "execution_count": 73,
     "metadata": {},
     "output_type": "execute_result"
    }
   ],
   "source": [
    "hospPrices.shape"
   ]
  },
  {
   "cell_type": "code",
   "execution_count": 74,
   "metadata": {},
   "outputs": [],
   "source": [
    "fac_cols = ['Facility Id_1164.0', 'Facility Id_1294.0',  'Facility Id_1445.0',\n",
    "            'Facility Id_1165.0', 'Facility Id_1301.0',  'Facility Id_1172.0', \n",
    "             'Facility Id_1454.0', 'Facility Id_1692.0', 'Facility Id_1626.0']"
   ]
  },
  {
   "cell_type": "code",
   "execution_count": 75,
   "metadata": {},
   "outputs": [],
   "source": [
    "fac_num = [1164, 1294, 1445, 1165, 1301, 1172, 1454, 1692, 1626]"
   ]
  },
  {
   "cell_type": "code",
   "execution_count": 76,
   "metadata": {},
   "outputs": [],
   "source": [
    "drg_cols = ['APR DRG Description_Other pneumonia', # 139\n",
    "            'APR DRG Description_Chronic obstructive pulmonary disease', #140\n",
    "            'APR DRG Description_Heart failure', # 194\n",
    "            'APR DRG Description_Knee joint replacement', # 302\n",
    "            'APR DRG Description_Cellulitis & other skin infections', # 383\n",
    "            'APR DRG Description_Cesarean delivery', #540\n",
    "            'APR DRG Description_Vaginal delivery', #560\n",
    "            'APR DRG Description_Neonate birthwt >2499g, normal newborn or neonate w other problem', # 640\n",
    "            'APR DRG Description_Septicemia & disseminated infections', #720\n",
    "            'APR DRG Description_Schizophrenia'] # 750"
   ]
  },
  {
   "cell_type": "code",
   "execution_count": 77,
   "metadata": {},
   "outputs": [],
   "source": [
    "drg_num = [139.0, 140.0, 194.0, 302.0, 383.0, 540.0, 560.0, 640.0, 720.0, 750.0]"
   ]
  },
  {
   "cell_type": "markdown",
   "metadata": {},
   "source": [
    "##### APR DRG 139: 'APR DRG Description_Other pneumonia'"
   ]
  },
  {
   "cell_type": "code",
   "execution_count": 80,
   "metadata": {},
   "outputs": [
    {
     "name": "stdout",
     "output_type": "stream",
     "text": [
      "\n",
      "\n",
      "APR DRG Description_Other pneumonia\n",
      "Facility Id_1294.0\n",
      "Log Predicted Value is  [10.50361252]\n",
      "Log Published Value is  10.20660833245709\n",
      "Facility Id_1445.0\n",
      "Log Predicted Value is  [9.98230369]\n",
      "Log Published Value is  10.47768170076043\n",
      "Facility Id_1165.0\n",
      "Log Predicted Value is  [10.00369437]\n",
      "Log Published Value is  10.321779049694047\n",
      "Facility Id_1301.0\n",
      "Log Predicted Value is  [10.21444994]\n",
      "Log Published Value is  10.128651062359804\n",
      "Facility Id_1172.0\n",
      "Log Predicted Value is  [9.52527701]\n",
      "Log Published Value is  9.806187243738133\n",
      "Facility Id_1454.0\n",
      "Log Predicted Value is  [10.00369437]\n",
      "Log Published Value is  9.396541891968575\n",
      "Facility Id_1692.0\n",
      "Log Predicted Value is  [10.00369437]\n",
      "Log Published Value is  8.850756916701819\n",
      "Facility Id_1626.0\n",
      "Log Predicted Value is  [10.50361252]\n",
      "Log Published Value is  10.957623085896845\n",
      "\n",
      "\n",
      "APR DRG Description_Chronic obstructive pulmonary disease\n",
      "Facility Id_1294.0\n",
      "Log Predicted Value is  [10.50361252]\n",
      "Log Published Value is  10.20660833245709\n",
      "Facility Id_1445.0\n",
      "Log Predicted Value is  [9.98230369]\n",
      "Log Published Value is  10.47768170076043\n",
      "Facility Id_1165.0\n",
      "Log Predicted Value is  [10.21444994]\n",
      "Log Published Value is  10.321779049694047\n",
      "Facility Id_1301.0\n",
      "Log Predicted Value is  [9.98230369]\n",
      "Log Published Value is  10.128651062359804\n",
      "Facility Id_1172.0\n",
      "Log Predicted Value is  [9.64356073]\n",
      "Log Published Value is  9.806187243738133\n",
      "Facility Id_1454.0\n",
      "Log Predicted Value is  [10.00369437]\n",
      "Log Published Value is  9.396541891968575\n",
      "Facility Id_1692.0\n",
      "Log Predicted Value is  [10.21444994]\n",
      "Log Published Value is  8.850756916701819\n",
      "Facility Id_1626.0\n",
      "Log Predicted Value is  [10.50361252]\n",
      "Log Published Value is  10.957623085896845\n",
      "\n",
      "\n",
      "APR DRG Description_Heart failure\n",
      "Facility Id_1294.0\n",
      "Log Predicted Value is  [10.66193882]\n",
      "Log Published Value is  10.20660833245709\n",
      "Facility Id_1445.0\n",
      "Log Predicted Value is  [9.98230369]\n",
      "Log Published Value is  10.47768170076043\n",
      "Facility Id_1165.0\n",
      "Log Predicted Value is  [10.66193882]\n",
      "Log Published Value is  10.321779049694047\n",
      "Facility Id_1301.0\n",
      "Log Predicted Value is  [10.21444994]\n",
      "Log Published Value is  10.128651062359804\n",
      "Facility Id_1172.0\n",
      "Log Predicted Value is  [9.98230369]\n",
      "Log Published Value is  9.806187243738133\n",
      "Facility Id_1454.0\n",
      "Log Predicted Value is  [10.50361252]\n",
      "Log Published Value is  9.396541891968575\n",
      "Facility Id_1692.0\n",
      "Log Predicted Value is  [10.21444994]\n",
      "Log Published Value is  8.850756916701819\n",
      "Facility Id_1626.0\n",
      "Log Predicted Value is  [10.59149563]\n",
      "Log Published Value is  10.957623085896845\n",
      "\n",
      "\n",
      "APR DRG Description_Knee joint replacement\n",
      "Facility Id_1294.0\n",
      "Log Predicted Value is  [10.50361252]\n",
      "Log Published Value is  10.20660833245709\n",
      "Facility Id_1165.0\n",
      "Log Predicted Value is  [10.6134039]\n",
      "Log Published Value is  10.321779049694047\n",
      "Facility Id_1301.0\n",
      "Log Predicted Value is  [10.74226464]\n",
      "Log Published Value is  10.128651062359804\n",
      "Facility Id_1172.0\n",
      "Log Predicted Value is  [10.6134039]\n",
      "Log Published Value is  9.806187243738133\n",
      "Facility Id_1454.0\n",
      "Log Predicted Value is  [10.6134039]\n",
      "Log Published Value is  9.396541891968575\n",
      "Facility Id_1692.0\n",
      "Log Predicted Value is  [10.50361252]\n",
      "Log Published Value is  8.850756916701819\n",
      "Facility Id_1626.0\n",
      "Log Predicted Value is  [10.59149563]\n",
      "Log Published Value is  10.957623085896845\n",
      "\n",
      "\n",
      "APR DRG Description_Cellulitis & other skin infections\n",
      "Facility Id_1294.0\n",
      "Log Predicted Value is  [10.59149563]\n",
      "Log Published Value is  10.20660833245709\n",
      "Facility Id_1445.0\n",
      "Log Predicted Value is  [9.98230369]\n",
      "Log Published Value is  10.47768170076043\n",
      "Facility Id_1165.0\n",
      "Log Predicted Value is  [10.00369437]\n",
      "Log Published Value is  10.321779049694047\n",
      "Facility Id_1301.0\n",
      "Log Predicted Value is  [9.98230369]\n",
      "Log Published Value is  10.128651062359804\n",
      "Facility Id_1172.0\n",
      "Log Predicted Value is  [9.64356073]\n",
      "Log Published Value is  9.806187243738133\n",
      "Facility Id_1454.0\n",
      "Log Predicted Value is  [9.64356073]\n",
      "Log Published Value is  9.396541891968575\n",
      "Facility Id_1692.0\n",
      "Log Predicted Value is  [10.21444994]\n",
      "Log Published Value is  8.850756916701819\n",
      "Facility Id_1626.0\n",
      "Log Predicted Value is  [10.21444994]\n",
      "Log Published Value is  10.957623085896845\n",
      "\n",
      "\n",
      "APR DRG Description_Cesarean delivery\n",
      "Facility Id_1294.0\n",
      "Log Predicted Value is  [9.78027629]\n",
      "Log Published Value is  10.20660833245709\n",
      "Facility Id_1445.0\n",
      "Log Predicted Value is  [9.98230369]\n",
      "Log Published Value is  10.47768170076043\n",
      "Facility Id_1165.0\n",
      "Log Predicted Value is  [9.78027629]\n",
      "Log Published Value is  10.321779049694047\n",
      "Facility Id_1301.0\n",
      "Log Predicted Value is  [9.98230369]\n",
      "Log Published Value is  10.128651062359804\n",
      "Facility Id_1172.0\n",
      "Log Predicted Value is  [9.98230369]\n",
      "Log Published Value is  9.806187243738133\n",
      "Facility Id_1454.0\n",
      "Log Predicted Value is  [10.00369437]\n",
      "Log Published Value is  9.396541891968575\n",
      "Facility Id_1692.0\n",
      "Log Predicted Value is  [9.78027629]\n",
      "Log Published Value is  8.850756916701819\n",
      "Facility Id_1626.0\n",
      "Log Predicted Value is  [9.78027629]\n",
      "Log Published Value is  10.957623085896845\n",
      "\n",
      "\n",
      "APR DRG Description_Vaginal delivery\n",
      "Facility Id_1294.0\n",
      "Log Predicted Value is  [9.52527701]\n",
      "Log Published Value is  10.20660833245709\n",
      "Facility Id_1445.0\n",
      "Log Predicted Value is  [9.52527701]\n",
      "Log Published Value is  10.47768170076043\n",
      "Facility Id_1165.0\n",
      "Log Predicted Value is  [9.52527701]\n",
      "Log Published Value is  10.321779049694047\n",
      "Facility Id_1301.0\n",
      "Log Predicted Value is  [9.52527701]\n",
      "Log Published Value is  10.128651062359804\n",
      "Facility Id_1172.0\n",
      "Log Predicted Value is  [9.52527701]\n",
      "Log Published Value is  9.806187243738133\n",
      "Facility Id_1454.0\n",
      "Log Predicted Value is  [9.52527701]\n",
      "Log Published Value is  9.396541891968575\n",
      "Facility Id_1692.0\n",
      "Log Predicted Value is  [9.52527701]\n",
      "Log Published Value is  8.850756916701819\n",
      "Facility Id_1626.0\n",
      "Log Predicted Value is  [9.52527701]\n",
      "Log Published Value is  10.957623085896845\n",
      "\n",
      "\n",
      "APR DRG Description_Neonate birthwt >2499g, normal newborn or neonate w other problem\n",
      "Facility Id_1294.0\n",
      "Log Predicted Value is  [8.80294946]\n",
      "Log Published Value is  10.20660833245709\n",
      "Facility Id_1445.0\n",
      "Log Predicted Value is  [8.83106208]\n",
      "Log Published Value is  10.47768170076043\n",
      "Facility Id_1165.0\n",
      "Log Predicted Value is  [8.99092178]\n",
      "Log Published Value is  10.321779049694047\n",
      "Facility Id_1301.0\n",
      "Log Predicted Value is  [8.80294946]\n",
      "Log Published Value is  10.128651062359804\n",
      "Facility Id_1172.0\n",
      "Log Predicted Value is  [8.46267698]\n",
      "Log Published Value is  9.806187243738133\n",
      "Facility Id_1454.0\n",
      "Log Predicted Value is  [8.83106208]\n",
      "Log Published Value is  9.396541891968575\n",
      "Facility Id_1692.0\n",
      "Log Predicted Value is  [8.46267698]\n",
      "Log Published Value is  8.850756916701819\n",
      "Facility Id_1626.0\n",
      "Log Predicted Value is  [8.83207355]\n",
      "Log Published Value is  10.957623085896845\n",
      "\n",
      "\n",
      "APR DRG Description_Septicemia & disseminated infections\n",
      "Facility Id_1294.0\n",
      "Log Predicted Value is  [10.98984131]\n",
      "Log Published Value is  10.20660833245709\n",
      "Facility Id_1445.0\n",
      "Log Predicted Value is  [10.66193882]\n",
      "Log Published Value is  10.47768170076043\n",
      "Facility Id_1165.0\n",
      "Log Predicted Value is  [10.66193882]\n",
      "Log Published Value is  10.321779049694047\n",
      "Facility Id_1301.0\n",
      "Log Predicted Value is  [11.06108354]\n",
      "Log Published Value is  10.128651062359804\n",
      "Facility Id_1172.0\n",
      "Log Predicted Value is  [10.66193882]\n",
      "Log Published Value is  9.806187243738133\n",
      "Facility Id_1454.0\n",
      "Log Predicted Value is  [10.66193882]\n",
      "Log Published Value is  9.396541891968575\n",
      "Facility Id_1692.0\n",
      "Log Predicted Value is  [10.98984131]\n",
      "Log Published Value is  8.850756916701819\n",
      "Facility Id_1626.0\n",
      "Log Predicted Value is  [10.98984131]\n",
      "Log Published Value is  10.957623085896845\n",
      "\n",
      "\n",
      "APR DRG Description_Schizophrenia\n",
      "Facility Id_1164.0\n",
      "Log Predicted Value is  [10.33899163]\n",
      "Log Published Value is  9.281603121368345\n",
      "Facility Id_1294.0\n",
      "Log Predicted Value is  [10.73567696]\n",
      "Log Published Value is  10.20660833245709\n",
      "Facility Id_1445.0\n",
      "Log Predicted Value is  [10.13489503]\n",
      "Log Published Value is  10.47768170076043\n",
      "Facility Id_1165.0\n",
      "Log Predicted Value is  [10.23987831]\n",
      "Log Published Value is  10.321779049694047\n",
      "Facility Id_1301.0\n",
      "Log Predicted Value is  [10.23987831]\n",
      "Log Published Value is  10.128651062359804\n",
      "Facility Id_1172.0\n",
      "Log Predicted Value is  [10.50799301]\n",
      "Log Published Value is  9.806187243738133\n",
      "Facility Id_1454.0\n",
      "Log Predicted Value is  [10.13489503]\n",
      "Log Published Value is  9.396541891968575\n",
      "Facility Id_1692.0\n",
      "Log Predicted Value is  [10.23987831]\n",
      "Log Published Value is  8.850756916701819\n",
      "Facility Id_1626.0\n",
      "Log Predicted Value is  [10.33899163]\n",
      "Log Published Value is  10.957623085896845\n"
     ]
    }
   ],
   "source": [
    "for i in range(len(drg_cols)):\n",
    "    print('\\n')\n",
    "    print(drg_cols[i])\n",
    "    aprTemp = x_val[(x_val[drg_cols[i]] == 1)]\n",
    "    \n",
    "    for j in range(len(fac_cols)):\n",
    "        if pd.isnull(aprTemp[(aprTemp[fac_cols[j]] == 1) & (aprTemp['yr'] == 2016)].mean()[fac_cols[j]]) == False:\n",
    "            print(fac_cols[j])\n",
    "            print('Log Predicted Value is ',\n",
    "                  dt.predict(pd.DataFrame(aprTemp[(aprTemp[fac_cols[j]] == 1) & (aprTemp['yr'] == 2016)].mean()).T))\n",
    "            print('Log Published Value is ', np.log(hospPrices[(hospPrices['facId'] == fac_num[j]) & (hospPrices['hospDrg'] == drg_num[j])]['charges'].iloc[0]))"
   ]
  },
  {
   "cell_type": "code",
   "execution_count": null,
   "metadata": {},
   "outputs": [],
   "source": []
  }
 ],
 "metadata": {
  "kernelspec": {
   "display_name": "mgPUI",
   "language": "python",
   "name": "mgpui"
  },
  "language_info": {
   "codemirror_mode": {
    "name": "ipython",
    "version": 3
   },
   "file_extension": ".py",
   "mimetype": "text/x-python",
   "name": "python",
   "nbconvert_exporter": "python",
   "pygments_lexer": "ipython3",
   "version": "3.7.2"
  }
 },
 "nbformat": 4,
 "nbformat_minor": 2
}
