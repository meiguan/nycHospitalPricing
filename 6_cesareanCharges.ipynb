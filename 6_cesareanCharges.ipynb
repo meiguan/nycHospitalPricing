{
 "cells": [
  {
   "cell_type": "code",
   "execution_count": 57,
   "metadata": {},
   "outputs": [
    {
     "name": "stdout",
     "output_type": "stream",
     "text": [
      "Populating the interactive namespace from numpy and matplotlib\n"
     ]
    },
    {
     "name": "stderr",
     "output_type": "stream",
     "text": [
      "/nfshome/yg833/.conda/envs/mgPUI/lib/python3.7/site-packages/IPython/core/magics/pylab.py:160: UserWarning: pylab import has clobbered these variables: ['clf']\n",
      "`%matplotlib` prevents importing * from pylab and numpy\n",
      "  \"\\n`%matplotlib` prevents importing * from pylab and numpy\"\n"
     ]
    }
   ],
   "source": [
    "import pandas as pd\n",
    "import numpy as np\n",
    "import matplotlib.pyplot as plt\n",
    "from sklearn.model_selection import train_test_split\n",
    "from sklearn.linear_model import LinearRegression\n",
    "from sklearn.ensemble import RandomForestRegressor\n",
    "from sklearn.tree import export_graphviz\n",
    "from sklearn.decomposition import PCA\n",
    "from sklearn.preprocessing import MinMaxScaler, scale\n",
    "from sklearn.discriminant_analysis import LinearDiscriminantAnalysis as LDA\n",
    "import statsmodels.api as sm\n",
    "import statsmodels.formula.api as smf\n",
    "import pydot\n",
    "\n",
    "%pylab inline"
   ]
  },
  {
   "cell_type": "markdown",
   "metadata": {},
   "source": [
    "## Pre-processing Data: #3"
   ]
  },
  {
   "cell_type": "code",
   "execution_count": 2,
   "metadata": {},
   "outputs": [
    {
     "name": "stderr",
     "output_type": "stream",
     "text": [
      "/nfshome/yg833/.conda/envs/mgPUI/lib/python3.7/site-packages/IPython/core/interactiveshell.py:3020: DtypeWarning: Columns (3) have mixed types. Specify dtype option on import or set low_memory=False.\n",
      "  interactivity=interactivity, compiler=compiler, result=result)\n"
     ]
    },
    {
     "data": {
      "text/plain": [
       "(215245, 68)"
      ]
     },
     "execution_count": 2,
     "metadata": {},
     "output_type": "execute_result"
    }
   ],
   "source": [
    "csectData = pd.read_csv('dataFiles/cSectionAprHospFeat.csv')\n",
    "csectData.shape"
   ]
  },
  {
   "cell_type": "code",
   "execution_count": 3,
   "metadata": {},
   "outputs": [
    {
     "data": {
      "text/plain": [
       "(215245, 50)"
      ]
     },
     "execution_count": 3,
     "metadata": {},
     "output_type": "execute_result"
    }
   ],
   "source": [
    "colsRemove = ['Length of Stay', #same as days\n",
    "             'APR DRG Code', #all 540\n",
    "             'APR DRG Description', #all c-sections\n",
    "              'Efficient use of medical imaging national comparison', # too many NaNs\n",
    "             'lonlat', #spatial \n",
    "             'geometry', #spatial\n",
    "             'puma', #spatial\n",
    "             'rural_versus_urban_R', #binary represented by rural_versus_urban_U\n",
    "             'lat', #spatial\n",
    "             'long', #spatial\n",
    "             'Unnamed: 0', #extra index\n",
    "             'Provider ID', #same as facility id\n",
    "              'number_of_interns_and',\n",
    "              'Total Costs', # related to charges\n",
    "              'ratioChargesCosts',\n",
    "              'chargesPerDay', \n",
    "              'ratioSumChargesPerFacPerYrToBedDays',\n",
    "              'sumChargesPerFacIdPerYr'\n",
    "             ]\n",
    "\n",
    "\n",
    "csectData.drop(columns=colsRemove, inplace=True)\n",
    "csectData.shape"
   ]
  },
  {
   "cell_type": "code",
   "execution_count": 4,
   "metadata": {},
   "outputs": [
    {
     "data": {
      "image/png": "[encoded data removed]",
      "text/plain": [
       "<Figure size 1080x576 with 2 Axes>"
      ]
     },
     "metadata": {
      "needs_background": "light"
     },
     "output_type": "display_data"
    }
   ],
   "source": [
    "plt.figure(figsize=(15,8))\n",
    "\n",
    "ax1 = plt.subplot(211)\n",
    "ax1.boxplot(csectData['days'], vert=False, meanline=True, showmeans=True)\n",
    "ax1.set_ylabel('Length of Stay (with outliers)', fontsize=13)\n",
    "ax1.set_title('Boxplots of Length of Stay', fontsize=15, pad=20)\n",
    "ax1.set_yticklabels([])\n",
    "\n",
    "ax2 = plt.subplot(212)\n",
    "ax2.boxplot(csectData[csectData['days'] <= 7]['days'], vert=False, meanline=True, showmeans=True)\n",
    "ax2.set_ylabel('Length of Stay (without outliers)', fontsize=13)\n",
    "ax2.set_xlabel('Length of Stay', fontsize=13)\n",
    "ax2.set_yticklabels([])\n",
    "plt.show()"
   ]
  },
  {
   "cell_type": "markdown",
   "metadata": {},
   "source": [
    "We only keep data with days of stay less than or equal to seven (one week), losing 2.57% of the data."
   ]
  },
  {
   "cell_type": "code",
   "execution_count": 5,
   "metadata": {},
   "outputs": [],
   "source": [
    "csectData = csectData[csectData['days'] <= 7]"
   ]
  },
  {
   "cell_type": "markdown",
   "metadata": {},
   "source": [
    "Drop all rows with NaNs. We are left with 81% of the data, which is still a large data set, plenty of rows for our analysis."
   ]
  },
  {
   "cell_type": "code",
   "execution_count": 6,
   "metadata": {},
   "outputs": [
    {
     "data": {
      "text/plain": [
       "(206565, 50)"
      ]
     },
     "execution_count": 6,
     "metadata": {},
     "output_type": "execute_result"
    }
   ],
   "source": [
    "csectData.dropna(axis=0, inplace=True)\n",
    "csectData.reset_index(inplace=True, drop=True)\n",
    "csectData.shape"
   ]
  },
  {
   "cell_type": "markdown",
   "metadata": {},
   "source": [
    "### Normalize Non-Discrete Features"
   ]
  },
  {
   "cell_type": "code",
   "execution_count": 7,
   "metadata": {},
   "outputs": [],
   "source": [
    "cols_to_scale = ['fte_employees_on_payroll', 'number_of_beds',\n",
    "                 'totalPopulation', 'totalInsured',\n",
    "                 'countPerDrgPerFacIdPerYr', 'countPerFacIdPerYr',\n",
    "                 'ratioDrgToFacility', 'numberOfPaymentTypes',\n",
    "                 'numberUrgentAdmits', 'ratioInsuredTotalPopulation',\n",
    "                 'days', 'avgNumberDays', 'Total Charges']"
   ]
  },
  {
   "cell_type": "code",
   "execution_count": 8,
   "metadata": {},
   "outputs": [
    {
     "name": "stderr",
     "output_type": "stream",
     "text": [
      "/nfshome/yg833/.conda/envs/mgPUI/lib/python3.7/site-packages/sklearn/utils/validation.py:595: DataConversionWarning: Data with input dtype int64 was converted to float64 by the scale function.\n",
      "  warnings.warn(msg, DataConversionWarning)\n",
      "/nfshome/yg833/.conda/envs/mgPUI/lib/python3.7/site-packages/sklearn/utils/validation.py:595: DataConversionWarning: Data with input dtype int64 was converted to float64 by the scale function.\n",
      "  warnings.warn(msg, DataConversionWarning)\n",
      "/nfshome/yg833/.conda/envs/mgPUI/lib/python3.7/site-packages/sklearn/utils/validation.py:595: DataConversionWarning: Data with input dtype int64 was converted to float64 by the scale function.\n",
      "  warnings.warn(msg, DataConversionWarning)\n",
      "/nfshome/yg833/.conda/envs/mgPUI/lib/python3.7/site-packages/sklearn/utils/validation.py:595: DataConversionWarning: Data with input dtype int64 was converted to float64 by the scale function.\n",
      "  warnings.warn(msg, DataConversionWarning)\n"
     ]
    }
   ],
   "source": [
    "for cols in range(len(cols_to_scale)):\n",
    "    csectData[str('scale_'+cols_to_scale[cols])] = scale(csectData[cols_to_scale[cols]])"
   ]
  },
  {
   "cell_type": "code",
   "execution_count": 9,
   "metadata": {},
   "outputs": [],
   "source": [
    "csectData['Facility Id'] = csectData['Facility Id'].astype('int64')"
   ]
  },
  {
   "cell_type": "code",
   "execution_count": 10,
   "metadata": {
    "scrolled": true
   },
   "outputs": [],
   "source": [
    "# get dummies for facility ids and health service area\n",
    "fidDummies = pd.get_dummies(csectData['Facility Id'], prefix='fid')\n",
    "hsaDummies = pd.get_dummies(csectData['Health Service Area'], prefix='hsa')\n",
    "dummies = [fidDummies, hsaDummies]\n",
    "dummiesDf = pd.concat(dummies, axis=1)"
   ]
  },
  {
   "cell_type": "code",
   "execution_count": 11,
   "metadata": {},
   "outputs": [
    {
     "name": "stdout",
     "output_type": "stream",
     "text": [
      "(206565, 99)\n",
      "(206565, 8)\n",
      "(206565, 107)\n"
     ]
    }
   ],
   "source": [
    "print(fidDummies.shape)\n",
    "print(hsaDummies.shape)\n",
    "print(dummiesDf.shape)"
   ]
  },
  {
   "cell_type": "code",
   "execution_count": 12,
   "metadata": {},
   "outputs": [
    {
     "data": {
      "text/plain": [
       "(206565, 168)"
      ]
     },
     "execution_count": 12,
     "metadata": {},
     "output_type": "execute_result"
    }
   ],
   "source": [
    "csectData.drop(columns=['Facility Id', 'Health Service Area'], inplace=True)\n",
    "csectData = csectData.merge(dummiesDf, left_index=True, right_index=True)\n",
    "csectData.shape"
   ]
  },
  {
   "cell_type": "code",
   "execution_count": 13,
   "metadata": {},
   "outputs": [
    {
     "data": {
      "text/plain": [
       "(206565, 156)"
      ]
     },
     "execution_count": 13,
     "metadata": {},
     "output_type": "execute_result"
    }
   ],
   "source": [
    "csectDataLR = csectData.drop(columns=['fte_employees_on_payroll', 'number_of_beds',\n",
    "                                      'totalPopulation', 'totalInsured',\n",
    "                                      'countPerDrgPerFacIdPerYr', 'countPerFacIdPerYr',\n",
    "                                      'ratioDrgToFacility', 'numberOfPaymentTypes',\n",
    "                                      'numberUrgentAdmits', 'ratioInsuredTotalPopulation',\n",
    "                                      'days', 'avgNumberDays', 'Total Charges'])\n",
    "csectDataLR['intercept'] = 1\n",
    "csectDataLR.shape"
   ]
  },
  {
   "cell_type": "markdown",
   "metadata": {},
   "source": [
    "## Linear Regression Model"
   ]
  },
  {
   "cell_type": "code",
   "execution_count": 14,
   "metadata": {
    "scrolled": true
   },
   "outputs": [
    {
     "name": "stdout",
     "output_type": "stream",
     "text": [
      "0.7662479751649849\n",
      "0.7638129886117714\n"
     ]
    }
   ],
   "source": [
    "X = csectDataLR.drop(columns=['scale_Total Charges'])\n",
    "y = csectDataLR['scale_Total Charges']\n",
    "X_train, X_test, y_train, y_test = train_test_split(X, y, test_size=0.33, random_state=13)\n",
    "\n",
    "clf = LinearRegression()\n",
    "clf.fit(X_train, y_train)\n",
    "y_pred = clf.predict(X_test)\n",
    "print(clf.score(X_train, y_train))\n",
    "print(clf.score(X_test, y_test))"
   ]
  },
  {
   "cell_type": "code",
   "execution_count": 52,
   "metadata": {},
   "outputs": [
    {
     "data": {
      "text/plain": [
       "['Type of Admission_Emergency',\n",
       " 'fid_1318',\n",
       " 'fid_218',\n",
       " 'scale_numberOfPaymentTypes',\n",
       " 'fid_925',\n",
       " 'fid_541',\n",
       " 'scale_ratioDrgToFacility',\n",
       " 'Hospital overall rating',\n",
       " 'scale_ratioInsuredTotalPopulation',\n",
       " 'payment_Self-Pay',\n",
       " 'Hospital Ownership_Government - Local',\n",
       " 'payment_Department of Corrections',\n",
       " 'fid_938',\n",
       " 'fid_1',\n",
       " 'Effectiveness of care national comparison',\n",
       " 'fid_1129',\n",
       " 'Type of Admission_Trauma',\n",
       " 'fid_565',\n",
       " 'fid_1294',\n",
       " 'fid_411',\n",
       " 'Hospital Ownership_Proprietary',\n",
       " 'fid_393',\n",
       " 'fid_727',\n",
       " 'fid_135',\n",
       " 'fid_804',\n",
       " 'fid_1301',\n",
       " 'fid_815',\n",
       " 'rural_versus_urban_U',\n",
       " 'fid_5',\n",
       " 'Timeliness of care national comparison',\n",
       " 'fid_866',\n",
       " 'fid_98',\n",
       " 'fid_704',\n",
       " 'fid_484',\n",
       " 'fid_636',\n",
       " 'fid_43',\n",
       " 'emergencyRoom',\n",
       " 'hsa_Western NY',\n",
       " 'fid_583',\n",
       " 'payment_Managed Care, Unspecified',\n",
       " 'fid_678',\n",
       " 'fid_1454',\n",
       " 'fid_552',\n",
       " 'fid_977',\n",
       " 'scale_fte_employees_on_payroll',\n",
       " 'payment_Medicaid',\n",
       " 'fid_1439',\n",
       " 'fid_1463',\n",
       " 'fid_367',\n",
       " 'fid_699',\n",
       " 'fid_409',\n",
       " 'fid_339',\n",
       " 'fid_1450',\n",
       " 'payment_Private Health Insurance',\n",
       " 'fid_528',\n",
       " 'scale_avgNumberDays',\n",
       " 'fid_1458',\n",
       " 'fid_1315',\n",
       " 'Hospital Ownership_Government - Hospital District or Authority',\n",
       " 'scale_totalInsured',\n",
       " 'fid_471',\n",
       " 'Hospital Ownership_Voluntary non-profit - Church',\n",
       " 'scale_numberUrgentAdmits',\n",
       " 'Mortality national comparison',\n",
       " 'fid_1122',\n",
       " 'Hospital Ownership_Voluntary non-profit - Other',\n",
       " 'fid_1635',\n",
       " 'fid_1072',\n",
       " 'totalFertile',\n",
       " 'fid_1626',\n",
       " 'fid_776',\n",
       " 'fid_630',\n",
       " 'fid_1005',\n",
       " 'fid_1286',\n",
       " 'fid_1117',\n",
       " 'scale_countPerFacIdPerYr',\n",
       " 'fid_1738',\n",
       " 'fid_1692',\n",
       " 'fid_1740',\n",
       " 'hsa_Capital/Adiron',\n",
       " 'fid_943',\n",
       " 'Hospital Ownership_Government - State',\n",
       " 'yr',\n",
       " 'fid_1466',\n",
       " 'fid_1039',\n",
       " 'fid_1633',\n",
       " 'fid_324',\n",
       " 'fid_1629',\n",
       " 'fid_752',\n",
       " 'fid_1628',\n",
       " 'fid_66',\n",
       " 'fid_913',\n",
       " 'payment_Blue Cross/Blue Shield',\n",
       " 'Type of Admission_Newborn',\n",
       " 'fid_397',\n",
       " 'scale_number_of_beds',\n",
       " 'fid_599',\n",
       " 'fid_798',\n",
       " 'hsa_Hudson Valley',\n",
       " 'fid_1305',\n",
       " 'fid_896',\n",
       " 'scale_days',\n",
       " 'fid_413',\n",
       " 'Hospital Ownership_Voluntary non-profit - Private',\n",
       " 'fid_1169',\n",
       " 'hsa_Central NY',\n",
       " 'fid_1288',\n",
       " 'hsa_Long Island',\n",
       " 'APR Severity of Illness Code',\n",
       " 'fid_694',\n",
       " 'fid_1165',\n",
       " 'fid_574',\n",
       " 'fid_85',\n",
       " 'fid_1176',\n",
       " 'fid_1438',\n",
       " 'intercept',\n",
       " 'fid_181',\n",
       " 'fid_158',\n",
       " 'hsa_New York City',\n",
       " 'payment_Miscellaneous/Other',\n",
       " 'Type of Admission_Urgent',\n",
       " 'fid_1139',\n",
       " 'ratioFertilityTotalPopulation',\n",
       " 'fid_990',\n",
       " 'hsa_Southern Tier',\n",
       " 'hsa_Finger Lakes',\n",
       " 'fid_779',\n",
       " 'fid_924',\n",
       " 'fid_818',\n",
       " 'fid_146',\n",
       " 'fid_207',\n",
       " 'Safety of care national comparison',\n",
       " 'fid_1028',\n",
       " 'fid_513',\n",
       " 'fid_213',\n",
       " 'fid_103',\n",
       " 'Patient experience national comparison',\n",
       " 'fid_829',\n",
       " 'scale_totalPopulation',\n",
       " 'fid_1306',\n",
       " 'payment_Medicare',\n",
       " 'fid_42',\n",
       " 'fid_116',\n",
       " 'fid_1172',\n",
       " 'fid_1445',\n",
       " 'fid_325',\n",
       " 'Readmission national comparison',\n",
       " 'fid_511',\n",
       " 'payment_Federal/State/Local/VA',\n",
       " 'fid_1320',\n",
       " 'scale_countPerDrgPerFacIdPerYr',\n",
       " 'fid_330',\n",
       " 'fid_128',\n",
       " 'Type of Admission_Not Available',\n",
       " 'Type of Admission_Elective']"
      ]
     },
     "execution_count": 52,
     "metadata": {},
     "output_type": "execute_result"
    }
   ],
   "source": [
    "# index of columns sorted in ascending order\n",
    "coefColIndex = np.argsort(clf.coef_)\n",
    "\n",
    "# features sorted by decreasing coefficients\n",
    "regFeat = []\n",
    "for i in coefColIndex:\n",
    "    regFeat.append(X.columns[-i])\n",
    "\n",
    "regFeat"
   ]
  },
  {
   "cell_type": "markdown",
   "metadata": {},
   "source": [
    "##### Multivariate Linear Regression"
   ]
  },
  {
   "cell_type": "markdown",
   "metadata": {},
   "source": [
    "##### statsmodels for the summary table"
   ]
  },
  {
   "cell_type": "code",
   "execution_count": 65,
   "metadata": {},
   "outputs": [
    {
     "name": "stdout",
     "output_type": "stream",
     "text": [
      "                             OLS Regression Results                            \n",
      "===============================================================================\n",
      "Dep. Variable:     scale_Total Charges   R-squared:                       0.766\n",
      "Model:                             OLS   Adj. R-squared:                  0.766\n",
      "Method:                  Least Squares   F-statistic:                     3809.\n",
      "Date:                 Wed, 15 May 2019   Prob (F-statistic):               0.00\n",
      "Time:                         19:15:31   Log-Likelihood:                -95695.\n",
      "No. Observations:               138398   AIC:                         1.916e+05\n",
      "Df Residuals:                   138278   BIC:                         1.928e+05\n",
      "Df Model:                          119                                         \n",
      "Covariance Type:             nonrobust                                         \n",
      "==================================================================================================================================\n",
      "                                                                     coef    std err          t      P>|t|      [0.025      0.975]\n",
      "----------------------------------------------------------------------------------------------------------------------------------\n",
      "const                                                            -75.3338      0.714   -105.554      0.000     -76.733     -73.935\n",
      "APR Severity of Illness Code                                       0.1156      0.002     54.067      0.000       0.111       0.120\n",
      "yr                                                                 0.1351      0.001    105.834      0.000       0.133       0.138\n",
      "Hospital overall rating                                          -11.6776      0.109   -106.695      0.000     -11.892     -11.463\n",
      "Mortality national comparison                                      7.4554      0.069    108.221      0.000       7.320       7.590\n",
      "Safety of care national comparison                                 5.7376      0.054    105.536      0.000       5.631       5.844\n",
      "Readmission national comparison                                    8.2243      0.078    104.793      0.000       8.070       8.378\n",
      "Patient experience national comparison                             7.1837      0.068    105.654      0.000       7.050       7.317\n",
      "Effectiveness of care national comparison                          6.2856      0.063     99.119      0.000       6.161       6.410\n",
      "Timeliness of care national comparison                             5.0854      0.049    104.003      0.000       4.990       5.181\n",
      "totalFertile                                                      -0.0030   2.81e-05   -105.990      0.000      -0.003      -0.003\n",
      "payment_Medicare                                                 -10.7839      0.104   -104.180      0.000     -10.987     -10.581\n",
      "payment_Blue Cross/Blue Shield                                   -10.7874      0.103   -105.243      0.000     -10.988     -10.587\n",
      "payment_Private Health Insurance                                 -10.7843      0.102   -105.214      0.000     -10.985     -10.583\n",
      "payment_Self-Pay                                                 -10.8156      0.103   -105.485      0.000     -11.017     -10.615\n",
      "payment_Medicaid                                                 -10.7654      0.103   -104.958      0.000     -10.966     -10.564\n",
      "payment_Federal/State/Local/VA                                   -10.7592      0.103   -104.076      0.000     -10.962     -10.557\n",
      "payment_Miscellaneous/Other                                      -10.7545      0.104   -103.369      0.000     -10.958     -10.551\n",
      "payment_Department of Corrections                                -10.8075      0.123    -87.934      0.000     -11.048     -10.567\n",
      "payment_Managed Care, Unspecified                                -10.7731      0.103   -104.707      0.000     -10.975     -10.571\n",
      "Type of Admission_Elective                                       -12.6647      0.120   -105.220      0.000     -12.901     -12.429\n",
      "Type of Admission_Emergency                                      -12.6212      0.120   -104.741      0.000     -12.857     -12.385\n",
      "Type of Admission_Newborn                                        -12.7047      0.133    -95.343      0.000     -12.966     -12.444\n",
      "Type of Admission_Not Available                                  -12.6306      0.124   -102.035      0.000     -12.873     -12.388\n",
      "Type of Admission_Trauma                                         -12.0388      0.144    -83.344      0.000     -12.322     -11.756\n",
      "Type of Admission_Urgent                                         -12.6739      0.120   -105.196      0.000     -12.910     -12.438\n",
      "emergencyRoom                                                      0.1338      0.005     24.384      0.000       0.123       0.145\n",
      "Hospital Ownership_Government - Hospital District or Authority   -12.5565      0.129    -97.154      0.000     -12.810     -12.303\n",
      "Hospital Ownership_Government - Local                             -7.5606      0.069   -109.345      0.000      -7.696      -7.425\n",
      "Hospital Ownership_Government - State                             -5.9530      0.056   -106.718      0.000      -6.062      -5.844\n",
      "Hospital Ownership_Proprietary                                   -14.3398      0.159    -90.354      0.000     -14.651     -14.029\n",
      "Hospital Ownership_Voluntary non-profit - Church                 -15.6857      0.151   -104.044      0.000     -15.981     -15.390\n",
      "Hospital Ownership_Voluntary non-profit - Other                   -8.1328      0.078   -104.442      0.000      -8.285      -7.980\n",
      "Hospital Ownership_Voluntary non-profit - Private                -11.1055      0.105   -105.993      0.000     -11.311     -10.900\n",
      "rural_versus_urban_U                                              -5.6586      0.057    -98.876      0.000      -5.771      -5.546\n",
      "ratioFertilityTotalPopulation                                     -0.6658      0.007    -97.670      0.000      -0.679      -0.652\n",
      "scale_fte_employees_on_payroll                                    -4.2178      0.056    -74.865      0.000      -4.328      -4.107\n",
      "scale_number_of_beds                                              10.4162      0.104     99.982      0.000      10.212      10.620\n",
      "scale_totalPopulation                                             13.1711      0.124    105.817      0.000      12.927      13.415\n",
      "scale_totalInsured                                                14.6925      0.139    105.994      0.000      14.421      14.964\n",
      "scale_countPerDrgPerFacIdPerYr                                     0.2023      0.026      7.887      0.000       0.152       0.253\n",
      "scale_countPerFacIdPerYr                                          -0.3860      0.022    -17.677      0.000      -0.429      -0.343\n",
      "scale_ratioDrgToFacility                                          -0.0368      0.011     -3.402      0.001      -0.058      -0.016\n",
      "scale_numberOfPaymentTypes                                         5.4544      0.052    104.817      0.000       5.352       5.556\n",
      "scale_numberUrgentAdmits                                          -0.0325      0.006     -5.351      0.000      -0.044      -0.021\n",
      "scale_ratioInsuredTotalPopulation                                  3.9462      0.037    105.636      0.000       3.873       4.019\n",
      "scale_days                                                         0.3251      0.001    218.907      0.000       0.322       0.328\n",
      "scale_avgNumberDays                                               -0.0220      0.005     -4.496      0.000      -0.032      -0.012\n",
      "fid_1                                                              8.6525      0.097     89.356      0.000       8.463       8.842\n",
      "fid_5                                                             17.8105      0.170    104.889      0.000      17.478      18.143\n",
      "fid_42                                                         -2.407e-15    2.7e-16     -8.930      0.000   -2.94e-15   -1.88e-15\n",
      "fid_43                                                            10.0039      0.102     97.858      0.000       9.804      10.204\n",
      "fid_66                                                            -4.4682      0.075    -59.546      0.000      -4.615      -4.321\n",
      "fid_85                                                            -8.1549      0.084    -96.973      0.000      -8.320      -7.990\n",
      "fid_98                                                           -17.2813      0.172   -100.679      0.000     -17.618     -16.945\n",
      "fid_103                                                           -0.5761      0.043    -13.337      0.000      -0.661      -0.491\n",
      "fid_116                                                            8.0621      0.081    100.026      0.000       7.904       8.220\n",
      "fid_128                                                          -23.9715      0.233   -102.666      0.000     -24.429     -23.514\n",
      "fid_135                                                           -2.3619      0.037    -63.183      0.000      -2.435      -2.289\n",
      "fid_146                                                            0.4044      0.029     13.790      0.000       0.347       0.462\n",
      "fid_158                                                           -3.8501      0.041    -93.390      0.000      -3.931      -3.769\n",
      "fid_181                                                           -1.0983      0.021    -52.473      0.000      -1.139      -1.057\n",
      "fid_207                                                           -8.4690      0.366    -23.142      0.000      -9.186      -7.752\n",
      "fid_213                                                           -6.2991      0.078    -81.049      0.000      -6.451      -6.147\n",
      "fid_218                                                           20.9032      0.202    103.657      0.000      20.508      21.298\n",
      "fid_324                                                           -4.0679      0.046    -88.066      0.000      -4.158      -3.977\n",
      "fid_325                                                           -3.8267      0.047    -81.972      0.000      -3.918      -3.735\n",
      "fid_330                                                           -7.4818      0.082    -90.803      0.000      -7.643      -7.320\n",
      "fid_339                                                           -3.3680      0.058    -58.410      0.000      -3.481      -3.255\n",
      "fid_367                                                           -0.5735      0.031    -18.729      0.000      -0.634      -0.514\n",
      "fid_393                                                            4.2684      0.052     82.793      0.000       4.167       4.369\n",
      "fid_397                                                          -16.7446      0.160   -104.883      0.000     -17.058     -16.432\n",
      "fid_409                                                            8.2891      0.083     99.388      0.000       8.126       8.453\n",
      "fid_411                                                            9.5923      0.094    101.743      0.000       9.407       9.777\n",
      "fid_413                                                          -12.1121      0.123    -98.751      0.000     -12.352     -11.872\n",
      "fid_471                                                          -13.2298      0.124   -106.905      0.000     -13.472     -12.987\n",
      "fid_484                                                           -1.6306      0.031    -53.051      0.000      -1.691      -1.570\n",
      "fid_511                                                           -3.2416      0.040    -80.242      0.000      -3.321      -3.162\n",
      "fid_513                                                          -16.0776      0.152   -105.829      0.000     -16.375     -15.780\n",
      "fid_528                                                            3.0931      0.035     89.337      0.000       3.025       3.161\n",
      "fid_541                                                           -6.5085      0.083    -78.340      0.000      -6.671      -6.346\n",
      "fid_552                                                           -0.4302      0.034    -12.492      0.000      -0.498      -0.363\n",
      "fid_565                                                            1.7935      0.058     30.816      0.000       1.679       1.908\n",
      "fid_574                                                            3.0626      0.047     64.612      0.000       2.970       3.156\n",
      "fid_583                                                           -0.6954      0.029    -24.079      0.000      -0.752      -0.639\n",
      "fid_599                                                           -6.0346      0.065    -92.986      0.000      -6.162      -5.907\n",
      "fid_630                                                           19.0433      0.182    104.585      0.000      18.686      19.400\n",
      "fid_636                                                           18.2018      0.177    103.091      0.000      17.856      18.548\n",
      "fid_678                                                          -16.9031      0.159   -106.211      0.000     -17.215     -16.591\n",
      "fid_694                                                            9.2208      0.091    101.059      0.000       9.042       9.400\n",
      "fid_699                                                            7.6635      0.067    114.059      0.000       7.532       7.795\n",
      "fid_704                                                           -5.1428      0.060    -85.277      0.000      -5.261      -5.025\n",
      "fid_727                                                           -8.7362      0.089    -98.550      0.000      -8.910      -8.562\n",
      "fid_752                                                           -1.3329      0.028    -48.433      0.000      -1.387      -1.279\n",
      "fid_776                                                            0.9167      0.016     58.298      0.000       0.886       0.948\n",
      "fid_779                                                          -13.0358      0.128   -101.929      0.000     -13.286     -12.785\n",
      "fid_798                                                            1.6627      0.032     51.343      0.000       1.599       1.726\n",
      "fid_804                                                           -5.7051      0.063    -90.211      0.000      -5.829      -5.581\n",
      "fid_815                                                            1.9012      0.029     66.316      0.000       1.845       1.957\n",
      "fid_818                                                           -6.6964      0.064   -104.871      0.000      -6.822      -6.571\n",
      "fid_829                                                           -9.8716      0.168    -58.606      0.000     -10.202      -9.541\n",
      "fid_866                                                           10.3060      0.098    105.072      0.000      10.114      10.498\n",
      "fid_896                                                           10.7550      0.100    107.020      0.000      10.558      10.952\n",
      "fid_913                                                            5.3518      0.058     91.971      0.000       5.238       5.466\n",
      "fid_924                                                            4.8154      0.046    104.726      0.000       4.725       4.906\n",
      "fid_925                                                           -2.7148      0.034    -80.775      0.000      -2.781      -2.649\n",
      "fid_938                                                            0.0739      0.028      2.638      0.008       0.019       0.129\n",
      "fid_943                                                           -8.2350      0.084    -97.802      0.000      -8.400      -8.070\n",
      "fid_977                                                            3.2560      0.042     76.939      0.000       3.173       3.339\n",
      "fid_990                                                           -2.9016      0.038    -76.514      0.000      -2.976      -2.827\n",
      "fid_1005                                                          -0.3680      0.039     -9.415      0.000      -0.445      -0.291\n",
      "fid_1028                                                          -2.1842      0.033    -65.310      0.000      -2.250      -2.119\n",
      "fid_1039                                                          -3.2922      0.032   -103.644      0.000      -3.354      -3.230\n",
      "fid_1072                                                          -1.5736      0.026    -59.706      0.000      -1.625      -1.522\n",
      "fid_1117                                                          -0.7099      0.021    -34.515      0.000      -0.750      -0.670\n",
      "fid_1122                                                           8.3858      0.090     92.976      0.000       8.209       8.563\n",
      "fid_1129                                                           3.3063      0.038     87.424      0.000       3.232       3.380\n",
      "fid_1139                                                         -12.5565      0.129    -97.154      0.000     -12.810     -12.303\n",
      "fid_1165                                                           6.4263      0.066     97.122      0.000       6.297       6.556\n",
      "fid_1169                                                         -24.7892      0.274    -90.337      0.000     -25.327     -24.251\n",
      "fid_1172                                                           2.1204      0.029     72.354      0.000       2.063       2.178\n",
      "fid_1176                                                           5.6731      0.064     88.691      0.000       5.548       5.798\n",
      "fid_1286                                                           8.2309      0.088     93.792      0.000       8.059       8.403\n",
      "fid_1288                                                           9.6310      0.094    101.949      0.000       9.446       9.816\n",
      "fid_1294                                                         -16.3791      0.158   -103.623      0.000     -16.689     -16.069\n",
      "fid_1301                                                           1.7742      0.025     71.031      0.000       1.725       1.823\n",
      "fid_1305                                                         -26.1559      0.252   -103.710      0.000     -26.650     -25.662\n",
      "fid_1306                                                           0.8172      0.023     35.389      0.000       0.772       0.862\n",
      "fid_1315                                                                0          0        nan        nan           0           0\n",
      "fid_1318                                                           9.4602      0.099     95.247      0.000       9.265       9.655\n",
      "fid_1320                                                          -5.9530      0.056   -106.718      0.000      -6.062      -5.844\n",
      "fid_1438                                                           9.2071      0.095     96.543      0.000       9.020       9.394\n",
      "fid_1439                                                          10.9687      0.108    101.968      0.000      10.758      11.180\n",
      "fid_1445                                                           0.7685      0.025     30.263      0.000       0.719       0.818\n",
      "fid_1450                                                          21.0408      0.187    112.596      0.000      20.675      21.407\n",
      "fid_1454                                                           9.4826      0.095     99.753      0.000       9.296       9.669\n",
      "fid_1458                                                           4.6416      0.099     46.884      0.000       4.448       4.836\n",
      "fid_1463                                                          22.8442      0.203    112.421      0.000      22.446      23.242\n",
      "fid_1466                                                         -15.5291      0.152   -102.081      0.000     -15.827     -15.231\n",
      "fid_1626                                                         -20.9824      0.197   -106.459      0.000     -21.369     -20.596\n",
      "fid_1628                                                          -9.1609      0.094    -97.374      0.000      -9.345      -8.976\n",
      "fid_1629                                                           7.5487      0.068    111.151      0.000       7.416       7.682\n",
      "fid_1633                                                          -5.5194      0.057    -97.313      0.000      -5.631      -5.408\n",
      "fid_1635                                                           5.9031      0.066     89.808      0.000       5.774       6.032\n",
      "fid_1692                                                           8.1529      0.081    101.025      0.000       7.995       8.311\n",
      "fid_1738                                                          -8.8048      0.093    -95.178      0.000      -8.986      -8.623\n",
      "fid_1740                                                         -13.0346      0.130   -100.235      0.000     -13.289     -12.780\n",
      "hsa_Capital/Adiron                                                -9.4375      0.091   -103.669      0.000      -9.616      -9.259\n",
      "hsa_Central NY                                                    -5.7339      0.053   -108.825      0.000      -5.837      -5.631\n",
      "hsa_Finger Lakes                                                  -3.9114      0.034   -116.409      0.000      -3.977      -3.845\n",
      "hsa_Hudson Valley                                                -12.1506      0.119   -101.820      0.000     -12.385     -11.917\n",
      "hsa_Long Island                                                  -13.1183      0.132    -99.096      0.000     -13.378     -12.859\n",
      "hsa_New York City                                                 -1.6169      0.026    -61.898      0.000      -1.668      -1.566\n",
      "hsa_Southern Tier                                                -13.9676      0.132   -105.477      0.000     -14.227     -13.708\n",
      "hsa_Western NY                                                   -15.3977      0.148   -104.121      0.000     -15.688     -15.108\n",
      "==============================================================================\n",
      "Omnibus:                   265843.503   Durbin-Watson:                   2.005\n",
      "Prob(Omnibus):                  0.000   Jarque-Bera (JB):       3456602328.097\n",
      "Skew:                          14.264   Prob(JB):                         0.00\n",
      "Kurtosis:                     776.696   Cond. No.                     7.94e+16\n",
      "==============================================================================\n",
      "\n",
      "Warnings:\n",
      "[1] Standard Errors assume that the covariance matrix of the errors is correctly specified.\n",
      "[2] The smallest eigenvalue is 3.12e-20. This might indicate that there are\n",
      "strong multicollinearity problems or that the design matrix is singular.\n"
     ]
    },
    {
     "name": "stderr",
     "output_type": "stream",
     "text": [
      "/nfshome/yg833/.conda/envs/mgPUI/lib/python3.7/site-packages/statsmodels/base/model.py:1100: RuntimeWarning: invalid value encountered in true_divide\n",
      "  return self.params / self.bse\n",
      "/nfshome/yg833/.conda/envs/mgPUI/lib/python3.7/site-packages/scipy/stats/_distn_infrastructure.py:879: RuntimeWarning: invalid value encountered in greater\n",
      "  return (self.a < x) & (x < self.b)\n",
      "/nfshome/yg833/.conda/envs/mgPUI/lib/python3.7/site-packages/scipy/stats/_distn_infrastructure.py:879: RuntimeWarning: invalid value encountered in less\n",
      "  return (self.a < x) & (x < self.b)\n",
      "/nfshome/yg833/.conda/envs/mgPUI/lib/python3.7/site-packages/scipy/stats/_distn_infrastructure.py:1821: RuntimeWarning: invalid value encountered in less_equal\n",
      "  cond2 = cond0 & (x <= self.a)\n"
     ]
    }
   ],
   "source": [
    "x_train = sm.add_constant(X_train)\n",
    "model = sm.OLS(y_train, x_train)\n",
    "results = model.fit()\n",
    "print(results.summary())"
   ]
  },
  {
   "cell_type": "markdown",
   "metadata": {},
   "source": [
    "#### Identify number of components to carry out PCA"
   ]
  },
  {
   "cell_type": "code",
   "execution_count": 66,
   "metadata": {},
   "outputs": [
    {
     "name": "stderr",
     "output_type": "stream",
     "text": [
      "/nfshome/yg833/.conda/envs/mgPUI/lib/python3.7/site-packages/sklearn/preprocessing/data.py:323: DataConversionWarning: Data with input dtype uint8, int64, float64 were all converted to float64 by MinMaxScaler.\n",
      "  return self.partial_fit(X, y)\n"
     ]
    }
   ],
   "source": [
    "scaler = MinMaxScaler(feature_range=[0, 1])\n",
    "XRescaled = scaler.fit_transform(X.iloc[:,1:])"
   ]
  },
  {
   "cell_type": "code",
   "execution_count": 67,
   "metadata": {},
   "outputs": [
    {
     "data": {
      "image/png": "[encoded data removed]",
      "text/plain": [
       "<Figure size 720x432 with 1 Axes>"
      ]
     },
     "metadata": {
      "needs_background": "light"
     },
     "output_type": "display_data"
    }
   ],
   "source": [
    "pca = PCA().fit(XRescaled)\n",
    "plt.figure(figsize=(10,6))\n",
    "plt.plot(np.cumsum(pca.explained_variance_ratio_))\n",
    "plt.xlabel('Number of Components', fontsize=14)\n",
    "plt.ylabel('Variance (%)', fontsize=14) #for each component\n",
    "plt.title('C-Section Charges Explained Variance', fontsize=15, pad=15)\n",
    "plt.show()"
   ]
  },
  {
   "cell_type": "markdown",
   "metadata": {},
   "source": [
    "Only need 80 components to explain 100% of variance, so we perform PCA with n_components=80."
   ]
  },
  {
   "cell_type": "code",
   "execution_count": 68,
   "metadata": {},
   "outputs": [],
   "source": [
    "pca = PCA(n_components=80)\n",
    "XTransformed = pca.fit_transform(XRescaled)"
   ]
  },
  {
   "cell_type": "markdown",
   "metadata": {},
   "source": [
    "Perform OLS Regression again with reduced dimensionality of features"
   ]
  },
  {
   "cell_type": "code",
   "execution_count": 69,
   "metadata": {},
   "outputs": [
    {
     "name": "stdout",
     "output_type": "stream",
     "text": [
      "0.7507182464347048\n",
      "0.7489601599638183\n"
     ]
    }
   ],
   "source": [
    "XT_train, XT_test, y_train, y_test = train_test_split(XTransformed, y, test_size=0.33, random_state=13)\n",
    "\n",
    "clfPCA = LinearRegression()\n",
    "clfPCA.fit(XT_train, y_train)\n",
    "y_pred_PCA = clfPCA.predict(XT_test)\n",
    "print(clfPCA.score(XT_train, y_train))\n",
    "print(clfPCA.score(XT_test, y_test))"
   ]
  },
  {
   "cell_type": "markdown",
   "metadata": {},
   "source": [
    "OLS performance didn't improve! Boo! And no interpretability :("
   ]
  },
  {
   "cell_type": "markdown",
   "metadata": {},
   "source": [
    "## Random Forest Regressor"
   ]
  },
  {
   "cell_type": "code",
   "execution_count": 70,
   "metadata": {},
   "outputs": [
    {
     "data": {
      "text/plain": [
       "(206565, 155)"
      ]
     },
     "execution_count": 70,
     "metadata": {},
     "output_type": "execute_result"
    }
   ],
   "source": [
    "csectDataRF = csectData.drop(columns=['scale_fte_employees_on_payroll', 'scale_number_of_beds',\n",
    "                                      'scale_totalPopulation', 'scale_totalInsured',\n",
    "                                      'scale_countPerDrgPerFacIdPerYr', 'scale_countPerFacIdPerYr',\n",
    "                                      'scale_ratioDrgToFacility', 'scale_numberOfPaymentTypes',\n",
    "                                      'scale_numberUrgentAdmits', 'scale_ratioInsuredTotalPopulation',\n",
    "                                      'scale_days', 'scale_avgNumberDays', 'scale_Total Charges'])\n",
    "csectDataRF.shape"
   ]
  },
  {
   "cell_type": "code",
   "execution_count": 71,
   "metadata": {},
   "outputs": [],
   "source": [
    "X = csectDataRF.drop(columns=['Total Charges'])\n",
    "y = csectDataRF['Total Charges']\n",
    "X_train, X_test, y_train, y_test = train_test_split(X, y, test_size=0.33, random_state=13)"
   ]
  },
  {
   "cell_type": "markdown",
   "metadata": {},
   "source": [
    "### Hyperparameter Tuning: max_depth"
   ]
  },
  {
   "cell_type": "code",
   "execution_count": 72,
   "metadata": {
    "scrolled": true
   },
   "outputs": [],
   "source": [
    "max_depth = [5, 10, 15, 20, 25, 30, 35, 40]\n",
    "depthTestScores = []\n",
    "depthTrainScores = []\n",
    "depthOOBScores = []\n",
    "\n",
    "for n in max_depth:\n",
    "    rf = RandomForestRegressor(n_estimators=100, max_depth=n, random_state=13, oob_score=True)\n",
    "    rf.fit(X_train, y_train)\n",
    "    depthTrainScores.append(rf.score(X_train, y_train))\n",
    "    depthTestScores.append(rf.score(X_test, y_test))\n",
    "    depthOOBScores.append(rf.oob_score_)"
   ]
  },
  {
   "cell_type": "code",
   "execution_count": 73,
   "metadata": {},
   "outputs": [
    {
     "data": {
      "image/png": "[encoded data removed]",
      "text/plain": [
       "<Figure size 864x432 with 1 Axes>"
      ]
     },
     "metadata": {
      "needs_background": "light"
     },
     "output_type": "display_data"
    }
   ],
   "source": [
    "plt.figure(figsize=(12,6))\n",
    "plt.title('Random Forest Regression Scores', fontsize=16)\n",
    "plt.plot(max_depth, depthTrainScores, label='Training Data')\n",
    "plt.plot(max_depth, depthTestScores, label='Testing Data')\n",
    "plt.plot(max_depth, depthOOBScores, label='OOB Data')\n",
    "plt.xticks(fontsize=14)\n",
    "plt.xlabel('Max Depth', fontsize=14)\n",
    "plt.yticks(fontsize=14)\n",
    "plt.ylabel('Scores', fontsize=14)\n",
    "plt.legend(bbox_to_anchor=(0.9, 0.85))\n",
    "plt.show()"
   ]
  },
  {
   "cell_type": "markdown",
   "metadata": {},
   "source": [
    "Choose max_depth=15 as parameter."
   ]
  },
  {
   "cell_type": "markdown",
   "metadata": {},
   "source": [
    "### Hyperparameter Tuning: n_estimators"
   ]
  },
  {
   "cell_type": "code",
   "execution_count": 74,
   "metadata": {},
   "outputs": [
    {
     "name": "stderr",
     "output_type": "stream",
     "text": [
      "/nfshome/yg833/.conda/envs/mgPUI/lib/python3.7/site-packages/sklearn/ensemble/forest.py:732: UserWarning: Some inputs do not have OOB scores. This probably means too few trees were used to compute any reliable oob estimates.\n",
      "  warn(\"Some inputs do not have OOB scores. \"\n",
      "/nfshome/yg833/.conda/envs/mgPUI/lib/python3.7/site-packages/sklearn/ensemble/forest.py:732: UserWarning: Some inputs do not have OOB scores. This probably means too few trees were used to compute any reliable oob estimates.\n",
      "  warn(\"Some inputs do not have OOB scores. \"\n",
      "/nfshome/yg833/.conda/envs/mgPUI/lib/python3.7/site-packages/sklearn/ensemble/forest.py:732: UserWarning: Some inputs do not have OOB scores. This probably means too few trees were used to compute any reliable oob estimates.\n",
      "  warn(\"Some inputs do not have OOB scores. \"\n"
     ]
    }
   ],
   "source": [
    "n_estimators = [1, 10, 20, 50, 70, 100, 120, 150]\n",
    "nTestScores = []\n",
    "nTrainScores = []\n",
    "nOOBScores = []\n",
    "\n",
    "for n in n_estimators:\n",
    "    rf = RandomForestRegressor(n_estimators=n, random_state=13, max_depth=15, oob_score=True)\n",
    "    rf.fit(X_train, y_train)\n",
    "    y_pred = rf.predict(X_test)\n",
    "    nTrainScores.append(rf.score(X_train, y_train))\n",
    "    nTestScores.append(rf.score(X_test, y_test))\n",
    "    nOOBScores.append(rf.oob_score_)"
   ]
  },
  {
   "cell_type": "code",
   "execution_count": 75,
   "metadata": {},
   "outputs": [
    {
     "data": {
      "image/png": "[encoded data removed]",
      "text/plain": [
       "<Figure size 864x432 with 1 Axes>"
      ]
     },
     "metadata": {
      "needs_background": "light"
     },
     "output_type": "display_data"
    }
   ],
   "source": [
    "plt.figure(figsize=(12,6))\n",
    "plt.title('Random Forest Regression Scores', fontsize=16)\n",
    "plt.plot(n_estimators, nTrainScores, label='Training Data')\n",
    "plt.plot(n_estimators, nTestScores, label='Testing Data')\n",
    "plt.plot(n_estimators[1:], nOOBScores[1:], label='OOB Data')\n",
    "plt.xticks(fontsize=14)\n",
    "plt.xlabel('N Estimators', fontsize=14)\n",
    "plt.yticks(fontsize=14)\n",
    "plt.ylabel('Scores', fontsize=14)\n",
    "plt.legend(bbox_to_anchor=(0.9,0.9))\n",
    "plt.show()"
   ]
  },
  {
   "cell_type": "markdown",
   "metadata": {},
   "source": [
    "Choose n_estimators = 50."
   ]
  },
  {
   "cell_type": "markdown",
   "metadata": {},
   "source": [
    "### RFR Model 1: n_estimators=50 and max_depth=15"
   ]
  },
  {
   "cell_type": "code",
   "execution_count": 76,
   "metadata": {
    "scrolled": false
   },
   "outputs": [
    {
     "name": "stdout",
     "output_type": "stream",
     "text": [
      "0.8508578831431804\n",
      "0.8044926847049801\n",
      "0.8073898587340842\n"
     ]
    }
   ],
   "source": [
    "rf = RandomForestRegressor(n_estimators=50, max_depth=15, random_state=13, oob_score=True)\n",
    "rf.fit(X_train, y_train)\n",
    "y_pred = rf.predict(X_test)\n",
    "\n",
    "print(rf.score(X_train, y_train))\n",
    "print(rf.oob_score_)\n",
    "print(rf.score(X_test, y_test))"
   ]
  },
  {
   "cell_type": "markdown",
   "metadata": {},
   "source": [
    "#### RFR Model 1: Feature Importance"
   ]
  },
  {
   "cell_type": "code",
   "execution_count": 77,
   "metadata": {
    "scrolled": true
   },
   "outputs": [
    {
     "name": "stdout",
     "output_type": "stream",
     "text": [
      "Variable: fte_employees_on_payroll                                          Importance: 0.2\n",
      "Variable: days                                                              Importance: 0.18\n",
      "Variable: countPerDrgPerFacIdPerYr                                          Importance: 0.12\n",
      "Variable: avgNumberDays                                                     Importance: 0.1\n",
      "Variable: totalInsured                                                      Importance: 0.03\n",
      "Variable: totalFertile                                                      Importance: 0.03\n",
      "Variable: ratioDrgToFacility                                                Importance: 0.03\n",
      "Variable: Hospital Ownership_Government - Hospital District or Authority    Importance: 0.03\n",
      "Variable: ratioFertilityTotalPopulation                                     Importance: 0.03\n",
      "Variable: fid_1139                                                          Importance: 0.03\n",
      "Variable: APR Severity of Illness Code                                      Importance: 0.02\n",
      "Variable: yr                                                                Importance: 0.02\n",
      "Variable: number_of_beds                                                    Importance: 0.02\n",
      "Variable: countPerFacIdPerYr                                                Importance: 0.02\n",
      "Variable: numberUrgentAdmits                                                Importance: 0.02\n",
      "Variable: ratioInsuredTotalPopulation                                       Importance: 0.02\n",
      "Variable: Patient experience national comparison                            Importance: 0.01\n",
      "Variable: totalPopulation                                                   Importance: 0.01\n",
      "Variable: emergencyRoom                                                     Importance: 0.01\n",
      "Variable: Hospital Ownership_Government - Local                             Importance: 0.01\n",
      "Variable: fid_699                                                           Importance: 0.01\n",
      "Variable: hsa_New York City                                                 Importance: 0.01\n",
      "Variable: Hospital overall rating                                           Importance: 0.0\n",
      "Variable: Mortality national comparison                                     Importance: 0.0\n",
      "Variable: Safety of care national comparison                                Importance: 0.0\n",
      "Variable: Readmission national comparison                                   Importance: 0.0\n",
      "Variable: Effectiveness of care national comparison                         Importance: 0.0\n",
      "Variable: Timeliness of care national comparison                            Importance: 0.0\n",
      "Variable: payment_Medicare                                                  Importance: 0.0\n",
      "Variable: payment_Blue Cross/Blue Shield                                    Importance: 0.0\n",
      "Variable: payment_Private Health Insurance                                  Importance: 0.0\n",
      "Variable: payment_Self-Pay                                                  Importance: 0.0\n",
      "Variable: payment_Medicaid                                                  Importance: 0.0\n",
      "Variable: payment_Federal/State/Local/VA                                    Importance: 0.0\n",
      "Variable: payment_Miscellaneous/Other                                       Importance: 0.0\n",
      "Variable: payment_Department of Corrections                                 Importance: 0.0\n",
      "Variable: payment_Managed Care, Unspecified                                 Importance: 0.0\n",
      "Variable: numberOfPaymentTypes                                              Importance: 0.0\n",
      "Variable: Type of Admission_Elective                                        Importance: 0.0\n",
      "Variable: Type of Admission_Emergency                                       Importance: 0.0\n",
      "Variable: Type of Admission_Newborn                                         Importance: 0.0\n",
      "Variable: Type of Admission_Not Available                                   Importance: 0.0\n",
      "Variable: Type of Admission_Trauma                                          Importance: 0.0\n",
      "Variable: Type of Admission_Urgent                                          Importance: 0.0\n",
      "Variable: Hospital Ownership_Government - State                             Importance: 0.0\n",
      "Variable: Hospital Ownership_Proprietary                                    Importance: 0.0\n",
      "Variable: Hospital Ownership_Voluntary non-profit - Church                  Importance: 0.0\n",
      "Variable: Hospital Ownership_Voluntary non-profit - Other                   Importance: 0.0\n",
      "Variable: Hospital Ownership_Voluntary non-profit - Private                 Importance: 0.0\n",
      "Variable: rural_versus_urban_U                                              Importance: 0.0\n",
      "Variable: fid_1                                                             Importance: 0.0\n",
      "Variable: fid_5                                                             Importance: 0.0\n",
      "Variable: fid_42                                                            Importance: 0.0\n",
      "Variable: fid_43                                                            Importance: 0.0\n",
      "Variable: fid_66                                                            Importance: 0.0\n",
      "Variable: fid_85                                                            Importance: 0.0\n",
      "Variable: fid_98                                                            Importance: 0.0\n",
      "Variable: fid_103                                                           Importance: 0.0\n",
      "Variable: fid_116                                                           Importance: 0.0\n",
      "Variable: fid_128                                                           Importance: 0.0\n",
      "Variable: fid_135                                                           Importance: 0.0\n",
      "Variable: fid_146                                                           Importance: 0.0\n",
      "Variable: fid_158                                                           Importance: 0.0\n",
      "Variable: fid_181                                                           Importance: 0.0\n",
      "Variable: fid_207                                                           Importance: 0.0\n",
      "Variable: fid_213                                                           Importance: 0.0\n",
      "Variable: fid_218                                                           Importance: 0.0\n",
      "Variable: fid_324                                                           Importance: 0.0\n",
      "Variable: fid_325                                                           Importance: 0.0\n",
      "Variable: fid_330                                                           Importance: 0.0\n",
      "Variable: fid_339                                                           Importance: 0.0\n",
      "Variable: fid_367                                                           Importance: 0.0\n",
      "Variable: fid_393                                                           Importance: 0.0\n",
      "Variable: fid_397                                                           Importance: 0.0\n",
      "Variable: fid_409                                                           Importance: 0.0\n",
      "Variable: fid_411                                                           Importance: 0.0\n",
      "Variable: fid_413                                                           Importance: 0.0\n",
      "Variable: fid_471                                                           Importance: 0.0\n",
      "Variable: fid_484                                                           Importance: 0.0\n",
      "Variable: fid_511                                                           Importance: 0.0\n",
      "Variable: fid_513                                                           Importance: 0.0\n",
      "Variable: fid_528                                                           Importance: 0.0\n",
      "Variable: fid_541                                                           Importance: 0.0\n",
      "Variable: fid_552                                                           Importance: 0.0\n",
      "Variable: fid_565                                                           Importance: 0.0\n",
      "Variable: fid_574                                                           Importance: 0.0\n",
      "Variable: fid_583                                                           Importance: 0.0\n",
      "Variable: fid_599                                                           Importance: 0.0\n",
      "Variable: fid_630                                                           Importance: 0.0\n",
      "Variable: fid_636                                                           Importance: 0.0\n",
      "Variable: fid_678                                                           Importance: 0.0\n",
      "Variable: fid_694                                                           Importance: 0.0\n",
      "Variable: fid_704                                                           Importance: 0.0\n",
      "Variable: fid_727                                                           Importance: 0.0\n",
      "Variable: fid_752                                                           Importance: 0.0\n",
      "Variable: fid_776                                                           Importance: 0.0\n",
      "Variable: fid_779                                                           Importance: 0.0\n",
      "Variable: fid_798                                                           Importance: 0.0\n",
      "Variable: fid_804                                                           Importance: 0.0\n",
      "Variable: fid_815                                                           Importance: 0.0\n",
      "Variable: fid_818                                                           Importance: 0.0\n",
      "Variable: fid_829                                                           Importance: 0.0\n",
      "Variable: fid_866                                                           Importance: 0.0\n",
      "Variable: fid_896                                                           Importance: 0.0\n",
      "Variable: fid_913                                                           Importance: 0.0\n",
      "Variable: fid_924                                                           Importance: 0.0\n",
      "Variable: fid_925                                                           Importance: 0.0\n",
      "Variable: fid_938                                                           Importance: 0.0\n",
      "Variable: fid_943                                                           Importance: 0.0\n",
      "Variable: fid_977                                                           Importance: 0.0\n",
      "Variable: fid_990                                                           Importance: 0.0\n",
      "Variable: fid_1005                                                          Importance: 0.0\n",
      "Variable: fid_1028                                                          Importance: 0.0\n",
      "Variable: fid_1039                                                          Importance: 0.0\n",
      "Variable: fid_1072                                                          Importance: 0.0\n",
      "Variable: fid_1117                                                          Importance: 0.0\n",
      "Variable: fid_1122                                                          Importance: 0.0\n",
      "Variable: fid_1129                                                          Importance: 0.0\n",
      "Variable: fid_1165                                                          Importance: 0.0\n",
      "Variable: fid_1169                                                          Importance: 0.0\n",
      "Variable: fid_1172                                                          Importance: 0.0\n",
      "Variable: fid_1176                                                          Importance: 0.0\n",
      "Variable: fid_1286                                                          Importance: 0.0\n",
      "Variable: fid_1288                                                          Importance: 0.0\n",
      "Variable: fid_1294                                                          Importance: 0.0\n",
      "Variable: fid_1301                                                          Importance: 0.0\n",
      "Variable: fid_1305                                                          Importance: 0.0\n",
      "Variable: fid_1306                                                          Importance: 0.0\n",
      "Variable: fid_1315                                                          Importance: 0.0\n",
      "Variable: fid_1318                                                          Importance: 0.0\n",
      "Variable: fid_1320                                                          Importance: 0.0\n",
      "Variable: fid_1438                                                          Importance: 0.0\n",
      "Variable: fid_1439                                                          Importance: 0.0\n",
      "Variable: fid_1445                                                          Importance: 0.0\n",
      "Variable: fid_1450                                                          Importance: 0.0\n",
      "Variable: fid_1454                                                          Importance: 0.0\n",
      "Variable: fid_1458                                                          Importance: 0.0\n",
      "Variable: fid_1463                                                          Importance: 0.0\n",
      "Variable: fid_1466                                                          Importance: 0.0\n",
      "Variable: fid_1626                                                          Importance: 0.0\n",
      "Variable: fid_1628                                                          Importance: 0.0\n",
      "Variable: fid_1629                                                          Importance: 0.0\n",
      "Variable: fid_1633                                                          Importance: 0.0\n",
      "Variable: fid_1635                                                          Importance: 0.0\n",
      "Variable: fid_1692                                                          Importance: 0.0\n",
      "Variable: fid_1738                                                          Importance: 0.0\n",
      "Variable: fid_1740                                                          Importance: 0.0\n",
      "Variable: hsa_Capital/Adiron                                                Importance: 0.0\n",
      "Variable: hsa_Central NY                                                    Importance: 0.0\n",
      "Variable: hsa_Finger Lakes                                                  Importance: 0.0\n",
      "Variable: hsa_Hudson Valley                                                 Importance: 0.0\n",
      "Variable: hsa_Long Island                                                   Importance: 0.0\n",
      "Variable: hsa_Southern Tier                                                 Importance: 0.0\n",
      "Variable: hsa_Western NY                                                    Importance: 0.0\n"
     ]
    }
   ],
   "source": [
    "importances = list(rf.feature_importances_)\n",
    "rfFeatImpt = [(feature, round(importance, 2)) for feature, importance in zip(list(X.columns), importances)]\n",
    "rfFeatImpt = sorted(rfFeatImpt, key = lambda x: x[1], reverse = True)\n",
    "for pair in rfFeatImpt:\n",
    "    print('Variable: {:65} Importance: {}'.format(*pair))"
   ]
  },
  {
   "cell_type": "markdown",
   "metadata": {},
   "source": [
    "### RFR Model 2: n_estimators=50, max_depth=15 and bootstrap=True"
   ]
  },
  {
   "cell_type": "code",
   "execution_count": 78,
   "metadata": {
    "scrolled": false
   },
   "outputs": [
    {
     "name": "stdout",
     "output_type": "stream",
     "text": [
      "0.8508578831431804\n",
      "0.8044926847049801\n",
      "0.8073898587340842\n"
     ]
    }
   ],
   "source": [
    "rf2 = RandomForestRegressor(n_estimators=50, random_state=13, max_depth=15, oob_score=True, bootstrap=True)\n",
    "rf2.fit(X_train, y_train)\n",
    "y_pred = rf2.predict(X_test)\n",
    "\n",
    "print(rf2.score(X_train, y_train))\n",
    "print(rf2.oob_score_)\n",
    "print(rf2.score(X_test, y_test))"
   ]
  },
  {
   "cell_type": "markdown",
   "metadata": {},
   "source": [
    "#### RFR Model 2: Feature Importance"
   ]
  },
  {
   "cell_type": "code",
   "execution_count": 79,
   "metadata": {
    "scrolled": true
   },
   "outputs": [
    {
     "name": "stdout",
     "output_type": "stream",
     "text": [
      "Variable: fte_employees_on_payroll                                          Importance: 0.2\n",
      "Variable: days                                                              Importance: 0.18\n",
      "Variable: countPerDrgPerFacIdPerYr                                          Importance: 0.12\n",
      "Variable: avgNumberDays                                                     Importance: 0.1\n",
      "Variable: totalInsured                                                      Importance: 0.03\n",
      "Variable: totalFertile                                                      Importance: 0.03\n",
      "Variable: ratioDrgToFacility                                                Importance: 0.03\n",
      "Variable: Hospital Ownership_Government - Hospital District or Authority    Importance: 0.03\n",
      "Variable: ratioFertilityTotalPopulation                                     Importance: 0.03\n",
      "Variable: fid_1139                                                          Importance: 0.03\n",
      "Variable: APR Severity of Illness Code                                      Importance: 0.02\n",
      "Variable: yr                                                                Importance: 0.02\n",
      "Variable: number_of_beds                                                    Importance: 0.02\n",
      "Variable: countPerFacIdPerYr                                                Importance: 0.02\n",
      "Variable: numberUrgentAdmits                                                Importance: 0.02\n",
      "Variable: ratioInsuredTotalPopulation                                       Importance: 0.02\n",
      "Variable: Patient experience national comparison                            Importance: 0.01\n",
      "Variable: totalPopulation                                                   Importance: 0.01\n",
      "Variable: emergencyRoom                                                     Importance: 0.01\n",
      "Variable: Hospital Ownership_Government - Local                             Importance: 0.01\n",
      "Variable: fid_699                                                           Importance: 0.01\n",
      "Variable: hsa_New York City                                                 Importance: 0.01\n",
      "Variable: Hospital overall rating                                           Importance: 0.0\n",
      "Variable: Mortality national comparison                                     Importance: 0.0\n",
      "Variable: Safety of care national comparison                                Importance: 0.0\n",
      "Variable: Readmission national comparison                                   Importance: 0.0\n",
      "Variable: Effectiveness of care national comparison                         Importance: 0.0\n",
      "Variable: Timeliness of care national comparison                            Importance: 0.0\n",
      "Variable: payment_Medicare                                                  Importance: 0.0\n",
      "Variable: payment_Blue Cross/Blue Shield                                    Importance: 0.0\n",
      "Variable: payment_Private Health Insurance                                  Importance: 0.0\n",
      "Variable: payment_Self-Pay                                                  Importance: 0.0\n",
      "Variable: payment_Medicaid                                                  Importance: 0.0\n",
      "Variable: payment_Federal/State/Local/VA                                    Importance: 0.0\n",
      "Variable: payment_Miscellaneous/Other                                       Importance: 0.0\n",
      "Variable: payment_Department of Corrections                                 Importance: 0.0\n",
      "Variable: payment_Managed Care, Unspecified                                 Importance: 0.0\n",
      "Variable: numberOfPaymentTypes                                              Importance: 0.0\n",
      "Variable: Type of Admission_Elective                                        Importance: 0.0\n",
      "Variable: Type of Admission_Emergency                                       Importance: 0.0\n",
      "Variable: Type of Admission_Newborn                                         Importance: 0.0\n",
      "Variable: Type of Admission_Not Available                                   Importance: 0.0\n",
      "Variable: Type of Admission_Trauma                                          Importance: 0.0\n",
      "Variable: Type of Admission_Urgent                                          Importance: 0.0\n",
      "Variable: Hospital Ownership_Government - State                             Importance: 0.0\n",
      "Variable: Hospital Ownership_Proprietary                                    Importance: 0.0\n",
      "Variable: Hospital Ownership_Voluntary non-profit - Church                  Importance: 0.0\n",
      "Variable: Hospital Ownership_Voluntary non-profit - Other                   Importance: 0.0\n",
      "Variable: Hospital Ownership_Voluntary non-profit - Private                 Importance: 0.0\n",
      "Variable: rural_versus_urban_U                                              Importance: 0.0\n",
      "Variable: fid_1                                                             Importance: 0.0\n",
      "Variable: fid_5                                                             Importance: 0.0\n",
      "Variable: fid_42                                                            Importance: 0.0\n",
      "Variable: fid_43                                                            Importance: 0.0\n",
      "Variable: fid_66                                                            Importance: 0.0\n",
      "Variable: fid_85                                                            Importance: 0.0\n",
      "Variable: fid_98                                                            Importance: 0.0\n",
      "Variable: fid_103                                                           Importance: 0.0\n",
      "Variable: fid_116                                                           Importance: 0.0\n",
      "Variable: fid_128                                                           Importance: 0.0\n",
      "Variable: fid_135                                                           Importance: 0.0\n",
      "Variable: fid_146                                                           Importance: 0.0\n",
      "Variable: fid_158                                                           Importance: 0.0\n",
      "Variable: fid_181                                                           Importance: 0.0\n",
      "Variable: fid_207                                                           Importance: 0.0\n",
      "Variable: fid_213                                                           Importance: 0.0\n",
      "Variable: fid_218                                                           Importance: 0.0\n",
      "Variable: fid_324                                                           Importance: 0.0\n",
      "Variable: fid_325                                                           Importance: 0.0\n",
      "Variable: fid_330                                                           Importance: 0.0\n",
      "Variable: fid_339                                                           Importance: 0.0\n",
      "Variable: fid_367                                                           Importance: 0.0\n",
      "Variable: fid_393                                                           Importance: 0.0\n",
      "Variable: fid_397                                                           Importance: 0.0\n",
      "Variable: fid_409                                                           Importance: 0.0\n",
      "Variable: fid_411                                                           Importance: 0.0\n",
      "Variable: fid_413                                                           Importance: 0.0\n",
      "Variable: fid_471                                                           Importance: 0.0\n",
      "Variable: fid_484                                                           Importance: 0.0\n",
      "Variable: fid_511                                                           Importance: 0.0\n",
      "Variable: fid_513                                                           Importance: 0.0\n",
      "Variable: fid_528                                                           Importance: 0.0\n",
      "Variable: fid_541                                                           Importance: 0.0\n",
      "Variable: fid_552                                                           Importance: 0.0\n",
      "Variable: fid_565                                                           Importance: 0.0\n",
      "Variable: fid_574                                                           Importance: 0.0\n",
      "Variable: fid_583                                                           Importance: 0.0\n",
      "Variable: fid_599                                                           Importance: 0.0\n",
      "Variable: fid_630                                                           Importance: 0.0\n",
      "Variable: fid_636                                                           Importance: 0.0\n",
      "Variable: fid_678                                                           Importance: 0.0\n",
      "Variable: fid_694                                                           Importance: 0.0\n",
      "Variable: fid_704                                                           Importance: 0.0\n",
      "Variable: fid_727                                                           Importance: 0.0\n",
      "Variable: fid_752                                                           Importance: 0.0\n",
      "Variable: fid_776                                                           Importance: 0.0\n",
      "Variable: fid_779                                                           Importance: 0.0\n",
      "Variable: fid_798                                                           Importance: 0.0\n",
      "Variable: fid_804                                                           Importance: 0.0\n",
      "Variable: fid_815                                                           Importance: 0.0\n",
      "Variable: fid_818                                                           Importance: 0.0\n",
      "Variable: fid_829                                                           Importance: 0.0\n",
      "Variable: fid_866                                                           Importance: 0.0\n",
      "Variable: fid_896                                                           Importance: 0.0\n",
      "Variable: fid_913                                                           Importance: 0.0\n",
      "Variable: fid_924                                                           Importance: 0.0\n",
      "Variable: fid_925                                                           Importance: 0.0\n",
      "Variable: fid_938                                                           Importance: 0.0\n",
      "Variable: fid_943                                                           Importance: 0.0\n",
      "Variable: fid_977                                                           Importance: 0.0\n",
      "Variable: fid_990                                                           Importance: 0.0\n",
      "Variable: fid_1005                                                          Importance: 0.0\n",
      "Variable: fid_1028                                                          Importance: 0.0\n",
      "Variable: fid_1039                                                          Importance: 0.0\n",
      "Variable: fid_1072                                                          Importance: 0.0\n",
      "Variable: fid_1117                                                          Importance: 0.0\n",
      "Variable: fid_1122                                                          Importance: 0.0\n",
      "Variable: fid_1129                                                          Importance: 0.0\n",
      "Variable: fid_1165                                                          Importance: 0.0\n",
      "Variable: fid_1169                                                          Importance: 0.0\n",
      "Variable: fid_1172                                                          Importance: 0.0\n",
      "Variable: fid_1176                                                          Importance: 0.0\n",
      "Variable: fid_1286                                                          Importance: 0.0\n",
      "Variable: fid_1288                                                          Importance: 0.0\n",
      "Variable: fid_1294                                                          Importance: 0.0\n",
      "Variable: fid_1301                                                          Importance: 0.0\n",
      "Variable: fid_1305                                                          Importance: 0.0\n",
      "Variable: fid_1306                                                          Importance: 0.0\n",
      "Variable: fid_1315                                                          Importance: 0.0\n",
      "Variable: fid_1318                                                          Importance: 0.0\n",
      "Variable: fid_1320                                                          Importance: 0.0\n",
      "Variable: fid_1438                                                          Importance: 0.0\n",
      "Variable: fid_1439                                                          Importance: 0.0\n",
      "Variable: fid_1445                                                          Importance: 0.0\n",
      "Variable: fid_1450                                                          Importance: 0.0\n",
      "Variable: fid_1454                                                          Importance: 0.0\n",
      "Variable: fid_1458                                                          Importance: 0.0\n",
      "Variable: fid_1463                                                          Importance: 0.0\n",
      "Variable: fid_1466                                                          Importance: 0.0\n",
      "Variable: fid_1626                                                          Importance: 0.0\n",
      "Variable: fid_1628                                                          Importance: 0.0\n",
      "Variable: fid_1629                                                          Importance: 0.0\n",
      "Variable: fid_1633                                                          Importance: 0.0\n",
      "Variable: fid_1635                                                          Importance: 0.0\n",
      "Variable: fid_1692                                                          Importance: 0.0\n",
      "Variable: fid_1738                                                          Importance: 0.0\n",
      "Variable: fid_1740                                                          Importance: 0.0\n",
      "Variable: hsa_Capital/Adiron                                                Importance: 0.0\n",
      "Variable: hsa_Central NY                                                    Importance: 0.0\n",
      "Variable: hsa_Finger Lakes                                                  Importance: 0.0\n",
      "Variable: hsa_Hudson Valley                                                 Importance: 0.0\n",
      "Variable: hsa_Long Island                                                   Importance: 0.0\n",
      "Variable: hsa_Southern Tier                                                 Importance: 0.0\n",
      "Variable: hsa_Western NY                                                    Importance: 0.0\n"
     ]
    }
   ],
   "source": [
    "importances = list(rf2.feature_importances_)\n",
    "rf2FeatImpt = [(feature, round(importance, 2)) for feature, importance in zip(list(X.columns), importances)]\n",
    "rf2FeatImpt = sorted(rf2FeatImpt, key = lambda x: x[1], reverse = True)\n",
    "for pair in rf2FeatImpt:\n",
    "    print('Variable: {:65} Importance: {}'.format(*pair))"
   ]
  },
  {
   "cell_type": "markdown",
   "metadata": {},
   "source": [
    "## RF Model 3: remove features with 0 importance"
   ]
  },
  {
   "cell_type": "code",
   "execution_count": 80,
   "metadata": {},
   "outputs": [],
   "source": [
    "unimptFeat = []\n",
    "\n",
    "for pair in rf2FeatImpt:\n",
    "    if pair[1] == 0:\n",
    "        unimptFeat.append(pair[0])\n",
    "        \n",
    "unimptFeat.append('Total Charges')"
   ]
  },
  {
   "cell_type": "code",
   "execution_count": 81,
   "metadata": {},
   "outputs": [],
   "source": [
    "X = csectDataRF.drop(columns=unimptFeat)\n",
    "y = csectDataRF['Total Charges']\n",
    "X_train, X_test, y_train, y_test = train_test_split(X, y, test_size=0.33, random_state=13)"
   ]
  },
  {
   "cell_type": "code",
   "execution_count": 82,
   "metadata": {},
   "outputs": [
    {
     "name": "stdout",
     "output_type": "stream",
     "text": [
      "0.8366956961928989\n",
      "0.8103900217926646\n",
      "0.8116115112544682\n"
     ]
    }
   ],
   "source": [
    "rf3 = RandomForestRegressor(n_estimators=50, random_state=13, max_depth=15, oob_score=True, bootstrap=True)\n",
    "rf3.fit(X_train, y_train)\n",
    "y_pred = rf3.predict(X_test)\n",
    "\n",
    "print(rf3.score(X_train, y_train))\n",
    "print(rf3.oob_score_)\n",
    "print(rf3.score(X_test, y_test))"
   ]
  },
  {
   "cell_type": "code",
   "execution_count": 83,
   "metadata": {
    "scrolled": true
   },
   "outputs": [
    {
     "name": "stdout",
     "output_type": "stream",
     "text": [
      "Variable: fte_employees_on_payroll                                          Importance: 0.2\n",
      "Variable: days                                                              Importance: 0.18\n",
      "Variable: countPerDrgPerFacIdPerYr                                          Importance: 0.13\n",
      "Variable: avgNumberDays                                                     Importance: 0.11\n",
      "Variable: ratioFertilityTotalPopulation                                     Importance: 0.04\n",
      "Variable: fid_1139                                                          Importance: 0.04\n",
      "Variable: number_of_beds                                                    Importance: 0.03\n",
      "Variable: totalInsured                                                      Importance: 0.03\n",
      "Variable: totalFertile                                                      Importance: 0.03\n",
      "Variable: ratioDrgToFacility                                                Importance: 0.03\n",
      "Variable: Hospital Ownership_Government - Hospital District or Authority    Importance: 0.03\n",
      "Variable: APR Severity of Illness Code                                      Importance: 0.02\n",
      "Variable: yr                                                                Importance: 0.02\n",
      "Variable: countPerFacIdPerYr                                                Importance: 0.02\n",
      "Variable: numberUrgentAdmits                                                Importance: 0.02\n",
      "Variable: ratioInsuredTotalPopulation                                       Importance: 0.02\n",
      "Variable: Patient experience national comparison                            Importance: 0.01\n",
      "Variable: totalPopulation                                                   Importance: 0.01\n",
      "Variable: emergencyRoom                                                     Importance: 0.01\n",
      "Variable: Hospital Ownership_Government - Local                             Importance: 0.01\n",
      "Variable: fid_699                                                           Importance: 0.01\n",
      "Variable: hsa_New York City                                                 Importance: 0.0\n"
     ]
    }
   ],
   "source": [
    "importances = list(rf3.feature_importances_)\n",
    "rf3FeatImpt = [(feature, round(importance, 2)) for feature, importance in zip(list(X.columns), importances)]\n",
    "rf3FeatImpt = sorted(rf3FeatImpt, key = lambda x: x[1], reverse = True)\n",
    "for pair in rf3FeatImpt:\n",
    "    print('Variable: {:65} Importance: {}'.format(*pair))"
   ]
  },
  {
   "cell_type": "code",
   "execution_count": 84,
   "metadata": {},
   "outputs": [],
   "source": [
    "tree = rf3.estimators_[13]\n",
    "export_graphviz(tree, out_file = 'rf3tree.dot', feature_names = list(X.columns), rounded = True, precision = 1)"
   ]
  },
  {
   "cell_type": "markdown",
   "metadata": {},
   "source": [
    "## RF Model 4: Optimize max_depth and n_estimators"
   ]
  },
  {
   "cell_type": "code",
   "execution_count": 85,
   "metadata": {},
   "outputs": [],
   "source": [
    "max_depth = [1, 2, 3, 4, 5, 6, 7, 8, 9, 10, 11, 12, 13, 14, 15]\n",
    "depthTestScoresNew = []\n",
    "depthTrainScoresNew = []\n",
    "depthOOBScoresNew = []\n",
    "\n",
    "for n in max_depth:\n",
    "    rf = RandomForestRegressor(n_estimators=50, max_depth=n, random_state=13, oob_score=True)\n",
    "    rf.fit(X_train, y_train)\n",
    "    depthTrainScoresNew.append(rf.score(X_train, y_train))\n",
    "    depthTestScoresNew.append(rf.score(X_test, y_test))\n",
    "    depthOOBScoresNew.append(rf.oob_score_)"
   ]
  },
  {
   "cell_type": "code",
   "execution_count": 86,
   "metadata": {},
   "outputs": [
    {
     "data": {
      "image/png": "[encoded data removed]",
      "text/plain": [
       "<Figure size 864x432 with 1 Axes>"
      ]
     },
     "metadata": {
      "needs_background": "light"
     },
     "output_type": "display_data"
    }
   ],
   "source": [
    "plt.figure(figsize=(12,6))\n",
    "plt.title('Random Forest Regression Scores', fontsize=16)\n",
    "plt.plot(max_depth, depthTrainScoresNew, label='Training Data')\n",
    "plt.plot(max_depth, depthTestScoresNew, label='Testing Data')\n",
    "plt.plot(max_depth, depthOOBScoresNew, label='OOB Data')\n",
    "plt.xticks(fontsize=14)\n",
    "plt.xlabel('Max Depth', fontsize=14)\n",
    "plt.yticks(fontsize=14)\n",
    "plt.ylabel('Scores', fontsize=14)\n",
    "plt.legend(bbox_to_anchor=(0.9, 0.85))\n",
    "plt.show()"
   ]
  },
  {
   "cell_type": "code",
   "execution_count": 87,
   "metadata": {},
   "outputs": [
    {
     "name": "stderr",
     "output_type": "stream",
     "text": [
      "/nfshome/yg833/.conda/envs/mgPUI/lib/python3.7/site-packages/sklearn/ensemble/forest.py:732: UserWarning: Some inputs do not have OOB scores. This probably means too few trees were used to compute any reliable oob estimates.\n",
      "  warn(\"Some inputs do not have OOB scores. \"\n",
      "/nfshome/yg833/.conda/envs/mgPUI/lib/python3.7/site-packages/sklearn/ensemble/forest.py:732: UserWarning: Some inputs do not have OOB scores. This probably means too few trees were used to compute any reliable oob estimates.\n",
      "  warn(\"Some inputs do not have OOB scores. \"\n",
      "/nfshome/yg833/.conda/envs/mgPUI/lib/python3.7/site-packages/sklearn/ensemble/forest.py:732: UserWarning: Some inputs do not have OOB scores. This probably means too few trees were used to compute any reliable oob estimates.\n",
      "  warn(\"Some inputs do not have OOB scores. \"\n"
     ]
    }
   ],
   "source": [
    "n_estimators = [1, 10, 20, 50, 70, 100, 120, 150]\n",
    "nTestScoresNew = []\n",
    "nTrainScoresNew = []\n",
    "nOOBScoresNew = []\n",
    "\n",
    "for n in n_estimators:\n",
    "    rf = RandomForestRegressor(n_estimators=n, random_state=13, max_depth=12, oob_score=True)\n",
    "    rf.fit(X_train, y_train)\n",
    "    y_pred = rf.predict(X_test)\n",
    "    nTrainScoresNew.append(rf.score(X_train, y_train))\n",
    "    nTestScoresNew.append(rf.score(X_test, y_test))\n",
    "    nOOBScoresNew.append(rf.oob_score_)"
   ]
  },
  {
   "cell_type": "code",
   "execution_count": 88,
   "metadata": {},
   "outputs": [
    {
     "data": {
      "image/png": "[encoded data removed]",
      "text/plain": [
       "<Figure size 864x432 with 1 Axes>"
      ]
     },
     "metadata": {
      "needs_background": "light"
     },
     "output_type": "display_data"
    }
   ],
   "source": [
    "plt.figure(figsize=(12,6))\n",
    "plt.title('Random Forest Regression Scores', fontsize=16)\n",
    "plt.plot(n_estimators, nTrainScoresNew, label='Training Data')\n",
    "plt.plot(n_estimators, nTestScoresNew, label='Testing Data')\n",
    "plt.plot(n_estimators[1:], nOOBScoresNew[1:], label='OOB Data')\n",
    "plt.xticks(fontsize=14)\n",
    "plt.xlabel('N Estimators', fontsize=14)\n",
    "plt.yticks(fontsize=14)\n",
    "plt.ylabel('Scores', fontsize=14)\n",
    "plt.legend(bbox_to_anchor=(0.9,0.9))\n",
    "plt.show()"
   ]
  },
  {
   "cell_type": "code",
   "execution_count": 89,
   "metadata": {},
   "outputs": [
    {
     "name": "stdout",
     "output_type": "stream",
     "text": [
      "0.8245834704996371\n",
      "0.8035272168565282\n",
      "0.805015868067305\n"
     ]
    }
   ],
   "source": [
    "rf4 = RandomForestRegressor(n_estimators=30, random_state=13, max_depth=12, oob_score=True, bootstrap=True)\n",
    "rf4.fit(X_train, y_train)\n",
    "y_pred = rf4.predict(X_test)\n",
    "\n",
    "print(rf4.score(X_train, y_train))\n",
    "print(rf4.oob_score_)\n",
    "print(rf4.score(X_test, y_test))"
   ]
  },
  {
   "cell_type": "code",
   "execution_count": 90,
   "metadata": {},
   "outputs": [
    {
     "name": "stdout",
     "output_type": "stream",
     "text": [
      "Variable: fte_employees_on_payroll                                          Importance: 0.21\n",
      "Variable: days                                                              Importance: 0.18\n",
      "Variable: countPerDrgPerFacIdPerYr                                          Importance: 0.13\n",
      "Variable: avgNumberDays                                                     Importance: 0.11\n",
      "Variable: ratioFertilityTotalPopulation                                     Importance: 0.04\n",
      "Variable: fid_1139                                                          Importance: 0.04\n",
      "Variable: totalInsured                                                      Importance: 0.03\n",
      "Variable: totalFertile                                                      Importance: 0.03\n",
      "Variable: ratioDrgToFacility                                                Importance: 0.03\n",
      "Variable: APR Severity of Illness Code                                      Importance: 0.02\n",
      "Variable: yr                                                                Importance: 0.02\n",
      "Variable: number_of_beds                                                    Importance: 0.02\n",
      "Variable: countPerFacIdPerYr                                                Importance: 0.02\n",
      "Variable: numberUrgentAdmits                                                Importance: 0.02\n",
      "Variable: Hospital Ownership_Government - Hospital District or Authority    Importance: 0.02\n",
      "Variable: ratioInsuredTotalPopulation                                       Importance: 0.02\n",
      "Variable: Patient experience national comparison                            Importance: 0.01\n",
      "Variable: totalPopulation                                                   Importance: 0.01\n",
      "Variable: emergencyRoom                                                     Importance: 0.01\n",
      "Variable: Hospital Ownership_Government - Local                             Importance: 0.01\n",
      "Variable: fid_699                                                           Importance: 0.01\n",
      "Variable: hsa_New York City                                                 Importance: 0.01\n"
     ]
    }
   ],
   "source": [
    "importances = list(rf4.feature_importances_)\n",
    "rf4FeatImpt = [(feature, round(importance, 2)) for feature, importance in zip(list(X.columns), importances)]\n",
    "rf4FeatImpt = sorted(rf4FeatImpt, key = lambda x: x[1], reverse = True)\n",
    "for pair in rf4FeatImpt:\n",
    "    print('Variable: {:65} Importance: {}'.format(*pair))"
   ]
  },
  {
   "cell_type": "markdown",
   "metadata": {},
   "source": [
    "#### For Conclusion"
   ]
  },
  {
   "cell_type": "code",
   "execution_count": 91,
   "metadata": {},
   "outputs": [
    {
     "data": {
      "text/plain": [
       "(206565, 168)"
      ]
     },
     "execution_count": 91,
     "metadata": {},
     "output_type": "execute_result"
    }
   ],
   "source": [
    "csectData.shape"
   ]
  },
  {
   "cell_type": "code",
   "execution_count": 92,
   "metadata": {},
   "outputs": [],
   "source": [
    "hospPrices = pd.read_csv('dataFiles/compiledMasterchargesNycHospitals.csv')"
   ]
  },
  {
   "cell_type": "code",
   "execution_count": 93,
   "metadata": {},
   "outputs": [],
   "source": [
    "hospPrices.drop(['Unnamed: 0'], axis=1, inplace=True)"
   ]
  },
  {
   "cell_type": "code",
   "execution_count": 94,
   "metadata": {},
   "outputs": [
    {
     "data": {
      "text/html": [
       "<div>\n",
       "<style scoped>\n",
       "    .dataframe tbody tr th:only-of-type {\n",
       "        vertical-align: middle;\n",
       "    }\n",
       "\n",
       "    .dataframe tbody tr th {\n",
       "        vertical-align: top;\n",
       "    }\n",
       "\n",
       "    .dataframe thead th {\n",
       "        text-align: right;\n",
       "    }\n",
       "</style>\n",
       "<table border=\"1\" class=\"dataframe\">\n",
       "  <thead>\n",
       "    <tr style=\"text-align: right;\">\n",
       "      <th></th>\n",
       "      <th>hospitalName</th>\n",
       "      <th>drgType</th>\n",
       "      <th>facId</th>\n",
       "      <th>providerId</th>\n",
       "      <th>hospDrg</th>\n",
       "      <th>description</th>\n",
       "      <th>charges</th>\n",
       "    </tr>\n",
       "  </thead>\n",
       "  <tbody>\n",
       "    <tr>\n",
       "      <th>0</th>\n",
       "      <td>BRONX-LEBANON HOSPITAL CENTER</td>\n",
       "      <td>APR-DRG</td>\n",
       "      <td>1164</td>\n",
       "      <td>330009</td>\n",
       "      <td>775.0</td>\n",
       "      <td>ALCOHOL ABUSE &amp; DEPENDENCE</td>\n",
       "      <td>22066.805466</td>\n",
       "    </tr>\n",
       "    <tr>\n",
       "      <th>1</th>\n",
       "      <td>BRONX-LEBANON HOSPITAL CENTER</td>\n",
       "      <td>APR-DRG</td>\n",
       "      <td>1164</td>\n",
       "      <td>330009</td>\n",
       "      <td>772.0</td>\n",
       "      <td>ALCOHOL/DRUG DEP W/REHAB DETOX</td>\n",
       "      <td>29814.074395</td>\n",
       "    </tr>\n",
       "    <tr>\n",
       "      <th>2</th>\n",
       "      <td>BRONX-LEBANON HOSPITAL CENTER</td>\n",
       "      <td>APR-DRG</td>\n",
       "      <td>1164</td>\n",
       "      <td>330009</td>\n",
       "      <td>198.0</td>\n",
       "      <td>ANGINA PECTORIS &amp; CORON ATHERO</td>\n",
       "      <td>21846.361053</td>\n",
       "    </tr>\n",
       "    <tr>\n",
       "      <th>3</th>\n",
       "      <td>BRONX-LEBANON HOSPITAL CENTER</td>\n",
       "      <td>APR-DRG</td>\n",
       "      <td>1164</td>\n",
       "      <td>330009</td>\n",
       "      <td>141.0</td>\n",
       "      <td>ASTHMA</td>\n",
       "      <td>9181.951122</td>\n",
       "    </tr>\n",
       "    <tr>\n",
       "      <th>4</th>\n",
       "      <td>BRONX-LEBANON HOSPITAL CENTER</td>\n",
       "      <td>APR-DRG</td>\n",
       "      <td>1164</td>\n",
       "      <td>330009</td>\n",
       "      <td>753.0</td>\n",
       "      <td>BIPOLAR DISORDERS</td>\n",
       "      <td>44274.231067</td>\n",
       "    </tr>\n",
       "  </tbody>\n",
       "</table>\n",
       "</div>"
      ],
      "text/plain": [
       "                    hospitalName  drgType  facId  providerId  hospDrg  \\\n",
       "0  BRONX-LEBANON HOSPITAL CENTER  APR-DRG   1164      330009    775.0   \n",
       "1  BRONX-LEBANON HOSPITAL CENTER  APR-DRG   1164      330009    772.0   \n",
       "2  BRONX-LEBANON HOSPITAL CENTER  APR-DRG   1164      330009    198.0   \n",
       "3  BRONX-LEBANON HOSPITAL CENTER  APR-DRG   1164      330009    141.0   \n",
       "4  BRONX-LEBANON HOSPITAL CENTER  APR-DRG   1164      330009    753.0   \n",
       "\n",
       "                      description       charges  \n",
       "0      ALCOHOL ABUSE & DEPENDENCE  22066.805466  \n",
       "1  ALCOHOL/DRUG DEP W/REHAB DETOX  29814.074395  \n",
       "2  ANGINA PECTORIS & CORON ATHERO  21846.361053  \n",
       "3                          ASTHMA   9181.951122  \n",
       "4               BIPOLAR DISORDERS  44274.231067  "
      ]
     },
     "execution_count": 94,
     "metadata": {},
     "output_type": "execute_result"
    }
   ],
   "source": [
    "hospPrices.head()"
   ]
  },
  {
   "cell_type": "code",
   "execution_count": 95,
   "metadata": {},
   "outputs": [],
   "source": [
    "hospPrices = hospPrices[(hospPrices['drgType'] == 'APR-DRG') & \n",
    "                       (hospPrices['hospDrg'].isin([540.0]))]"
   ]
  },
  {
   "cell_type": "code",
   "execution_count": 96,
   "metadata": {},
   "outputs": [
    {
     "data": {
      "text/plain": [
       "array([1164, 1294, 1626, 1445, 1165, 1301, 1172, 1454, 1186, 1692])"
      ]
     },
     "execution_count": 96,
     "metadata": {},
     "output_type": "execute_result"
    }
   ],
   "source": [
    "hospPrices['facId'].unique()"
   ]
  },
  {
   "cell_type": "code",
   "execution_count": 97,
   "metadata": {},
   "outputs": [
    {
     "data": {
      "text/plain": [
       "(10, 7)"
      ]
     },
     "execution_count": 97,
     "metadata": {},
     "output_type": "execute_result"
    }
   ],
   "source": [
    "hospPrices.shape"
   ]
  },
  {
   "cell_type": "code",
   "execution_count": 98,
   "metadata": {},
   "outputs": [],
   "source": [
    "fac_cols = ['fid_1294',  'fid_1445',\n",
    "            'fid_1165', 'fid_1301',  'fid_1172', \n",
    "            'fid_1454', 'fid_1692', 'fid_1626']"
   ]
  },
  {
   "cell_type": "code",
   "execution_count": 99,
   "metadata": {},
   "outputs": [],
   "source": [
    "fac_num = [1294, 1445, 1165, 1301, 1172, 1454, 1692, 1626]"
   ]
  },
  {
   "cell_type": "markdown",
   "metadata": {},
   "source": [
    "##### Comparing Prices"
   ]
  },
  {
   "cell_type": "code",
   "execution_count": 100,
   "metadata": {},
   "outputs": [
    {
     "data": {
      "text/html": [
       "<div>\n",
       "<style scoped>\n",
       "    .dataframe tbody tr th:only-of-type {\n",
       "        vertical-align: middle;\n",
       "    }\n",
       "\n",
       "    .dataframe tbody tr th {\n",
       "        vertical-align: top;\n",
       "    }\n",
       "\n",
       "    .dataframe thead th {\n",
       "        text-align: right;\n",
       "    }\n",
       "</style>\n",
       "<table border=\"1\" class=\"dataframe\">\n",
       "  <thead>\n",
       "    <tr style=\"text-align: right;\">\n",
       "      <th></th>\n",
       "      <th>APR Severity of Illness Code</th>\n",
       "      <th>Total Charges</th>\n",
       "      <th>yr</th>\n",
       "      <th>Hospital overall rating</th>\n",
       "      <th>Mortality national comparison</th>\n",
       "      <th>Safety of care national comparison</th>\n",
       "      <th>Readmission national comparison</th>\n",
       "      <th>Patient experience national comparison</th>\n",
       "      <th>Effectiveness of care national comparison</th>\n",
       "      <th>Timeliness of care national comparison</th>\n",
       "      <th>...</th>\n",
       "      <th>fid_1738</th>\n",
       "      <th>fid_1740</th>\n",
       "      <th>hsa_Capital/Adiron</th>\n",
       "      <th>hsa_Central NY</th>\n",
       "      <th>hsa_Finger Lakes</th>\n",
       "      <th>hsa_Hudson Valley</th>\n",
       "      <th>hsa_Long Island</th>\n",
       "      <th>hsa_New York City</th>\n",
       "      <th>hsa_Southern Tier</th>\n",
       "      <th>hsa_Western NY</th>\n",
       "    </tr>\n",
       "  </thead>\n",
       "  <tbody>\n",
       "    <tr>\n",
       "      <th>0</th>\n",
       "      <td>1.0</td>\n",
       "      <td>5977.61</td>\n",
       "      <td>2013</td>\n",
       "      <td>2.0</td>\n",
       "      <td>-1.0</td>\n",
       "      <td>1.0</td>\n",
       "      <td>0.0</td>\n",
       "      <td>-1.0</td>\n",
       "      <td>-1.0</td>\n",
       "      <td>0.0</td>\n",
       "      <td>...</td>\n",
       "      <td>0</td>\n",
       "      <td>0</td>\n",
       "      <td>0</td>\n",
       "      <td>0</td>\n",
       "      <td>0</td>\n",
       "      <td>0</td>\n",
       "      <td>0</td>\n",
       "      <td>0</td>\n",
       "      <td>0</td>\n",
       "      <td>1</td>\n",
       "    </tr>\n",
       "    <tr>\n",
       "      <th>1</th>\n",
       "      <td>1.0</td>\n",
       "      <td>6946.11</td>\n",
       "      <td>2013</td>\n",
       "      <td>2.0</td>\n",
       "      <td>-1.0</td>\n",
       "      <td>1.0</td>\n",
       "      <td>0.0</td>\n",
       "      <td>-1.0</td>\n",
       "      <td>-1.0</td>\n",
       "      <td>0.0</td>\n",
       "      <td>...</td>\n",
       "      <td>0</td>\n",
       "      <td>0</td>\n",
       "      <td>0</td>\n",
       "      <td>0</td>\n",
       "      <td>0</td>\n",
       "      <td>0</td>\n",
       "      <td>0</td>\n",
       "      <td>0</td>\n",
       "      <td>0</td>\n",
       "      <td>1</td>\n",
       "    </tr>\n",
       "    <tr>\n",
       "      <th>2</th>\n",
       "      <td>3.0</td>\n",
       "      <td>5300.26</td>\n",
       "      <td>2013</td>\n",
       "      <td>2.0</td>\n",
       "      <td>-1.0</td>\n",
       "      <td>1.0</td>\n",
       "      <td>0.0</td>\n",
       "      <td>-1.0</td>\n",
       "      <td>-1.0</td>\n",
       "      <td>0.0</td>\n",
       "      <td>...</td>\n",
       "      <td>0</td>\n",
       "      <td>0</td>\n",
       "      <td>0</td>\n",
       "      <td>0</td>\n",
       "      <td>0</td>\n",
       "      <td>0</td>\n",
       "      <td>0</td>\n",
       "      <td>0</td>\n",
       "      <td>0</td>\n",
       "      <td>1</td>\n",
       "    </tr>\n",
       "    <tr>\n",
       "      <th>3</th>\n",
       "      <td>1.0</td>\n",
       "      <td>5390.61</td>\n",
       "      <td>2013</td>\n",
       "      <td>2.0</td>\n",
       "      <td>-1.0</td>\n",
       "      <td>1.0</td>\n",
       "      <td>0.0</td>\n",
       "      <td>-1.0</td>\n",
       "      <td>-1.0</td>\n",
       "      <td>0.0</td>\n",
       "      <td>...</td>\n",
       "      <td>0</td>\n",
       "      <td>0</td>\n",
       "      <td>0</td>\n",
       "      <td>0</td>\n",
       "      <td>0</td>\n",
       "      <td>0</td>\n",
       "      <td>0</td>\n",
       "      <td>0</td>\n",
       "      <td>0</td>\n",
       "      <td>1</td>\n",
       "    </tr>\n",
       "    <tr>\n",
       "      <th>4</th>\n",
       "      <td>1.0</td>\n",
       "      <td>7988.61</td>\n",
       "      <td>2013</td>\n",
       "      <td>2.0</td>\n",
       "      <td>-1.0</td>\n",
       "      <td>1.0</td>\n",
       "      <td>0.0</td>\n",
       "      <td>-1.0</td>\n",
       "      <td>-1.0</td>\n",
       "      <td>0.0</td>\n",
       "      <td>...</td>\n",
       "      <td>0</td>\n",
       "      <td>0</td>\n",
       "      <td>0</td>\n",
       "      <td>0</td>\n",
       "      <td>0</td>\n",
       "      <td>0</td>\n",
       "      <td>0</td>\n",
       "      <td>0</td>\n",
       "      <td>0</td>\n",
       "      <td>1</td>\n",
       "    </tr>\n",
       "  </tbody>\n",
       "</table>\n",
       "<p>5 rows × 155 columns</p>\n",
       "</div>"
      ],
      "text/plain": [
       "   APR Severity of Illness Code  Total Charges    yr  Hospital overall rating  \\\n",
       "0                           1.0        5977.61  2013                      2.0   \n",
       "1                           1.0        6946.11  2013                      2.0   \n",
       "2                           3.0        5300.26  2013                      2.0   \n",
       "3                           1.0        5390.61  2013                      2.0   \n",
       "4                           1.0        7988.61  2013                      2.0   \n",
       "\n",
       "   Mortality national comparison  Safety of care national comparison  \\\n",
       "0                           -1.0                                 1.0   \n",
       "1                           -1.0                                 1.0   \n",
       "2                           -1.0                                 1.0   \n",
       "3                           -1.0                                 1.0   \n",
       "4                           -1.0                                 1.0   \n",
       "\n",
       "   Readmission national comparison  Patient experience national comparison  \\\n",
       "0                              0.0                                    -1.0   \n",
       "1                              0.0                                    -1.0   \n",
       "2                              0.0                                    -1.0   \n",
       "3                              0.0                                    -1.0   \n",
       "4                              0.0                                    -1.0   \n",
       "\n",
       "   Effectiveness of care national comparison  \\\n",
       "0                                       -1.0   \n",
       "1                                       -1.0   \n",
       "2                                       -1.0   \n",
       "3                                       -1.0   \n",
       "4                                       -1.0   \n",
       "\n",
       "   Timeliness of care national comparison       ...        fid_1738  fid_1740  \\\n",
       "0                                     0.0       ...               0         0   \n",
       "1                                     0.0       ...               0         0   \n",
       "2                                     0.0       ...               0         0   \n",
       "3                                     0.0       ...               0         0   \n",
       "4                                     0.0       ...               0         0   \n",
       "\n",
       "   hsa_Capital/Adiron  hsa_Central NY  hsa_Finger Lakes  hsa_Hudson Valley  \\\n",
       "0                   0               0                 0                  0   \n",
       "1                   0               0                 0                  0   \n",
       "2                   0               0                 0                  0   \n",
       "3                   0               0                 0                  0   \n",
       "4                   0               0                 0                  0   \n",
       "\n",
       "   hsa_Long Island  hsa_New York City  hsa_Southern Tier  hsa_Western NY  \n",
       "0                0                  0                  0               1  \n",
       "1                0                  0                  0               1  \n",
       "2                0                  0                  0               1  \n",
       "3                0                  0                  0               1  \n",
       "4                0                  0                  0               1  \n",
       "\n",
       "[5 rows x 155 columns]"
      ]
     },
     "execution_count": 100,
     "metadata": {},
     "output_type": "execute_result"
    }
   ],
   "source": [
    "csectDataRF.head()"
   ]
  },
  {
   "cell_type": "code",
   "execution_count": 101,
   "metadata": {},
   "outputs": [
    {
     "name": "stdout",
     "output_type": "stream",
     "text": [
      "\n",
      "\n",
      "fid_1294\n",
      "Predicted Value is  [21808.7470294]\n",
      "Published Value is  18145.67\n",
      "\n",
      "\n",
      "fid_1445\n",
      "Predicted Value is  [17394.7749528]\n",
      "Published Value is  18145.67\n",
      "\n",
      "\n",
      "fid_1165\n",
      "Predicted Value is  [17963.54731403]\n",
      "Published Value is  18145.67\n",
      "\n",
      "\n",
      "fid_1301\n",
      "Predicted Value is  [18096.00148473]\n",
      "Published Value is  18145.67\n",
      "\n",
      "\n",
      "fid_1172\n",
      "Predicted Value is  [21278.37694915]\n",
      "Published Value is  18145.67\n",
      "\n",
      "\n",
      "fid_1454\n",
      "Predicted Value is  [21552.65777966]\n",
      "Published Value is  18145.67\n",
      "\n",
      "\n",
      "fid_1692\n",
      "Predicted Value is  [18213.27338846]\n",
      "Published Value is  18145.67\n",
      "\n",
      "\n",
      "fid_1626\n",
      "Predicted Value is  [19912.48806147]\n",
      "Published Value is  18145.67\n"
     ]
    }
   ],
   "source": [
    "for i in range(len(fac_cols)):\n",
    "    print('\\n')\n",
    "    print(fac_cols[i])\n",
    "    facTemp = pd.DataFrame(csectDataRF[(csectDataRF[fac_cols[i]] == 1) & (csectDataRF['yr'] == 2016)].mean().drop(['Total Charges'])).T\n",
    "    print('Predicted Value is ', rf2.predict(facTemp))\n",
    "    print('Published Value is ', hospPrices[(hospPrices['facId'] == fac_num[i])]['charges'].iloc[0])"
   ]
  }
 ],
 "metadata": {
  "kernelspec": {
   "display_name": "mgPUI",
   "language": "python",
   "name": "mgpui"
  },
  "language_info": {
   "codemirror_mode": {
    "name": "ipython",
    "version": 3
   },
   "file_extension": ".py",
   "mimetype": "text/x-python",
   "name": "python",
   "nbconvert_exporter": "python",
   "pygments_lexer": "ipython3",
   "version": "3.7.2"
  }
 },
 "nbformat": 4,
 "nbformat_minor": 2
}
