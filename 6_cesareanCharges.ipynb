{
 "cells": [
  {
   "cell_type": "code",
   "execution_count": 237,
   "metadata": {},
   "outputs": [
    {
     "name": "stdout",
     "output_type": "stream",
     "text": [
      "Populating the interactive namespace from numpy and matplotlib\n"
     ]
    },
    {
     "name": "stderr",
     "output_type": "stream",
     "text": [
      "C:\\Users\\rachelsim\\Anaconda3\\lib\\site-packages\\IPython\\core\\magics\\pylab.py:160: UserWarning: pylab import has clobbered these variables: ['clf']\n",
      "`%matplotlib` prevents importing * from pylab and numpy\n",
      "  \"\\n`%matplotlib` prevents importing * from pylab and numpy\"\n"
     ]
    }
   ],
   "source": [
    "import pandas as pd\n",
    "import numpy as np\n",
    "import matplotlib.pyplot as plt\n",
    "from sklearn.model_selection import train_test_split\n",
    "from sklearn.linear_model import LinearRegression\n",
    "from sklearn.ensemble import RandomForestRegressor\n",
    "from sklearn.tree import export_graphviz\n",
    "from sklearn.decomposition import PCA\n",
    "from sklearn.preprocessing import MinMaxScaler, scale\n",
    "from sklearn.discriminant_analysis import LinearDiscriminantAnalysis as LDA\n",
    "import pydot\n",
    "\n",
    "%pylab inline"
   ]
  },
  {
   "cell_type": "markdown",
   "metadata": {},
   "source": [
    "## Pre-processing Data: #3"
   ]
  },
  {
   "cell_type": "code",
   "execution_count": 255,
   "metadata": {},
   "outputs": [
    {
     "name": "stderr",
     "output_type": "stream",
     "text": [
      "C:\\Users\\rachelsim\\Anaconda3\\lib\\site-packages\\IPython\\core\\interactiveshell.py:2785: DtypeWarning: Columns (3) have mixed types. Specify dtype option on import or set low_memory=False.\n",
      "  interactivity=interactivity, compiler=compiler, result=result)\n"
     ]
    },
    {
     "data": {
      "text/plain": [
       "(215245, 68)"
      ]
     },
     "execution_count": 255,
     "metadata": {},
     "output_type": "execute_result"
    }
   ],
   "source": [
    "csectData = pd.read_csv('dataFiles/cSectionAprHospFeat.csv')\n",
    "csectData.shape"
   ]
  },
  {
   "cell_type": "code",
   "execution_count": 256,
   "metadata": {},
   "outputs": [
    {
     "data": {
      "text/plain": [
       "(215245, 51)"
      ]
     },
     "execution_count": 256,
     "metadata": {},
     "output_type": "execute_result"
    }
   ],
   "source": [
    "colsRemove = ['Length of Stay', #same as days\n",
    "             'APR DRG Code', #all 540\n",
    "             'APR DRG Description', #all c-sections\n",
    "             'lonlat', #spatial \n",
    "             'geometry', #spatial\n",
    "             'puma', #spatial\n",
    "             'rural_versus_urban_R', #binary represented by rural_versus_urban_U\n",
    "             'lat', #spatial\n",
    "             'long', #spatial\n",
    "             'Unnamed: 0', #extra index\n",
    "             'Provider ID', #same as facility id\n",
    "              'number_of_interns_and',\n",
    "              'Total Costs', # related to charges\n",
    "              'ratioChargesCosts',\n",
    "              'chargesPerDay', \n",
    "              'ratioSumChargesPerFacPerYrToBedDays',\n",
    "              'sumChargesPerFacIdPerYr'\n",
    "             ]\n",
    "\n",
    "\n",
    "csectData.drop(columns=colsRemove, inplace=True)\n",
    "csectData.shape"
   ]
  },
  {
   "cell_type": "code",
   "execution_count": 244,
   "metadata": {},
   "outputs": [
    {
     "data": {
      "image/png": "[encoded data removed]",
      "text/plain": [
       "<Figure size 1080x576 with 2 Axes>"
      ]
     },
     "metadata": {},
     "output_type": "display_data"
    }
   ],
   "source": [
    "plt.figure(figsize=(15,8))\n",
    "\n",
    "ax1 = plt.subplot(211)\n",
    "ax1.boxplot(csectData['days'], vert=False, meanline=True, showmeans=True)\n",
    "ax1.set_ylabel('Length of Stay (with outliers)', fontsize=13)\n",
    "ax1.set_title('Boxplots of Length of Stay', fontsize=15, pad=20)\n",
    "ax1.set_yticklabels([])\n",
    "\n",
    "ax2 = plt.subplot(212)\n",
    "ax2.boxplot(csectData[csectData['days'] <= 7]['days'], vert=False, meanline=True, showmeans=True)\n",
    "ax2.set_ylabel('Length of Stay (without outliers)', fontsize=13)\n",
    "ax2.set_xlabel('Length of Stay', fontsize=13)\n",
    "ax2.set_yticklabels([])\n",
    "plt.show()"
   ]
  },
  {
   "cell_type": "markdown",
   "metadata": {},
   "source": [
    "We only keep data with days of stay less than or equal to seven (one week), losing 2.57% of the data."
   ]
  },
  {
   "cell_type": "code",
   "execution_count": 257,
   "metadata": {},
   "outputs": [],
   "source": [
    "csectData = csectData[csectData['days'] <= 7]"
   ]
  },
  {
   "cell_type": "markdown",
   "metadata": {},
   "source": [
    "Drop all rows with NaNs. We are left with 81% of the data, which is still a large data set, plenty of rows for our analysis."
   ]
  },
  {
   "cell_type": "code",
   "execution_count": 258,
   "metadata": {},
   "outputs": [
    {
     "data": {
      "text/plain": [
       "(174395, 51)"
      ]
     },
     "execution_count": 258,
     "metadata": {},
     "output_type": "execute_result"
    }
   ],
   "source": [
    "csectData.dropna(axis=0, inplace=True)\n",
    "csectData.reset_index(inplace=True, drop=True)\n",
    "csectData.shape"
   ]
  },
  {
   "cell_type": "markdown",
   "metadata": {},
   "source": [
    "### Normalize Non-Discrete Features"
   ]
  },
  {
   "cell_type": "code",
   "execution_count": 259,
   "metadata": {},
   "outputs": [],
   "source": [
    "cols_to_scale = ['fte_employees_on_payroll', 'number_of_beds',\n",
    "                 'totalPopulation', 'totalInsured',\n",
    "                 'countPerDrgPerFacIdPerYr', 'countPerFacIdPerYr',\n",
    "                 'ratioDrgToFacility', 'numberOfPaymentTypes',\n",
    "                 'numberUrgentAdmits', 'ratioInsuredTotalPopulation',\n",
    "                 'days', 'avgNumberDays', 'Total Charges']"
   ]
  },
  {
   "cell_type": "code",
   "execution_count": 260,
   "metadata": {},
   "outputs": [
    {
     "name": "stderr",
     "output_type": "stream",
     "text": [
      "C:\\Users\\rachelsim\\Anaconda3\\lib\\site-packages\\sklearn\\utils\\validation.py:475: DataConversionWarning: Data with input dtype int64 was converted to float64 by the scale function.\n",
      "  warnings.warn(msg, DataConversionWarning)\n"
     ]
    }
   ],
   "source": [
    "for cols in range(len(cols_to_scale)):\n",
    "    csectData[str('scale_'+cols_to_scale[cols])] = scale(csectData[cols_to_scale[cols]])"
   ]
  },
  {
   "cell_type": "code",
   "execution_count": 261,
   "metadata": {},
   "outputs": [],
   "source": [
    "csectData['Facility Id'] = csectData['Facility Id'].astype('int64')"
   ]
  },
  {
   "cell_type": "code",
   "execution_count": 262,
   "metadata": {
    "scrolled": true
   },
   "outputs": [],
   "source": [
    "# get dummies for facility ids and health service area\n",
    "fidDummies = pd.get_dummies(csectData['Facility Id'], prefix='fid')\n",
    "hsaDummies = pd.get_dummies(csectData['Health Service Area'], prefix='hsa')\n",
    "dummies = [fidDummies, hsaDummies]\n",
    "dummiesDf = pd.concat(dummies, axis=1)"
   ]
  },
  {
   "cell_type": "code",
   "execution_count": 263,
   "metadata": {},
   "outputs": [
    {
     "name": "stdout",
     "output_type": "stream",
     "text": [
      "(174395, 82)\n",
      "(174395, 8)\n",
      "(174395, 90)\n"
     ]
    }
   ],
   "source": [
    "print(fidDummies.shape)\n",
    "print(hsaDummies.shape)\n",
    "print(dummiesDf.shape)"
   ]
  },
  {
   "cell_type": "code",
   "execution_count": 264,
   "metadata": {},
   "outputs": [
    {
     "data": {
      "text/plain": [
       "(174395, 152)"
      ]
     },
     "execution_count": 264,
     "metadata": {},
     "output_type": "execute_result"
    }
   ],
   "source": [
    "csectData.drop(columns=['Facility Id', 'Health Service Area'], inplace=True)\n",
    "csectData = csectData.merge(dummiesDf, left_index=True, right_index=True)\n",
    "csectData.shape"
   ]
  },
  {
   "cell_type": "code",
   "execution_count": 275,
   "metadata": {},
   "outputs": [
    {
     "data": {
      "text/plain": [
       "(174395, 140)"
      ]
     },
     "execution_count": 275,
     "metadata": {},
     "output_type": "execute_result"
    }
   ],
   "source": [
    "csectDataLR = csectData.drop(columns=['fte_employees_on_payroll', 'number_of_beds',\n",
    "                                      'totalPopulation', 'totalInsured',\n",
    "                                      'countPerDrgPerFacIdPerYr', 'countPerFacIdPerYr',\n",
    "                                      'ratioDrgToFacility', 'numberOfPaymentTypes',\n",
    "                                      'numberUrgentAdmits', 'ratioInsuredTotalPopulation',\n",
    "                                      'days', 'avgNumberDays', 'Total Charges'])\n",
    "csectDataLR['intercept'] = 1\n",
    "csectDataLR.shape"
   ]
  },
  {
   "cell_type": "markdown",
   "metadata": {},
   "source": [
    "## Linear Regression Model"
   ]
  },
  {
   "cell_type": "code",
   "execution_count": 277,
   "metadata": {
    "scrolled": true
   },
   "outputs": [
    {
     "name": "stdout",
     "output_type": "stream",
     "text": [
      "0.7765534368680282\n",
      "0.7553436328271732\n"
     ]
    }
   ],
   "source": [
    "X = csectDataLR.drop(columns=['scale_Total Charges'])\n",
    "y = csectDataLR['scale_Total Charges']\n",
    "X_train, X_test, y_train, y_test = train_test_split(X, y, test_size=0.33, random_state=13)\n",
    "\n",
    "clf = LinearRegression()\n",
    "clf.fit(X_train, y_train)\n",
    "y_pred = clf.predict(X_test)\n",
    "print(clf.score(X_train, y_train))\n",
    "print(clf.score(X_test, y_test))"
   ]
  },
  {
   "cell_type": "code",
   "execution_count": 278,
   "metadata": {},
   "outputs": [
    {
     "data": {
      "text/plain": [
       "['payment_Self-Pay',\n",
       " 'fid_218',\n",
       " 'fid_694',\n",
       " 'fid_704',\n",
       " 'Hospital Ownership_Government - Local',\n",
       " 'Hospital Ownership_Voluntary non-profit - Other',\n",
       " 'fid_1117',\n",
       " 'payment_Managed Care, Unspecified',\n",
       " 'fid_1',\n",
       " 'Hospital overall rating',\n",
       " 'fid_829',\n",
       " 'Type of Admission_Elective',\n",
       " 'fid_325',\n",
       " 'fid_977',\n",
       " 'payment_Miscellaneous/Other',\n",
       " 'Hospital Ownership_Government - State',\n",
       " 'Type of Admission_Trauma',\n",
       " 'scale_ratioDrgToFacility',\n",
       " 'fid_128',\n",
       " 'fid_565',\n",
       " 'Type of Admission_Emergency',\n",
       " 'fid_990',\n",
       " 'Effectiveness of care national comparison',\n",
       " 'Hospital Ownership_Voluntary non-profit - Private',\n",
       " 'fid_471',\n",
       " 'fid_599',\n",
       " 'fid_158',\n",
       " 'hsa_Western NY',\n",
       " 'fid_324',\n",
       " 'Hospital Ownership_Government - Hospital District or Authority',\n",
       " 'fid_484',\n",
       " 'payment_Blue Cross/Blue Shield',\n",
       " 'Mortality national comparison',\n",
       " 'fid_85',\n",
       " 'scale_totalPopulation',\n",
       " 'Hospital Ownership_Voluntary non-profit - Church',\n",
       " 'fid_98',\n",
       " 'scale_fte_employees_on_payroll',\n",
       " 'Timeliness of care national comparison',\n",
       " 'fid_552',\n",
       " 'fid_116',\n",
       " 'fid_1320',\n",
       " 'fid_1286',\n",
       " 'fid_66',\n",
       " 'payment_Department of Corrections',\n",
       " 'fid_1039',\n",
       " 'fid_367',\n",
       " 'fid_1139',\n",
       " 'fid_1305',\n",
       " 'fid_699',\n",
       " 'fid_513',\n",
       " 'fid_804',\n",
       " 'fid_1169',\n",
       " 'ratioFertilityTotalPopulation',\n",
       " 'scale_numberUrgentAdmits',\n",
       " 'fid_818',\n",
       " 'fid_1288',\n",
       " 'fid_413',\n",
       " 'fid_776',\n",
       " 'fid_1458',\n",
       " 'fid_727',\n",
       " 'fid_815',\n",
       " 'fid_213',\n",
       " 'fid_938',\n",
       " 'fid_1005',\n",
       " 'Hospital Ownership_Proprietary',\n",
       " 'fid_1740',\n",
       " 'yr',\n",
       " 'fid_1466',\n",
       " 'fid_1463',\n",
       " 'fid_135',\n",
       " 'fid_1306',\n",
       " 'fid_146',\n",
       " 'fid_798',\n",
       " 'fid_330',\n",
       " 'fid_1439',\n",
       " 'fid_1450',\n",
       " 'scale_ratioInsuredTotalPopulation',\n",
       " 'Type of Admission_Newborn',\n",
       " 'fid_411',\n",
       " 'fid_1629',\n",
       " 'Efficient use of medical imaging national comparison',\n",
       " 'fid_1438',\n",
       " 'scale_number_of_beds',\n",
       " 'fid_5',\n",
       " 'fid_103',\n",
       " 'fid_409',\n",
       " 'emergencyRoom',\n",
       " 'fid_943',\n",
       " 'fid_541',\n",
       " 'fid_511',\n",
       " 'hsa_Hudson Valley',\n",
       " 'hsa_Central NY',\n",
       " 'fid_397',\n",
       " 'hsa_Long Island',\n",
       " 'fid_913',\n",
       " 'APR Severity of Illness Code',\n",
       " 'fid_1129',\n",
       " 'fid_678',\n",
       " 'intercept',\n",
       " 'payment_Federal/State/Local/VA',\n",
       " 'hsa_New York City',\n",
       " 'totalFertile',\n",
       " 'hsa_Capital/Adiron',\n",
       " 'fid_574',\n",
       " 'fid_896',\n",
       " 'fid_630',\n",
       " 'fid_636',\n",
       " 'scale_days',\n",
       " 'scale_avgNumberDays',\n",
       " 'hsa_Southern Tier',\n",
       " 'fid_528',\n",
       " 'fid_866',\n",
       " 'hsa_Finger Lakes',\n",
       " 'fid_207',\n",
       " 'fid_779',\n",
       " 'Patient experience national comparison',\n",
       " 'fid_752',\n",
       " 'scale_numberOfPaymentTypes',\n",
       " 'fid_925',\n",
       " 'fid_42',\n",
       " 'Readmission national comparison',\n",
       " 'fid_924',\n",
       " 'fid_1165',\n",
       " 'fid_181',\n",
       " 'Safety of care national comparison',\n",
       " 'fid_583',\n",
       " 'scale_totalInsured',\n",
       " 'fid_1028',\n",
       " 'scale_countPerDrgPerFacIdPerYr',\n",
       " 'payment_Medicare',\n",
       " 'rural_versus_urban_U',\n",
       " 'fid_1122',\n",
       " 'Type of Admission_Urgent',\n",
       " 'fid_43',\n",
       " 'payment_Private Health Insurance',\n",
       " 'payment_Medicaid',\n",
       " 'Type of Admission_Not Available',\n",
       " 'scale_countPerFacIdPerYr']"
      ]
     },
     "execution_count": 278,
     "metadata": {},
     "output_type": "execute_result"
    }
   ],
   "source": [
    "# index of columns sorted in ascending order\n",
    "coefColIndex = np.argsort(clf.coef_)\n",
    "\n",
    "# features sorted by decreasing coefficients\n",
    "regFeat = []\n",
    "for i in coefColIndex:\n",
    "    regFeat.append(X.columns[-i])\n",
    "\n",
    "regFeat"
   ]
  },
  {
   "cell_type": "markdown",
   "metadata": {},
   "source": [
    "#### Identify number of components to carry out PCA"
   ]
  },
  {
   "cell_type": "code",
   "execution_count": 279,
   "metadata": {},
   "outputs": [],
   "source": [
    "scaler = MinMaxScaler(feature_range=[0, 1])\n",
    "XRescaled = scaler.fit_transform(X.iloc[:,1:])"
   ]
  },
  {
   "cell_type": "code",
   "execution_count": 342,
   "metadata": {},
   "outputs": [
    {
     "data": {
      "image/png": "[encoded data removed]",
      "text/plain": [
       "<Figure size 720x432 with 1 Axes>"
      ]
     },
     "metadata": {},
     "output_type": "display_data"
    }
   ],
   "source": [
    "pca = PCA().fit(XRescaled)\n",
    "plt.figure(figsize=(10,6))\n",
    "plt.plot(np.cumsum(pca.explained_variance_ratio_))\n",
    "plt.xlabel('Number of Components', fontsize=14)\n",
    "plt.ylabel('Variance (%)', fontsize=14) #for each component\n",
    "plt.title('C-Section Charges Explained Variance', fontsize=15, pad=15)\n",
    "plt.show()"
   ]
  },
  {
   "cell_type": "markdown",
   "metadata": {},
   "source": [
    "Only need 80 components to explain 100% of variance, so we perform PCA with n_components=80."
   ]
  },
  {
   "cell_type": "code",
   "execution_count": 281,
   "metadata": {},
   "outputs": [],
   "source": [
    "pca = PCA(n_components=80)\n",
    "XTransformed = pca.fit_transform(XRescaled)"
   ]
  },
  {
   "cell_type": "markdown",
   "metadata": {},
   "source": [
    "Perform OLS Regression again with reduced dimensionality of features"
   ]
  },
  {
   "cell_type": "code",
   "execution_count": 282,
   "metadata": {},
   "outputs": [
    {
     "name": "stdout",
     "output_type": "stream",
     "text": [
      "0.7659110111618015\n",
      "0.7445540050049347\n"
     ]
    }
   ],
   "source": [
    "XT_train, XT_test, y_train, y_test = train_test_split(XTransformed, y, test_size=0.33, random_state=13)\n",
    "\n",
    "clfPCA = LinearRegression()\n",
    "clfPCA.fit(XT_train, y_train)\n",
    "y_pred_PCA = clfPCA.predict(XT_test)\n",
    "print(clfPCA.score(XT_train, y_train))\n",
    "print(clfPCA.score(XT_test, y_test))"
   ]
  },
  {
   "cell_type": "markdown",
   "metadata": {},
   "source": [
    "OLS performance didn't improve! Boo! And no interpretability :("
   ]
  },
  {
   "cell_type": "markdown",
   "metadata": {},
   "source": [
    "## Random Forest Regressor"
   ]
  },
  {
   "cell_type": "code",
   "execution_count": 285,
   "metadata": {},
   "outputs": [
    {
     "data": {
      "text/plain": [
       "(174395, 139)"
      ]
     },
     "execution_count": 285,
     "metadata": {},
     "output_type": "execute_result"
    }
   ],
   "source": [
    "csectDataRF = csectData.drop(columns=['scale_fte_employees_on_payroll', 'scale_number_of_beds',\n",
    "                                      'scale_totalPopulation', 'scale_totalInsured',\n",
    "                                      'scale_countPerDrgPerFacIdPerYr', 'scale_countPerFacIdPerYr',\n",
    "                                      'scale_ratioDrgToFacility', 'scale_numberOfPaymentTypes',\n",
    "                                      'scale_numberUrgentAdmits', 'scale_ratioInsuredTotalPopulation',\n",
    "                                      'scale_days', 'scale_avgNumberDays', 'scale_Total Charges'])\n",
    "csectDataRF.shape"
   ]
  },
  {
   "cell_type": "code",
   "execution_count": 326,
   "metadata": {},
   "outputs": [],
   "source": [
    "X = csectDataRF.drop(columns=['Total Charges'])\n",
    "y = csectDataRF['Total Charges']\n",
    "X_train, X_test, y_train, y_test = train_test_split(X, y, test_size=0.33, random_state=13)"
   ]
  },
  {
   "cell_type": "markdown",
   "metadata": {},
   "source": [
    "### Hyperparameter Tuning: max_depth"
   ]
  },
  {
   "cell_type": "code",
   "execution_count": 223,
   "metadata": {
    "scrolled": true
   },
   "outputs": [],
   "source": [
    "max_depth = [5, 10, 15, 20, 25, 30, 35, 40]\n",
    "depthTestScores = []\n",
    "depthTrainScores = []\n",
    "depthOOBScores = []\n",
    "\n",
    "for n in max_depth:\n",
    "    rf = RandomForestRegressor(n_estimators=100, max_depth=n, random_state=13, oob_score=True)\n",
    "    rf.fit(X_train, y_train)\n",
    "    depthTrainScores.append(rf.score(X_train, y_train))\n",
    "    depthTestScores.append(rf.score(X_test, y_test))\n",
    "    depthOOBScores.append(rf.oob_score_)"
   ]
  },
  {
   "cell_type": "code",
   "execution_count": 224,
   "metadata": {},
   "outputs": [
    {
     "data": {
      "image/png": "[encoded data removed]",
      "text/plain": [
       "<Figure size 864x432 with 1 Axes>"
      ]
     },
     "metadata": {},
     "output_type": "display_data"
    }
   ],
   "source": [
    "plt.figure(figsize=(12,6))\n",
    "plt.title('Random Forest Regression Scores', fontsize=16)\n",
    "plt.plot(max_depth, depthTrainScores, label='Training Data')\n",
    "plt.plot(max_depth, depthTestScores, label='Testing Data')\n",
    "plt.plot(max_depth, depthOOBScores, label='OOB Data')\n",
    "plt.xticks(fontsize=14)\n",
    "plt.xlabel('Max Depth', fontsize=14)\n",
    "plt.yticks(fontsize=14)\n",
    "plt.ylabel('Scores', fontsize=14)\n",
    "plt.legend(bbox_to_anchor=(0.9, 0.85))\n",
    "plt.show()"
   ]
  },
  {
   "cell_type": "markdown",
   "metadata": {},
   "source": [
    "Choose max_depth=15 as parameter."
   ]
  },
  {
   "cell_type": "markdown",
   "metadata": {},
   "source": [
    "### Hyperparameter Tuning: n_estimators"
   ]
  },
  {
   "cell_type": "code",
   "execution_count": 225,
   "metadata": {},
   "outputs": [
    {
     "name": "stderr",
     "output_type": "stream",
     "text": [
      "C:\\Users\\rachelsim\\Anaconda3\\lib\\site-packages\\sklearn\\ensemble\\forest.py:724: UserWarning: Some inputs do not have OOB scores. This probably means too few trees were used to compute any reliable oob estimates.\n",
      "  warn(\"Some inputs do not have OOB scores. \"\n",
      "C:\\Users\\rachelsim\\Anaconda3\\lib\\site-packages\\sklearn\\ensemble\\forest.py:724: UserWarning: Some inputs do not have OOB scores. This probably means too few trees were used to compute any reliable oob estimates.\n",
      "  warn(\"Some inputs do not have OOB scores. \"\n",
      "C:\\Users\\rachelsim\\Anaconda3\\lib\\site-packages\\sklearn\\ensemble\\forest.py:724: UserWarning: Some inputs do not have OOB scores. This probably means too few trees were used to compute any reliable oob estimates.\n",
      "  warn(\"Some inputs do not have OOB scores. \"\n"
     ]
    }
   ],
   "source": [
    "n_estimators = [1, 10, 20, 50, 70, 100, 120, 150]\n",
    "nTestScores = []\n",
    "nTrainScores = []\n",
    "nOOBScores = []\n",
    "\n",
    "for n in n_estimators:\n",
    "    rf = RandomForestRegressor(n_estimators=n, random_state=13, max_depth=15, oob_score=True)\n",
    "    rf.fit(X_train, y_train)\n",
    "    y_pred = rf.predict(X_test)\n",
    "    nTrainScores.append(rf.score(X_train, y_train))\n",
    "    nTestScores.append(rf.score(X_test, y_test))\n",
    "    nOOBScores.append(rf.oob_score_)"
   ]
  },
  {
   "cell_type": "code",
   "execution_count": 226,
   "metadata": {},
   "outputs": [
    {
     "data": {
      "image/png": "[encoded data removed]",
      "text/plain": [
       "<Figure size 864x432 with 1 Axes>"
      ]
     },
     "metadata": {},
     "output_type": "display_data"
    }
   ],
   "source": [
    "plt.figure(figsize=(12,6))\n",
    "plt.title('Random Forest Regression Scores', fontsize=16)\n",
    "plt.plot(n_estimators, nTrainScores, label='Training Data')\n",
    "plt.plot(n_estimators, nTestScores, label='Testing Data')\n",
    "plt.plot(n_estimators[1:], nOOBScores[1:], label='OOB Data')\n",
    "plt.xticks(fontsize=14)\n",
    "plt.xlabel('N Estimators', fontsize=14)\n",
    "plt.yticks(fontsize=14)\n",
    "plt.ylabel('Scores', fontsize=14)\n",
    "plt.legend(bbox_to_anchor=(0.9,0.9))\n",
    "plt.show()"
   ]
  },
  {
   "cell_type": "markdown",
   "metadata": {},
   "source": [
    "Choose n_estimators = 50."
   ]
  },
  {
   "cell_type": "markdown",
   "metadata": {},
   "source": [
    "### RFR Model 1: n_estimators=50 and max_depth=15"
   ]
  },
  {
   "cell_type": "code",
   "execution_count": 327,
   "metadata": {
    "scrolled": false
   },
   "outputs": [
    {
     "name": "stdout",
     "output_type": "stream",
     "text": [
      "0.8619524246575749\n",
      "0.8177406741631892\n",
      "0.7947771161108048\n"
     ]
    }
   ],
   "source": [
    "rf = RandomForestRegressor(n_estimators=50, max_depth=15, random_state=13, oob_score=True)\n",
    "rf.fit(X_train, y_train)\n",
    "y_pred = rf.predict(X_test)\n",
    "\n",
    "print(rf.score(X_train, y_train))\n",
    "print(rf.oob_score_)\n",
    "print(rf.score(X_test, y_test))"
   ]
  },
  {
   "cell_type": "markdown",
   "metadata": {},
   "source": [
    "#### RFR Model 1: Feature Importance"
   ]
  },
  {
   "cell_type": "code",
   "execution_count": 328,
   "metadata": {
    "scrolled": true
   },
   "outputs": [
    {
     "name": "stdout",
     "output_type": "stream",
     "text": [
      "Variable: fte_employees_on_payroll                                          Importance: 0.25\n",
      "Variable: days                                                              Importance: 0.16\n",
      "Variable: numberUrgentAdmits                                                Importance: 0.09\n",
      "Variable: avgNumberDays                                                     Importance: 0.08\n",
      "Variable: ratioFertilityTotalPopulation                                     Importance: 0.04\n",
      "Variable: fid_1139                                                          Importance: 0.04\n",
      "Variable: totalPopulation                                                   Importance: 0.03\n",
      "Variable: ratioDrgToFacility                                                Importance: 0.03\n",
      "Variable: Hospital Ownership_Government - Hospital District or Authority    Importance: 0.03\n",
      "Variable: hsa_Long Island                                                   Importance: 0.03\n",
      "Variable: APR Severity of Illness Code                                      Importance: 0.02\n",
      "Variable: yr                                                                Importance: 0.02\n",
      "Variable: totalInsured                                                      Importance: 0.02\n",
      "Variable: totalFertile                                                      Importance: 0.02\n",
      "Variable: countPerFacIdPerYr                                                Importance: 0.02\n",
      "Variable: ratioInsuredTotalPopulation                                       Importance: 0.02\n",
      "Variable: Timeliness of care national comparison                            Importance: 0.01\n",
      "Variable: number_of_beds                                                    Importance: 0.01\n",
      "Variable: countPerDrgPerFacIdPerYr                                          Importance: 0.01\n",
      "Variable: Hospital Ownership_Voluntary non-profit - Church                  Importance: 0.01\n",
      "Variable: hsa_Hudson Valley                                                 Importance: 0.01\n",
      "Variable: Hospital overall rating                                           Importance: 0.0\n",
      "Variable: Mortality national comparison                                     Importance: 0.0\n",
      "Variable: Safety of care national comparison                                Importance: 0.0\n",
      "Variable: Readmission national comparison                                   Importance: 0.0\n",
      "Variable: Patient experience national comparison                            Importance: 0.0\n",
      "Variable: Effectiveness of care national comparison                         Importance: 0.0\n",
      "Variable: Efficient use of medical imaging national comparison              Importance: 0.0\n",
      "Variable: payment_Medicare                                                  Importance: 0.0\n",
      "Variable: payment_Blue Cross/Blue Shield                                    Importance: 0.0\n",
      "Variable: payment_Private Health Insurance                                  Importance: 0.0\n",
      "Variable: payment_Self-Pay                                                  Importance: 0.0\n",
      "Variable: payment_Medicaid                                                  Importance: 0.0\n",
      "Variable: payment_Federal/State/Local/VA                                    Importance: 0.0\n",
      "Variable: payment_Miscellaneous/Other                                       Importance: 0.0\n",
      "Variable: payment_Department of Corrections                                 Importance: 0.0\n",
      "Variable: payment_Managed Care, Unspecified                                 Importance: 0.0\n",
      "Variable: numberOfPaymentTypes                                              Importance: 0.0\n",
      "Variable: Type of Admission_Elective                                        Importance: 0.0\n",
      "Variable: Type of Admission_Emergency                                       Importance: 0.0\n",
      "Variable: Type of Admission_Newborn                                         Importance: 0.0\n",
      "Variable: Type of Admission_Not Available                                   Importance: 0.0\n",
      "Variable: Type of Admission_Trauma                                          Importance: 0.0\n",
      "Variable: Type of Admission_Urgent                                          Importance: 0.0\n",
      "Variable: emergencyRoom                                                     Importance: 0.0\n",
      "Variable: Hospital Ownership_Government - Local                             Importance: 0.0\n",
      "Variable: Hospital Ownership_Government - State                             Importance: 0.0\n",
      "Variable: Hospital Ownership_Proprietary                                    Importance: 0.0\n",
      "Variable: Hospital Ownership_Voluntary non-profit - Other                   Importance: 0.0\n",
      "Variable: Hospital Ownership_Voluntary non-profit - Private                 Importance: 0.0\n",
      "Variable: rural_versus_urban_U                                              Importance: 0.0\n",
      "Variable: fid_1                                                             Importance: 0.0\n",
      "Variable: fid_5                                                             Importance: 0.0\n",
      "Variable: fid_42                                                            Importance: 0.0\n",
      "Variable: fid_43                                                            Importance: 0.0\n",
      "Variable: fid_66                                                            Importance: 0.0\n",
      "Variable: fid_85                                                            Importance: 0.0\n",
      "Variable: fid_98                                                            Importance: 0.0\n",
      "Variable: fid_103                                                           Importance: 0.0\n",
      "Variable: fid_116                                                           Importance: 0.0\n",
      "Variable: fid_128                                                           Importance: 0.0\n",
      "Variable: fid_135                                                           Importance: 0.0\n",
      "Variable: fid_146                                                           Importance: 0.0\n",
      "Variable: fid_158                                                           Importance: 0.0\n",
      "Variable: fid_181                                                           Importance: 0.0\n",
      "Variable: fid_207                                                           Importance: 0.0\n",
      "Variable: fid_213                                                           Importance: 0.0\n",
      "Variable: fid_218                                                           Importance: 0.0\n",
      "Variable: fid_324                                                           Importance: 0.0\n",
      "Variable: fid_325                                                           Importance: 0.0\n",
      "Variable: fid_330                                                           Importance: 0.0\n",
      "Variable: fid_367                                                           Importance: 0.0\n",
      "Variable: fid_397                                                           Importance: 0.0\n",
      "Variable: fid_409                                                           Importance: 0.0\n",
      "Variable: fid_411                                                           Importance: 0.0\n",
      "Variable: fid_413                                                           Importance: 0.0\n",
      "Variable: fid_471                                                           Importance: 0.0\n",
      "Variable: fid_484                                                           Importance: 0.0\n",
      "Variable: fid_511                                                           Importance: 0.0\n",
      "Variable: fid_513                                                           Importance: 0.0\n",
      "Variable: fid_528                                                           Importance: 0.0\n",
      "Variable: fid_541                                                           Importance: 0.0\n",
      "Variable: fid_552                                                           Importance: 0.0\n",
      "Variable: fid_565                                                           Importance: 0.0\n",
      "Variable: fid_574                                                           Importance: 0.0\n",
      "Variable: fid_583                                                           Importance: 0.0\n",
      "Variable: fid_599                                                           Importance: 0.0\n",
      "Variable: fid_630                                                           Importance: 0.0\n",
      "Variable: fid_636                                                           Importance: 0.0\n",
      "Variable: fid_678                                                           Importance: 0.0\n",
      "Variable: fid_694                                                           Importance: 0.0\n",
      "Variable: fid_699                                                           Importance: 0.0\n",
      "Variable: fid_704                                                           Importance: 0.0\n",
      "Variable: fid_727                                                           Importance: 0.0\n",
      "Variable: fid_752                                                           Importance: 0.0\n",
      "Variable: fid_776                                                           Importance: 0.0\n",
      "Variable: fid_779                                                           Importance: 0.0\n",
      "Variable: fid_798                                                           Importance: 0.0\n",
      "Variable: fid_804                                                           Importance: 0.0\n",
      "Variable: fid_815                                                           Importance: 0.0\n",
      "Variable: fid_818                                                           Importance: 0.0\n",
      "Variable: fid_829                                                           Importance: 0.0\n",
      "Variable: fid_866                                                           Importance: 0.0\n",
      "Variable: fid_896                                                           Importance: 0.0\n",
      "Variable: fid_913                                                           Importance: 0.0\n",
      "Variable: fid_924                                                           Importance: 0.0\n",
      "Variable: fid_925                                                           Importance: 0.0\n",
      "Variable: fid_938                                                           Importance: 0.0\n",
      "Variable: fid_943                                                           Importance: 0.0\n",
      "Variable: fid_977                                                           Importance: 0.0\n",
      "Variable: fid_990                                                           Importance: 0.0\n",
      "Variable: fid_1005                                                          Importance: 0.0\n",
      "Variable: fid_1028                                                          Importance: 0.0\n",
      "Variable: fid_1039                                                          Importance: 0.0\n",
      "Variable: fid_1117                                                          Importance: 0.0\n",
      "Variable: fid_1122                                                          Importance: 0.0\n",
      "Variable: fid_1129                                                          Importance: 0.0\n",
      "Variable: fid_1165                                                          Importance: 0.0\n",
      "Variable: fid_1169                                                          Importance: 0.0\n",
      "Variable: fid_1286                                                          Importance: 0.0\n",
      "Variable: fid_1288                                                          Importance: 0.0\n",
      "Variable: fid_1305                                                          Importance: 0.0\n",
      "Variable: fid_1306                                                          Importance: 0.0\n",
      "Variable: fid_1320                                                          Importance: 0.0\n",
      "Variable: fid_1438                                                          Importance: 0.0\n",
      "Variable: fid_1439                                                          Importance: 0.0\n",
      "Variable: fid_1450                                                          Importance: 0.0\n",
      "Variable: fid_1458                                                          Importance: 0.0\n",
      "Variable: fid_1463                                                          Importance: 0.0\n",
      "Variable: fid_1466                                                          Importance: 0.0\n",
      "Variable: fid_1629                                                          Importance: 0.0\n",
      "Variable: fid_1740                                                          Importance: 0.0\n",
      "Variable: hsa_Capital/Adiron                                                Importance: 0.0\n",
      "Variable: hsa_Central NY                                                    Importance: 0.0\n",
      "Variable: hsa_Finger Lakes                                                  Importance: 0.0\n",
      "Variable: hsa_New York City                                                 Importance: 0.0\n",
      "Variable: hsa_Southern Tier                                                 Importance: 0.0\n",
      "Variable: hsa_Western NY                                                    Importance: 0.0\n"
     ]
    }
   ],
   "source": [
    "importances = list(rf.feature_importances_)\n",
    "rfFeatImpt = [(feature, round(importance, 2)) for feature, importance in zip(list(X.columns), importances)]\n",
    "rfFeatImpt = sorted(rfFeatImpt, key = lambda x: x[1], reverse = True)\n",
    "for pair in rfFeatImpt:\n",
    "    print('Variable: {:65} Importance: {}'.format(*pair))"
   ]
  },
  {
   "cell_type": "markdown",
   "metadata": {},
   "source": [
    "### RFR Model 2: n_estimators=50, max_depth=15 and bootstrap=True"
   ]
  },
  {
   "cell_type": "code",
   "execution_count": 329,
   "metadata": {
    "scrolled": false
   },
   "outputs": [
    {
     "name": "stdout",
     "output_type": "stream",
     "text": [
      "0.8619524246575749\n",
      "0.8177406741631892\n",
      "0.7947771161108048\n"
     ]
    }
   ],
   "source": [
    "rf2 = RandomForestRegressor(n_estimators=50, random_state=13, max_depth=15, oob_score=True, bootstrap=True)\n",
    "rf2.fit(X_train, y_train)\n",
    "y_pred = rf2.predict(X_test)\n",
    "\n",
    "print(rf2.score(X_train, y_train))\n",
    "print(rf2.oob_score_)\n",
    "print(rf2.score(X_test, y_test))"
   ]
  },
  {
   "cell_type": "markdown",
   "metadata": {},
   "source": [
    "#### RFR Model 2: Feature Importance"
   ]
  },
  {
   "cell_type": "code",
   "execution_count": 330,
   "metadata": {
    "scrolled": true
   },
   "outputs": [
    {
     "name": "stdout",
     "output_type": "stream",
     "text": [
      "Variable: fte_employees_on_payroll                                          Importance: 0.25\n",
      "Variable: days                                                              Importance: 0.16\n",
      "Variable: numberUrgentAdmits                                                Importance: 0.09\n",
      "Variable: avgNumberDays                                                     Importance: 0.08\n",
      "Variable: ratioFertilityTotalPopulation                                     Importance: 0.04\n",
      "Variable: fid_1139                                                          Importance: 0.04\n",
      "Variable: totalPopulation                                                   Importance: 0.03\n",
      "Variable: ratioDrgToFacility                                                Importance: 0.03\n",
      "Variable: Hospital Ownership_Government - Hospital District or Authority    Importance: 0.03\n",
      "Variable: hsa_Long Island                                                   Importance: 0.03\n",
      "Variable: APR Severity of Illness Code                                      Importance: 0.02\n",
      "Variable: yr                                                                Importance: 0.02\n",
      "Variable: totalInsured                                                      Importance: 0.02\n",
      "Variable: totalFertile                                                      Importance: 0.02\n",
      "Variable: countPerFacIdPerYr                                                Importance: 0.02\n",
      "Variable: ratioInsuredTotalPopulation                                       Importance: 0.02\n",
      "Variable: Timeliness of care national comparison                            Importance: 0.01\n",
      "Variable: number_of_beds                                                    Importance: 0.01\n",
      "Variable: countPerDrgPerFacIdPerYr                                          Importance: 0.01\n",
      "Variable: Hospital Ownership_Voluntary non-profit - Church                  Importance: 0.01\n",
      "Variable: hsa_Hudson Valley                                                 Importance: 0.01\n",
      "Variable: Hospital overall rating                                           Importance: 0.0\n",
      "Variable: Mortality national comparison                                     Importance: 0.0\n",
      "Variable: Safety of care national comparison                                Importance: 0.0\n",
      "Variable: Readmission national comparison                                   Importance: 0.0\n",
      "Variable: Patient experience national comparison                            Importance: 0.0\n",
      "Variable: Effectiveness of care national comparison                         Importance: 0.0\n",
      "Variable: Efficient use of medical imaging national comparison              Importance: 0.0\n",
      "Variable: payment_Medicare                                                  Importance: 0.0\n",
      "Variable: payment_Blue Cross/Blue Shield                                    Importance: 0.0\n",
      "Variable: payment_Private Health Insurance                                  Importance: 0.0\n",
      "Variable: payment_Self-Pay                                                  Importance: 0.0\n",
      "Variable: payment_Medicaid                                                  Importance: 0.0\n",
      "Variable: payment_Federal/State/Local/VA                                    Importance: 0.0\n",
      "Variable: payment_Miscellaneous/Other                                       Importance: 0.0\n",
      "Variable: payment_Department of Corrections                                 Importance: 0.0\n",
      "Variable: payment_Managed Care, Unspecified                                 Importance: 0.0\n",
      "Variable: numberOfPaymentTypes                                              Importance: 0.0\n",
      "Variable: Type of Admission_Elective                                        Importance: 0.0\n",
      "Variable: Type of Admission_Emergency                                       Importance: 0.0\n",
      "Variable: Type of Admission_Newborn                                         Importance: 0.0\n",
      "Variable: Type of Admission_Not Available                                   Importance: 0.0\n",
      "Variable: Type of Admission_Trauma                                          Importance: 0.0\n",
      "Variable: Type of Admission_Urgent                                          Importance: 0.0\n",
      "Variable: emergencyRoom                                                     Importance: 0.0\n",
      "Variable: Hospital Ownership_Government - Local                             Importance: 0.0\n",
      "Variable: Hospital Ownership_Government - State                             Importance: 0.0\n",
      "Variable: Hospital Ownership_Proprietary                                    Importance: 0.0\n",
      "Variable: Hospital Ownership_Voluntary non-profit - Other                   Importance: 0.0\n",
      "Variable: Hospital Ownership_Voluntary non-profit - Private                 Importance: 0.0\n",
      "Variable: rural_versus_urban_U                                              Importance: 0.0\n",
      "Variable: fid_1                                                             Importance: 0.0\n",
      "Variable: fid_5                                                             Importance: 0.0\n",
      "Variable: fid_42                                                            Importance: 0.0\n",
      "Variable: fid_43                                                            Importance: 0.0\n",
      "Variable: fid_66                                                            Importance: 0.0\n",
      "Variable: fid_85                                                            Importance: 0.0\n",
      "Variable: fid_98                                                            Importance: 0.0\n",
      "Variable: fid_103                                                           Importance: 0.0\n",
      "Variable: fid_116                                                           Importance: 0.0\n",
      "Variable: fid_128                                                           Importance: 0.0\n",
      "Variable: fid_135                                                           Importance: 0.0\n",
      "Variable: fid_146                                                           Importance: 0.0\n",
      "Variable: fid_158                                                           Importance: 0.0\n",
      "Variable: fid_181                                                           Importance: 0.0\n",
      "Variable: fid_207                                                           Importance: 0.0\n",
      "Variable: fid_213                                                           Importance: 0.0\n",
      "Variable: fid_218                                                           Importance: 0.0\n",
      "Variable: fid_324                                                           Importance: 0.0\n",
      "Variable: fid_325                                                           Importance: 0.0\n",
      "Variable: fid_330                                                           Importance: 0.0\n",
      "Variable: fid_367                                                           Importance: 0.0\n",
      "Variable: fid_397                                                           Importance: 0.0\n",
      "Variable: fid_409                                                           Importance: 0.0\n",
      "Variable: fid_411                                                           Importance: 0.0\n",
      "Variable: fid_413                                                           Importance: 0.0\n",
      "Variable: fid_471                                                           Importance: 0.0\n",
      "Variable: fid_484                                                           Importance: 0.0\n",
      "Variable: fid_511                                                           Importance: 0.0\n",
      "Variable: fid_513                                                           Importance: 0.0\n",
      "Variable: fid_528                                                           Importance: 0.0\n",
      "Variable: fid_541                                                           Importance: 0.0\n",
      "Variable: fid_552                                                           Importance: 0.0\n",
      "Variable: fid_565                                                           Importance: 0.0\n",
      "Variable: fid_574                                                           Importance: 0.0\n",
      "Variable: fid_583                                                           Importance: 0.0\n",
      "Variable: fid_599                                                           Importance: 0.0\n",
      "Variable: fid_630                                                           Importance: 0.0\n",
      "Variable: fid_636                                                           Importance: 0.0\n",
      "Variable: fid_678                                                           Importance: 0.0\n",
      "Variable: fid_694                                                           Importance: 0.0\n",
      "Variable: fid_699                                                           Importance: 0.0\n",
      "Variable: fid_704                                                           Importance: 0.0\n",
      "Variable: fid_727                                                           Importance: 0.0\n",
      "Variable: fid_752                                                           Importance: 0.0\n",
      "Variable: fid_776                                                           Importance: 0.0\n",
      "Variable: fid_779                                                           Importance: 0.0\n",
      "Variable: fid_798                                                           Importance: 0.0\n",
      "Variable: fid_804                                                           Importance: 0.0\n",
      "Variable: fid_815                                                           Importance: 0.0\n",
      "Variable: fid_818                                                           Importance: 0.0\n",
      "Variable: fid_829                                                           Importance: 0.0\n",
      "Variable: fid_866                                                           Importance: 0.0\n",
      "Variable: fid_896                                                           Importance: 0.0\n",
      "Variable: fid_913                                                           Importance: 0.0\n",
      "Variable: fid_924                                                           Importance: 0.0\n",
      "Variable: fid_925                                                           Importance: 0.0\n",
      "Variable: fid_938                                                           Importance: 0.0\n",
      "Variable: fid_943                                                           Importance: 0.0\n",
      "Variable: fid_977                                                           Importance: 0.0\n",
      "Variable: fid_990                                                           Importance: 0.0\n",
      "Variable: fid_1005                                                          Importance: 0.0\n",
      "Variable: fid_1028                                                          Importance: 0.0\n",
      "Variable: fid_1039                                                          Importance: 0.0\n",
      "Variable: fid_1117                                                          Importance: 0.0\n",
      "Variable: fid_1122                                                          Importance: 0.0\n",
      "Variable: fid_1129                                                          Importance: 0.0\n",
      "Variable: fid_1165                                                          Importance: 0.0\n",
      "Variable: fid_1169                                                          Importance: 0.0\n",
      "Variable: fid_1286                                                          Importance: 0.0\n",
      "Variable: fid_1288                                                          Importance: 0.0\n",
      "Variable: fid_1305                                                          Importance: 0.0\n",
      "Variable: fid_1306                                                          Importance: 0.0\n",
      "Variable: fid_1320                                                          Importance: 0.0\n",
      "Variable: fid_1438                                                          Importance: 0.0\n",
      "Variable: fid_1439                                                          Importance: 0.0\n",
      "Variable: fid_1450                                                          Importance: 0.0\n",
      "Variable: fid_1458                                                          Importance: 0.0\n",
      "Variable: fid_1463                                                          Importance: 0.0\n",
      "Variable: fid_1466                                                          Importance: 0.0\n",
      "Variable: fid_1629                                                          Importance: 0.0\n",
      "Variable: fid_1740                                                          Importance: 0.0\n",
      "Variable: hsa_Capital/Adiron                                                Importance: 0.0\n",
      "Variable: hsa_Central NY                                                    Importance: 0.0\n",
      "Variable: hsa_Finger Lakes                                                  Importance: 0.0\n",
      "Variable: hsa_New York City                                                 Importance: 0.0\n",
      "Variable: hsa_Southern Tier                                                 Importance: 0.0\n",
      "Variable: hsa_Western NY                                                    Importance: 0.0\n"
     ]
    }
   ],
   "source": [
    "importances = list(rf2.feature_importances_)\n",
    "rf2FeatImpt = [(feature, round(importance, 2)) for feature, importance in zip(list(X.columns), importances)]\n",
    "rf2FeatImpt = sorted(rf2FeatImpt, key = lambda x: x[1], reverse = True)\n",
    "for pair in rf2FeatImpt:\n",
    "    print('Variable: {:65} Importance: {}'.format(*pair))"
   ]
  },
  {
   "cell_type": "markdown",
   "metadata": {},
   "source": [
    "## RF Model 3: remove features with 0 importance"
   ]
  },
  {
   "cell_type": "code",
   "execution_count": 331,
   "metadata": {},
   "outputs": [],
   "source": [
    "unimptFeat = []\n",
    "\n",
    "for pair in rf2FeatImpt:\n",
    "    if pair[1] == 0:\n",
    "        unimptFeat.append(pair[0])\n",
    "        \n",
    "unimptFeat.append('Total Charges')"
   ]
  },
  {
   "cell_type": "code",
   "execution_count": 332,
   "metadata": {},
   "outputs": [],
   "source": [
    "X = csectDataRF.drop(columns=unimptFeat)\n",
    "y = csectDataRF['Total Charges']\n",
    "X_train, X_test, y_train, y_test = train_test_split(X, y, test_size=0.33, random_state=13)"
   ]
  },
  {
   "cell_type": "code",
   "execution_count": 333,
   "metadata": {},
   "outputs": [
    {
     "name": "stdout",
     "output_type": "stream",
     "text": [
      "0.8455825570078522\n",
      "0.8229926923764671\n",
      "0.7990771949203559\n"
     ]
    }
   ],
   "source": [
    "rf3 = RandomForestRegressor(n_estimators=50, random_state=13, max_depth=15, oob_score=True, bootstrap=True)\n",
    "rf3.fit(X_train, y_train)\n",
    "y_pred = rf3.predict(X_test)\n",
    "\n",
    "print(rf3.score(X_train, y_train))\n",
    "print(rf3.oob_score_)\n",
    "print(rf3.score(X_test, y_test))"
   ]
  },
  {
   "cell_type": "code",
   "execution_count": 315,
   "metadata": {
    "scrolled": true
   },
   "outputs": [
    {
     "name": "stdout",
     "output_type": "stream",
     "text": [
      "Variable: fte_employees_on_payroll                                          Importance: 0.26\n",
      "Variable: days                                                              Importance: 0.16\n",
      "Variable: numberUrgentAdmits                                                Importance: 0.1\n",
      "Variable: avgNumberDays                                                     Importance: 0.06\n",
      "Variable: ratioFertilityTotalPopulation                                     Importance: 0.05\n",
      "Variable: ratioDrgToFacility                                                Importance: 0.04\n",
      "Variable: fid_1139                                                          Importance: 0.04\n",
      "Variable: hsa_Long Island                                                   Importance: 0.04\n",
      "Variable: totalPopulation                                                   Importance: 0.03\n",
      "Variable: totalInsured                                                      Importance: 0.03\n",
      "Variable: totalFertile                                                      Importance: 0.03\n",
      "Variable: countPerFacIdPerYr                                                Importance: 0.03\n",
      "Variable: Hospital Ownership_Government - Hospital District or Authority    Importance: 0.03\n",
      "Variable: APR Severity of Illness Code                                      Importance: 0.02\n",
      "Variable: yr                                                                Importance: 0.02\n",
      "Variable: countPerDrgPerFacIdPerYr                                          Importance: 0.02\n",
      "Variable: ratioInsuredTotalPopulation                                       Importance: 0.02\n",
      "Variable: hsa_Hudson Valley                                                 Importance: 0.02\n",
      "Variable: Timeliness of care national comparison                            Importance: 0.01\n",
      "Variable: number_of_beds                                                    Importance: 0.01\n"
     ]
    }
   ],
   "source": [
    "importances = list(rf3.feature_importances_)\n",
    "rf3FeatImpt = [(feature, round(importance, 2)) for feature, importance in zip(list(X.columns), importances)]\n",
    "rf3FeatImpt = sorted(rf3FeatImpt, key = lambda x: x[1], reverse = True)\n",
    "for pair in rf3FeatImpt:\n",
    "    print('Variable: {:65} Importance: {}'.format(*pair))"
   ]
  },
  {
   "cell_type": "code",
   "execution_count": 341,
   "metadata": {},
   "outputs": [],
   "source": [
    "tree = rf3.estimators_[13]\n",
    "export_graphviz(tree, out_file = 'rf3tree.dot', feature_names = list(X.columns), rounded = True, precision = 1)"
   ]
  },
  {
   "cell_type": "markdown",
   "metadata": {},
   "source": [
    "## RF Model 4: Optimize max_depth and n_estimators"
   ]
  },
  {
   "cell_type": "code",
   "execution_count": 334,
   "metadata": {},
   "outputs": [],
   "source": [
    "max_depth = [1, 2, 3, 4, 5, 6, 7, 8, 9, 10, 11, 12, 13, 14, 15]\n",
    "depthTestScoresNew = []\n",
    "depthTrainScoresNew = []\n",
    "depthOOBScoresNew = []\n",
    "\n",
    "for n in max_depth:\n",
    "    rf = RandomForestRegressor(n_estimators=50, max_depth=n, random_state=13, oob_score=True)\n",
    "    rf.fit(X_train, y_train)\n",
    "    depthTrainScoresNew.append(rf.score(X_train, y_train))\n",
    "    depthTestScoresNew.append(rf.score(X_test, y_test))\n",
    "    depthOOBScoresNew.append(rf.oob_score_)"
   ]
  },
  {
   "cell_type": "code",
   "execution_count": 335,
   "metadata": {},
   "outputs": [
    {
     "data": {
      "image/png": "[encoded data removed]",
      "text/plain": [
       "<Figure size 864x432 with 1 Axes>"
      ]
     },
     "metadata": {},
     "output_type": "display_data"
    }
   ],
   "source": [
    "plt.figure(figsize=(12,6))\n",
    "plt.title('Random Forest Regression Scores', fontsize=16)\n",
    "plt.plot(max_depth, depthTrainScoresNew, label='Training Data')\n",
    "plt.plot(max_depth, depthTestScoresNew, label='Testing Data')\n",
    "plt.plot(max_depth, depthOOBScoresNew, label='OOB Data')\n",
    "plt.xticks(fontsize=14)\n",
    "plt.xlabel('Max Depth', fontsize=14)\n",
    "plt.yticks(fontsize=14)\n",
    "plt.ylabel('Scores', fontsize=14)\n",
    "plt.legend(bbox_to_anchor=(0.9, 0.85))\n",
    "plt.show()"
   ]
  },
  {
   "cell_type": "code",
   "execution_count": 337,
   "metadata": {},
   "outputs": [
    {
     "name": "stderr",
     "output_type": "stream",
     "text": [
      "C:\\Users\\rachelsim\\Anaconda3\\lib\\site-packages\\sklearn\\ensemble\\forest.py:724: UserWarning: Some inputs do not have OOB scores. This probably means too few trees were used to compute any reliable oob estimates.\n",
      "  warn(\"Some inputs do not have OOB scores. \"\n",
      "C:\\Users\\rachelsim\\Anaconda3\\lib\\site-packages\\sklearn\\ensemble\\forest.py:724: UserWarning: Some inputs do not have OOB scores. This probably means too few trees were used to compute any reliable oob estimates.\n",
      "  warn(\"Some inputs do not have OOB scores. \"\n",
      "C:\\Users\\rachelsim\\Anaconda3\\lib\\site-packages\\sklearn\\ensemble\\forest.py:724: UserWarning: Some inputs do not have OOB scores. This probably means too few trees were used to compute any reliable oob estimates.\n",
      "  warn(\"Some inputs do not have OOB scores. \"\n"
     ]
    }
   ],
   "source": [
    "n_estimators = [1, 10, 20, 50, 70, 100, 120, 150]\n",
    "nTestScoresNew = []\n",
    "nTrainScoresNew = []\n",
    "nOOBScoresNew = []\n",
    "\n",
    "for n in n_estimators:\n",
    "    rf = RandomForestRegressor(n_estimators=n, random_state=13, max_depth=12, oob_score=True)\n",
    "    rf.fit(X_train, y_train)\n",
    "    y_pred = rf.predict(X_test)\n",
    "    nTrainScoresNew.append(rf.score(X_train, y_train))\n",
    "    nTestScoresNew.append(rf.score(X_test, y_test))\n",
    "    nOOBScoresNew.append(rf.oob_score_)"
   ]
  },
  {
   "cell_type": "code",
   "execution_count": 338,
   "metadata": {},
   "outputs": [
    {
     "data": {
      "image/png": "[encoded data removed]",
      "text/plain": [
       "<Figure size 864x432 with 1 Axes>"
      ]
     },
     "metadata": {},
     "output_type": "display_data"
    }
   ],
   "source": [
    "plt.figure(figsize=(12,6))\n",
    "plt.title('Random Forest Regression Scores', fontsize=16)\n",
    "plt.plot(n_estimators, nTrainScoresNew, label='Training Data')\n",
    "plt.plot(n_estimators, nTestScoresNew, label='Testing Data')\n",
    "plt.plot(n_estimators[1:], nOOBScoresNew[1:], label='OOB Data')\n",
    "plt.xticks(fontsize=14)\n",
    "plt.xlabel('N Estimators', fontsize=14)\n",
    "plt.yticks(fontsize=14)\n",
    "plt.ylabel('Scores', fontsize=14)\n",
    "plt.legend(bbox_to_anchor=(0.9,0.9))\n",
    "plt.show()"
   ]
  },
  {
   "cell_type": "code",
   "execution_count": 339,
   "metadata": {},
   "outputs": [
    {
     "name": "stdout",
     "output_type": "stream",
     "text": [
      "0.837503091250399\n",
      "0.8189421245531039\n",
      "0.7956506521239534\n"
     ]
    }
   ],
   "source": [
    "rf4 = RandomForestRegressor(n_estimators=30, random_state=13, max_depth=12, oob_score=True, bootstrap=True)\n",
    "rf4.fit(X_train, y_train)\n",
    "y_pred = rf4.predict(X_test)\n",
    "\n",
    "print(rf4.score(X_train, y_train))\n",
    "print(rf4.oob_score_)\n",
    "print(rf4.score(X_test, y_test))"
   ]
  },
  {
   "cell_type": "code",
   "execution_count": 340,
   "metadata": {},
   "outputs": [
    {
     "name": "stdout",
     "output_type": "stream",
     "text": [
      "Variable: fte_employees_on_payroll                                          Importance: 0.26\n",
      "Variable: days                                                              Importance: 0.16\n",
      "Variable: numberUrgentAdmits                                                Importance: 0.1\n",
      "Variable: avgNumberDays                                                     Importance: 0.08\n",
      "Variable: ratioFertilityTotalPopulation                                     Importance: 0.05\n",
      "Variable: Hospital Ownership_Government - Hospital District or Authority    Importance: 0.04\n",
      "Variable: hsa_Long Island                                                   Importance: 0.04\n",
      "Variable: totalPopulation                                                   Importance: 0.03\n",
      "Variable: totalInsured                                                      Importance: 0.03\n",
      "Variable: totalFertile                                                      Importance: 0.03\n",
      "Variable: ratioDrgToFacility                                                Importance: 0.03\n",
      "Variable: fid_1139                                                          Importance: 0.03\n",
      "Variable: APR Severity of Illness Code                                      Importance: 0.02\n",
      "Variable: yr                                                                Importance: 0.02\n",
      "Variable: number_of_beds                                                    Importance: 0.02\n",
      "Variable: countPerFacIdPerYr                                                Importance: 0.02\n",
      "Variable: ratioInsuredTotalPopulation                                       Importance: 0.02\n",
      "Variable: Timeliness of care national comparison                            Importance: 0.01\n",
      "Variable: countPerDrgPerFacIdPerYr                                          Importance: 0.01\n",
      "Variable: Hospital Ownership_Voluntary non-profit - Church                  Importance: 0.01\n",
      "Variable: hsa_Hudson Valley                                                 Importance: 0.01\n"
     ]
    }
   ],
   "source": [
    "importances = list(rf4.feature_importances_)\n",
    "rf4FeatImpt = [(feature, round(importance, 2)) for feature, importance in zip(list(X.columns), importances)]\n",
    "rf4FeatImpt = sorted(rf4FeatImpt, key = lambda x: x[1], reverse = True)\n",
    "for pair in rf4FeatImpt:\n",
    "    print('Variable: {:65} Importance: {}'.format(*pair))"
   ]
  }
 ],
 "metadata": {
  "kernelspec": {
   "display_name": "Python 3",
   "language": "python",
   "name": "python3"
  },
  "language_info": {
   "codemirror_mode": {
    "name": "ipython",
    "version": 3
   },
   "file_extension": ".py",
   "mimetype": "text/x-python",
   "name": "python",
   "nbconvert_exporter": "python",
   "pygments_lexer": "ipython3",
   "version": "3.6.5"
  }
 },
 "nbformat": 4,
 "nbformat_minor": 2
}
